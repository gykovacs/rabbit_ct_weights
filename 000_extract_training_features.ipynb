{
 "cells": [
  {
   "cell_type": "markdown",
   "metadata": {},
   "source": [
    "# Segmentation by registration and feature extraction"
   ]
  },
  {
   "cell_type": "code",
   "execution_count": 1,
   "metadata": {},
   "outputs": [
    {
     "output_type": "stream",
     "name": "stdout",
     "text": [
      "Executables being used: /bin/elastix /bin/transformix\n"
     ]
    }
   ],
   "source": [
    "import glob\n",
    "import os\n",
    "import os.path\n",
    "import numpy as np\n",
    "import pandas as pd\n",
    "import maweight\n",
    "import pickle\n",
    "import logging\n",
    "import tqdm\n",
    "\n",
    "from config import manually_segmented_path, dissected_path\n",
    "from config import output_path, mld_features_path, hinds_features_path \n",
    "from config import save_registered_images\n",
    "from config import bin_width, threshold\n",
    "\n",
    "LIMIT=None\n",
    "\n",
    "# setting the logging format\n",
    "FORMAT = '%(asctime)-15s %(clientip)s %(user)-8s %(message)s'\n",
    "logging.basicConfig(format=FORMAT, level=logging.INFO)"
   ]
  },
  {
   "cell_type": "markdown",
   "metadata": {},
   "source": [
    "## Discovering files to process"
   ]
  },
  {
   "cell_type": "code",
   "execution_count": 2,
   "metadata": {},
   "outputs": [],
   "source": [
    "manually_segmented_files= sorted(glob.glob(os.path.join(manually_segmented_path, '*.nii')))\n",
    "manually_segmented_images= [f for f in manually_segmented_files if not 'hinds' in \n",
    "                            f.split(os.sep)[-1] and not 'mld' in f.split(os.sep)[-1]]\n",
    "manually_segmented_hinds= [f for f in manually_segmented_files if 'hinds' in f]\n",
    "manually_segmented_mlds= [f for f in manually_segmented_files if 'mld' in f]\n",
    "\n",
    "if LIMIT is None:\n",
    "    dissected_images= sorted(glob.glob(os.path.join(dissected_path, '*.nii')))\n",
    "else:\n",
    "    dissected_images= sorted(glob.glob(os.path.join(dissected_path, '*.nii')))[:LIMIT]"
   ]
  },
  {
   "cell_type": "markdown",
   "metadata": {},
   "source": [
    "## Segmentation by Registration"
   ]
  },
  {
   "cell_type": "code",
   "execution_count": 3,
   "metadata": {},
   "outputs": [
    {
     "output_type": "stream",
     "name": "stderr",
     "text": [
      "  3%|▎         | 5/170 [18:30<10:10:53, 222.14s/it]\n"
     ]
    },
    {
     "output_type": "error",
     "ename": "KeyboardInterrupt",
     "evalue": "",
     "traceback": [
      "\u001b[0;31m---------------------------------------------------------------------------\u001b[0m",
      "\u001b[0;31mKeyboardInterrupt\u001b[0m                         Traceback (most recent call last)",
      "\u001b[0;32m<ipython-input-3-3898ad14e279>\u001b[0m in \u001b[0;36m<module>\u001b[0;34m\u001b[0m\n\u001b[1;32m     11\u001b[0m             (save_registered_images and not os.path.isfile(output_registered))):\n\u001b[1;32m     12\u001b[0m             maweight.register_and_transform(i, d, [m, h], [output_mld, output_hinds], \n\u001b[0;32m---> 13\u001b[0;31m                                           registered_image_path= output_registered, verbose= 0)\n\u001b[0m",
      "\u001b[0;32m~/workspaces_clean/maweight/maweight/_maweight.py\u001b[0m in \u001b[0;36mregister_and_transform\u001b[0;34m(moving, fixed, to_fit, output_names, params, work_dir, threads, elastix_path, transformix_path, registered_image_path, verbose)\u001b[0m\n\u001b[1;32m    357\u001b[0m     \u001b[0;32mif\u001b[0m \u001b[0mverbose\u001b[0m \u001b[0;34m>\u001b[0m \u001b[0;36m2\u001b[0m\u001b[0;34m:\u001b[0m \u001b[0mprint\u001b[0m\u001b[0;34m(\u001b[0m\u001b[0;34m'Executing the registration'\u001b[0m\u001b[0;34m)\u001b[0m\u001b[0;34m\u001b[0m\u001b[0;34m\u001b[0m\u001b[0m\n\u001b[1;32m    358\u001b[0m \u001b[0;34m\u001b[0m\u001b[0m\n\u001b[0;32m--> 359\u001b[0;31m     \u001b[0m_execute_command\u001b[0m\u001b[0;34m(\u001b[0m\u001b[0mcommand\u001b[0m\u001b[0;34m,\u001b[0m \u001b[0mverbose\u001b[0m\u001b[0;34m)\u001b[0m\u001b[0;34m\u001b[0m\u001b[0;34m\u001b[0m\u001b[0m\n\u001b[0m\u001b[1;32m    360\u001b[0m \u001b[0;34m\u001b[0m\u001b[0m\n\u001b[1;32m    361\u001b[0m     \u001b[0;32mif\u001b[0m \u001b[0;32mnot\u001b[0m \u001b[0mregistered_image_path\u001b[0m \u001b[0;32mis\u001b[0m \u001b[0;32mNone\u001b[0m\u001b[0;34m:\u001b[0m\u001b[0;34m\u001b[0m\u001b[0;34m\u001b[0m\u001b[0m\n",
      "\u001b[0;32m~/workspaces_clean/maweight/maweight/_maweight.py\u001b[0m in \u001b[0;36m_execute_command\u001b[0;34m(command, verbose)\u001b[0m\n\u001b[1;32m    231\u001b[0m             \u001b[0msys\u001b[0m\u001b[0;34m.\u001b[0m\u001b[0mstdout\u001b[0m\u001b[0;34m.\u001b[0m\u001b[0mflush\u001b[0m\u001b[0;34m(\u001b[0m\u001b[0;34m)\u001b[0m\u001b[0;34m\u001b[0m\u001b[0;34m\u001b[0m\u001b[0m\n\u001b[1;32m    232\u001b[0m     \u001b[0;32melse\u001b[0m\u001b[0;34m:\u001b[0m\u001b[0;34m\u001b[0m\u001b[0;34m\u001b[0m\u001b[0m\n\u001b[0;32m--> 233\u001b[0;31m         \u001b[0mp\u001b[0m\u001b[0;34m.\u001b[0m\u001b[0mcommunicate\u001b[0m\u001b[0;34m(\u001b[0m\u001b[0;34m)\u001b[0m\u001b[0;34m\u001b[0m\u001b[0;34m\u001b[0m\u001b[0m\n\u001b[0m\u001b[1;32m    234\u001b[0m \u001b[0;34m\u001b[0m\u001b[0m\n\u001b[1;32m    235\u001b[0m def register_and_transform(moving, \n",
      "\u001b[0;32m~/anaconda3/envs/maweight/lib/python3.7/subprocess.py\u001b[0m in \u001b[0;36mcommunicate\u001b[0;34m(self, input, timeout)\u001b[0m\n\u001b[1;32m    962\u001b[0m \u001b[0;34m\u001b[0m\u001b[0m\n\u001b[1;32m    963\u001b[0m             \u001b[0;32mtry\u001b[0m\u001b[0;34m:\u001b[0m\u001b[0;34m\u001b[0m\u001b[0;34m\u001b[0m\u001b[0m\n\u001b[0;32m--> 964\u001b[0;31m                 \u001b[0mstdout\u001b[0m\u001b[0;34m,\u001b[0m \u001b[0mstderr\u001b[0m \u001b[0;34m=\u001b[0m \u001b[0mself\u001b[0m\u001b[0;34m.\u001b[0m\u001b[0m_communicate\u001b[0m\u001b[0;34m(\u001b[0m\u001b[0minput\u001b[0m\u001b[0;34m,\u001b[0m \u001b[0mendtime\u001b[0m\u001b[0;34m,\u001b[0m \u001b[0mtimeout\u001b[0m\u001b[0;34m)\u001b[0m\u001b[0;34m\u001b[0m\u001b[0;34m\u001b[0m\u001b[0m\n\u001b[0m\u001b[1;32m    965\u001b[0m             \u001b[0;32mexcept\u001b[0m \u001b[0mKeyboardInterrupt\u001b[0m\u001b[0;34m:\u001b[0m\u001b[0;34m\u001b[0m\u001b[0;34m\u001b[0m\u001b[0m\n\u001b[1;32m    966\u001b[0m                 \u001b[0;31m# https://bugs.python.org/issue25942\u001b[0m\u001b[0;34m\u001b[0m\u001b[0;34m\u001b[0m\u001b[0;34m\u001b[0m\u001b[0m\n",
      "\u001b[0;32m~/anaconda3/envs/maweight/lib/python3.7/subprocess.py\u001b[0m in \u001b[0;36m_communicate\u001b[0;34m(self, input, endtime, orig_timeout)\u001b[0m\n\u001b[1;32m   1713\u001b[0m                             'failed to raise TimeoutExpired.')\n\u001b[1;32m   1714\u001b[0m \u001b[0;34m\u001b[0m\u001b[0m\n\u001b[0;32m-> 1715\u001b[0;31m                     \u001b[0mready\u001b[0m \u001b[0;34m=\u001b[0m \u001b[0mselector\u001b[0m\u001b[0;34m.\u001b[0m\u001b[0mselect\u001b[0m\u001b[0;34m(\u001b[0m\u001b[0mtimeout\u001b[0m\u001b[0;34m)\u001b[0m\u001b[0;34m\u001b[0m\u001b[0;34m\u001b[0m\u001b[0m\n\u001b[0m\u001b[1;32m   1716\u001b[0m                     \u001b[0mself\u001b[0m\u001b[0;34m.\u001b[0m\u001b[0m_check_timeout\u001b[0m\u001b[0;34m(\u001b[0m\u001b[0mendtime\u001b[0m\u001b[0;34m,\u001b[0m \u001b[0morig_timeout\u001b[0m\u001b[0;34m,\u001b[0m \u001b[0mstdout\u001b[0m\u001b[0;34m,\u001b[0m \u001b[0mstderr\u001b[0m\u001b[0;34m)\u001b[0m\u001b[0;34m\u001b[0m\u001b[0;34m\u001b[0m\u001b[0m\n\u001b[1;32m   1717\u001b[0m \u001b[0;34m\u001b[0m\u001b[0m\n",
      "\u001b[0;32m~/anaconda3/envs/maweight/lib/python3.7/selectors.py\u001b[0m in \u001b[0;36mselect\u001b[0;34m(self, timeout)\u001b[0m\n\u001b[1;32m    413\u001b[0m         \u001b[0mready\u001b[0m \u001b[0;34m=\u001b[0m \u001b[0;34m[\u001b[0m\u001b[0;34m]\u001b[0m\u001b[0;34m\u001b[0m\u001b[0;34m\u001b[0m\u001b[0m\n\u001b[1;32m    414\u001b[0m         \u001b[0;32mtry\u001b[0m\u001b[0;34m:\u001b[0m\u001b[0;34m\u001b[0m\u001b[0;34m\u001b[0m\u001b[0m\n\u001b[0;32m--> 415\u001b[0;31m             \u001b[0mfd_event_list\u001b[0m \u001b[0;34m=\u001b[0m \u001b[0mself\u001b[0m\u001b[0;34m.\u001b[0m\u001b[0m_selector\u001b[0m\u001b[0;34m.\u001b[0m\u001b[0mpoll\u001b[0m\u001b[0;34m(\u001b[0m\u001b[0mtimeout\u001b[0m\u001b[0;34m)\u001b[0m\u001b[0;34m\u001b[0m\u001b[0;34m\u001b[0m\u001b[0m\n\u001b[0m\u001b[1;32m    416\u001b[0m         \u001b[0;32mexcept\u001b[0m \u001b[0mInterruptedError\u001b[0m\u001b[0;34m:\u001b[0m\u001b[0;34m\u001b[0m\u001b[0;34m\u001b[0m\u001b[0m\n\u001b[1;32m    417\u001b[0m             \u001b[0;32mreturn\u001b[0m \u001b[0mready\u001b[0m\u001b[0;34m\u001b[0m\u001b[0;34m\u001b[0m\u001b[0m\n",
      "\u001b[0;31mKeyboardInterrupt\u001b[0m: "
     ]
    }
   ],
   "source": [
    "for d in tqdm.tqdm(dissected_images):\n",
    "    for (i, h, m) in zip(manually_segmented_images, manually_segmented_hinds, manually_segmented_mlds):\n",
    "        output_mld= os.path.join(output_path, d.split(os.sep)[-1] + '-' + m.split(os.sep)[-1])\n",
    "        output_hinds= os.path.join(output_path, d.split(os.sep)[-1] + '-' + h.split(os.sep)[-1])\n",
    "        if save_registered_images:\n",
    "            output_registered= os.path.join(output_path, d.split(os.sep)[-1] + '-' + i.split(os.sep)[-1])\n",
    "        else:\n",
    "            output_registered= None\n",
    "        \n",
    "        if (not os.path.isfile(output_mld) or not os.path.isfile(output_hinds) or \n",
    "            (save_registered_images and not os.path.isfile(output_registered))):\n",
    "            maweight.register_and_transform(i, d, [m, h], [output_mld, output_hinds], \n",
    "                                          registered_image_path= output_registered, verbose= 0)"
   ]
  },
  {
   "cell_type": "markdown",
   "metadata": {},
   "source": [
    "## Extracting the features"
   ]
  },
  {
   "cell_type": "code",
   "execution_count": 4,
   "metadata": {},
   "outputs": [],
   "source": [
    "def extract_features(dissected_images, manually_segmented_targets):\n",
    "    dataframes= []\n",
    "    for d in tqdm.tqdm(dissected_images):\n",
    "        fitted_masks= []\n",
    "        for m in manually_segmented_targets:\n",
    "            output_mld= os.path.join(output_path, d.split(os.sep)[-1] + '-' + m.split(os.sep)[-1])\n",
    "            fitted_masks.append(output_mld)\n",
    "\n",
    "        labels= [f.split(os.sep)[-1][14:] for f in fitted_masks]\n",
    "\n",
    "        dataframes.append(maweight.extract_features_3d(d, fitted_masks, labels, bins=[i*bin_width for i in range(int(200/bin_width)+1)], thresholds=[threshold]))\n",
    "    dataframes= pd.concat(dataframes, axis=0)\n",
    "    dataframes['filename']= dissected_images\n",
    "    \n",
    "    return dataframes"
   ]
  },
  {
   "cell_type": "code",
   "execution_count": 5,
   "metadata": {},
   "outputs": [
    {
     "output_type": "stream",
     "name": "stderr",
     "text": [
      "  8%|▊         | 14/170 [01:47<19:59,  7.69s/it]\n"
     ]
    },
    {
     "output_type": "error",
     "ename": "KeyboardInterrupt",
     "evalue": "",
     "traceback": [
      "\u001b[0;31m---------------------------------------------------------------------------\u001b[0m",
      "\u001b[0;31mKeyboardInterrupt\u001b[0m                         Traceback (most recent call last)",
      "\u001b[0;32m<ipython-input-5-d6caad46f2ab>\u001b[0m in \u001b[0;36m<module>\u001b[0;34m\u001b[0m\n\u001b[0;32m----> 1\u001b[0;31m \u001b[0mmld_features\u001b[0m\u001b[0;34m=\u001b[0m \u001b[0mextract_features\u001b[0m\u001b[0;34m(\u001b[0m\u001b[0mdissected_images\u001b[0m\u001b[0;34m,\u001b[0m \u001b[0mmanually_segmented_mlds\u001b[0m\u001b[0;34m)\u001b[0m\u001b[0;34m\u001b[0m\u001b[0m\n\u001b[0m\u001b[1;32m      2\u001b[0m \u001b[0mmld_features\u001b[0m\u001b[0;34m.\u001b[0m\u001b[0mto_csv\u001b[0m\u001b[0;34m(\u001b[0m\u001b[0mmld_features_path\u001b[0m\u001b[0;34m,\u001b[0m \u001b[0mindex\u001b[0m\u001b[0;34m=\u001b[0m\u001b[0;32mFalse\u001b[0m\u001b[0;34m)\u001b[0m\u001b[0;34m\u001b[0m\u001b[0m\n",
      "\u001b[0;32m<ipython-input-4-e9e7bedd20f7>\u001b[0m in \u001b[0;36mextract_features\u001b[0;34m(dissected_images, manually_segmented_targets)\u001b[0m\n\u001b[1;32m      9\u001b[0m         \u001b[0mlabels\u001b[0m\u001b[0;34m=\u001b[0m \u001b[0;34m[\u001b[0m\u001b[0mf\u001b[0m\u001b[0;34m.\u001b[0m\u001b[0msplit\u001b[0m\u001b[0;34m(\u001b[0m\u001b[0mos\u001b[0m\u001b[0;34m.\u001b[0m\u001b[0msep\u001b[0m\u001b[0;34m)\u001b[0m\u001b[0;34m[\u001b[0m\u001b[0;34m-\u001b[0m\u001b[0;36m1\u001b[0m\u001b[0;34m]\u001b[0m\u001b[0;34m[\u001b[0m\u001b[0;36m14\u001b[0m\u001b[0;34m:\u001b[0m\u001b[0;34m]\u001b[0m \u001b[0;32mfor\u001b[0m \u001b[0mf\u001b[0m \u001b[0;32min\u001b[0m \u001b[0mfitted_masks\u001b[0m\u001b[0;34m]\u001b[0m\u001b[0;34m\u001b[0m\u001b[0m\n\u001b[1;32m     10\u001b[0m \u001b[0;34m\u001b[0m\u001b[0m\n\u001b[0;32m---> 11\u001b[0;31m         \u001b[0mdataframes\u001b[0m\u001b[0;34m.\u001b[0m\u001b[0mappend\u001b[0m\u001b[0;34m(\u001b[0m\u001b[0mregseg\u001b[0m\u001b[0;34m.\u001b[0m\u001b[0mextract_features_3d\u001b[0m\u001b[0;34m(\u001b[0m\u001b[0md\u001b[0m\u001b[0;34m,\u001b[0m \u001b[0mfitted_masks\u001b[0m\u001b[0;34m,\u001b[0m \u001b[0mlabels\u001b[0m\u001b[0;34m,\u001b[0m \u001b[0mbins\u001b[0m\u001b[0;34m=\u001b[0m\u001b[0;34m[\u001b[0m\u001b[0mi\u001b[0m\u001b[0;34m*\u001b[0m\u001b[0mbin_width\u001b[0m \u001b[0;32mfor\u001b[0m \u001b[0mi\u001b[0m \u001b[0;32min\u001b[0m \u001b[0mrange\u001b[0m\u001b[0;34m(\u001b[0m\u001b[0mint\u001b[0m\u001b[0;34m(\u001b[0m\u001b[0;36m250\u001b[0m\u001b[0;34m/\u001b[0m\u001b[0mbin_width\u001b[0m\u001b[0;34m)\u001b[0m\u001b[0;34m)\u001b[0m\u001b[0;34m]\u001b[0m\u001b[0;34m,\u001b[0m \u001b[0mthresholds\u001b[0m\u001b[0;34m=\u001b[0m\u001b[0;34m[\u001b[0m\u001b[0mthreshold\u001b[0m\u001b[0;34m]\u001b[0m\u001b[0;34m)\u001b[0m\u001b[0;34m)\u001b[0m\u001b[0;34m\u001b[0m\u001b[0m\n\u001b[0m\u001b[1;32m     12\u001b[0m     \u001b[0mdataframes\u001b[0m\u001b[0;34m=\u001b[0m \u001b[0mpd\u001b[0m\u001b[0;34m.\u001b[0m\u001b[0mconcat\u001b[0m\u001b[0;34m(\u001b[0m\u001b[0mdataframes\u001b[0m\u001b[0;34m,\u001b[0m \u001b[0maxis\u001b[0m\u001b[0;34m=\u001b[0m\u001b[0;36m0\u001b[0m\u001b[0;34m)\u001b[0m\u001b[0;34m\u001b[0m\u001b[0m\n\u001b[1;32m     13\u001b[0m     \u001b[0mdataframes\u001b[0m\u001b[0;34m[\u001b[0m\u001b[0;34m'filename'\u001b[0m\u001b[0;34m]\u001b[0m\u001b[0;34m=\u001b[0m \u001b[0mdissected_images\u001b[0m\u001b[0;34m\u001b[0m\u001b[0m\n",
      "\u001b[0;32m~/workspaces_rabbit/regseg/regseg/_regseg.py\u001b[0m in \u001b[0;36mextract_features_3d\u001b[0;34m(image, masks, labels, thresholds, bins, features_to_compute)\u001b[0m\n\u001b[1;32m    481\u001b[0m                                                     \u001b[0mfeature_names\u001b[0m\u001b[0;34m,\u001b[0m\u001b[0;34m\u001b[0m\u001b[0m\n\u001b[1;32m    482\u001b[0m                                                     \u001b[0mfeatures_to_compute\u001b[0m\u001b[0;34m,\u001b[0m\u001b[0;34m\u001b[0m\u001b[0m\n\u001b[0;32m--> 483\u001b[0;31m                                                     '%s-%f' % (labels[i], t))\n\u001b[0m\u001b[1;32m    484\u001b[0m     \u001b[0mmean_mask_image\u001b[0m\u001b[0;34m=\u001b[0m \u001b[0;32mNone\u001b[0m\u001b[0;34m\u001b[0m\u001b[0m\n\u001b[1;32m    485\u001b[0m     \u001b[0;32mfor\u001b[0m \u001b[0mm\u001b[0m\u001b[0;34m,\u001b[0m \u001b[0mi\u001b[0m \u001b[0;32min\u001b[0m \u001b[0mzip\u001b[0m\u001b[0;34m(\u001b[0m\u001b[0mmasks\u001b[0m\u001b[0;34m,\u001b[0m \u001b[0mrange\u001b[0m\u001b[0;34m(\u001b[0m\u001b[0mlen\u001b[0m\u001b[0;34m(\u001b[0m\u001b[0mmasks\u001b[0m\u001b[0;34m)\u001b[0m\u001b[0;34m)\u001b[0m\u001b[0;34m)\u001b[0m\u001b[0;34m:\u001b[0m\u001b[0;34m\u001b[0m\u001b[0m\n",
      "\u001b[0;32m~/workspaces_rabbit/regseg/regseg/_regseg.py\u001b[0m in \u001b[0;36mcompute_features\u001b[0;34m(mask, image, threshold, bins, features, feature_names, features_to_compute, postfix)\u001b[0m\n\u001b[1;32m    404\u001b[0m \u001b[0;32mdef\u001b[0m \u001b[0mcompute_features\u001b[0m\u001b[0;34m(\u001b[0m\u001b[0mmask\u001b[0m\u001b[0;34m,\u001b[0m \u001b[0mimage\u001b[0m\u001b[0;34m,\u001b[0m \u001b[0mthreshold\u001b[0m\u001b[0;34m,\u001b[0m \u001b[0mbins\u001b[0m\u001b[0;34m,\u001b[0m \u001b[0mfeatures\u001b[0m\u001b[0;34m,\u001b[0m \u001b[0mfeature_names\u001b[0m\u001b[0;34m,\u001b[0m \u001b[0mfeatures_to_compute\u001b[0m\u001b[0;34m,\u001b[0m \u001b[0mpostfix\u001b[0m\u001b[0;34m)\u001b[0m\u001b[0;34m:\u001b[0m\u001b[0;34m\u001b[0m\u001b[0m\n\u001b[1;32m    405\u001b[0m     \u001b[0mmask\u001b[0m\u001b[0;34m=\u001b[0m \u001b[0mmask\u001b[0m \u001b[0;34m>\u001b[0m \u001b[0mthreshold\u001b[0m\u001b[0;34m\u001b[0m\u001b[0m\n\u001b[0;32m--> 406\u001b[0;31m     \u001b[0mmasked_image\u001b[0m\u001b[0;34m=\u001b[0m \u001b[0mimage\u001b[0m\u001b[0;34m[\u001b[0m\u001b[0mmask\u001b[0m\u001b[0;34m]\u001b[0m\u001b[0;34m\u001b[0m\u001b[0m\n\u001b[0m\u001b[1;32m    407\u001b[0m \u001b[0;34m\u001b[0m\u001b[0m\n\u001b[1;32m    408\u001b[0m     \u001b[0;32mif\u001b[0m \u001b[0;34m'num'\u001b[0m \u001b[0;32min\u001b[0m \u001b[0mfeatures_to_compute\u001b[0m\u001b[0;34m:\u001b[0m\u001b[0;34m\u001b[0m\u001b[0m\n",
      "\u001b[0;32m~/anaconda3/envs/rabbit/lib/python3.7/site-packages/numpy/core/memmap.py\u001b[0m in \u001b[0;36m__getitem__\u001b[0;34m(self, index)\u001b[0m\n\u001b[1;32m    332\u001b[0m \u001b[0;34m\u001b[0m\u001b[0m\n\u001b[1;32m    333\u001b[0m     \u001b[0;32mdef\u001b[0m \u001b[0m__getitem__\u001b[0m\u001b[0;34m(\u001b[0m\u001b[0mself\u001b[0m\u001b[0;34m,\u001b[0m \u001b[0mindex\u001b[0m\u001b[0;34m)\u001b[0m\u001b[0;34m:\u001b[0m\u001b[0;34m\u001b[0m\u001b[0m\n\u001b[0;32m--> 334\u001b[0;31m         \u001b[0mres\u001b[0m \u001b[0;34m=\u001b[0m \u001b[0msuper\u001b[0m\u001b[0;34m(\u001b[0m\u001b[0mmemmap\u001b[0m\u001b[0;34m,\u001b[0m \u001b[0mself\u001b[0m\u001b[0;34m)\u001b[0m\u001b[0;34m.\u001b[0m\u001b[0m__getitem__\u001b[0m\u001b[0;34m(\u001b[0m\u001b[0mindex\u001b[0m\u001b[0;34m)\u001b[0m\u001b[0;34m\u001b[0m\u001b[0m\n\u001b[0m\u001b[1;32m    335\u001b[0m         \u001b[0;32mif\u001b[0m \u001b[0mtype\u001b[0m\u001b[0;34m(\u001b[0m\u001b[0mres\u001b[0m\u001b[0;34m)\u001b[0m \u001b[0;32mis\u001b[0m \u001b[0mmemmap\u001b[0m \u001b[0;32mand\u001b[0m \u001b[0mres\u001b[0m\u001b[0;34m.\u001b[0m\u001b[0m_mmap\u001b[0m \u001b[0;32mis\u001b[0m \u001b[0;32mNone\u001b[0m\u001b[0;34m:\u001b[0m\u001b[0;34m\u001b[0m\u001b[0m\n\u001b[1;32m    336\u001b[0m             \u001b[0;32mreturn\u001b[0m \u001b[0mres\u001b[0m\u001b[0;34m.\u001b[0m\u001b[0mview\u001b[0m\u001b[0;34m(\u001b[0m\u001b[0mtype\u001b[0m\u001b[0;34m=\u001b[0m\u001b[0mndarray\u001b[0m\u001b[0;34m)\u001b[0m\u001b[0;34m\u001b[0m\u001b[0m\n",
      "\u001b[0;32m~/anaconda3/envs/rabbit/lib/python3.7/site-packages/numpy/core/memmap.py\u001b[0m in \u001b[0;36m__array_finalize__\u001b[0;34m(self, obj)\u001b[0m\n\u001b[1;32m    286\u001b[0m         \u001b[0;32mreturn\u001b[0m \u001b[0mself\u001b[0m\u001b[0;34m\u001b[0m\u001b[0m\n\u001b[1;32m    287\u001b[0m \u001b[0;34m\u001b[0m\u001b[0m\n\u001b[0;32m--> 288\u001b[0;31m     \u001b[0;32mdef\u001b[0m \u001b[0m__array_finalize__\u001b[0m\u001b[0;34m(\u001b[0m\u001b[0mself\u001b[0m\u001b[0;34m,\u001b[0m \u001b[0mobj\u001b[0m\u001b[0;34m)\u001b[0m\u001b[0;34m:\u001b[0m\u001b[0;34m\u001b[0m\u001b[0m\n\u001b[0m\u001b[1;32m    289\u001b[0m         \u001b[0;32mif\u001b[0m \u001b[0mhasattr\u001b[0m\u001b[0;34m(\u001b[0m\u001b[0mobj\u001b[0m\u001b[0;34m,\u001b[0m \u001b[0;34m'_mmap'\u001b[0m\u001b[0;34m)\u001b[0m \u001b[0;32mand\u001b[0m \u001b[0mnp\u001b[0m\u001b[0;34m.\u001b[0m\u001b[0mmay_share_memory\u001b[0m\u001b[0;34m(\u001b[0m\u001b[0mself\u001b[0m\u001b[0;34m,\u001b[0m \u001b[0mobj\u001b[0m\u001b[0;34m)\u001b[0m\u001b[0;34m:\u001b[0m\u001b[0;34m\u001b[0m\u001b[0m\n\u001b[1;32m    290\u001b[0m             \u001b[0mself\u001b[0m\u001b[0;34m.\u001b[0m\u001b[0m_mmap\u001b[0m \u001b[0;34m=\u001b[0m \u001b[0mobj\u001b[0m\u001b[0;34m.\u001b[0m\u001b[0m_mmap\u001b[0m\u001b[0;34m\u001b[0m\u001b[0m\n",
      "\u001b[0;31mKeyboardInterrupt\u001b[0m: "
     ]
    }
   ],
   "source": [
    "mld_features= extract_features(dissected_images, manually_segmented_mlds)\n",
    "mld_features.to_csv(mld_features_path, index=False)"
   ]
  },
  {
   "cell_type": "code",
   "execution_count": 14,
   "metadata": {},
   "outputs": [
    {
     "output_type": "stream",
     "name": "stderr",
     "text": [
      "100%|██████████| 170/170 [20:15<00:00,  7.15s/it]\n"
     ]
    }
   ],
   "source": [
    "hinds_features= extract_features(dissected_images, manually_segmented_hinds)\n",
    "hinds_features.to_csv(hinds_features_path, index=False)"
   ]
  },
  {
   "cell_type": "code",
   "execution_count": 16,
   "metadata": {},
   "outputs": [
    {
     "output_type": "execute_result",
     "data": {
      "text/plain": [
       "Index(['num-203a-mld.nii-0.500000', 'sum-203a-mld.nii-0.500000',\n",
       "       'mean-203a-mld.nii-0.500000', 'std-203a-mld.nii-0.500000',\n",
       "       'skew-203a-mld.nii-0.500000', 'kurt-203a-mld.nii-0.500000',\n",
       "       'hist-0-203a-mld.nii-0.500000', 'hist-1-203a-mld.nii-0.500000',\n",
       "       'hist-2-203a-mld.nii-0.500000', 'hist-3-203a-mld.nii-0.500000',\n",
       "       'hist-4-203a-mld.nii-0.500000', 'hist-5-203a-mld.nii-0.500000',\n",
       "       'hist-6-203a-mld.nii-0.500000', 'hist-7-203a-mld.nii-0.500000',\n",
       "       'hist-8-203a-mld.nii-0.500000', 'hist-9-203a-mld.nii-0.500000',\n",
       "       'num-203k-mld.nii-0.500000', 'sum-203k-mld.nii-0.500000',\n",
       "       'mean-203k-mld.nii-0.500000', 'std-203k-mld.nii-0.500000',\n",
       "       'skew-203k-mld.nii-0.500000', 'kurt-203k-mld.nii-0.500000',\n",
       "       'hist-0-203k-mld.nii-0.500000', 'hist-1-203k-mld.nii-0.500000',\n",
       "       'hist-2-203k-mld.nii-0.500000', 'hist-3-203k-mld.nii-0.500000',\n",
       "       'hist-4-203k-mld.nii-0.500000', 'hist-5-203k-mld.nii-0.500000',\n",
       "       'hist-6-203k-mld.nii-0.500000', 'hist-7-203k-mld.nii-0.500000',\n",
       "       'hist-8-203k-mld.nii-0.500000', 'hist-9-203k-mld.nii-0.500000',\n",
       "       'num-204f-mld.nii-0.500000', 'sum-204f-mld.nii-0.500000',\n",
       "       'mean-204f-mld.nii-0.500000', 'std-204f-mld.nii-0.500000',\n",
       "       'skew-204f-mld.nii-0.500000', 'kurt-204f-mld.nii-0.500000',\n",
       "       'hist-0-204f-mld.nii-0.500000', 'hist-1-204f-mld.nii-0.500000',\n",
       "       'hist-2-204f-mld.nii-0.500000', 'hist-3-204f-mld.nii-0.500000',\n",
       "       'hist-4-204f-mld.nii-0.500000', 'hist-5-204f-mld.nii-0.500000',\n",
       "       'hist-6-204f-mld.nii-0.500000', 'hist-7-204f-mld.nii-0.500000',\n",
       "       'hist-8-204f-mld.nii-0.500000', 'hist-9-204f-mld.nii-0.500000',\n",
       "       'num-206k-mld.nii-0.500000', 'sum-206k-mld.nii-0.500000',\n",
       "       'mean-206k-mld.nii-0.500000', 'std-206k-mld.nii-0.500000',\n",
       "       'skew-206k-mld.nii-0.500000', 'kurt-206k-mld.nii-0.500000',\n",
       "       'hist-0-206k-mld.nii-0.500000', 'hist-1-206k-mld.nii-0.500000',\n",
       "       'hist-2-206k-mld.nii-0.500000', 'hist-3-206k-mld.nii-0.500000',\n",
       "       'hist-4-206k-mld.nii-0.500000', 'hist-5-206k-mld.nii-0.500000',\n",
       "       'hist-6-206k-mld.nii-0.500000', 'hist-7-206k-mld.nii-0.500000',\n",
       "       'hist-8-206k-mld.nii-0.500000', 'hist-9-206k-mld.nii-0.500000',\n",
       "       'num-208f-mld.nii-0.500000', 'sum-208f-mld.nii-0.500000',\n",
       "       'mean-208f-mld.nii-0.500000', 'std-208f-mld.nii-0.500000',\n",
       "       'skew-208f-mld.nii-0.500000', 'kurt-208f-mld.nii-0.500000',\n",
       "       'hist-0-208f-mld.nii-0.500000', 'hist-1-208f-mld.nii-0.500000',\n",
       "       'hist-2-208f-mld.nii-0.500000', 'hist-3-208f-mld.nii-0.500000',\n",
       "       'hist-4-208f-mld.nii-0.500000', 'hist-5-208f-mld.nii-0.500000',\n",
       "       'hist-6-208f-mld.nii-0.500000', 'hist-7-208f-mld.nii-0.500000',\n",
       "       'hist-8-208f-mld.nii-0.500000', 'hist-9-208f-mld.nii-0.500000',\n",
       "       'num-0.500000-mean_mask', 'sum-0.500000-mean_mask',\n",
       "       'mean-0.500000-mean_mask', 'std-0.500000-mean_mask',\n",
       "       'skew-0.500000-mean_mask', 'kurt-0.500000-mean_mask',\n",
       "       'hist-0-0.500000-mean_mask', 'hist-1-0.500000-mean_mask',\n",
       "       'hist-2-0.500000-mean_mask', 'hist-3-0.500000-mean_mask',\n",
       "       'hist-4-0.500000-mean_mask', 'hist-5-0.500000-mean_mask',\n",
       "       'hist-6-0.500000-mean_mask', 'hist-7-0.500000-mean_mask',\n",
       "       'hist-8-0.500000-mean_mask', 'hist-9-0.500000-mean_mask', 'filename'],\n",
       "      dtype='object')"
      ]
     },
     "metadata": {},
     "execution_count": 16
    }
   ],
   "source": [
    "mld_features.columns"
   ]
  },
  {
   "cell_type": "code",
   "execution_count": 17,
   "metadata": {},
   "outputs": [],
   "source": [
    "mld_features.to_csv(mld_features_path, index=False)\n",
    "hinds_features.to_csv(hinds_features_path, index=False)"
   ]
  },
  {
   "cell_type": "code",
   "execution_count": null,
   "metadata": {},
   "outputs": [],
   "source": []
  }
 ],
 "metadata": {
  "kernelspec": {
   "name": "python3",
   "display_name": "Python 3.7.10 64-bit ('maweight': conda)",
   "metadata": {
    "interpreter": {
     "hash": "44c6487f2806288468fc38a77d75a796f16db53972b2c852a298fb4c21f6bdc6"
    }
   }
  },
  "language_info": {
   "codemirror_mode": {
    "name": "ipython",
    "version": 3
   },
   "file_extension": ".py",
   "mimetype": "text/x-python",
   "name": "python",
   "nbconvert_exporter": "python",
   "pygments_lexer": "ipython3",
   "version": "3.7.10"
  }
 },
 "nbformat": 4,
 "nbformat_minor": 4
}