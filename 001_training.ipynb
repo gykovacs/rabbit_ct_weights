{
 "cells": [
  {
   "cell_type": "markdown",
   "metadata": {},
   "source": [
    "# Regression analysis and training"
   ]
  },
  {
   "cell_type": "code",
   "execution_count": 1,
   "metadata": {},
   "outputs": [
    {
     "name": "stdout",
     "output_type": "stream",
     "text": [
      "elastix executable not found, please pass its path to register_and_transform function\n",
      "transformix executable not found, please pass its path to register_and_transform function\n"
     ]
    },
    {
     "data": {
      "text/html": [
       "\n",
       "    <div class=\"bk-root\">\n",
       "        <a href=\"https://bokeh.org\" target=\"_blank\" class=\"bk-logo bk-logo-small bk-logo-notebook\"></a>\n",
       "        <span id=\"1002\">Loading BokehJS ...</span>\n",
       "    </div>"
      ]
     },
     "metadata": {},
     "output_type": "display_data"
    },
    {
     "data": {
      "application/javascript": "\n(function(root) {\n  function now() {\n    return new Date();\n  }\n\n  const force = true;\n\n  if (typeof root._bokeh_onload_callbacks === \"undefined\" || force === true) {\n    root._bokeh_onload_callbacks = [];\n    root._bokeh_is_loading = undefined;\n  }\n\n  const JS_MIME_TYPE = 'application/javascript';\n  const HTML_MIME_TYPE = 'text/html';\n  const EXEC_MIME_TYPE = 'application/vnd.bokehjs_exec.v0+json';\n  const CLASS_NAME = 'output_bokeh rendered_html';\n\n  /**\n   * Render data to the DOM node\n   */\n  function render(props, node) {\n    const script = document.createElement(\"script\");\n    node.appendChild(script);\n  }\n\n  /**\n   * Handle when an output is cleared or removed\n   */\n  function handleClearOutput(event, handle) {\n    const cell = handle.cell;\n\n    const id = cell.output_area._bokeh_element_id;\n    const server_id = cell.output_area._bokeh_server_id;\n    // Clean up Bokeh references\n    if (id != null && id in Bokeh.index) {\n      Bokeh.index[id].model.document.clear();\n      delete Bokeh.index[id];\n    }\n\n    if (server_id !== undefined) {\n      // Clean up Bokeh references\n      const cmd_clean = \"from bokeh.io.state import curstate; print(curstate().uuid_to_server['\" + server_id + \"'].get_sessions()[0].document.roots[0]._id)\";\n      cell.notebook.kernel.execute(cmd_clean, {\n        iopub: {\n          output: function(msg) {\n            const id = msg.content.text.trim();\n            if (id in Bokeh.index) {\n              Bokeh.index[id].model.document.clear();\n              delete Bokeh.index[id];\n            }\n          }\n        }\n      });\n      // Destroy server and session\n      const cmd_destroy = \"import bokeh.io.notebook as ion; ion.destroy_server('\" + server_id + \"')\";\n      cell.notebook.kernel.execute(cmd_destroy);\n    }\n  }\n\n  /**\n   * Handle when a new output is added\n   */\n  function handleAddOutput(event, handle) {\n    const output_area = handle.output_area;\n    const output = handle.output;\n\n    // limit handleAddOutput to display_data with EXEC_MIME_TYPE content only\n    if ((output.output_type != \"display_data\") || (!Object.prototype.hasOwnProperty.call(output.data, EXEC_MIME_TYPE))) {\n      return\n    }\n\n    const toinsert = output_area.element.find(\".\" + CLASS_NAME.split(' ')[0]);\n\n    if (output.metadata[EXEC_MIME_TYPE][\"id\"] !== undefined) {\n      toinsert[toinsert.length - 1].firstChild.textContent = output.data[JS_MIME_TYPE];\n      // store reference to embed id on output_area\n      output_area._bokeh_element_id = output.metadata[EXEC_MIME_TYPE][\"id\"];\n    }\n    if (output.metadata[EXEC_MIME_TYPE][\"server_id\"] !== undefined) {\n      const bk_div = document.createElement(\"div\");\n      bk_div.innerHTML = output.data[HTML_MIME_TYPE];\n      const script_attrs = bk_div.children[0].attributes;\n      for (let i = 0; i < script_attrs.length; i++) {\n        toinsert[toinsert.length - 1].firstChild.setAttribute(script_attrs[i].name, script_attrs[i].value);\n        toinsert[toinsert.length - 1].firstChild.textContent = bk_div.children[0].textContent\n      }\n      // store reference to server id on output_area\n      output_area._bokeh_server_id = output.metadata[EXEC_MIME_TYPE][\"server_id\"];\n    }\n  }\n\n  function register_renderer(events, OutputArea) {\n\n    function append_mime(data, metadata, element) {\n      // create a DOM node to render to\n      const toinsert = this.create_output_subarea(\n        metadata,\n        CLASS_NAME,\n        EXEC_MIME_TYPE\n      );\n      this.keyboard_manager.register_events(toinsert);\n      // Render to node\n      const props = {data: data, metadata: metadata[EXEC_MIME_TYPE]};\n      render(props, toinsert[toinsert.length - 1]);\n      element.append(toinsert);\n      return toinsert\n    }\n\n    /* Handle when an output is cleared or removed */\n    events.on('clear_output.CodeCell', handleClearOutput);\n    events.on('delete.Cell', handleClearOutput);\n\n    /* Handle when a new output is added */\n    events.on('output_added.OutputArea', handleAddOutput);\n\n    /**\n     * Register the mime type and append_mime function with output_area\n     */\n    OutputArea.prototype.register_mime_type(EXEC_MIME_TYPE, append_mime, {\n      /* Is output safe? */\n      safe: true,\n      /* Index of renderer in `output_area.display_order` */\n      index: 0\n    });\n  }\n\n  // register the mime type if in Jupyter Notebook environment and previously unregistered\n  if (root.Jupyter !== undefined) {\n    const events = require('base/js/events');\n    const OutputArea = require('notebook/js/outputarea').OutputArea;\n\n    if (OutputArea.prototype.mime_types().indexOf(EXEC_MIME_TYPE) == -1) {\n      register_renderer(events, OutputArea);\n    }\n  }\n\n  \n  if (typeof (root._bokeh_timeout) === \"undefined\" || force === true) {\n    root._bokeh_timeout = Date.now() + 5000;\n    root._bokeh_failed_load = false;\n  }\n\n  const NB_LOAD_WARNING = {'data': {'text/html':\n     \"<div style='background-color: #fdd'>\\n\"+\n     \"<p>\\n\"+\n     \"BokehJS does not appear to have successfully loaded. If loading BokehJS from CDN, this \\n\"+\n     \"may be due to a slow or bad network connection. Possible fixes:\\n\"+\n     \"</p>\\n\"+\n     \"<ul>\\n\"+\n     \"<li>re-rerun `output_notebook()` to attempt to load from CDN again, or</li>\\n\"+\n     \"<li>use INLINE resources instead, as so:</li>\\n\"+\n     \"</ul>\\n\"+\n     \"<code>\\n\"+\n     \"from bokeh.resources import INLINE\\n\"+\n     \"output_notebook(resources=INLINE)\\n\"+\n     \"</code>\\n\"+\n     \"</div>\"}};\n\n  function display_loaded() {\n    const el = document.getElementById(\"1002\");\n    if (el != null) {\n      el.textContent = \"BokehJS is loading...\";\n    }\n    if (root.Bokeh !== undefined) {\n      if (el != null) {\n        el.textContent = \"BokehJS \" + root.Bokeh.version + \" successfully loaded.\";\n      }\n    } else if (Date.now() < root._bokeh_timeout) {\n      setTimeout(display_loaded, 100)\n    }\n  }\n\n\n  function run_callbacks() {\n    try {\n      root._bokeh_onload_callbacks.forEach(function(callback) {\n        if (callback != null)\n          callback();\n      });\n    } finally {\n      delete root._bokeh_onload_callbacks\n    }\n    console.debug(\"Bokeh: all callbacks have finished\");\n  }\n\n  function load_libs(css_urls, js_urls, callback) {\n    if (css_urls == null) css_urls = [];\n    if (js_urls == null) js_urls = [];\n\n    root._bokeh_onload_callbacks.push(callback);\n    if (root._bokeh_is_loading > 0) {\n      console.debug(\"Bokeh: BokehJS is being loaded, scheduling callback at\", now());\n      return null;\n    }\n    if (js_urls == null || js_urls.length === 0) {\n      run_callbacks();\n      return null;\n    }\n    console.debug(\"Bokeh: BokehJS not loaded, scheduling load and callback at\", now());\n    root._bokeh_is_loading = css_urls.length + js_urls.length;\n\n    function on_load() {\n      root._bokeh_is_loading--;\n      if (root._bokeh_is_loading === 0) {\n        console.debug(\"Bokeh: all BokehJS libraries/stylesheets loaded\");\n        run_callbacks()\n      }\n    }\n\n    function on_error(url) {\n      console.error(\"failed to load \" + url);\n    }\n\n    for (let i = 0; i < css_urls.length; i++) {\n      const url = css_urls[i];\n      const element = document.createElement(\"link\");\n      element.onload = on_load;\n      element.onerror = on_error.bind(null, url);\n      element.rel = \"stylesheet\";\n      element.type = \"text/css\";\n      element.href = url;\n      console.debug(\"Bokeh: injecting link tag for BokehJS stylesheet: \", url);\n      document.body.appendChild(element);\n    }\n\n    for (let i = 0; i < js_urls.length; i++) {\n      const url = js_urls[i];\n      const element = document.createElement('script');\n      element.onload = on_load;\n      element.onerror = on_error.bind(null, url);\n      element.async = false;\n      element.src = url;\n      console.debug(\"Bokeh: injecting script tag for BokehJS library: \", url);\n      document.head.appendChild(element);\n    }\n  };\n\n  function inject_raw_css(css) {\n    const element = document.createElement(\"style\");\n    element.appendChild(document.createTextNode(css));\n    document.body.appendChild(element);\n  }\n\n  \n  const js_urls = [\"https://cdn.bokeh.org/bokeh/release/bokeh-2.4.2.min.js\", \"https://cdn.bokeh.org/bokeh/release/bokeh-gl-2.4.2.min.js\", \"https://cdn.bokeh.org/bokeh/release/bokeh-widgets-2.4.2.min.js\", \"https://cdn.bokeh.org/bokeh/release/bokeh-tables-2.4.2.min.js\", \"https://cdn.bokeh.org/bokeh/release/bokeh-mathjax-2.4.2.min.js\"];\n  const css_urls = [];\n  \n\n  const inline_js = [\n    function(Bokeh) {\n      Bokeh.set_log_level(\"info\");\n    },\n    function(Bokeh) {\n    \n    \n    }\n  ];\n\n  function run_inline_js() {\n    \n    if (root.Bokeh !== undefined || force === true) {\n      \n    for (let i = 0; i < inline_js.length; i++) {\n      inline_js[i].call(root, root.Bokeh);\n    }\n    if (force === true) {\n        display_loaded();\n      }} else if (Date.now() < root._bokeh_timeout) {\n      setTimeout(run_inline_js, 100);\n    } else if (!root._bokeh_failed_load) {\n      console.log(\"Bokeh: BokehJS failed to load within specified timeout.\");\n      root._bokeh_failed_load = true;\n    } else if (force !== true) {\n      const cell = $(document.getElementById(\"1002\")).parents('.cell').data().cell;\n      cell.output_area.append_execute_result(NB_LOAD_WARNING)\n    }\n\n  }\n\n  if (root._bokeh_is_loading === 0) {\n    console.debug(\"Bokeh: BokehJS loaded, going straight to plotting\");\n    run_inline_js();\n  } else {\n    load_libs(css_urls, js_urls, function() {\n      console.debug(\"Bokeh: BokehJS plotting callback run at\", now());\n      run_inline_js();\n    });\n  }\n}(window));",
      "application/vnd.bokehjs_load.v0+json": ""
     },
     "metadata": {},
     "output_type": "display_data"
    }
   ],
   "source": [
    "import glob\n",
    "import os\n",
    "import os.path\n",
    "import numpy as np\n",
    "import pandas as pd\n",
    "import pickle\n",
    "import matplotlib.pyplot as plt\n",
    "import logging\n",
    "from sklearn.preprocessing import StandardScaler\n",
    "from bokeh.io import output_notebook, show\n",
    "from bokeh.plotting import figure\n",
    "from bokeh.models.annotations import Title\n",
    "from maweight import model_selection\n",
    "import pickle\n",
    "output_notebook()\n",
    "\n",
    "import warnings\n",
    "warnings.filterwarnings('ignore')\n",
    "\n",
    "from config import mld_features_path, hinds_features_path, xls_path\n",
    "\n",
    "# setting the logging format\n",
    "FORMAT = '%(asctime)-15s %(clientip)s %(user)-8s %(message)s'\n",
    "logging.basicConfig(format=FORMAT, level=logging.INFO)"
   ]
  },
  {
   "cell_type": "markdown",
   "metadata": {},
   "source": [
    "## Constructing the training dataframe"
   ]
  },
  {
   "cell_type": "code",
   "execution_count": 2,
   "metadata": {},
   "outputs": [],
   "source": [
    "# Reading the extracted features\n",
    "mld_features= pd.read_csv(mld_features_path)\n",
    "hinds_features= pd.read_csv(hinds_features_path)\n",
    "\n",
    "# Determining the ids and positions\n",
    "mld_features['id']= mld_features['filename'].apply(lambda x: x.split('/')[-1][:-4])\n",
    "hinds_features['id']= hinds_features['filename'].apply(lambda x: x.split('/')[-1][:-4])\n",
    "\n",
    "# Reading the XLS data\n",
    "xls_data= pd.read_excel(xls_path, engine='openpyxl')\n",
    "\n",
    "# Extracting the ground truth data\n",
    "target= pd.DataFrame(data= {'ct_num': xls_data[u'CT_num'].astype(str).str.zfill(3),\n",
    "                               'pos': xls_data[u'position'].astype(str),\n",
    "                               'mld': xls_data[u'MLD'].astype(float),\n",
    "                               'hinds': xls_data[u'left_hinds_fillet'].astype(float)})\n",
    "target['id']= target['ct_num'] + '.mnc-' + target['pos']\n",
    "target= target.sort_values('id')\n",
    "target= target.reset_index()\n",
    "\n",
    "# Merging the MLD features with the ground truth data\n",
    "mld_target= target[['id', 'mld', 'pos']]\n",
    "hinds_target= target[['id', 'hinds', 'pos']]"
   ]
  },
  {
   "cell_type": "code",
   "execution_count": 3,
   "metadata": {},
   "outputs": [],
   "source": [
    "mld_data= pd.merge(mld_features, mld_target, how='inner', on='id').dropna()\n",
    "hinds_data= pd.merge(hinds_features, hinds_target, how='inner', on='id').dropna()"
   ]
  },
  {
   "cell_type": "code",
   "execution_count": 4,
   "metadata": {
    "pycharm": {
     "name": "#%%\n"
    }
   },
   "outputs": [],
   "source": [
    "mld_target= mld_data['mld']\n",
    "mld_features= mld_data.drop(['filename', 'id', 'mld'], axis='columns')\n",
    "hinds_target= hinds_data['hinds']\n",
    "hinds_features= hinds_data.drop(['filename', 'id', 'hinds'], axis='columns')\n",
    "\n",
    "# encoding the positions\n",
    "mld_features['pos']= mld_features['pos'].apply(lambda x: {'a': 0, 'k': 1, 'f': 2}[x])\n",
    "hinds_features['pos']= hinds_features['pos'].apply(lambda x: {'a': 0, 'k': 1, 'f': 2}[x])"
   ]
  },
  {
   "cell_type": "markdown",
   "metadata": {},
   "source": [
    "## Model selection with feature selection"
   ]
  },
  {
   "cell_type": "code",
   "execution_count": 5,
   "metadata": {},
   "outputs": [],
   "source": [
    "masks= np.unique([c.split('-')[1] for c in mld_features.columns if len(c) > 10 and len(c.split('-')[1]) == 4])"
   ]
  },
  {
   "cell_type": "code",
   "execution_count": 6,
   "metadata": {},
   "outputs": [
    {
     "data": {
      "text/plain": [
       "array(['203a', '203k', '204f', '206k', '208f'], dtype='<U4')"
      ]
     },
     "execution_count": 6,
     "metadata": {},
     "output_type": "execute_result"
    }
   ],
   "source": [
    "masks"
   ]
  },
  {
   "cell_type": "code",
   "execution_count": 7,
   "metadata": {},
   "outputs": [],
   "source": [
    "results= []\n",
    "results_no_fs= []"
   ]
  },
  {
   "cell_type": "markdown",
   "metadata": {},
   "source": [
    "### MLD using all features"
   ]
  },
  {
   "cell_type": "code",
   "execution_count": 8,
   "metadata": {},
   "outputs": [
    {
     "name": "stdout",
     "output_type": "stream",
     "text": [
      "Objective KNNR_Objective:\n"
     ]
    },
    {
     "name": "stderr",
     "output_type": "stream",
     "text": [
      " 26%|██▌       | 2054/8000 [09:17<26:54,  3.68it/s] \n"
     ]
    },
    {
     "name": "stdout",
     "output_type": "stream",
     "text": [
      "iterations: 2054\n",
      "Number of used features: 25\n",
      "Used features: ['num-203a-mld.nii-0.500000', 'sum-203a-mld.nii-0.500000', 'std-203a-mld.nii-0.500000', 'hist-14-203a-mld.nii-0.500000', 'hist-15-203a-mld.nii-0.500000', 'hist-16-203a-mld.nii-0.500000', 'num-203k-mld.nii-0.500000', 'hist-15-203k-mld.nii-0.500000', 'num-204f-mld.nii-0.500000', 'hist-4-204f-mld.nii-0.500000', 'hist-5-204f-mld.nii-0.500000', 'hist-19-204f-mld.nii-0.500000', 'sum-206k-mld.nii-0.500000', 'skew-206k-mld.nii-0.500000', 'hist-6-206k-mld.nii-0.500000', 'sum-208f-mld.nii-0.500000', 'hist-4-208f-mld.nii-0.500000', 'hist-5-208f-mld.nii-0.500000', 'hist-6-208f-mld.nii-0.500000', 'hist-9-208f-mld.nii-0.500000', 'hist-15-208f-mld.nii-0.500000', 'num-0.500000-mean_mask', 'hist-5-0.500000-mean_mask', 'hist-16-0.500000-mean_mask', 'hist-18-0.500000-mean_mask'] \n",
      "Score: -0.7362204474053603\n"
     ]
    },
    {
     "name": "stderr",
     "output_type": "stream",
     "text": [
      "200it [00:00, 694.42it/s]\n"
     ]
    },
    {
     "name": "stdout",
     "output_type": "stream",
     "text": [
      "1\n",
      "1 0.741280281941486\n",
      "Objective LinearRegression_Objective:\n"
     ]
    },
    {
     "name": "stderr",
     "output_type": "stream",
     "text": [
      " 39%|███▉      | 3114/8000 [06:27<10:08,  8.03it/s]\n"
     ]
    },
    {
     "name": "stdout",
     "output_type": "stream",
     "text": [
      "iterations: 3114\n",
      "Number of used features: 21\n",
      "Used features: ['hist-10-203a-mld.nii-0.500000', 'skew-203k-mld.nii-0.500000', 'kurt-203k-mld.nii-0.500000', 'hist-1-203k-mld.nii-0.500000', 'hist-4-203k-mld.nii-0.500000', 'hist-6-203k-mld.nii-0.500000', 'hist-11-203k-mld.nii-0.500000', 'mean-204f-mld.nii-0.500000', 'hist-11-204f-mld.nii-0.500000', 'hist-13-204f-mld.nii-0.500000', 'hist-16-204f-mld.nii-0.500000', 'hist-0-206k-mld.nii-0.500000', 'hist-5-206k-mld.nii-0.500000', 'std-208f-mld.nii-0.500000', 'kurt-208f-mld.nii-0.500000', 'hist-1-208f-mld.nii-0.500000', 'hist-16-208f-mld.nii-0.500000', 'hist-4-0.500000-mean_mask', 'hist-6-0.500000-mean_mask', 'hist-10-0.500000-mean_mask', 'hist-19-0.500000-mean_mask'] \n",
      "Score: -0.8248020125088298\n"
     ]
    },
    {
     "name": "stderr",
     "output_type": "stream",
     "text": [
      "200it [00:00, 537.22it/s]\n"
     ]
    },
    {
     "name": "stdout",
     "output_type": "stream",
     "text": [
      "1\n",
      "1 0.8250252076825821\n",
      "Objective LassoRegression_Objective:\n"
     ]
    },
    {
     "name": "stderr",
     "output_type": "stream",
     "text": [
      " 30%|██▉       | 2361/8000 [09:16<22:10,  4.24it/s]\n"
     ]
    },
    {
     "name": "stdout",
     "output_type": "stream",
     "text": [
      "iterations: 2361\n",
      "Number of used features: 20\n",
      "Used features: ['mean-203a-mld.nii-0.500000', 'skew-203a-mld.nii-0.500000', 'kurt-203a-mld.nii-0.500000', 'hist-0-203a-mld.nii-0.500000', 'hist-8-203a-mld.nii-0.500000', 'sum-203k-mld.nii-0.500000', 'kurt-203k-mld.nii-0.500000', 'hist-1-203k-mld.nii-0.500000', 'hist-2-203k-mld.nii-0.500000', 'hist-12-204f-mld.nii-0.500000', 'hist-16-204f-mld.nii-0.500000', 'hist-1-206k-mld.nii-0.500000', 'hist-2-206k-mld.nii-0.500000', 'hist-12-206k-mld.nii-0.500000', 'hist-16-206k-mld.nii-0.500000', 'hist-19-206k-mld.nii-0.500000', 'hist-15-208f-mld.nii-0.500000', 'num-0.500000-mean_mask', 'hist-0-0.500000-mean_mask', 'hist-19-0.500000-mean_mask'] \n",
      "Score: -0.8250763821764857\n"
     ]
    },
    {
     "name": "stderr",
     "output_type": "stream",
     "text": [
      "200it [00:01, 135.44it/s]\n"
     ]
    },
    {
     "name": "stdout",
     "output_type": "stream",
     "text": [
      "1\n",
      "1 0.8273437154694621\n",
      "Objective RidgeRegression_Objective:\n"
     ]
    },
    {
     "name": "stderr",
     "output_type": "stream",
     "text": [
      " 20%|██        | 1604/8000 [04:35<18:20,  5.81it/s]\n"
     ]
    },
    {
     "name": "stdout",
     "output_type": "stream",
     "text": [
      "iterations: 1604\n",
      "Number of used features: 13\n",
      "Used features: ['hist-4-203a-mld.nii-0.500000', 'kurt-203k-mld.nii-0.500000', 'hist-1-203k-mld.nii-0.500000', 'hist-5-203k-mld.nii-0.500000', 'hist-10-203k-mld.nii-0.500000', 'mean-204f-mld.nii-0.500000', 'hist-1-206k-mld.nii-0.500000', 'std-208f-mld.nii-0.500000', 'hist-0-208f-mld.nii-0.500000', 'hist-16-208f-mld.nii-0.500000', 'hist-5-0.500000-mean_mask', 'hist-6-0.500000-mean_mask', 'hist-19-0.500000-mean_mask'] \n",
      "Score: -0.8201542888940053\n"
     ]
    },
    {
     "name": "stderr",
     "output_type": "stream",
     "text": [
      "200it [00:00, 497.39it/s]\n"
     ]
    },
    {
     "name": "stdout",
     "output_type": "stream",
     "text": [
      "1\n",
      "1 0.8194095325317855\n",
      "Objective PLSRegression_Objective:\n"
     ]
    },
    {
     "name": "stderr",
     "output_type": "stream",
     "text": [
      " 31%|███       | 2444/8000 [08:11<18:36,  4.98it/s]  \n"
     ]
    },
    {
     "name": "stdout",
     "output_type": "stream",
     "text": [
      "iterations: 2444\n",
      "Number of used features: 26\n",
      "Used features: ['hist-1-203a-mld.nii-0.500000', 'hist-4-203a-mld.nii-0.500000', 'hist-6-203a-mld.nii-0.500000', 'mean-203k-mld.nii-0.500000', 'skew-203k-mld.nii-0.500000', 'kurt-203k-mld.nii-0.500000', 'hist-1-203k-mld.nii-0.500000', 'hist-6-203k-mld.nii-0.500000', 'hist-9-203k-mld.nii-0.500000', 'hist-12-203k-mld.nii-0.500000', 'hist-19-203k-mld.nii-0.500000', 'mean-204f-mld.nii-0.500000', 'hist-5-204f-mld.nii-0.500000', 'hist-9-204f-mld.nii-0.500000', 'num-206k-mld.nii-0.500000', 'hist-0-206k-mld.nii-0.500000', 'hist-1-206k-mld.nii-0.500000', 'hist-3-206k-mld.nii-0.500000', 'hist-4-206k-mld.nii-0.500000', 'hist-5-206k-mld.nii-0.500000', 'hist-7-206k-mld.nii-0.500000', 'hist-9-206k-mld.nii-0.500000', 'hist-15-208f-mld.nii-0.500000', 'hist-4-0.500000-mean_mask', 'hist-5-0.500000-mean_mask', 'hist-9-0.500000-mean_mask'] \n",
      "Score: -0.8052624497195113\n"
     ]
    },
    {
     "name": "stderr",
     "output_type": "stream",
     "text": [
      "200it [00:00, 510.89it/s]"
     ]
    },
    {
     "name": "stdout",
     "output_type": "stream",
     "text": [
      "1\n",
      "1 0.8079848036488088\n"
     ]
    },
    {
     "name": "stderr",
     "output_type": "stream",
     "text": [
      "\n"
     ]
    }
   ],
   "source": [
    "results.append(model_selection(mld_features, mld_target, dataset='mld', type='all'))"
   ]
  },
  {
   "cell_type": "markdown",
   "metadata": {},
   "source": [
    "### MLD using the mean mask features"
   ]
  },
  {
   "cell_type": "code",
   "execution_count": 9,
   "metadata": {},
   "outputs": [
    {
     "name": "stdout",
     "output_type": "stream",
     "text": [
      "Objective KNNR_Objective:\n"
     ]
    },
    {
     "name": "stderr",
     "output_type": "stream",
     "text": [
      "  7%|▋         | 564/8000 [01:05<14:29,  8.55it/s]\n"
     ]
    },
    {
     "name": "stdout",
     "output_type": "stream",
     "text": [
      "iterations: 564\n",
      "Number of used features: 2\n",
      "Used features: ['num-0.500000-mean_mask', 'hist-5-0.500000-mean_mask'] \n",
      "Score: -0.7260353670270052\n"
     ]
    },
    {
     "name": "stderr",
     "output_type": "stream",
     "text": [
      "200it [00:00, 661.04it/s]\n"
     ]
    },
    {
     "name": "stdout",
     "output_type": "stream",
     "text": [
      "1\n",
      "1 0.7315578178049231\n",
      "Objective LinearRegression_Objective:\n"
     ]
    },
    {
     "name": "stderr",
     "output_type": "stream",
     "text": [
      "  7%|▋         | 527/8000 [00:08<02:02, 61.05it/s] \n"
     ]
    },
    {
     "name": "stdout",
     "output_type": "stream",
     "text": [
      "iterations: 527\n",
      "Number of used features: 3\n",
      "Used features: ['num-0.500000-mean_mask', 'hist-0-0.500000-mean_mask', 'hist-19-0.500000-mean_mask'] \n",
      "Score: -0.7793173183375132\n"
     ]
    },
    {
     "name": "stderr",
     "output_type": "stream",
     "text": [
      "200it [00:00, 857.81it/s]\n"
     ]
    },
    {
     "name": "stdout",
     "output_type": "stream",
     "text": [
      "1\n",
      "1 0.7797433828273843\n",
      "Objective LassoRegression_Objective:\n"
     ]
    },
    {
     "name": "stderr",
     "output_type": "stream",
     "text": [
      " 10%|█         | 834/8000 [00:47<06:48, 17.56it/s]\n"
     ]
    },
    {
     "name": "stdout",
     "output_type": "stream",
     "text": [
      "iterations: 834\n",
      "Number of used features: 3\n",
      "Used features: ['num-0.500000-mean_mask', 'hist-0-0.500000-mean_mask', 'hist-19-0.500000-mean_mask'] \n",
      "Score: -0.7791654502294467\n"
     ]
    },
    {
     "name": "stderr",
     "output_type": "stream",
     "text": [
      "200it [00:00, 622.78it/s]\n"
     ]
    },
    {
     "name": "stdout",
     "output_type": "stream",
     "text": [
      "1\n",
      "1 0.7795374979154396\n",
      "Objective RidgeRegression_Objective:\n"
     ]
    },
    {
     "name": "stderr",
     "output_type": "stream",
     "text": [
      "  7%|▋         | 532/8000 [00:29<06:58, 17.85it/s]\n"
     ]
    },
    {
     "name": "stdout",
     "output_type": "stream",
     "text": [
      "iterations: 532\n",
      "Number of used features: 3\n",
      "Used features: ['num-0.500000-mean_mask', 'hist-0-0.500000-mean_mask', 'hist-19-0.500000-mean_mask'] \n",
      "Score: -0.7793499998126289\n"
     ]
    },
    {
     "name": "stderr",
     "output_type": "stream",
     "text": [
      "200it [00:00, 652.12it/s]\n"
     ]
    },
    {
     "name": "stdout",
     "output_type": "stream",
     "text": [
      "1\n",
      "1 0.7797616677641164\n",
      "Objective PLSRegression_Objective:\n"
     ]
    },
    {
     "name": "stderr",
     "output_type": "stream",
     "text": [
      "  9%|▉         | 723/8000 [00:42<07:06, 17.06it/s] \n"
     ]
    },
    {
     "name": "stdout",
     "output_type": "stream",
     "text": [
      "iterations: 723\n",
      "Number of used features: 5\n",
      "Used features: ['num-0.500000-mean_mask', 'sum-0.500000-mean_mask', 'skew-0.500000-mean_mask', 'hist-8-0.500000-mean_mask', 'hist-19-0.500000-mean_mask'] \n",
      "Score: -0.7771260499217063\n"
     ]
    },
    {
     "name": "stderr",
     "output_type": "stream",
     "text": [
      "200it [00:00, 651.36it/s]"
     ]
    },
    {
     "name": "stdout",
     "output_type": "stream",
     "text": [
      "1\n",
      "1 0.7788089034147119\n"
     ]
    },
    {
     "name": "stderr",
     "output_type": "stream",
     "text": [
      "\n"
     ]
    }
   ],
   "source": [
    "results.append(model_selection(mld_features[[c for c in mld_features.columns if 'mean_mask' in c or c == 'type']], mld_target, dataset='mld', type='mean_mask'))"
   ]
  },
  {
   "cell_type": "markdown",
   "metadata": {},
   "source": [
    "### MLD using the features of the individual masks"
   ]
  },
  {
   "cell_type": "code",
   "execution_count": 10,
   "metadata": {},
   "outputs": [
    {
     "name": "stdout",
     "output_type": "stream",
     "text": [
      "Objective KNNR_Objective:\n"
     ]
    },
    {
     "name": "stderr",
     "output_type": "stream",
     "text": [
      "  7%|▋         | 536/8000 [01:05<15:06,  8.23it/s]\n"
     ]
    },
    {
     "name": "stdout",
     "output_type": "stream",
     "text": [
      "iterations: 536\n",
      "Number of used features: 3\n",
      "Used features: ['num-203a-mld.nii-0.500000', 'hist-5-203a-mld.nii-0.500000', 'hist-12-203a-mld.nii-0.500000'] \n",
      "Score: -0.7238793702299094\n"
     ]
    },
    {
     "name": "stderr",
     "output_type": "stream",
     "text": [
      "200it [00:00, 572.10it/s]\n"
     ]
    },
    {
     "name": "stdout",
     "output_type": "stream",
     "text": [
      "1\n",
      "1 0.7329502801162693\n",
      "Objective LinearRegression_Objective:\n"
     ]
    },
    {
     "name": "stderr",
     "output_type": "stream",
     "text": [
      "  7%|▋         | 563/8000 [00:10<02:21, 52.51it/s] \n"
     ]
    },
    {
     "name": "stdout",
     "output_type": "stream",
     "text": [
      "iterations: 563\n",
      "Number of used features: 4\n",
      "Used features: ['num-203a-mld.nii-0.500000', 'hist-0-203a-mld.nii-0.500000', 'hist-14-203a-mld.nii-0.500000', 'hist-19-203a-mld.nii-0.500000'] \n",
      "Score: -0.7779580173371043\n"
     ]
    },
    {
     "name": "stderr",
     "output_type": "stream",
     "text": [
      "200it [00:00, 916.64it/s]\n"
     ]
    },
    {
     "name": "stdout",
     "output_type": "stream",
     "text": [
      "1\n",
      "1 0.7785782811439595\n",
      "Objective LassoRegression_Objective:\n"
     ]
    },
    {
     "name": "stderr",
     "output_type": "stream",
     "text": [
      "  9%|▊         | 691/8000 [00:44<07:53, 15.43it/s]\n"
     ]
    },
    {
     "name": "stdout",
     "output_type": "stream",
     "text": [
      "iterations: 691\n",
      "Number of used features: 4\n",
      "Used features: ['num-203a-mld.nii-0.500000', 'hist-0-203a-mld.nii-0.500000', 'hist-14-203a-mld.nii-0.500000', 'hist-19-203a-mld.nii-0.500000'] \n",
      "Score: -0.7778825722080527\n"
     ]
    },
    {
     "name": "stderr",
     "output_type": "stream",
     "text": [
      "200it [00:00, 598.20it/s]\n"
     ]
    },
    {
     "name": "stdout",
     "output_type": "stream",
     "text": [
      "1\n",
      "1 0.7785121033112078\n",
      "Objective RidgeRegression_Objective:\n"
     ]
    },
    {
     "name": "stderr",
     "output_type": "stream",
     "text": [
      "  7%|▋         | 563/8000 [00:32<07:04, 17.51it/s]\n"
     ]
    },
    {
     "name": "stdout",
     "output_type": "stream",
     "text": [
      "iterations: 563\n",
      "Number of used features: 4\n",
      "Used features: ['num-203a-mld.nii-0.500000', 'hist-0-203a-mld.nii-0.500000', 'hist-14-203a-mld.nii-0.500000', 'hist-19-203a-mld.nii-0.500000'] \n",
      "Score: -0.7779995217588845\n"
     ]
    },
    {
     "name": "stderr",
     "output_type": "stream",
     "text": [
      "200it [00:00, 648.45it/s]\n"
     ]
    },
    {
     "name": "stdout",
     "output_type": "stream",
     "text": [
      "1\n",
      "1 0.7786221770707387\n",
      "Objective PLSRegression_Objective:\n"
     ]
    },
    {
     "name": "stderr",
     "output_type": "stream",
     "text": [
      " 10%|█         | 827/8000 [00:43<06:20, 18.83it/s] \n"
     ]
    },
    {
     "name": "stdout",
     "output_type": "stream",
     "text": [
      "iterations: 827\n",
      "Number of used features: 6\n",
      "Used features: ['num-203a-mld.nii-0.500000', 'sum-203a-mld.nii-0.500000', 'mean-203a-mld.nii-0.500000', 'skew-203a-mld.nii-0.500000', 'hist-8-203a-mld.nii-0.500000', 'hist-19-203a-mld.nii-0.500000'] \n",
      "Score: -0.7753855981216279\n"
     ]
    },
    {
     "name": "stderr",
     "output_type": "stream",
     "text": [
      "200it [00:00, 722.91it/s]\n"
     ]
    },
    {
     "name": "stdout",
     "output_type": "stream",
     "text": [
      "1\n",
      "1 0.7774792676445557\n",
      "Objective KNNR_Objective:\n"
     ]
    },
    {
     "name": "stderr",
     "output_type": "stream",
     "text": [
      "  7%|▋         | 536/8000 [01:02<14:30,  8.57it/s]\n"
     ]
    },
    {
     "name": "stdout",
     "output_type": "stream",
     "text": [
      "iterations: 536\n",
      "Number of used features: 3\n",
      "Used features: ['num-203k-mld.nii-0.500000', 'hist-5-203k-mld.nii-0.500000', 'hist-12-203k-mld.nii-0.500000'] \n",
      "Score: -0.6998137650534353\n"
     ]
    },
    {
     "name": "stderr",
     "output_type": "stream",
     "text": [
      "200it [00:00, 591.27it/s]\n"
     ]
    },
    {
     "name": "stdout",
     "output_type": "stream",
     "text": [
      "1\n",
      "1 0.707960794795109\n",
      "Objective LinearRegression_Objective:\n"
     ]
    },
    {
     "name": "stderr",
     "output_type": "stream",
     "text": [
      "  7%|▋         | 527/8000 [00:07<01:50, 67.68it/s] \n"
     ]
    },
    {
     "name": "stdout",
     "output_type": "stream",
     "text": [
      "iterations: 527\n",
      "Number of used features: 3\n",
      "Used features: ['num-203k-mld.nii-0.500000', 'hist-0-203k-mld.nii-0.500000', 'hist-19-203k-mld.nii-0.500000'] \n",
      "Score: -0.7719362784071356\n"
     ]
    },
    {
     "name": "stderr",
     "output_type": "stream",
     "text": [
      "200it [00:00, 908.89it/s]\n"
     ]
    },
    {
     "name": "stdout",
     "output_type": "stream",
     "text": [
      "1\n",
      "1 0.7727591275469025\n",
      "Objective LassoRegression_Objective:\n"
     ]
    },
    {
     "name": "stderr",
     "output_type": "stream",
     "text": [
      "  7%|▋         | 569/8000 [00:39<08:30, 14.55it/s]\n"
     ]
    },
    {
     "name": "stdout",
     "output_type": "stream",
     "text": [
      "iterations: 569\n",
      "Number of used features: 3\n",
      "Used features: ['num-203k-mld.nii-0.500000', 'hist-0-203k-mld.nii-0.500000', 'hist-17-203k-mld.nii-0.500000'] \n",
      "Score: -0.7702425585948347\n"
     ]
    },
    {
     "name": "stderr",
     "output_type": "stream",
     "text": [
      "200it [00:00, 597.91it/s]\n"
     ]
    },
    {
     "name": "stdout",
     "output_type": "stream",
     "text": [
      "1\n",
      "1 0.7706387941783301\n",
      "Objective RidgeRegression_Objective:\n"
     ]
    },
    {
     "name": "stderr",
     "output_type": "stream",
     "text": [
      "  7%|▋         | 527/8000 [00:28<06:44, 18.47it/s]\n"
     ]
    },
    {
     "name": "stdout",
     "output_type": "stream",
     "text": [
      "iterations: 527\n",
      "Number of used features: 3\n",
      "Used features: ['num-203k-mld.nii-0.500000', 'hist-0-203k-mld.nii-0.500000', 'hist-17-203k-mld.nii-0.500000'] \n",
      "Score: -0.7711447727548718\n"
     ]
    },
    {
     "name": "stderr",
     "output_type": "stream",
     "text": [
      "200it [00:00, 646.28it/s]\n"
     ]
    },
    {
     "name": "stdout",
     "output_type": "stream",
     "text": [
      "1\n",
      "1 0.7715647122969976\n",
      "Objective PLSRegression_Objective:\n"
     ]
    },
    {
     "name": "stderr",
     "output_type": "stream",
     "text": [
      "  9%|▊         | 697/8000 [00:42<07:27, 16.32it/s] \n"
     ]
    },
    {
     "name": "stdout",
     "output_type": "stream",
     "text": [
      "iterations: 697\n",
      "Number of used features: 3\n",
      "Used features: ['num-203k-mld.nii-0.500000', 'hist-0-203k-mld.nii-0.500000', 'hist-19-203k-mld.nii-0.500000'] \n",
      "Score: -0.7719362784071356\n"
     ]
    },
    {
     "name": "stderr",
     "output_type": "stream",
     "text": [
      "200it [00:00, 720.90it/s]\n"
     ]
    },
    {
     "name": "stdout",
     "output_type": "stream",
     "text": [
      "1\n",
      "1 0.7727591275469025\n",
      "Objective KNNR_Objective:\n"
     ]
    },
    {
     "name": "stderr",
     "output_type": "stream",
     "text": [
      " 14%|█▎        | 1089/8000 [02:24<15:16,  7.54it/s]\n"
     ]
    },
    {
     "name": "stdout",
     "output_type": "stream",
     "text": [
      "iterations: 1089\n",
      "Number of used features: 4\n",
      "Used features: ['num-204f-mld.nii-0.500000', 'sum-204f-mld.nii-0.500000', 'hist-5-204f-mld.nii-0.500000', 'hist-9-204f-mld.nii-0.500000'] \n",
      "Score: -0.6872810296243084\n"
     ]
    },
    {
     "name": "stderr",
     "output_type": "stream",
     "text": [
      "200it [00:00, 615.64it/s]\n"
     ]
    },
    {
     "name": "stdout",
     "output_type": "stream",
     "text": [
      "1\n",
      "1 0.6973671694725206\n",
      "Objective LinearRegression_Objective:\n"
     ]
    },
    {
     "name": "stderr",
     "output_type": "stream",
     "text": [
      "  8%|▊         | 625/8000 [00:16<03:12, 38.29it/s] \n"
     ]
    },
    {
     "name": "stdout",
     "output_type": "stream",
     "text": [
      "iterations: 625\n",
      "Number of used features: 7\n",
      "Used features: ['num-204f-mld.nii-0.500000', 'sum-204f-mld.nii-0.500000', 'std-204f-mld.nii-0.500000', 'hist-0-204f-mld.nii-0.500000', 'hist-1-204f-mld.nii-0.500000', 'hist-5-204f-mld.nii-0.500000', 'hist-17-204f-mld.nii-0.500000'] \n",
      "Score: -0.7528668563922776\n"
     ]
    },
    {
     "name": "stderr",
     "output_type": "stream",
     "text": [
      "200it [00:00, 1027.33it/s]\n"
     ]
    },
    {
     "name": "stdout",
     "output_type": "stream",
     "text": [
      "1\n",
      "1 0.7528711377990616\n",
      "Objective LassoRegression_Objective:\n"
     ]
    },
    {
     "name": "stderr",
     "output_type": "stream",
     "text": [
      "  8%|▊         | 638/8000 [00:49<09:35, 12.79it/s]\n"
     ]
    },
    {
     "name": "stdout",
     "output_type": "stream",
     "text": [
      "iterations: 638\n",
      "Number of used features: 7\n",
      "Used features: ['num-204f-mld.nii-0.500000', 'sum-204f-mld.nii-0.500000', 'std-204f-mld.nii-0.500000', 'hist-0-204f-mld.nii-0.500000', 'hist-1-204f-mld.nii-0.500000', 'hist-5-204f-mld.nii-0.500000', 'hist-17-204f-mld.nii-0.500000'] \n",
      "Score: -0.7528979477960933\n"
     ]
    },
    {
     "name": "stderr",
     "output_type": "stream",
     "text": [
      "200it [00:00, 353.06it/s]\n"
     ]
    },
    {
     "name": "stdout",
     "output_type": "stream",
     "text": [
      "1\n",
      "1 0.7528447968383517\n",
      "Objective RidgeRegression_Objective:\n"
     ]
    },
    {
     "name": "stderr",
     "output_type": "stream",
     "text": [
      "  7%|▋         | 549/8000 [00:33<07:35, 16.34it/s]\n"
     ]
    },
    {
     "name": "stdout",
     "output_type": "stream",
     "text": [
      "iterations: 549\n",
      "Number of used features: 7\n",
      "Used features: ['num-204f-mld.nii-0.500000', 'sum-204f-mld.nii-0.500000', 'std-204f-mld.nii-0.500000', 'hist-0-204f-mld.nii-0.500000', 'hist-1-204f-mld.nii-0.500000', 'hist-5-204f-mld.nii-0.500000', 'hist-17-204f-mld.nii-0.500000'] \n",
      "Score: -0.7544781796878777\n"
     ]
    },
    {
     "name": "stderr",
     "output_type": "stream",
     "text": [
      "200it [00:00, 633.72it/s]\n"
     ]
    },
    {
     "name": "stdout",
     "output_type": "stream",
     "text": [
      "1\n",
      "1 0.7541315318822859\n",
      "Objective PLSRegression_Objective:\n"
     ]
    },
    {
     "name": "stderr",
     "output_type": "stream",
     "text": [
      " 10%|█         | 810/8000 [00:36<05:21, 22.37it/s] \n"
     ]
    },
    {
     "name": "stdout",
     "output_type": "stream",
     "text": [
      "iterations: 810\n",
      "Number of used features: 6\n",
      "Used features: ['num-204f-mld.nii-0.500000', 'sum-204f-mld.nii-0.500000', 'mean-204f-mld.nii-0.500000', 'hist-0-204f-mld.nii-0.500000', 'hist-1-204f-mld.nii-0.500000', 'hist-11-204f-mld.nii-0.500000'] \n",
      "Score: -0.7468671394657633\n"
     ]
    },
    {
     "name": "stderr",
     "output_type": "stream",
     "text": [
      "200it [00:00, 614.67it/s]\n"
     ]
    },
    {
     "name": "stdout",
     "output_type": "stream",
     "text": [
      "1\n",
      "1 0.7454117352626103\n",
      "Objective KNNR_Objective:\n"
     ]
    },
    {
     "name": "stderr",
     "output_type": "stream",
     "text": [
      " 12%|█▏        | 953/8000 [02:06<15:33,  7.55it/s]\n"
     ]
    },
    {
     "name": "stdout",
     "output_type": "stream",
     "text": [
      "iterations: 953\n",
      "Number of used features: 6\n",
      "Used features: ['num-206k-mld.nii-0.500000', 'sum-206k-mld.nii-0.500000', 'std-206k-mld.nii-0.500000', 'skew-206k-mld.nii-0.500000', 'hist-5-206k-mld.nii-0.500000', 'hist-9-206k-mld.nii-0.500000'] \n",
      "Score: -0.639836023112351\n"
     ]
    },
    {
     "name": "stderr",
     "output_type": "stream",
     "text": [
      "200it [00:00, 548.86it/s]\n"
     ]
    },
    {
     "name": "stdout",
     "output_type": "stream",
     "text": [
      "1\n",
      "1 0.6553149649638149\n",
      "Objective LinearRegression_Objective:\n"
     ]
    },
    {
     "name": "stderr",
     "output_type": "stream",
     "text": [
      "  7%|▋         | 580/8000 [00:13<02:53, 42.77it/s] \n"
     ]
    },
    {
     "name": "stdout",
     "output_type": "stream",
     "text": [
      "iterations: 580\n",
      "Number of used features: 8\n",
      "Used features: ['num-206k-mld.nii-0.500000', 'sum-206k-mld.nii-0.500000', 'std-206k-mld.nii-0.500000', 'hist-0-206k-mld.nii-0.500000', 'hist-1-206k-mld.nii-0.500000', 'hist-8-206k-mld.nii-0.500000', 'hist-16-206k-mld.nii-0.500000', 'hist-17-206k-mld.nii-0.500000'] \n",
      "Score: -0.741263470185531\n"
     ]
    },
    {
     "name": "stderr",
     "output_type": "stream",
     "text": [
      "200it [00:00, 794.85it/s]\n"
     ]
    },
    {
     "name": "stdout",
     "output_type": "stream",
     "text": [
      "1\n",
      "1 0.7459360529247003\n",
      "Objective LassoRegression_Objective:\n"
     ]
    },
    {
     "name": "stderr",
     "output_type": "stream",
     "text": [
      " 12%|█▏        | 931/8000 [01:04<08:12, 14.35it/s]\n"
     ]
    },
    {
     "name": "stdout",
     "output_type": "stream",
     "text": [
      "iterations: 931\n",
      "Number of used features: 7\n",
      "Used features: ['num-206k-mld.nii-0.500000', 'sum-206k-mld.nii-0.500000', 'skew-206k-mld.nii-0.500000', 'kurt-206k-mld.nii-0.500000', 'hist-2-206k-mld.nii-0.500000', 'hist-8-206k-mld.nii-0.500000', 'hist-17-206k-mld.nii-0.500000'] \n",
      "Score: -0.744053005005817\n"
     ]
    },
    {
     "name": "stderr",
     "output_type": "stream",
     "text": [
      "200it [00:00, 619.30it/s]\n"
     ]
    },
    {
     "name": "stdout",
     "output_type": "stream",
     "text": [
      "1\n",
      "1 0.744505033622622\n",
      "Objective RidgeRegression_Objective:\n"
     ]
    },
    {
     "name": "stderr",
     "output_type": "stream",
     "text": [
      " 10%|█         | 810/8000 [01:01<09:07, 13.14it/s]\n"
     ]
    },
    {
     "name": "stdout",
     "output_type": "stream",
     "text": [
      "iterations: 810\n",
      "Number of used features: 8\n",
      "Used features: ['num-206k-mld.nii-0.500000', 'sum-206k-mld.nii-0.500000', 'skew-206k-mld.nii-0.500000', 'kurt-206k-mld.nii-0.500000', 'hist-0-206k-mld.nii-0.500000', 'hist-2-206k-mld.nii-0.500000', 'hist-8-206k-mld.nii-0.500000', 'hist-16-206k-mld.nii-0.500000'] \n",
      "Score: -0.7454176734789713\n"
     ]
    },
    {
     "name": "stderr",
     "output_type": "stream",
     "text": [
      "200it [00:00, 652.93it/s]\n"
     ]
    },
    {
     "name": "stdout",
     "output_type": "stream",
     "text": [
      "1\n",
      "1 0.7469200079594966\n",
      "Objective PLSRegression_Objective:\n"
     ]
    },
    {
     "name": "stderr",
     "output_type": "stream",
     "text": [
      "  8%|▊         | 632/8000 [00:32<06:24, 19.18it/s] \n"
     ]
    },
    {
     "name": "stdout",
     "output_type": "stream",
     "text": [
      "iterations: 632\n",
      "Number of used features: 6\n",
      "Used features: ['num-206k-mld.nii-0.500000', 'sum-206k-mld.nii-0.500000', 'skew-206k-mld.nii-0.500000', 'hist-2-206k-mld.nii-0.500000', 'hist-8-206k-mld.nii-0.500000', 'hist-17-206k-mld.nii-0.500000'] \n",
      "Score: -0.7437197460012197\n"
     ]
    },
    {
     "name": "stderr",
     "output_type": "stream",
     "text": [
      "200it [00:00, 538.47it/s]\n"
     ]
    },
    {
     "name": "stdout",
     "output_type": "stream",
     "text": [
      "1\n",
      "1 0.7456068779444484\n",
      "Objective KNNR_Objective:\n"
     ]
    },
    {
     "name": "stderr",
     "output_type": "stream",
     "text": [
      "  8%|▊         | 640/8000 [01:17<14:52,  8.25it/s]\n"
     ]
    },
    {
     "name": "stdout",
     "output_type": "stream",
     "text": [
      "iterations: 640\n",
      "Number of used features: 4\n",
      "Used features: ['num-208f-mld.nii-0.500000', 'hist-4-208f-mld.nii-0.500000', 'hist-6-208f-mld.nii-0.500000', 'hist-13-208f-mld.nii-0.500000'] \n",
      "Score: -0.6842444013536995\n"
     ]
    },
    {
     "name": "stderr",
     "output_type": "stream",
     "text": [
      "200it [00:00, 642.23it/s]\n"
     ]
    },
    {
     "name": "stdout",
     "output_type": "stream",
     "text": [
      "1\n",
      "1 0.6937408801655995\n",
      "Objective LinearRegression_Objective:\n"
     ]
    },
    {
     "name": "stderr",
     "output_type": "stream",
     "text": [
      "  7%|▋         | 527/8000 [00:07<01:52, 66.56it/s] \n"
     ]
    },
    {
     "name": "stdout",
     "output_type": "stream",
     "text": [
      "iterations: 527\n",
      "Number of used features: 3\n",
      "Used features: ['num-208f-mld.nii-0.500000', 'hist-0-208f-mld.nii-0.500000', 'hist-19-208f-mld.nii-0.500000'] \n",
      "Score: -0.7460448782183875\n"
     ]
    },
    {
     "name": "stderr",
     "output_type": "stream",
     "text": [
      "200it [00:00, 958.81it/s] \n"
     ]
    },
    {
     "name": "stdout",
     "output_type": "stream",
     "text": [
      "1\n",
      "1 0.7455367706835487\n",
      "Objective LassoRegression_Objective:\n"
     ]
    },
    {
     "name": "stderr",
     "output_type": "stream",
     "text": [
      "  8%|▊         | 635/8000 [00:44<08:35, 14.28it/s]\n"
     ]
    },
    {
     "name": "stdout",
     "output_type": "stream",
     "text": [
      "iterations: 635\n",
      "Number of used features: 3\n",
      "Used features: ['num-208f-mld.nii-0.500000', 'hist-0-208f-mld.nii-0.500000', 'hist-15-208f-mld.nii-0.500000'] \n",
      "Score: -0.7481343398592024\n"
     ]
    },
    {
     "name": "stderr",
     "output_type": "stream",
     "text": [
      "200it [00:00, 612.38it/s]\n"
     ]
    },
    {
     "name": "stdout",
     "output_type": "stream",
     "text": [
      "1\n",
      "1 0.7476802590357257\n",
      "Objective RidgeRegression_Objective:\n"
     ]
    },
    {
     "name": "stderr",
     "output_type": "stream",
     "text": [
      "  7%|▋         | 527/8000 [00:29<06:56, 17.93it/s]\n"
     ]
    },
    {
     "name": "stdout",
     "output_type": "stream",
     "text": [
      "iterations: 527\n",
      "Number of used features: 3\n",
      "Used features: ['num-208f-mld.nii-0.500000', 'hist-0-208f-mld.nii-0.500000', 'hist-12-208f-mld.nii-0.500000'] \n",
      "Score: -0.7451566702068233\n"
     ]
    },
    {
     "name": "stderr",
     "output_type": "stream",
     "text": [
      "200it [00:00, 640.68it/s]\n"
     ]
    },
    {
     "name": "stdout",
     "output_type": "stream",
     "text": [
      "1\n",
      "1 0.744785148432781\n",
      "Objective PLSRegression_Objective:\n"
     ]
    },
    {
     "name": "stderr",
     "output_type": "stream",
     "text": [
      "  7%|▋         | 547/8000 [00:23<05:18, 23.43it/s] \n"
     ]
    },
    {
     "name": "stdout",
     "output_type": "stream",
     "text": [
      "iterations: 547\n",
      "Number of used features: 7\n",
      "Used features: ['num-208f-mld.nii-0.500000', 'sum-208f-mld.nii-0.500000', 'hist-4-208f-mld.nii-0.500000', 'hist-6-208f-mld.nii-0.500000', 'hist-8-208f-mld.nii-0.500000', 'hist-17-208f-mld.nii-0.500000', 'hist-19-208f-mld.nii-0.500000'] \n",
      "Score: -0.7566551202866331\n"
     ]
    },
    {
     "name": "stderr",
     "output_type": "stream",
     "text": [
      "200it [00:00, 755.39it/s]"
     ]
    },
    {
     "name": "stdout",
     "output_type": "stream",
     "text": [
      "1\n",
      "1 0.7576685751132525\n"
     ]
    },
    {
     "name": "stderr",
     "output_type": "stream",
     "text": [
      "\n"
     ]
    }
   ],
   "source": [
    "for m in masks:\n",
    "    results.append(model_selection(mld_features[[c for c in mld_features.columns if m in c or c == 'type']], mld_target, dataset='mld', type=m))"
   ]
  },
  {
   "cell_type": "markdown",
   "metadata": {},
   "source": [
    "### Hinds using all features"
   ]
  },
  {
   "cell_type": "code",
   "execution_count": 11,
   "metadata": {},
   "outputs": [
    {
     "name": "stdout",
     "output_type": "stream",
     "text": [
      "Objective KNNR_Objective:\n"
     ]
    },
    {
     "name": "stderr",
     "output_type": "stream",
     "text": [
      " 33%|███▎      | 2623/8000 [10:55<22:23,  4.00it/s]  \n"
     ]
    },
    {
     "name": "stdout",
     "output_type": "stream",
     "text": [
      "iterations: 2623\n",
      "Number of used features: 32\n",
      "Used features: ['num-203a-hinds.nii-0.500000', 'std-203a-hinds.nii-0.500000', 'skew-203a-hinds.nii-0.500000', 'hist-5-203a-hinds.nii-0.500000', 'hist-19-203a-hinds.nii-0.500000', 'num-203k-hinds.nii-0.500000', 'skew-203k-hinds.nii-0.500000', 'hist-1-203k-hinds.nii-0.500000', 'hist-10-203k-hinds.nii-0.500000', 'num-204f-hinds.nii-0.500000', 'hist-1-204f-hinds.nii-0.500000', 'hist-5-204f-hinds.nii-0.500000', 'hist-18-204f-hinds.nii-0.500000', 'num-206k-hinds.nii-0.500000', 'sum-206k-hinds.nii-0.500000', 'hist-1-206k-hinds.nii-0.500000', 'hist-5-206k-hinds.nii-0.500000', 'hist-14-206k-hinds.nii-0.500000', 'num-208f-hinds.nii-0.500000', 'sum-208f-hinds.nii-0.500000', 'hist-1-208f-hinds.nii-0.500000', 'hist-4-208f-hinds.nii-0.500000', 'hist-8-208f-hinds.nii-0.500000', 'hist-9-208f-hinds.nii-0.500000', 'hist-10-208f-hinds.nii-0.500000', 'hist-12-208f-hinds.nii-0.500000', 'hist-15-208f-hinds.nii-0.500000', 'hist-17-208f-hinds.nii-0.500000', 'num-0.500000-mean_mask', 'hist-2-0.500000-mean_mask', 'hist-5-0.500000-mean_mask', 'hist-15-0.500000-mean_mask'] \n",
      "Score: -0.8133232180931792\n"
     ]
    },
    {
     "name": "stderr",
     "output_type": "stream",
     "text": [
      "200it [00:00, 742.19it/s]\n"
     ]
    },
    {
     "name": "stdout",
     "output_type": "stream",
     "text": [
      "1\n",
      "1 0.8274972823962661\n",
      "Objective LinearRegression_Objective:\n"
     ]
    },
    {
     "name": "stderr",
     "output_type": "stream",
     "text": [
      " 22%|██▏       | 1775/8000 [03:25<12:01,  8.63it/s]\n"
     ]
    },
    {
     "name": "stdout",
     "output_type": "stream",
     "text": [
      "iterations: 1775\n",
      "Number of used features: 23\n",
      "Used features: ['num-203a-hinds.nii-0.500000', 'std-203a-hinds.nii-0.500000', 'hist-1-203a-hinds.nii-0.500000', 'hist-10-203a-hinds.nii-0.500000', 'hist-14-203a-hinds.nii-0.500000', 'hist-18-203a-hinds.nii-0.500000', 'hist-8-203k-hinds.nii-0.500000', 'hist-11-203k-hinds.nii-0.500000', 'hist-3-204f-hinds.nii-0.500000', 'hist-8-204f-hinds.nii-0.500000', 'hist-12-204f-hinds.nii-0.500000', 'hist-11-206k-hinds.nii-0.500000', 'hist-12-206k-hinds.nii-0.500000', 'hist-15-206k-hinds.nii-0.500000', 'hist-16-206k-hinds.nii-0.500000', 'std-208f-hinds.nii-0.500000', 'hist-6-208f-hinds.nii-0.500000', 'hist-7-208f-hinds.nii-0.500000', 'hist-10-208f-hinds.nii-0.500000', 'hist-13-208f-hinds.nii-0.500000', 'hist-10-0.500000-mean_mask', 'hist-13-0.500000-mean_mask', 'hist-15-0.500000-mean_mask'] \n",
      "Score: -0.8956925764350634\n"
     ]
    },
    {
     "name": "stderr",
     "output_type": "stream",
     "text": [
      "200it [00:00, 305.04it/s]\n"
     ]
    },
    {
     "name": "stdout",
     "output_type": "stream",
     "text": [
      "1\n",
      "1 0.8969696778558629\n",
      "Objective LassoRegression_Objective:\n"
     ]
    },
    {
     "name": "stderr",
     "output_type": "stream",
     "text": [
      " 18%|█▊        | 1472/8000 [07:51<34:51,  3.12it/s]  \n"
     ]
    },
    {
     "name": "stdout",
     "output_type": "stream",
     "text": [
      "iterations: 1472\n",
      "Number of used features: 18\n",
      "Used features: ['num-203a-hinds.nii-0.500000', 'std-203a-hinds.nii-0.500000', 'hist-13-203a-hinds.nii-0.500000', 'hist-16-203a-hinds.nii-0.500000', 'hist-1-203k-hinds.nii-0.500000', 'hist-8-203k-hinds.nii-0.500000', 'hist-6-204f-hinds.nii-0.500000', 'hist-8-204f-hinds.nii-0.500000', 'hist-15-204f-hinds.nii-0.500000', 'hist-12-206k-hinds.nii-0.500000', 'hist-13-206k-hinds.nii-0.500000', 'hist-15-206k-hinds.nii-0.500000', 'std-208f-hinds.nii-0.500000', 'hist-0-208f-hinds.nii-0.500000', 'hist-7-208f-hinds.nii-0.500000', 'hist-13-208f-hinds.nii-0.500000', 'hist-16-208f-hinds.nii-0.500000', 'hist-15-0.500000-mean_mask'] \n",
      "Score: -0.8892596222719551\n"
     ]
    },
    {
     "name": "stderr",
     "output_type": "stream",
     "text": [
      "200it [00:01, 166.33it/s]\n"
     ]
    },
    {
     "name": "stdout",
     "output_type": "stream",
     "text": [
      "1\n",
      "1 0.8901659756762291\n",
      "Objective RidgeRegression_Objective:\n"
     ]
    },
    {
     "name": "stderr",
     "output_type": "stream",
     "text": [
      " 51%|█████     | 4046/8000 [12:01<11:44,  5.61it/s]\n"
     ]
    },
    {
     "name": "stdout",
     "output_type": "stream",
     "text": [
      "iterations: 4046\n",
      "Number of used features: 28\n",
      "Used features: ['std-203a-hinds.nii-0.500000', 'hist-6-203a-hinds.nii-0.500000', 'hist-10-203a-hinds.nii-0.500000', 'hist-12-203a-hinds.nii-0.500000', 'hist-13-203a-hinds.nii-0.500000', 'hist-15-203a-hinds.nii-0.500000', 'hist-18-203a-hinds.nii-0.500000', 'sum-204f-hinds.nii-0.500000', 'hist-1-204f-hinds.nii-0.500000', 'hist-6-204f-hinds.nii-0.500000', 'hist-12-204f-hinds.nii-0.500000', 'hist-4-206k-hinds.nii-0.500000', 'hist-6-206k-hinds.nii-0.500000', 'hist-12-206k-hinds.nii-0.500000', 'hist-14-206k-hinds.nii-0.500000', 'hist-15-206k-hinds.nii-0.500000', 'std-208f-hinds.nii-0.500000', 'hist-5-208f-hinds.nii-0.500000', 'hist-7-208f-hinds.nii-0.500000', 'hist-13-208f-hinds.nii-0.500000', 'hist-17-208f-hinds.nii-0.500000', 'mean-0.500000-mean_mask', 'hist-6-0.500000-mean_mask', 'hist-9-0.500000-mean_mask', 'hist-10-0.500000-mean_mask', 'hist-12-0.500000-mean_mask', 'hist-17-0.500000-mean_mask', 'hist-18-0.500000-mean_mask'] \n",
      "Score: -0.8973211200753476\n"
     ]
    },
    {
     "name": "stderr",
     "output_type": "stream",
     "text": [
      "200it [00:00, 490.96it/s]\n"
     ]
    },
    {
     "name": "stdout",
     "output_type": "stream",
     "text": [
      "1\n",
      "1 0.8987579256835596\n",
      "Objective PLSRegression_Objective:\n"
     ]
    },
    {
     "name": "stderr",
     "output_type": "stream",
     "text": [
      " 17%|█▋        | 1346/8000 [04:36<22:45,  4.87it/s]\n"
     ]
    },
    {
     "name": "stdout",
     "output_type": "stream",
     "text": [
      "iterations: 1346\n",
      "Number of used features: 39\n",
      "Used features: ['num-203a-hinds.nii-0.500000', 'std-203a-hinds.nii-0.500000', 'hist-6-203a-hinds.nii-0.500000', 'hist-12-203a-hinds.nii-0.500000', 'hist-13-203a-hinds.nii-0.500000', 'hist-18-203a-hinds.nii-0.500000', 'skew-203k-hinds.nii-0.500000', 'kurt-203k-hinds.nii-0.500000', 'hist-1-203k-hinds.nii-0.500000', 'hist-3-203k-hinds.nii-0.500000', 'hist-6-203k-hinds.nii-0.500000', 'hist-9-203k-hinds.nii-0.500000', 'hist-10-203k-hinds.nii-0.500000', 'hist-1-204f-hinds.nii-0.500000', 'hist-3-204f-hinds.nii-0.500000', 'hist-9-204f-hinds.nii-0.500000', 'hist-10-204f-hinds.nii-0.500000', 'hist-14-204f-hinds.nii-0.500000', 'hist-15-204f-hinds.nii-0.500000', 'hist-16-204f-hinds.nii-0.500000', 'num-206k-hinds.nii-0.500000', 'hist-5-206k-hinds.nii-0.500000', 'hist-10-206k-hinds.nii-0.500000', 'hist-11-206k-hinds.nii-0.500000', 'hist-12-206k-hinds.nii-0.500000', 'hist-15-206k-hinds.nii-0.500000', 'hist-2-208f-hinds.nii-0.500000', 'hist-4-208f-hinds.nii-0.500000', 'hist-6-208f-hinds.nii-0.500000', 'hist-9-208f-hinds.nii-0.500000', 'hist-10-208f-hinds.nii-0.500000', 'hist-5-0.500000-mean_mask', 'hist-6-0.500000-mean_mask', 'hist-9-0.500000-mean_mask', 'hist-10-0.500000-mean_mask', 'hist-13-0.500000-mean_mask', 'hist-14-0.500000-mean_mask', 'hist-17-0.500000-mean_mask', 'hist-18-0.500000-mean_mask'] \n",
      "Score: -0.8857883270516698\n"
     ]
    },
    {
     "name": "stderr",
     "output_type": "stream",
     "text": [
      "200it [00:00, 429.67it/s]"
     ]
    },
    {
     "name": "stdout",
     "output_type": "stream",
     "text": [
      "1\n",
      "1 0.8871741717478543\n"
     ]
    },
    {
     "name": "stderr",
     "output_type": "stream",
     "text": [
      "\n"
     ]
    }
   ],
   "source": [
    "results.append(model_selection(hinds_features, hinds_target, dataset='hinds', type='all'))"
   ]
  },
  {
   "cell_type": "markdown",
   "metadata": {},
   "source": [
    "### Hinds using the mean mask features"
   ]
  },
  {
   "cell_type": "code",
   "execution_count": 12,
   "metadata": {},
   "outputs": [
    {
     "name": "stdout",
     "output_type": "stream",
     "text": [
      "Objective KNNR_Objective:\n"
     ]
    },
    {
     "name": "stderr",
     "output_type": "stream",
     "text": [
      "  7%|▋         | 569/8000 [01:09<15:06,  8.19it/s]\n"
     ]
    },
    {
     "name": "stdout",
     "output_type": "stream",
     "text": [
      "iterations: 569\n",
      "Number of used features: 1\n",
      "Used features: ['num-0.500000-mean_mask'] \n",
      "Score: -0.8188194223073894\n"
     ]
    },
    {
     "name": "stderr",
     "output_type": "stream",
     "text": [
      "200it [00:00, 522.76it/s]\n"
     ]
    },
    {
     "name": "stdout",
     "output_type": "stream",
     "text": [
      "1\n",
      "1 0.8245802370437967\n",
      "Objective LinearRegression_Objective:\n"
     ]
    },
    {
     "name": "stderr",
     "output_type": "stream",
     "text": [
      "  7%|▋         | 524/8000 [00:08<02:07, 58.51it/s] \n"
     ]
    },
    {
     "name": "stdout",
     "output_type": "stream",
     "text": [
      "iterations: 524\n",
      "Number of used features: 5\n",
      "Used features: ['num-0.500000-mean_mask', 'std-0.500000-mean_mask', 'hist-4-0.500000-mean_mask', 'hist-15-0.500000-mean_mask', 'hist-17-0.500000-mean_mask'] \n",
      "Score: -0.8767800171231783\n"
     ]
    },
    {
     "name": "stderr",
     "output_type": "stream",
     "text": [
      "200it [00:00, 760.86it/s]\n"
     ]
    },
    {
     "name": "stdout",
     "output_type": "stream",
     "text": [
      "1\n",
      "1 0.8789484682518847\n",
      "Objective LassoRegression_Objective:\n"
     ]
    },
    {
     "name": "stderr",
     "output_type": "stream",
     "text": [
      "  8%|▊         | 638/8000 [00:49<09:36, 12.78it/s]\n"
     ]
    },
    {
     "name": "stdout",
     "output_type": "stream",
     "text": [
      "iterations: 638\n",
      "Number of used features: 4\n",
      "Used features: ['num-0.500000-mean_mask', 'sum-0.500000-mean_mask', 'hist-2-0.500000-mean_mask', 'hist-4-0.500000-mean_mask'] \n",
      "Score: -0.8787295392787154\n"
     ]
    },
    {
     "name": "stderr",
     "output_type": "stream",
     "text": [
      "200it [00:00, 509.98it/s]\n"
     ]
    },
    {
     "name": "stdout",
     "output_type": "stream",
     "text": [
      "1\n",
      "1 0.8809298595222672\n",
      "Objective RidgeRegression_Objective:\n"
     ]
    },
    {
     "name": "stderr",
     "output_type": "stream",
     "text": [
      "  8%|▊         | 679/8000 [00:53<09:35, 12.73it/s]\n"
     ]
    },
    {
     "name": "stdout",
     "output_type": "stream",
     "text": [
      "iterations: 679\n",
      "Number of used features: 8\n",
      "Used features: ['num-0.500000-mean_mask', 'std-0.500000-mean_mask', 'hist-1-0.500000-mean_mask', 'hist-4-0.500000-mean_mask', 'hist-6-0.500000-mean_mask', 'hist-9-0.500000-mean_mask', 'hist-14-0.500000-mean_mask', 'hist-17-0.500000-mean_mask'] \n",
      "Score: -0.879165405742368\n"
     ]
    },
    {
     "name": "stderr",
     "output_type": "stream",
     "text": [
      "200it [00:00, 630.25it/s]\n"
     ]
    },
    {
     "name": "stdout",
     "output_type": "stream",
     "text": [
      "1\n",
      "1 0.8816444625887138\n",
      "Objective PLSRegression_Objective:\n"
     ]
    },
    {
     "name": "stderr",
     "output_type": "stream",
     "text": [
      "  8%|▊         | 679/8000 [00:40<07:13, 16.88it/s] \n"
     ]
    },
    {
     "name": "stdout",
     "output_type": "stream",
     "text": [
      "iterations: 679\n",
      "Number of used features: 6\n",
      "Used features: ['num-0.500000-mean_mask', 'std-0.500000-mean_mask', 'hist-2-0.500000-mean_mask', 'hist-6-0.500000-mean_mask', 'hist-15-0.500000-mean_mask', 'hist-17-0.500000-mean_mask'] \n",
      "Score: -0.8806667710754289\n"
     ]
    },
    {
     "name": "stderr",
     "output_type": "stream",
     "text": [
      "200it [00:00, 476.27it/s]"
     ]
    },
    {
     "name": "stdout",
     "output_type": "stream",
     "text": [
      "1\n",
      "1 0.8829935408140714\n"
     ]
    },
    {
     "name": "stderr",
     "output_type": "stream",
     "text": [
      "\n"
     ]
    }
   ],
   "source": [
    "results.append(model_selection(hinds_features[[c for c in hinds_features.columns if 'mean_mask' in c or c == 'type']], hinds_target, dataset='hinds', type='mean_mask'))"
   ]
  },
  {
   "cell_type": "markdown",
   "metadata": {},
   "source": [
    "### Hinds using the features of the individual masks"
   ]
  },
  {
   "cell_type": "code",
   "execution_count": 13,
   "metadata": {},
   "outputs": [
    {
     "name": "stdout",
     "output_type": "stream",
     "text": [
      "Objective KNNR_Objective:\n"
     ]
    },
    {
     "name": "stderr",
     "output_type": "stream",
     "text": [
      "  7%|▋         | 568/8000 [01:08<15:00,  8.25it/s]\n"
     ]
    },
    {
     "name": "stdout",
     "output_type": "stream",
     "text": [
      "iterations: 568\n",
      "Number of used features: 1\n",
      "Used features: ['num-203a-hinds.nii-0.500000'] \n",
      "Score: -0.8278147199537625\n"
     ]
    },
    {
     "name": "stderr",
     "output_type": "stream",
     "text": [
      "200it [00:00, 642.02it/s]\n"
     ]
    },
    {
     "name": "stdout",
     "output_type": "stream",
     "text": [
      "1\n",
      "1 0.8360554777720873\n",
      "Objective LinearRegression_Objective:\n"
     ]
    },
    {
     "name": "stderr",
     "output_type": "stream",
     "text": [
      "  7%|▋         | 558/8000 [00:11<02:38, 46.91it/s] \n"
     ]
    },
    {
     "name": "stdout",
     "output_type": "stream",
     "text": [
      "iterations: 558\n",
      "Number of used features: 6\n",
      "Used features: ['num-203a-hinds.nii-0.500000', 'std-203a-hinds.nii-0.500000', 'hist-0-203a-hinds.nii-0.500000', 'hist-1-203a-hinds.nii-0.500000', 'hist-4-203a-hinds.nii-0.500000', 'hist-18-203a-hinds.nii-0.500000'] \n",
      "Score: -0.8784936388446942\n"
     ]
    },
    {
     "name": "stderr",
     "output_type": "stream",
     "text": [
      "200it [00:00, 868.09it/s]\n"
     ]
    },
    {
     "name": "stdout",
     "output_type": "stream",
     "text": [
      "1\n",
      "1 0.8806549448295948\n",
      "Objective LassoRegression_Objective:\n"
     ]
    },
    {
     "name": "stderr",
     "output_type": "stream",
     "text": [
      "  9%|▉         | 725/8000 [01:10<11:46, 10.30it/s]\n"
     ]
    },
    {
     "name": "stdout",
     "output_type": "stream",
     "text": [
      "iterations: 725\n",
      "Number of used features: 8\n",
      "Used features: ['num-203a-hinds.nii-0.500000', 'std-203a-hinds.nii-0.500000', 'hist-2-203a-hinds.nii-0.500000', 'hist-6-203a-hinds.nii-0.500000', 'hist-12-203a-hinds.nii-0.500000', 'hist-13-203a-hinds.nii-0.500000', 'hist-15-203a-hinds.nii-0.500000', 'hist-18-203a-hinds.nii-0.500000'] \n",
      "Score: -0.8837362129172132\n"
     ]
    },
    {
     "name": "stderr",
     "output_type": "stream",
     "text": [
      "200it [00:00, 413.58it/s]\n"
     ]
    },
    {
     "name": "stdout",
     "output_type": "stream",
     "text": [
      "1\n",
      "1 0.8857459523688855\n",
      "Objective RidgeRegression_Objective:\n"
     ]
    },
    {
     "name": "stderr",
     "output_type": "stream",
     "text": [
      "  8%|▊         | 664/8000 [00:53<09:55, 12.32it/s]\n"
     ]
    },
    {
     "name": "stdout",
     "output_type": "stream",
     "text": [
      "iterations: 664\n",
      "Number of used features: 11\n",
      "Used features: ['num-203a-hinds.nii-0.500000', 'std-203a-hinds.nii-0.500000', 'hist-1-203a-hinds.nii-0.500000', 'hist-4-203a-hinds.nii-0.500000', 'hist-6-203a-hinds.nii-0.500000', 'hist-9-203a-hinds.nii-0.500000', 'hist-10-203a-hinds.nii-0.500000', 'hist-12-203a-hinds.nii-0.500000', 'hist-13-203a-hinds.nii-0.500000', 'hist-15-203a-hinds.nii-0.500000', 'hist-18-203a-hinds.nii-0.500000'] \n",
      "Score: -0.8829579184379721\n"
     ]
    },
    {
     "name": "stderr",
     "output_type": "stream",
     "text": [
      "200it [00:00, 553.67it/s]\n"
     ]
    },
    {
     "name": "stdout",
     "output_type": "stream",
     "text": [
      "1\n",
      "1 0.8845112570133168\n",
      "Objective PLSRegression_Objective:\n"
     ]
    },
    {
     "name": "stderr",
     "output_type": "stream",
     "text": [
      "  9%|▉         | 711/8000 [00:42<07:14, 16.79it/s]\n"
     ]
    },
    {
     "name": "stdout",
     "output_type": "stream",
     "text": [
      "iterations: 711\n",
      "Number of used features: 4\n",
      "Used features: ['num-203a-hinds.nii-0.500000', 'sum-203a-hinds.nii-0.500000', 'hist-3-203a-hinds.nii-0.500000', 'hist-4-203a-hinds.nii-0.500000'] \n",
      "Score: -0.8789864595351945\n"
     ]
    },
    {
     "name": "stderr",
     "output_type": "stream",
     "text": [
      "200it [00:00, 542.69it/s]\n"
     ]
    },
    {
     "name": "stdout",
     "output_type": "stream",
     "text": [
      "1\n",
      "1 0.880844277573697\n",
      "Objective KNNR_Objective:\n"
     ]
    },
    {
     "name": "stderr",
     "output_type": "stream",
     "text": [
      " 11%|█         | 895/8000 [01:43<13:38,  8.68it/s]\n"
     ]
    },
    {
     "name": "stdout",
     "output_type": "stream",
     "text": [
      "iterations: 895\n",
      "Number of used features: 2\n",
      "Used features: ['num-203k-hinds.nii-0.500000', 'hist-0-203k-hinds.nii-0.500000'] \n",
      "Score: -0.8130616862080807\n"
     ]
    },
    {
     "name": "stderr",
     "output_type": "stream",
     "text": [
      "200it [00:00, 679.43it/s]\n"
     ]
    },
    {
     "name": "stdout",
     "output_type": "stream",
     "text": [
      "1\n",
      "1 0.8269590447942303\n",
      "Objective LinearRegression_Objective:\n"
     ]
    },
    {
     "name": "stderr",
     "output_type": "stream",
     "text": [
      "  6%|▋         | 510/8000 [00:06<01:30, 82.31it/s] \n"
     ]
    },
    {
     "name": "stdout",
     "output_type": "stream",
     "text": [
      "iterations: 510\n",
      "Number of used features: 3\n",
      "Used features: ['num-203k-hinds.nii-0.500000', 'std-203k-hinds.nii-0.500000', 'hist-4-203k-hinds.nii-0.500000'] \n",
      "Score: -0.8737587563027169\n"
     ]
    },
    {
     "name": "stderr",
     "output_type": "stream",
     "text": [
      "200it [00:00, 1037.66it/s]\n"
     ]
    },
    {
     "name": "stdout",
     "output_type": "stream",
     "text": [
      "1\n",
      "1 0.8754979857373973\n",
      "Objective LassoRegression_Objective:\n"
     ]
    },
    {
     "name": "stderr",
     "output_type": "stream",
     "text": [
      "  9%|▉         | 758/8000 [01:02<09:58, 12.10it/s]\n"
     ]
    },
    {
     "name": "stdout",
     "output_type": "stream",
     "text": [
      "iterations: 758\n",
      "Number of used features: 4\n",
      "Used features: ['num-203k-hinds.nii-0.500000', 'std-203k-hinds.nii-0.500000', 'hist-2-203k-hinds.nii-0.500000', 'hist-6-203k-hinds.nii-0.500000'] \n",
      "Score: -0.8763633745903683\n"
     ]
    },
    {
     "name": "stderr",
     "output_type": "stream",
     "text": [
      "200it [00:00, 556.08it/s]\n"
     ]
    },
    {
     "name": "stdout",
     "output_type": "stream",
     "text": [
      "1\n",
      "1 0.8790120024104834\n",
      "Objective RidgeRegression_Objective:\n"
     ]
    },
    {
     "name": "stderr",
     "output_type": "stream",
     "text": [
      "  7%|▋         | 583/8000 [00:36<07:38, 16.19it/s]\n"
     ]
    },
    {
     "name": "stdout",
     "output_type": "stream",
     "text": [
      "iterations: 583\n",
      "Number of used features: 4\n",
      "Used features: ['num-203k-hinds.nii-0.500000', 'std-203k-hinds.nii-0.500000', 'hist-2-203k-hinds.nii-0.500000', 'hist-6-203k-hinds.nii-0.500000'] \n",
      "Score: -0.8767765123216033\n"
     ]
    },
    {
     "name": "stderr",
     "output_type": "stream",
     "text": [
      "200it [00:00, 637.53it/s]\n"
     ]
    },
    {
     "name": "stdout",
     "output_type": "stream",
     "text": [
      "1\n",
      "1 0.8792129421366812\n",
      "Objective PLSRegression_Objective:\n"
     ]
    },
    {
     "name": "stderr",
     "output_type": "stream",
     "text": [
      "  9%|▉         | 711/8000 [00:40<06:59, 17.38it/s]\n"
     ]
    },
    {
     "name": "stdout",
     "output_type": "stream",
     "text": [
      "iterations: 711\n",
      "Number of used features: 7\n",
      "Used features: ['num-203k-hinds.nii-0.500000', 'sum-203k-hinds.nii-0.500000', 'mean-203k-hinds.nii-0.500000', 'kurt-203k-hinds.nii-0.500000', 'hist-2-203k-hinds.nii-0.500000', 'hist-5-203k-hinds.nii-0.500000', 'hist-6-203k-hinds.nii-0.500000'] \n",
      "Score: -0.8768263373489074\n"
     ]
    },
    {
     "name": "stderr",
     "output_type": "stream",
     "text": [
      "200it [00:00, 538.98it/s]\n"
     ]
    },
    {
     "name": "stdout",
     "output_type": "stream",
     "text": [
      "1\n",
      "1 0.8782812452518183\n",
      "Objective KNNR_Objective:\n"
     ]
    },
    {
     "name": "stderr",
     "output_type": "stream",
     "text": [
      " 11%|█         | 882/8000 [01:48<14:36,  8.12it/s]\n"
     ]
    },
    {
     "name": "stdout",
     "output_type": "stream",
     "text": [
      "iterations: 882\n",
      "Number of used features: 2\n",
      "Used features: ['num-204f-hinds.nii-0.500000', 'hist-0-204f-hinds.nii-0.500000'] \n",
      "Score: -0.8106455061255946\n"
     ]
    },
    {
     "name": "stderr",
     "output_type": "stream",
     "text": [
      "200it [00:00, 713.66it/s]\n"
     ]
    },
    {
     "name": "stdout",
     "output_type": "stream",
     "text": [
      "1\n",
      "1 0.8196601342094352\n",
      "Objective LinearRegression_Objective:\n"
     ]
    },
    {
     "name": "stderr",
     "output_type": "stream",
     "text": [
      "  6%|▋         | 510/8000 [00:06<01:32, 80.60it/s] \n"
     ]
    },
    {
     "name": "stdout",
     "output_type": "stream",
     "text": [
      "iterations: 510\n",
      "Number of used features: 3\n",
      "Used features: ['num-204f-hinds.nii-0.500000', 'std-204f-hinds.nii-0.500000', 'hist-4-204f-hinds.nii-0.500000'] \n",
      "Score: -0.8683728674930686\n"
     ]
    },
    {
     "name": "stderr",
     "output_type": "stream",
     "text": [
      "200it [00:00, 987.23it/s] \n"
     ]
    },
    {
     "name": "stdout",
     "output_type": "stream",
     "text": [
      "1\n",
      "1 0.8699631862232029\n",
      "Objective LassoRegression_Objective:\n"
     ]
    },
    {
     "name": "stderr",
     "output_type": "stream",
     "text": [
      "  7%|▋         | 542/8000 [00:35<08:15, 15.07it/s]\n"
     ]
    },
    {
     "name": "stdout",
     "output_type": "stream",
     "text": [
      "iterations: 542\n",
      "Number of used features: 5\n",
      "Used features: ['num-204f-hinds.nii-0.500000', 'sum-204f-hinds.nii-0.500000', 'hist-2-204f-hinds.nii-0.500000', 'hist-4-204f-hinds.nii-0.500000', 'hist-15-204f-hinds.nii-0.500000'] \n",
      "Score: -0.8763939776465732\n"
     ]
    },
    {
     "name": "stderr",
     "output_type": "stream",
     "text": [
      "200it [00:00, 558.07it/s]\n"
     ]
    },
    {
     "name": "stdout",
     "output_type": "stream",
     "text": [
      "1\n",
      "1 0.8785163309809078\n",
      "Objective RidgeRegression_Objective:\n"
     ]
    },
    {
     "name": "stderr",
     "output_type": "stream",
     "text": [
      "  7%|▋         | 583/8000 [00:37<07:59, 15.48it/s]\n"
     ]
    },
    {
     "name": "stdout",
     "output_type": "stream",
     "text": [
      "iterations: 583\n",
      "Number of used features: 4\n",
      "Used features: ['num-204f-hinds.nii-0.500000', 'sum-204f-hinds.nii-0.500000', 'hist-2-204f-hinds.nii-0.500000', 'hist-6-204f-hinds.nii-0.500000'] \n",
      "Score: -0.8782124521513103\n"
     ]
    },
    {
     "name": "stderr",
     "output_type": "stream",
     "text": [
      "200it [00:00, 611.41it/s]\n"
     ]
    },
    {
     "name": "stdout",
     "output_type": "stream",
     "text": [
      "1\n",
      "1 0.8807966039115703\n",
      "Objective PLSRegression_Objective:\n"
     ]
    },
    {
     "name": "stderr",
     "output_type": "stream",
     "text": [
      " 18%|█▊        | 1454/8000 [01:13<05:28, 19.91it/s] \n"
     ]
    },
    {
     "name": "stdout",
     "output_type": "stream",
     "text": [
      "iterations: 1454\n",
      "Number of used features: 8\n",
      "Used features: ['num-204f-hinds.nii-0.500000', 'mean-204f-hinds.nii-0.500000', 'hist-2-204f-hinds.nii-0.500000', 'hist-3-204f-hinds.nii-0.500000', 'hist-6-204f-hinds.nii-0.500000', 'hist-11-204f-hinds.nii-0.500000', 'hist-14-204f-hinds.nii-0.500000', 'hist-15-204f-hinds.nii-0.500000'] \n",
      "Score: -0.8797181593671044\n"
     ]
    },
    {
     "name": "stderr",
     "output_type": "stream",
     "text": [
      "200it [00:00, 646.66it/s]\n"
     ]
    },
    {
     "name": "stdout",
     "output_type": "stream",
     "text": [
      "1\n",
      "1 0.8811941262976004\n",
      "Objective KNNR_Objective:\n"
     ]
    },
    {
     "name": "stderr",
     "output_type": "stream",
     "text": [
      " 13%|█▎        | 1005/8000 [02:05<14:36,  7.98it/s]\n"
     ]
    },
    {
     "name": "stdout",
     "output_type": "stream",
     "text": [
      "iterations: 1005\n",
      "Number of used features: 3\n",
      "Used features: ['num-206k-hinds.nii-0.500000', 'hist-0-206k-hinds.nii-0.500000', 'hist-5-206k-hinds.nii-0.500000'] \n",
      "Score: -0.8027132741938092\n"
     ]
    },
    {
     "name": "stderr",
     "output_type": "stream",
     "text": [
      "200it [00:00, 730.52it/s]\n"
     ]
    },
    {
     "name": "stdout",
     "output_type": "stream",
     "text": [
      "1\n",
      "1 0.8136344339612089\n",
      "Objective LinearRegression_Objective:\n"
     ]
    },
    {
     "name": "stderr",
     "output_type": "stream",
     "text": [
      "  6%|▋         | 510/8000 [00:06<01:35, 78.20it/s] \n"
     ]
    },
    {
     "name": "stdout",
     "output_type": "stream",
     "text": [
      "iterations: 510\n",
      "Number of used features: 4\n",
      "Used features: ['num-206k-hinds.nii-0.500000', 'std-206k-hinds.nii-0.500000', 'hist-4-206k-hinds.nii-0.500000', 'hist-19-206k-hinds.nii-0.500000'] \n",
      "Score: -0.8711164984708777\n"
     ]
    },
    {
     "name": "stderr",
     "output_type": "stream",
     "text": [
      "200it [00:00, 857.17it/s]\n"
     ]
    },
    {
     "name": "stdout",
     "output_type": "stream",
     "text": [
      "1\n",
      "1 0.8720747744972674\n",
      "Objective LassoRegression_Objective:\n"
     ]
    },
    {
     "name": "stderr",
     "output_type": "stream",
     "text": [
      " 12%|█▏        | 937/8000 [00:55<06:59, 16.85it/s]\n"
     ]
    },
    {
     "name": "stdout",
     "output_type": "stream",
     "text": [
      "iterations: 937\n",
      "Number of used features: 4\n",
      "Used features: ['num-206k-hinds.nii-0.500000', 'sum-206k-hinds.nii-0.500000', 'hist-2-206k-hinds.nii-0.500000', 'hist-4-206k-hinds.nii-0.500000'] \n",
      "Score: -0.8767089333120643\n"
     ]
    },
    {
     "name": "stderr",
     "output_type": "stream",
     "text": [
      "200it [00:00, 570.84it/s]\n"
     ]
    },
    {
     "name": "stdout",
     "output_type": "stream",
     "text": [
      "1\n",
      "1 0.8786222599784355\n",
      "Objective RidgeRegression_Objective:\n"
     ]
    },
    {
     "name": "stderr",
     "output_type": "stream",
     "text": [
      "  7%|▋         | 532/8000 [00:45<10:32, 11.81it/s] \n"
     ]
    },
    {
     "name": "stdout",
     "output_type": "stream",
     "text": [
      "iterations: 532\n",
      "Number of used features: 4\n",
      "Used features: ['num-206k-hinds.nii-0.500000', 'std-206k-hinds.nii-0.500000', 'hist-4-206k-hinds.nii-0.500000', 'hist-17-206k-hinds.nii-0.500000'] \n",
      "Score: -0.8710132696724908\n"
     ]
    },
    {
     "name": "stderr",
     "output_type": "stream",
     "text": [
      "200it [00:00, 579.06it/s]\n"
     ]
    },
    {
     "name": "stdout",
     "output_type": "stream",
     "text": [
      "1\n",
      "1 0.8719491062864259\n",
      "Objective PLSRegression_Objective:\n"
     ]
    },
    {
     "name": "stderr",
     "output_type": "stream",
     "text": [
      " 10%|▉         | 773/8000 [00:55<08:40, 13.88it/s] \n"
     ]
    },
    {
     "name": "stdout",
     "output_type": "stream",
     "text": [
      "iterations: 773\n",
      "Number of used features: 6\n",
      "Used features: ['num-206k-hinds.nii-0.500000', 'mean-206k-hinds.nii-0.500000', 'hist-2-206k-hinds.nii-0.500000', 'hist-6-206k-hinds.nii-0.500000', 'hist-12-206k-hinds.nii-0.500000', 'hist-14-206k-hinds.nii-0.500000'] \n",
      "Score: -0.8797895488635703\n"
     ]
    },
    {
     "name": "stderr",
     "output_type": "stream",
     "text": [
      "200it [00:00, 518.05it/s]\n"
     ]
    },
    {
     "name": "stdout",
     "output_type": "stream",
     "text": [
      "1\n",
      "1 0.88153395673838\n",
      "Objective KNNR_Objective:\n"
     ]
    },
    {
     "name": "stderr",
     "output_type": "stream",
     "text": [
      "  9%|▉         | 734/8000 [01:36<15:53,  7.62it/s]\n"
     ]
    },
    {
     "name": "stdout",
     "output_type": "stream",
     "text": [
      "iterations: 734\n",
      "Number of used features: 2\n",
      "Used features: ['num-208f-hinds.nii-0.500000', 'kurt-208f-hinds.nii-0.500000'] \n",
      "Score: -0.812531786413849\n"
     ]
    },
    {
     "name": "stderr",
     "output_type": "stream",
     "text": [
      "200it [00:00, 687.26it/s]\n"
     ]
    },
    {
     "name": "stdout",
     "output_type": "stream",
     "text": [
      "1\n",
      "1 0.8273751571980841\n",
      "Objective LinearRegression_Objective:\n"
     ]
    },
    {
     "name": "stderr",
     "output_type": "stream",
     "text": [
      "  7%|▋         | 568/8000 [00:13<02:53, 42.87it/s] \n"
     ]
    },
    {
     "name": "stdout",
     "output_type": "stream",
     "text": [
      "iterations: 568\n",
      "Number of used features: 5\n",
      "Used features: ['num-208f-hinds.nii-0.500000', 'kurt-208f-hinds.nii-0.500000', 'hist-0-208f-hinds.nii-0.500000', 'hist-3-208f-hinds.nii-0.500000', 'hist-4-208f-hinds.nii-0.500000'] \n",
      "Score: -0.8749276400075806\n"
     ]
    },
    {
     "name": "stderr",
     "output_type": "stream",
     "text": [
      "200it [00:00, 744.32it/s]\n"
     ]
    },
    {
     "name": "stdout",
     "output_type": "stream",
     "text": [
      "1\n",
      "1 0.8773338399754042\n",
      "Objective LassoRegression_Objective:\n"
     ]
    },
    {
     "name": "stderr",
     "output_type": "stream",
     "text": [
      "  8%|▊         | 670/8000 [00:58<10:44, 11.38it/s]\n"
     ]
    },
    {
     "name": "stdout",
     "output_type": "stream",
     "text": [
      "iterations: 670\n",
      "Number of used features: 4\n",
      "Used features: ['num-208f-hinds.nii-0.500000', 'kurt-208f-hinds.nii-0.500000', 'hist-2-208f-hinds.nii-0.500000', 'hist-6-208f-hinds.nii-0.500000'] \n",
      "Score: -0.877303982696613\n"
     ]
    },
    {
     "name": "stderr",
     "output_type": "stream",
     "text": [
      "200it [00:00, 477.92it/s]\n"
     ]
    },
    {
     "name": "stdout",
     "output_type": "stream",
     "text": [
      "1\n",
      "1 0.8799628038122379\n",
      "Objective RidgeRegression_Objective:\n"
     ]
    },
    {
     "name": "stderr",
     "output_type": "stream",
     "text": [
      "  7%|▋         | 564/8000 [00:37<08:14, 15.02it/s]\n"
     ]
    },
    {
     "name": "stdout",
     "output_type": "stream",
     "text": [
      "iterations: 564\n",
      "Number of used features: 5\n",
      "Used features: ['num-208f-hinds.nii-0.500000', 'kurt-208f-hinds.nii-0.500000', 'hist-0-208f-hinds.nii-0.500000', 'hist-1-208f-hinds.nii-0.500000', 'hist-4-208f-hinds.nii-0.500000'] \n",
      "Score: -0.8756312063004574\n"
     ]
    },
    {
     "name": "stderr",
     "output_type": "stream",
     "text": [
      "200it [00:00, 421.74it/s]\n"
     ]
    },
    {
     "name": "stdout",
     "output_type": "stream",
     "text": [
      "1\n",
      "1 0.8779867473156459\n",
      "Objective PLSRegression_Objective:\n"
     ]
    },
    {
     "name": "stderr",
     "output_type": "stream",
     "text": [
      " 12%|█▏        | 946/8000 [00:55<06:52, 17.09it/s] \n"
     ]
    },
    {
     "name": "stdout",
     "output_type": "stream",
     "text": [
      "iterations: 946\n",
      "Number of used features: 6\n",
      "Used features: ['num-208f-hinds.nii-0.500000', 'kurt-208f-hinds.nii-0.500000', 'hist-1-208f-hinds.nii-0.500000', 'hist-2-208f-hinds.nii-0.500000', 'hist-9-208f-hinds.nii-0.500000', 'hist-10-208f-hinds.nii-0.500000'] \n",
      "Score: -0.8746057197841832\n"
     ]
    },
    {
     "name": "stderr",
     "output_type": "stream",
     "text": [
      "200it [00:00, 580.20it/s]"
     ]
    },
    {
     "name": "stdout",
     "output_type": "stream",
     "text": [
      "1\n",
      "1 0.8763958187349008\n"
     ]
    },
    {
     "name": "stderr",
     "output_type": "stream",
     "text": [
      "\n"
     ]
    }
   ],
   "source": [
    "for m in masks:\n",
    "    results.append(model_selection(hinds_features[[c for c in hinds_features.columns if m in c or c == 'type']], hinds_target, dataset='hinds', type=m))"
   ]
  },
  {
   "cell_type": "markdown",
   "metadata": {},
   "source": [
    "### Saving the results"
   ]
  },
  {
   "cell_type": "code",
   "execution_count": 14,
   "metadata": {},
   "outputs": [],
   "source": [
    "results= pd.concat(results)\n",
    "results.to_csv('results.csv', index=False)\n",
    "pickle.dump(results, open('results.pickle', 'wb'))"
   ]
  },
  {
   "cell_type": "markdown",
   "metadata": {},
   "source": [
    "## Without feature selection"
   ]
  },
  {
   "cell_type": "markdown",
   "metadata": {},
   "source": [
    "### MLD with all features"
   ]
  },
  {
   "cell_type": "code",
   "execution_count": 15,
   "metadata": {},
   "outputs": [
    {
     "name": "stdout",
     "output_type": "stream",
     "text": [
      "Objective KNNR_Objective:\n"
     ]
    },
    {
     "name": "stderr",
     "output_type": "stream",
     "text": [
      "  8%|▊         | 606/8000 [02:13<27:03,  4.56it/s]  \n"
     ]
    },
    {
     "name": "stdout",
     "output_type": "stream",
     "text": [
      "iterations: 606\n",
      "Number of used features: 157\n",
      "Used features: ['num-203a-mld.nii-0.500000', 'sum-203a-mld.nii-0.500000', 'mean-203a-mld.nii-0.500000', 'std-203a-mld.nii-0.500000', 'skew-203a-mld.nii-0.500000', 'kurt-203a-mld.nii-0.500000', 'hist-0-203a-mld.nii-0.500000', 'hist-1-203a-mld.nii-0.500000', 'hist-2-203a-mld.nii-0.500000', 'hist-3-203a-mld.nii-0.500000', 'hist-4-203a-mld.nii-0.500000', 'hist-5-203a-mld.nii-0.500000', 'hist-6-203a-mld.nii-0.500000', 'hist-7-203a-mld.nii-0.500000', 'hist-8-203a-mld.nii-0.500000', 'hist-9-203a-mld.nii-0.500000', 'hist-10-203a-mld.nii-0.500000', 'hist-11-203a-mld.nii-0.500000', 'hist-12-203a-mld.nii-0.500000', 'hist-13-203a-mld.nii-0.500000', 'hist-14-203a-mld.nii-0.500000', 'hist-15-203a-mld.nii-0.500000', 'hist-16-203a-mld.nii-0.500000', 'hist-17-203a-mld.nii-0.500000', 'hist-18-203a-mld.nii-0.500000', 'hist-19-203a-mld.nii-0.500000', 'num-203k-mld.nii-0.500000', 'sum-203k-mld.nii-0.500000', 'mean-203k-mld.nii-0.500000', 'std-203k-mld.nii-0.500000', 'skew-203k-mld.nii-0.500000', 'kurt-203k-mld.nii-0.500000', 'hist-0-203k-mld.nii-0.500000', 'hist-1-203k-mld.nii-0.500000', 'hist-2-203k-mld.nii-0.500000', 'hist-3-203k-mld.nii-0.500000', 'hist-4-203k-mld.nii-0.500000', 'hist-5-203k-mld.nii-0.500000', 'hist-6-203k-mld.nii-0.500000', 'hist-7-203k-mld.nii-0.500000', 'hist-8-203k-mld.nii-0.500000', 'hist-9-203k-mld.nii-0.500000', 'hist-10-203k-mld.nii-0.500000', 'hist-11-203k-mld.nii-0.500000', 'hist-12-203k-mld.nii-0.500000', 'hist-13-203k-mld.nii-0.500000', 'hist-14-203k-mld.nii-0.500000', 'hist-15-203k-mld.nii-0.500000', 'hist-16-203k-mld.nii-0.500000', 'hist-17-203k-mld.nii-0.500000', 'hist-18-203k-mld.nii-0.500000', 'hist-19-203k-mld.nii-0.500000', 'num-204f-mld.nii-0.500000', 'sum-204f-mld.nii-0.500000', 'mean-204f-mld.nii-0.500000', 'std-204f-mld.nii-0.500000', 'skew-204f-mld.nii-0.500000', 'kurt-204f-mld.nii-0.500000', 'hist-0-204f-mld.nii-0.500000', 'hist-1-204f-mld.nii-0.500000', 'hist-2-204f-mld.nii-0.500000', 'hist-3-204f-mld.nii-0.500000', 'hist-4-204f-mld.nii-0.500000', 'hist-5-204f-mld.nii-0.500000', 'hist-6-204f-mld.nii-0.500000', 'hist-7-204f-mld.nii-0.500000', 'hist-8-204f-mld.nii-0.500000', 'hist-9-204f-mld.nii-0.500000', 'hist-10-204f-mld.nii-0.500000', 'hist-11-204f-mld.nii-0.500000', 'hist-12-204f-mld.nii-0.500000', 'hist-13-204f-mld.nii-0.500000', 'hist-14-204f-mld.nii-0.500000', 'hist-15-204f-mld.nii-0.500000', 'hist-16-204f-mld.nii-0.500000', 'hist-17-204f-mld.nii-0.500000', 'hist-18-204f-mld.nii-0.500000', 'hist-19-204f-mld.nii-0.500000', 'num-206k-mld.nii-0.500000', 'sum-206k-mld.nii-0.500000', 'mean-206k-mld.nii-0.500000', 'std-206k-mld.nii-0.500000', 'skew-206k-mld.nii-0.500000', 'kurt-206k-mld.nii-0.500000', 'hist-0-206k-mld.nii-0.500000', 'hist-1-206k-mld.nii-0.500000', 'hist-2-206k-mld.nii-0.500000', 'hist-3-206k-mld.nii-0.500000', 'hist-4-206k-mld.nii-0.500000', 'hist-5-206k-mld.nii-0.500000', 'hist-6-206k-mld.nii-0.500000', 'hist-7-206k-mld.nii-0.500000', 'hist-8-206k-mld.nii-0.500000', 'hist-9-206k-mld.nii-0.500000', 'hist-10-206k-mld.nii-0.500000', 'hist-11-206k-mld.nii-0.500000', 'hist-12-206k-mld.nii-0.500000', 'hist-13-206k-mld.nii-0.500000', 'hist-14-206k-mld.nii-0.500000', 'hist-15-206k-mld.nii-0.500000', 'hist-16-206k-mld.nii-0.500000', 'hist-17-206k-mld.nii-0.500000', 'hist-18-206k-mld.nii-0.500000', 'hist-19-206k-mld.nii-0.500000', 'num-208f-mld.nii-0.500000', 'sum-208f-mld.nii-0.500000', 'mean-208f-mld.nii-0.500000', 'std-208f-mld.nii-0.500000', 'skew-208f-mld.nii-0.500000', 'kurt-208f-mld.nii-0.500000', 'hist-0-208f-mld.nii-0.500000', 'hist-1-208f-mld.nii-0.500000', 'hist-2-208f-mld.nii-0.500000', 'hist-3-208f-mld.nii-0.500000', 'hist-4-208f-mld.nii-0.500000', 'hist-5-208f-mld.nii-0.500000', 'hist-6-208f-mld.nii-0.500000', 'hist-7-208f-mld.nii-0.500000', 'hist-8-208f-mld.nii-0.500000', 'hist-9-208f-mld.nii-0.500000', 'hist-10-208f-mld.nii-0.500000', 'hist-11-208f-mld.nii-0.500000', 'hist-12-208f-mld.nii-0.500000', 'hist-13-208f-mld.nii-0.500000', 'hist-14-208f-mld.nii-0.500000', 'hist-15-208f-mld.nii-0.500000', 'hist-16-208f-mld.nii-0.500000', 'hist-17-208f-mld.nii-0.500000', 'hist-18-208f-mld.nii-0.500000', 'hist-19-208f-mld.nii-0.500000', 'num-0.500000-mean_mask', 'sum-0.500000-mean_mask', 'mean-0.500000-mean_mask', 'std-0.500000-mean_mask', 'skew-0.500000-mean_mask', 'kurt-0.500000-mean_mask', 'hist-0-0.500000-mean_mask', 'hist-1-0.500000-mean_mask', 'hist-2-0.500000-mean_mask', 'hist-3-0.500000-mean_mask', 'hist-4-0.500000-mean_mask', 'hist-5-0.500000-mean_mask', 'hist-6-0.500000-mean_mask', 'hist-7-0.500000-mean_mask', 'hist-8-0.500000-mean_mask', 'hist-9-0.500000-mean_mask', 'hist-10-0.500000-mean_mask', 'hist-11-0.500000-mean_mask', 'hist-12-0.500000-mean_mask', 'hist-13-0.500000-mean_mask', 'hist-14-0.500000-mean_mask', 'hist-15-0.500000-mean_mask', 'hist-16-0.500000-mean_mask', 'hist-17-0.500000-mean_mask', 'hist-18-0.500000-mean_mask', 'hist-19-0.500000-mean_mask', 'pos'] \n",
      "Score: -0.5588733638643892\n"
     ]
    },
    {
     "name": "stderr",
     "output_type": "stream",
     "text": [
      "200it [00:00, 465.75it/s]\n"
     ]
    },
    {
     "name": "stdout",
     "output_type": "stream",
     "text": [
      "1\n",
      "1 0.5698291356708649\n",
      "Objective LinearRegression_Objective:\n"
     ]
    },
    {
     "name": "stderr",
     "output_type": "stream",
     "text": [
      "  6%|▌         | 499/8000 [00:01<00:27, 272.09it/s]\n"
     ]
    },
    {
     "name": "stdout",
     "output_type": "stream",
     "text": [
      "iterations: 499\n",
      "Number of used features: 157\n",
      "Used features: ['num-203a-mld.nii-0.500000', 'sum-203a-mld.nii-0.500000', 'mean-203a-mld.nii-0.500000', 'std-203a-mld.nii-0.500000', 'skew-203a-mld.nii-0.500000', 'kurt-203a-mld.nii-0.500000', 'hist-0-203a-mld.nii-0.500000', 'hist-1-203a-mld.nii-0.500000', 'hist-2-203a-mld.nii-0.500000', 'hist-3-203a-mld.nii-0.500000', 'hist-4-203a-mld.nii-0.500000', 'hist-5-203a-mld.nii-0.500000', 'hist-6-203a-mld.nii-0.500000', 'hist-7-203a-mld.nii-0.500000', 'hist-8-203a-mld.nii-0.500000', 'hist-9-203a-mld.nii-0.500000', 'hist-10-203a-mld.nii-0.500000', 'hist-11-203a-mld.nii-0.500000', 'hist-12-203a-mld.nii-0.500000', 'hist-13-203a-mld.nii-0.500000', 'hist-14-203a-mld.nii-0.500000', 'hist-15-203a-mld.nii-0.500000', 'hist-16-203a-mld.nii-0.500000', 'hist-17-203a-mld.nii-0.500000', 'hist-18-203a-mld.nii-0.500000', 'hist-19-203a-mld.nii-0.500000', 'num-203k-mld.nii-0.500000', 'sum-203k-mld.nii-0.500000', 'mean-203k-mld.nii-0.500000', 'std-203k-mld.nii-0.500000', 'skew-203k-mld.nii-0.500000', 'kurt-203k-mld.nii-0.500000', 'hist-0-203k-mld.nii-0.500000', 'hist-1-203k-mld.nii-0.500000', 'hist-2-203k-mld.nii-0.500000', 'hist-3-203k-mld.nii-0.500000', 'hist-4-203k-mld.nii-0.500000', 'hist-5-203k-mld.nii-0.500000', 'hist-6-203k-mld.nii-0.500000', 'hist-7-203k-mld.nii-0.500000', 'hist-8-203k-mld.nii-0.500000', 'hist-9-203k-mld.nii-0.500000', 'hist-10-203k-mld.nii-0.500000', 'hist-11-203k-mld.nii-0.500000', 'hist-12-203k-mld.nii-0.500000', 'hist-13-203k-mld.nii-0.500000', 'hist-14-203k-mld.nii-0.500000', 'hist-15-203k-mld.nii-0.500000', 'hist-16-203k-mld.nii-0.500000', 'hist-17-203k-mld.nii-0.500000', 'hist-18-203k-mld.nii-0.500000', 'hist-19-203k-mld.nii-0.500000', 'num-204f-mld.nii-0.500000', 'sum-204f-mld.nii-0.500000', 'mean-204f-mld.nii-0.500000', 'std-204f-mld.nii-0.500000', 'skew-204f-mld.nii-0.500000', 'kurt-204f-mld.nii-0.500000', 'hist-0-204f-mld.nii-0.500000', 'hist-1-204f-mld.nii-0.500000', 'hist-2-204f-mld.nii-0.500000', 'hist-3-204f-mld.nii-0.500000', 'hist-4-204f-mld.nii-0.500000', 'hist-5-204f-mld.nii-0.500000', 'hist-6-204f-mld.nii-0.500000', 'hist-7-204f-mld.nii-0.500000', 'hist-8-204f-mld.nii-0.500000', 'hist-9-204f-mld.nii-0.500000', 'hist-10-204f-mld.nii-0.500000', 'hist-11-204f-mld.nii-0.500000', 'hist-12-204f-mld.nii-0.500000', 'hist-13-204f-mld.nii-0.500000', 'hist-14-204f-mld.nii-0.500000', 'hist-15-204f-mld.nii-0.500000', 'hist-16-204f-mld.nii-0.500000', 'hist-17-204f-mld.nii-0.500000', 'hist-18-204f-mld.nii-0.500000', 'hist-19-204f-mld.nii-0.500000', 'num-206k-mld.nii-0.500000', 'sum-206k-mld.nii-0.500000', 'mean-206k-mld.nii-0.500000', 'std-206k-mld.nii-0.500000', 'skew-206k-mld.nii-0.500000', 'kurt-206k-mld.nii-0.500000', 'hist-0-206k-mld.nii-0.500000', 'hist-1-206k-mld.nii-0.500000', 'hist-2-206k-mld.nii-0.500000', 'hist-3-206k-mld.nii-0.500000', 'hist-4-206k-mld.nii-0.500000', 'hist-5-206k-mld.nii-0.500000', 'hist-6-206k-mld.nii-0.500000', 'hist-7-206k-mld.nii-0.500000', 'hist-8-206k-mld.nii-0.500000', 'hist-9-206k-mld.nii-0.500000', 'hist-10-206k-mld.nii-0.500000', 'hist-11-206k-mld.nii-0.500000', 'hist-12-206k-mld.nii-0.500000', 'hist-13-206k-mld.nii-0.500000', 'hist-14-206k-mld.nii-0.500000', 'hist-15-206k-mld.nii-0.500000', 'hist-16-206k-mld.nii-0.500000', 'hist-17-206k-mld.nii-0.500000', 'hist-18-206k-mld.nii-0.500000', 'hist-19-206k-mld.nii-0.500000', 'num-208f-mld.nii-0.500000', 'sum-208f-mld.nii-0.500000', 'mean-208f-mld.nii-0.500000', 'std-208f-mld.nii-0.500000', 'skew-208f-mld.nii-0.500000', 'kurt-208f-mld.nii-0.500000', 'hist-0-208f-mld.nii-0.500000', 'hist-1-208f-mld.nii-0.500000', 'hist-2-208f-mld.nii-0.500000', 'hist-3-208f-mld.nii-0.500000', 'hist-4-208f-mld.nii-0.500000', 'hist-5-208f-mld.nii-0.500000', 'hist-6-208f-mld.nii-0.500000', 'hist-7-208f-mld.nii-0.500000', 'hist-8-208f-mld.nii-0.500000', 'hist-9-208f-mld.nii-0.500000', 'hist-10-208f-mld.nii-0.500000', 'hist-11-208f-mld.nii-0.500000', 'hist-12-208f-mld.nii-0.500000', 'hist-13-208f-mld.nii-0.500000', 'hist-14-208f-mld.nii-0.500000', 'hist-15-208f-mld.nii-0.500000', 'hist-16-208f-mld.nii-0.500000', 'hist-17-208f-mld.nii-0.500000', 'hist-18-208f-mld.nii-0.500000', 'hist-19-208f-mld.nii-0.500000', 'num-0.500000-mean_mask', 'sum-0.500000-mean_mask', 'mean-0.500000-mean_mask', 'std-0.500000-mean_mask', 'skew-0.500000-mean_mask', 'kurt-0.500000-mean_mask', 'hist-0-0.500000-mean_mask', 'hist-1-0.500000-mean_mask', 'hist-2-0.500000-mean_mask', 'hist-3-0.500000-mean_mask', 'hist-4-0.500000-mean_mask', 'hist-5-0.500000-mean_mask', 'hist-6-0.500000-mean_mask', 'hist-7-0.500000-mean_mask', 'hist-8-0.500000-mean_mask', 'hist-9-0.500000-mean_mask', 'hist-10-0.500000-mean_mask', 'hist-11-0.500000-mean_mask', 'hist-12-0.500000-mean_mask', 'hist-13-0.500000-mean_mask', 'hist-14-0.500000-mean_mask', 'hist-15-0.500000-mean_mask', 'hist-16-0.500000-mean_mask', 'hist-17-0.500000-mean_mask', 'hist-18-0.500000-mean_mask', 'hist-19-0.500000-mean_mask', 'pos'] \n",
      "Score: 1.3628297362930448\n"
     ]
    },
    {
     "name": "stderr",
     "output_type": "stream",
     "text": [
      "200it [00:04, 41.69it/s]\n"
     ]
    },
    {
     "name": "stdout",
     "output_type": "stream",
     "text": [
      "1\n",
      "1 -6.073930007504513\n",
      "Objective LassoRegression_Objective:\n"
     ]
    },
    {
     "name": "stderr",
     "output_type": "stream",
     "text": [
      "  6%|▋         | 505/8000 [00:09<02:25, 51.56it/s] \n"
     ]
    },
    {
     "name": "stdout",
     "output_type": "stream",
     "text": [
      "iterations: 505\n",
      "Number of used features: 157\n",
      "Used features: ['num-203a-mld.nii-0.500000', 'sum-203a-mld.nii-0.500000', 'mean-203a-mld.nii-0.500000', 'std-203a-mld.nii-0.500000', 'skew-203a-mld.nii-0.500000', 'kurt-203a-mld.nii-0.500000', 'hist-0-203a-mld.nii-0.500000', 'hist-1-203a-mld.nii-0.500000', 'hist-2-203a-mld.nii-0.500000', 'hist-3-203a-mld.nii-0.500000', 'hist-4-203a-mld.nii-0.500000', 'hist-5-203a-mld.nii-0.500000', 'hist-6-203a-mld.nii-0.500000', 'hist-7-203a-mld.nii-0.500000', 'hist-8-203a-mld.nii-0.500000', 'hist-9-203a-mld.nii-0.500000', 'hist-10-203a-mld.nii-0.500000', 'hist-11-203a-mld.nii-0.500000', 'hist-12-203a-mld.nii-0.500000', 'hist-13-203a-mld.nii-0.500000', 'hist-14-203a-mld.nii-0.500000', 'hist-15-203a-mld.nii-0.500000', 'hist-16-203a-mld.nii-0.500000', 'hist-17-203a-mld.nii-0.500000', 'hist-18-203a-mld.nii-0.500000', 'hist-19-203a-mld.nii-0.500000', 'num-203k-mld.nii-0.500000', 'sum-203k-mld.nii-0.500000', 'mean-203k-mld.nii-0.500000', 'std-203k-mld.nii-0.500000', 'skew-203k-mld.nii-0.500000', 'kurt-203k-mld.nii-0.500000', 'hist-0-203k-mld.nii-0.500000', 'hist-1-203k-mld.nii-0.500000', 'hist-2-203k-mld.nii-0.500000', 'hist-3-203k-mld.nii-0.500000', 'hist-4-203k-mld.nii-0.500000', 'hist-5-203k-mld.nii-0.500000', 'hist-6-203k-mld.nii-0.500000', 'hist-7-203k-mld.nii-0.500000', 'hist-8-203k-mld.nii-0.500000', 'hist-9-203k-mld.nii-0.500000', 'hist-10-203k-mld.nii-0.500000', 'hist-11-203k-mld.nii-0.500000', 'hist-12-203k-mld.nii-0.500000', 'hist-13-203k-mld.nii-0.500000', 'hist-14-203k-mld.nii-0.500000', 'hist-15-203k-mld.nii-0.500000', 'hist-16-203k-mld.nii-0.500000', 'hist-17-203k-mld.nii-0.500000', 'hist-18-203k-mld.nii-0.500000', 'hist-19-203k-mld.nii-0.500000', 'num-204f-mld.nii-0.500000', 'sum-204f-mld.nii-0.500000', 'mean-204f-mld.nii-0.500000', 'std-204f-mld.nii-0.500000', 'skew-204f-mld.nii-0.500000', 'kurt-204f-mld.nii-0.500000', 'hist-0-204f-mld.nii-0.500000', 'hist-1-204f-mld.nii-0.500000', 'hist-2-204f-mld.nii-0.500000', 'hist-3-204f-mld.nii-0.500000', 'hist-4-204f-mld.nii-0.500000', 'hist-5-204f-mld.nii-0.500000', 'hist-6-204f-mld.nii-0.500000', 'hist-7-204f-mld.nii-0.500000', 'hist-8-204f-mld.nii-0.500000', 'hist-9-204f-mld.nii-0.500000', 'hist-10-204f-mld.nii-0.500000', 'hist-11-204f-mld.nii-0.500000', 'hist-12-204f-mld.nii-0.500000', 'hist-13-204f-mld.nii-0.500000', 'hist-14-204f-mld.nii-0.500000', 'hist-15-204f-mld.nii-0.500000', 'hist-16-204f-mld.nii-0.500000', 'hist-17-204f-mld.nii-0.500000', 'hist-18-204f-mld.nii-0.500000', 'hist-19-204f-mld.nii-0.500000', 'num-206k-mld.nii-0.500000', 'sum-206k-mld.nii-0.500000', 'mean-206k-mld.nii-0.500000', 'std-206k-mld.nii-0.500000', 'skew-206k-mld.nii-0.500000', 'kurt-206k-mld.nii-0.500000', 'hist-0-206k-mld.nii-0.500000', 'hist-1-206k-mld.nii-0.500000', 'hist-2-206k-mld.nii-0.500000', 'hist-3-206k-mld.nii-0.500000', 'hist-4-206k-mld.nii-0.500000', 'hist-5-206k-mld.nii-0.500000', 'hist-6-206k-mld.nii-0.500000', 'hist-7-206k-mld.nii-0.500000', 'hist-8-206k-mld.nii-0.500000', 'hist-9-206k-mld.nii-0.500000', 'hist-10-206k-mld.nii-0.500000', 'hist-11-206k-mld.nii-0.500000', 'hist-12-206k-mld.nii-0.500000', 'hist-13-206k-mld.nii-0.500000', 'hist-14-206k-mld.nii-0.500000', 'hist-15-206k-mld.nii-0.500000', 'hist-16-206k-mld.nii-0.500000', 'hist-17-206k-mld.nii-0.500000', 'hist-18-206k-mld.nii-0.500000', 'hist-19-206k-mld.nii-0.500000', 'num-208f-mld.nii-0.500000', 'sum-208f-mld.nii-0.500000', 'mean-208f-mld.nii-0.500000', 'std-208f-mld.nii-0.500000', 'skew-208f-mld.nii-0.500000', 'kurt-208f-mld.nii-0.500000', 'hist-0-208f-mld.nii-0.500000', 'hist-1-208f-mld.nii-0.500000', 'hist-2-208f-mld.nii-0.500000', 'hist-3-208f-mld.nii-0.500000', 'hist-4-208f-mld.nii-0.500000', 'hist-5-208f-mld.nii-0.500000', 'hist-6-208f-mld.nii-0.500000', 'hist-7-208f-mld.nii-0.500000', 'hist-8-208f-mld.nii-0.500000', 'hist-9-208f-mld.nii-0.500000', 'hist-10-208f-mld.nii-0.500000', 'hist-11-208f-mld.nii-0.500000', 'hist-12-208f-mld.nii-0.500000', 'hist-13-208f-mld.nii-0.500000', 'hist-14-208f-mld.nii-0.500000', 'hist-15-208f-mld.nii-0.500000', 'hist-16-208f-mld.nii-0.500000', 'hist-17-208f-mld.nii-0.500000', 'hist-18-208f-mld.nii-0.500000', 'hist-19-208f-mld.nii-0.500000', 'num-0.500000-mean_mask', 'sum-0.500000-mean_mask', 'mean-0.500000-mean_mask', 'std-0.500000-mean_mask', 'skew-0.500000-mean_mask', 'kurt-0.500000-mean_mask', 'hist-0-0.500000-mean_mask', 'hist-1-0.500000-mean_mask', 'hist-2-0.500000-mean_mask', 'hist-3-0.500000-mean_mask', 'hist-4-0.500000-mean_mask', 'hist-5-0.500000-mean_mask', 'hist-6-0.500000-mean_mask', 'hist-7-0.500000-mean_mask', 'hist-8-0.500000-mean_mask', 'hist-9-0.500000-mean_mask', 'hist-10-0.500000-mean_mask', 'hist-11-0.500000-mean_mask', 'hist-12-0.500000-mean_mask', 'hist-13-0.500000-mean_mask', 'hist-14-0.500000-mean_mask', 'hist-15-0.500000-mean_mask', 'hist-16-0.500000-mean_mask', 'hist-17-0.500000-mean_mask', 'hist-18-0.500000-mean_mask', 'hist-19-0.500000-mean_mask', 'pos'] \n",
      "Score: -0.7604859308742709\n"
     ]
    },
    {
     "name": "stderr",
     "output_type": "stream",
     "text": [
      "200it [00:01, 165.56it/s]\n"
     ]
    },
    {
     "name": "stdout",
     "output_type": "stream",
     "text": [
      "1\n",
      "1 0.7634668631332764\n",
      "Objective RidgeRegression_Objective:\n"
     ]
    },
    {
     "name": "stderr",
     "output_type": "stream",
     "text": [
      "  6%|▌         | 499/8000 [00:04<01:12, 102.76it/s]\n"
     ]
    },
    {
     "name": "stdout",
     "output_type": "stream",
     "text": [
      "iterations: 499\n",
      "Number of used features: 157\n",
      "Used features: ['num-203a-mld.nii-0.500000', 'sum-203a-mld.nii-0.500000', 'mean-203a-mld.nii-0.500000', 'std-203a-mld.nii-0.500000', 'skew-203a-mld.nii-0.500000', 'kurt-203a-mld.nii-0.500000', 'hist-0-203a-mld.nii-0.500000', 'hist-1-203a-mld.nii-0.500000', 'hist-2-203a-mld.nii-0.500000', 'hist-3-203a-mld.nii-0.500000', 'hist-4-203a-mld.nii-0.500000', 'hist-5-203a-mld.nii-0.500000', 'hist-6-203a-mld.nii-0.500000', 'hist-7-203a-mld.nii-0.500000', 'hist-8-203a-mld.nii-0.500000', 'hist-9-203a-mld.nii-0.500000', 'hist-10-203a-mld.nii-0.500000', 'hist-11-203a-mld.nii-0.500000', 'hist-12-203a-mld.nii-0.500000', 'hist-13-203a-mld.nii-0.500000', 'hist-14-203a-mld.nii-0.500000', 'hist-15-203a-mld.nii-0.500000', 'hist-16-203a-mld.nii-0.500000', 'hist-17-203a-mld.nii-0.500000', 'hist-18-203a-mld.nii-0.500000', 'hist-19-203a-mld.nii-0.500000', 'num-203k-mld.nii-0.500000', 'sum-203k-mld.nii-0.500000', 'mean-203k-mld.nii-0.500000', 'std-203k-mld.nii-0.500000', 'skew-203k-mld.nii-0.500000', 'kurt-203k-mld.nii-0.500000', 'hist-0-203k-mld.nii-0.500000', 'hist-1-203k-mld.nii-0.500000', 'hist-2-203k-mld.nii-0.500000', 'hist-3-203k-mld.nii-0.500000', 'hist-4-203k-mld.nii-0.500000', 'hist-5-203k-mld.nii-0.500000', 'hist-6-203k-mld.nii-0.500000', 'hist-7-203k-mld.nii-0.500000', 'hist-8-203k-mld.nii-0.500000', 'hist-9-203k-mld.nii-0.500000', 'hist-10-203k-mld.nii-0.500000', 'hist-11-203k-mld.nii-0.500000', 'hist-12-203k-mld.nii-0.500000', 'hist-13-203k-mld.nii-0.500000', 'hist-14-203k-mld.nii-0.500000', 'hist-15-203k-mld.nii-0.500000', 'hist-16-203k-mld.nii-0.500000', 'hist-17-203k-mld.nii-0.500000', 'hist-18-203k-mld.nii-0.500000', 'hist-19-203k-mld.nii-0.500000', 'num-204f-mld.nii-0.500000', 'sum-204f-mld.nii-0.500000', 'mean-204f-mld.nii-0.500000', 'std-204f-mld.nii-0.500000', 'skew-204f-mld.nii-0.500000', 'kurt-204f-mld.nii-0.500000', 'hist-0-204f-mld.nii-0.500000', 'hist-1-204f-mld.nii-0.500000', 'hist-2-204f-mld.nii-0.500000', 'hist-3-204f-mld.nii-0.500000', 'hist-4-204f-mld.nii-0.500000', 'hist-5-204f-mld.nii-0.500000', 'hist-6-204f-mld.nii-0.500000', 'hist-7-204f-mld.nii-0.500000', 'hist-8-204f-mld.nii-0.500000', 'hist-9-204f-mld.nii-0.500000', 'hist-10-204f-mld.nii-0.500000', 'hist-11-204f-mld.nii-0.500000', 'hist-12-204f-mld.nii-0.500000', 'hist-13-204f-mld.nii-0.500000', 'hist-14-204f-mld.nii-0.500000', 'hist-15-204f-mld.nii-0.500000', 'hist-16-204f-mld.nii-0.500000', 'hist-17-204f-mld.nii-0.500000', 'hist-18-204f-mld.nii-0.500000', 'hist-19-204f-mld.nii-0.500000', 'num-206k-mld.nii-0.500000', 'sum-206k-mld.nii-0.500000', 'mean-206k-mld.nii-0.500000', 'std-206k-mld.nii-0.500000', 'skew-206k-mld.nii-0.500000', 'kurt-206k-mld.nii-0.500000', 'hist-0-206k-mld.nii-0.500000', 'hist-1-206k-mld.nii-0.500000', 'hist-2-206k-mld.nii-0.500000', 'hist-3-206k-mld.nii-0.500000', 'hist-4-206k-mld.nii-0.500000', 'hist-5-206k-mld.nii-0.500000', 'hist-6-206k-mld.nii-0.500000', 'hist-7-206k-mld.nii-0.500000', 'hist-8-206k-mld.nii-0.500000', 'hist-9-206k-mld.nii-0.500000', 'hist-10-206k-mld.nii-0.500000', 'hist-11-206k-mld.nii-0.500000', 'hist-12-206k-mld.nii-0.500000', 'hist-13-206k-mld.nii-0.500000', 'hist-14-206k-mld.nii-0.500000', 'hist-15-206k-mld.nii-0.500000', 'hist-16-206k-mld.nii-0.500000', 'hist-17-206k-mld.nii-0.500000', 'hist-18-206k-mld.nii-0.500000', 'hist-19-206k-mld.nii-0.500000', 'num-208f-mld.nii-0.500000', 'sum-208f-mld.nii-0.500000', 'mean-208f-mld.nii-0.500000', 'std-208f-mld.nii-0.500000', 'skew-208f-mld.nii-0.500000', 'kurt-208f-mld.nii-0.500000', 'hist-0-208f-mld.nii-0.500000', 'hist-1-208f-mld.nii-0.500000', 'hist-2-208f-mld.nii-0.500000', 'hist-3-208f-mld.nii-0.500000', 'hist-4-208f-mld.nii-0.500000', 'hist-5-208f-mld.nii-0.500000', 'hist-6-208f-mld.nii-0.500000', 'hist-7-208f-mld.nii-0.500000', 'hist-8-208f-mld.nii-0.500000', 'hist-9-208f-mld.nii-0.500000', 'hist-10-208f-mld.nii-0.500000', 'hist-11-208f-mld.nii-0.500000', 'hist-12-208f-mld.nii-0.500000', 'hist-13-208f-mld.nii-0.500000', 'hist-14-208f-mld.nii-0.500000', 'hist-15-208f-mld.nii-0.500000', 'hist-16-208f-mld.nii-0.500000', 'hist-17-208f-mld.nii-0.500000', 'hist-18-208f-mld.nii-0.500000', 'hist-19-208f-mld.nii-0.500000', 'num-0.500000-mean_mask', 'sum-0.500000-mean_mask', 'mean-0.500000-mean_mask', 'std-0.500000-mean_mask', 'skew-0.500000-mean_mask', 'kurt-0.500000-mean_mask', 'hist-0-0.500000-mean_mask', 'hist-1-0.500000-mean_mask', 'hist-2-0.500000-mean_mask', 'hist-3-0.500000-mean_mask', 'hist-4-0.500000-mean_mask', 'hist-5-0.500000-mean_mask', 'hist-6-0.500000-mean_mask', 'hist-7-0.500000-mean_mask', 'hist-8-0.500000-mean_mask', 'hist-9-0.500000-mean_mask', 'hist-10-0.500000-mean_mask', 'hist-11-0.500000-mean_mask', 'hist-12-0.500000-mean_mask', 'hist-13-0.500000-mean_mask', 'hist-14-0.500000-mean_mask', 'hist-15-0.500000-mean_mask', 'hist-16-0.500000-mean_mask', 'hist-17-0.500000-mean_mask', 'hist-18-0.500000-mean_mask', 'hist-19-0.500000-mean_mask', 'pos'] \n",
      "Score: -0.71001440822328\n"
     ]
    },
    {
     "name": "stderr",
     "output_type": "stream",
     "text": [
      "200it [00:01, 195.99it/s]\n"
     ]
    },
    {
     "name": "stdout",
     "output_type": "stream",
     "text": [
      "1\n",
      "1 0.7078535596232126\n",
      "Objective PLSRegression_Objective:\n"
     ]
    },
    {
     "name": "stderr",
     "output_type": "stream",
     "text": [
      "  6%|▋         | 502/8000 [00:06<01:31, 81.57it/s] \n"
     ]
    },
    {
     "name": "stdout",
     "output_type": "stream",
     "text": [
      "iterations: 502\n",
      "Number of used features: 157\n",
      "Used features: ['num-203a-mld.nii-0.500000', 'sum-203a-mld.nii-0.500000', 'mean-203a-mld.nii-0.500000', 'std-203a-mld.nii-0.500000', 'skew-203a-mld.nii-0.500000', 'kurt-203a-mld.nii-0.500000', 'hist-0-203a-mld.nii-0.500000', 'hist-1-203a-mld.nii-0.500000', 'hist-2-203a-mld.nii-0.500000', 'hist-3-203a-mld.nii-0.500000', 'hist-4-203a-mld.nii-0.500000', 'hist-5-203a-mld.nii-0.500000', 'hist-6-203a-mld.nii-0.500000', 'hist-7-203a-mld.nii-0.500000', 'hist-8-203a-mld.nii-0.500000', 'hist-9-203a-mld.nii-0.500000', 'hist-10-203a-mld.nii-0.500000', 'hist-11-203a-mld.nii-0.500000', 'hist-12-203a-mld.nii-0.500000', 'hist-13-203a-mld.nii-0.500000', 'hist-14-203a-mld.nii-0.500000', 'hist-15-203a-mld.nii-0.500000', 'hist-16-203a-mld.nii-0.500000', 'hist-17-203a-mld.nii-0.500000', 'hist-18-203a-mld.nii-0.500000', 'hist-19-203a-mld.nii-0.500000', 'num-203k-mld.nii-0.500000', 'sum-203k-mld.nii-0.500000', 'mean-203k-mld.nii-0.500000', 'std-203k-mld.nii-0.500000', 'skew-203k-mld.nii-0.500000', 'kurt-203k-mld.nii-0.500000', 'hist-0-203k-mld.nii-0.500000', 'hist-1-203k-mld.nii-0.500000', 'hist-2-203k-mld.nii-0.500000', 'hist-3-203k-mld.nii-0.500000', 'hist-4-203k-mld.nii-0.500000', 'hist-5-203k-mld.nii-0.500000', 'hist-6-203k-mld.nii-0.500000', 'hist-7-203k-mld.nii-0.500000', 'hist-8-203k-mld.nii-0.500000', 'hist-9-203k-mld.nii-0.500000', 'hist-10-203k-mld.nii-0.500000', 'hist-11-203k-mld.nii-0.500000', 'hist-12-203k-mld.nii-0.500000', 'hist-13-203k-mld.nii-0.500000', 'hist-14-203k-mld.nii-0.500000', 'hist-15-203k-mld.nii-0.500000', 'hist-16-203k-mld.nii-0.500000', 'hist-17-203k-mld.nii-0.500000', 'hist-18-203k-mld.nii-0.500000', 'hist-19-203k-mld.nii-0.500000', 'num-204f-mld.nii-0.500000', 'sum-204f-mld.nii-0.500000', 'mean-204f-mld.nii-0.500000', 'std-204f-mld.nii-0.500000', 'skew-204f-mld.nii-0.500000', 'kurt-204f-mld.nii-0.500000', 'hist-0-204f-mld.nii-0.500000', 'hist-1-204f-mld.nii-0.500000', 'hist-2-204f-mld.nii-0.500000', 'hist-3-204f-mld.nii-0.500000', 'hist-4-204f-mld.nii-0.500000', 'hist-5-204f-mld.nii-0.500000', 'hist-6-204f-mld.nii-0.500000', 'hist-7-204f-mld.nii-0.500000', 'hist-8-204f-mld.nii-0.500000', 'hist-9-204f-mld.nii-0.500000', 'hist-10-204f-mld.nii-0.500000', 'hist-11-204f-mld.nii-0.500000', 'hist-12-204f-mld.nii-0.500000', 'hist-13-204f-mld.nii-0.500000', 'hist-14-204f-mld.nii-0.500000', 'hist-15-204f-mld.nii-0.500000', 'hist-16-204f-mld.nii-0.500000', 'hist-17-204f-mld.nii-0.500000', 'hist-18-204f-mld.nii-0.500000', 'hist-19-204f-mld.nii-0.500000', 'num-206k-mld.nii-0.500000', 'sum-206k-mld.nii-0.500000', 'mean-206k-mld.nii-0.500000', 'std-206k-mld.nii-0.500000', 'skew-206k-mld.nii-0.500000', 'kurt-206k-mld.nii-0.500000', 'hist-0-206k-mld.nii-0.500000', 'hist-1-206k-mld.nii-0.500000', 'hist-2-206k-mld.nii-0.500000', 'hist-3-206k-mld.nii-0.500000', 'hist-4-206k-mld.nii-0.500000', 'hist-5-206k-mld.nii-0.500000', 'hist-6-206k-mld.nii-0.500000', 'hist-7-206k-mld.nii-0.500000', 'hist-8-206k-mld.nii-0.500000', 'hist-9-206k-mld.nii-0.500000', 'hist-10-206k-mld.nii-0.500000', 'hist-11-206k-mld.nii-0.500000', 'hist-12-206k-mld.nii-0.500000', 'hist-13-206k-mld.nii-0.500000', 'hist-14-206k-mld.nii-0.500000', 'hist-15-206k-mld.nii-0.500000', 'hist-16-206k-mld.nii-0.500000', 'hist-17-206k-mld.nii-0.500000', 'hist-18-206k-mld.nii-0.500000', 'hist-19-206k-mld.nii-0.500000', 'num-208f-mld.nii-0.500000', 'sum-208f-mld.nii-0.500000', 'mean-208f-mld.nii-0.500000', 'std-208f-mld.nii-0.500000', 'skew-208f-mld.nii-0.500000', 'kurt-208f-mld.nii-0.500000', 'hist-0-208f-mld.nii-0.500000', 'hist-1-208f-mld.nii-0.500000', 'hist-2-208f-mld.nii-0.500000', 'hist-3-208f-mld.nii-0.500000', 'hist-4-208f-mld.nii-0.500000', 'hist-5-208f-mld.nii-0.500000', 'hist-6-208f-mld.nii-0.500000', 'hist-7-208f-mld.nii-0.500000', 'hist-8-208f-mld.nii-0.500000', 'hist-9-208f-mld.nii-0.500000', 'hist-10-208f-mld.nii-0.500000', 'hist-11-208f-mld.nii-0.500000', 'hist-12-208f-mld.nii-0.500000', 'hist-13-208f-mld.nii-0.500000', 'hist-14-208f-mld.nii-0.500000', 'hist-15-208f-mld.nii-0.500000', 'hist-16-208f-mld.nii-0.500000', 'hist-17-208f-mld.nii-0.500000', 'hist-18-208f-mld.nii-0.500000', 'hist-19-208f-mld.nii-0.500000', 'num-0.500000-mean_mask', 'sum-0.500000-mean_mask', 'mean-0.500000-mean_mask', 'std-0.500000-mean_mask', 'skew-0.500000-mean_mask', 'kurt-0.500000-mean_mask', 'hist-0-0.500000-mean_mask', 'hist-1-0.500000-mean_mask', 'hist-2-0.500000-mean_mask', 'hist-3-0.500000-mean_mask', 'hist-4-0.500000-mean_mask', 'hist-5-0.500000-mean_mask', 'hist-6-0.500000-mean_mask', 'hist-7-0.500000-mean_mask', 'hist-8-0.500000-mean_mask', 'hist-9-0.500000-mean_mask', 'hist-10-0.500000-mean_mask', 'hist-11-0.500000-mean_mask', 'hist-12-0.500000-mean_mask', 'hist-13-0.500000-mean_mask', 'hist-14-0.500000-mean_mask', 'hist-15-0.500000-mean_mask', 'hist-16-0.500000-mean_mask', 'hist-17-0.500000-mean_mask', 'hist-18-0.500000-mean_mask', 'hist-19-0.500000-mean_mask', 'pos'] \n",
      "Score: -0.7543345363529516\n"
     ]
    },
    {
     "name": "stderr",
     "output_type": "stream",
     "text": [
      "200it [00:00, 297.54it/s]"
     ]
    },
    {
     "name": "stdout",
     "output_type": "stream",
     "text": [
      "1\n",
      "1 0.7546700017619621\n"
     ]
    },
    {
     "name": "stderr",
     "output_type": "stream",
     "text": [
      "\n"
     ]
    }
   ],
   "source": [
    "results_no_fs.append(model_selection(mld_features, mld_target, dataset='mld', type='all', disable_feature_selection=True))"
   ]
  },
  {
   "cell_type": "markdown",
   "metadata": {},
   "source": [
    "### MLD mean mask"
   ]
  },
  {
   "cell_type": "code",
   "execution_count": 16,
   "metadata": {},
   "outputs": [
    {
     "name": "stdout",
     "output_type": "stream",
     "text": [
      "Objective KNNR_Objective:\n"
     ]
    },
    {
     "name": "stderr",
     "output_type": "stream",
     "text": [
      "  6%|▋         | 517/8000 [00:32<07:54, 15.75it/s]\n"
     ]
    },
    {
     "name": "stdout",
     "output_type": "stream",
     "text": [
      "iterations: 517\n",
      "Number of used features: 26\n",
      "Used features: ['num-0.500000-mean_mask', 'sum-0.500000-mean_mask', 'mean-0.500000-mean_mask', 'std-0.500000-mean_mask', 'skew-0.500000-mean_mask', 'kurt-0.500000-mean_mask', 'hist-0-0.500000-mean_mask', 'hist-1-0.500000-mean_mask', 'hist-2-0.500000-mean_mask', 'hist-3-0.500000-mean_mask', 'hist-4-0.500000-mean_mask', 'hist-5-0.500000-mean_mask', 'hist-6-0.500000-mean_mask', 'hist-7-0.500000-mean_mask', 'hist-8-0.500000-mean_mask', 'hist-9-0.500000-mean_mask', 'hist-10-0.500000-mean_mask', 'hist-11-0.500000-mean_mask', 'hist-12-0.500000-mean_mask', 'hist-13-0.500000-mean_mask', 'hist-14-0.500000-mean_mask', 'hist-15-0.500000-mean_mask', 'hist-16-0.500000-mean_mask', 'hist-17-0.500000-mean_mask', 'hist-18-0.500000-mean_mask', 'hist-19-0.500000-mean_mask'] \n",
      "Score: -0.5582002884824863\n"
     ]
    },
    {
     "name": "stderr",
     "output_type": "stream",
     "text": [
      "200it [00:00, 832.22it/s]\n"
     ]
    },
    {
     "name": "stdout",
     "output_type": "stream",
     "text": [
      "1\n",
      "1 0.5682566486892573\n",
      "Objective LinearRegression_Objective:\n"
     ]
    },
    {
     "name": "stderr",
     "output_type": "stream",
     "text": [
      "  6%|▌         | 499/8000 [00:00<00:02, 3054.44it/s]\n"
     ]
    },
    {
     "name": "stdout",
     "output_type": "stream",
     "text": [
      "iterations: 499\n",
      "Number of used features: 26\n",
      "Used features: ['num-0.500000-mean_mask', 'sum-0.500000-mean_mask', 'mean-0.500000-mean_mask', 'std-0.500000-mean_mask', 'skew-0.500000-mean_mask', 'kurt-0.500000-mean_mask', 'hist-0-0.500000-mean_mask', 'hist-1-0.500000-mean_mask', 'hist-2-0.500000-mean_mask', 'hist-3-0.500000-mean_mask', 'hist-4-0.500000-mean_mask', 'hist-5-0.500000-mean_mask', 'hist-6-0.500000-mean_mask', 'hist-7-0.500000-mean_mask', 'hist-8-0.500000-mean_mask', 'hist-9-0.500000-mean_mask', 'hist-10-0.500000-mean_mask', 'hist-11-0.500000-mean_mask', 'hist-12-0.500000-mean_mask', 'hist-13-0.500000-mean_mask', 'hist-14-0.500000-mean_mask', 'hist-15-0.500000-mean_mask', 'hist-16-0.500000-mean_mask', 'hist-17-0.500000-mean_mask', 'hist-18-0.500000-mean_mask', 'hist-19-0.500000-mean_mask'] \n",
      "Score: -0.7334672572960386\n"
     ]
    },
    {
     "name": "stderr",
     "output_type": "stream",
     "text": [
      "200it [00:00, 644.92it/s]\n"
     ]
    },
    {
     "name": "stdout",
     "output_type": "stream",
     "text": [
      "1\n",
      "1 0.7394017675627151\n",
      "Objective LassoRegression_Objective:\n"
     ]
    },
    {
     "name": "stderr",
     "output_type": "stream",
     "text": [
      "  6%|▋         | 502/8000 [00:02<00:36, 204.66it/s]\n"
     ]
    },
    {
     "name": "stdout",
     "output_type": "stream",
     "text": [
      "iterations: 502\n",
      "Number of used features: 26\n",
      "Used features: ['num-0.500000-mean_mask', 'sum-0.500000-mean_mask', 'mean-0.500000-mean_mask', 'std-0.500000-mean_mask', 'skew-0.500000-mean_mask', 'kurt-0.500000-mean_mask', 'hist-0-0.500000-mean_mask', 'hist-1-0.500000-mean_mask', 'hist-2-0.500000-mean_mask', 'hist-3-0.500000-mean_mask', 'hist-4-0.500000-mean_mask', 'hist-5-0.500000-mean_mask', 'hist-6-0.500000-mean_mask', 'hist-7-0.500000-mean_mask', 'hist-8-0.500000-mean_mask', 'hist-9-0.500000-mean_mask', 'hist-10-0.500000-mean_mask', 'hist-11-0.500000-mean_mask', 'hist-12-0.500000-mean_mask', 'hist-13-0.500000-mean_mask', 'hist-14-0.500000-mean_mask', 'hist-15-0.500000-mean_mask', 'hist-16-0.500000-mean_mask', 'hist-17-0.500000-mean_mask', 'hist-18-0.500000-mean_mask', 'hist-19-0.500000-mean_mask'] \n",
      "Score: -0.7623034026950717\n"
     ]
    },
    {
     "name": "stderr",
     "output_type": "stream",
     "text": [
      "200it [00:00, 379.77it/s]\n"
     ]
    },
    {
     "name": "stdout",
     "output_type": "stream",
     "text": [
      "1\n",
      "1 0.7635349383618586\n",
      "Objective RidgeRegression_Objective:\n"
     ]
    },
    {
     "name": "stderr",
     "output_type": "stream",
     "text": [
      "  6%|▌         | 499/8000 [00:01<00:25, 296.59it/s]\n"
     ]
    },
    {
     "name": "stdout",
     "output_type": "stream",
     "text": [
      "iterations: 499\n",
      "Number of used features: 26\n",
      "Used features: ['num-0.500000-mean_mask', 'sum-0.500000-mean_mask', 'mean-0.500000-mean_mask', 'std-0.500000-mean_mask', 'skew-0.500000-mean_mask', 'kurt-0.500000-mean_mask', 'hist-0-0.500000-mean_mask', 'hist-1-0.500000-mean_mask', 'hist-2-0.500000-mean_mask', 'hist-3-0.500000-mean_mask', 'hist-4-0.500000-mean_mask', 'hist-5-0.500000-mean_mask', 'hist-6-0.500000-mean_mask', 'hist-7-0.500000-mean_mask', 'hist-8-0.500000-mean_mask', 'hist-9-0.500000-mean_mask', 'hist-10-0.500000-mean_mask', 'hist-11-0.500000-mean_mask', 'hist-12-0.500000-mean_mask', 'hist-13-0.500000-mean_mask', 'hist-14-0.500000-mean_mask', 'hist-15-0.500000-mean_mask', 'hist-16-0.500000-mean_mask', 'hist-17-0.500000-mean_mask', 'hist-18-0.500000-mean_mask', 'hist-19-0.500000-mean_mask'] \n",
      "Score: -0.7569421636369629\n"
     ]
    },
    {
     "name": "stderr",
     "output_type": "stream",
     "text": [
      "200it [00:00, 528.83it/s]\n"
     ]
    },
    {
     "name": "stdout",
     "output_type": "stream",
     "text": [
      "1\n",
      "1 0.7580304244609969\n",
      "Objective PLSRegression_Objective:\n"
     ]
    },
    {
     "name": "stderr",
     "output_type": "stream",
     "text": [
      "  6%|▌         | 499/8000 [00:00<00:08, 891.58it/s]\n"
     ]
    },
    {
     "name": "stdout",
     "output_type": "stream",
     "text": [
      "iterations: 499\n",
      "Number of used features: 26\n",
      "Used features: ['num-0.500000-mean_mask', 'sum-0.500000-mean_mask', 'mean-0.500000-mean_mask', 'std-0.500000-mean_mask', 'skew-0.500000-mean_mask', 'kurt-0.500000-mean_mask', 'hist-0-0.500000-mean_mask', 'hist-1-0.500000-mean_mask', 'hist-2-0.500000-mean_mask', 'hist-3-0.500000-mean_mask', 'hist-4-0.500000-mean_mask', 'hist-5-0.500000-mean_mask', 'hist-6-0.500000-mean_mask', 'hist-7-0.500000-mean_mask', 'hist-8-0.500000-mean_mask', 'hist-9-0.500000-mean_mask', 'hist-10-0.500000-mean_mask', 'hist-11-0.500000-mean_mask', 'hist-12-0.500000-mean_mask', 'hist-13-0.500000-mean_mask', 'hist-14-0.500000-mean_mask', 'hist-15-0.500000-mean_mask', 'hist-16-0.500000-mean_mask', 'hist-17-0.500000-mean_mask', 'hist-18-0.500000-mean_mask', 'hist-19-0.500000-mean_mask'] \n",
      "Score: -0.7569616609955339\n"
     ]
    },
    {
     "name": "stderr",
     "output_type": "stream",
     "text": [
      "200it [00:00, 561.36it/s]"
     ]
    },
    {
     "name": "stdout",
     "output_type": "stream",
     "text": [
      "1\n",
      "1 0.7582135006073772\n"
     ]
    },
    {
     "name": "stderr",
     "output_type": "stream",
     "text": [
      "\n"
     ]
    }
   ],
   "source": [
    "results_no_fs.append(model_selection(mld_features[[c for c in mld_features.columns if 'mean_mask' in c or c == 'type']], mld_target, dataset='mld', type='mean_mask', disable_feature_selection=True))"
   ]
  },
  {
   "cell_type": "markdown",
   "metadata": {},
   "source": [
    "### MLD individual masks"
   ]
  },
  {
   "cell_type": "code",
   "execution_count": 17,
   "metadata": {},
   "outputs": [
    {
     "name": "stdout",
     "output_type": "stream",
     "text": [
      "Objective KNNR_Objective:\n"
     ]
    },
    {
     "name": "stderr",
     "output_type": "stream",
     "text": [
      "  7%|▋         | 567/8000 [00:36<08:01, 15.43it/s]\n"
     ]
    },
    {
     "name": "stdout",
     "output_type": "stream",
     "text": [
      "iterations: 567\n",
      "Number of used features: 26\n",
      "Used features: ['num-203a-mld.nii-0.500000', 'sum-203a-mld.nii-0.500000', 'mean-203a-mld.nii-0.500000', 'std-203a-mld.nii-0.500000', 'skew-203a-mld.nii-0.500000', 'kurt-203a-mld.nii-0.500000', 'hist-0-203a-mld.nii-0.500000', 'hist-1-203a-mld.nii-0.500000', 'hist-2-203a-mld.nii-0.500000', 'hist-3-203a-mld.nii-0.500000', 'hist-4-203a-mld.nii-0.500000', 'hist-5-203a-mld.nii-0.500000', 'hist-6-203a-mld.nii-0.500000', 'hist-7-203a-mld.nii-0.500000', 'hist-8-203a-mld.nii-0.500000', 'hist-9-203a-mld.nii-0.500000', 'hist-10-203a-mld.nii-0.500000', 'hist-11-203a-mld.nii-0.500000', 'hist-12-203a-mld.nii-0.500000', 'hist-13-203a-mld.nii-0.500000', 'hist-14-203a-mld.nii-0.500000', 'hist-15-203a-mld.nii-0.500000', 'hist-16-203a-mld.nii-0.500000', 'hist-17-203a-mld.nii-0.500000', 'hist-18-203a-mld.nii-0.500000', 'hist-19-203a-mld.nii-0.500000'] \n",
      "Score: -0.5772109416179307\n"
     ]
    },
    {
     "name": "stderr",
     "output_type": "stream",
     "text": [
      "200it [00:00, 742.86it/s]\n"
     ]
    },
    {
     "name": "stdout",
     "output_type": "stream",
     "text": [
      "1\n",
      "1 0.5880814356503785\n",
      "Objective LinearRegression_Objective:\n"
     ]
    },
    {
     "name": "stderr",
     "output_type": "stream",
     "text": [
      "  6%|▌         | 499/8000 [00:00<00:02, 2893.19it/s]\n"
     ]
    },
    {
     "name": "stdout",
     "output_type": "stream",
     "text": [
      "iterations: 499\n",
      "Number of used features: 26\n",
      "Used features: ['num-203a-mld.nii-0.500000', 'sum-203a-mld.nii-0.500000', 'mean-203a-mld.nii-0.500000', 'std-203a-mld.nii-0.500000', 'skew-203a-mld.nii-0.500000', 'kurt-203a-mld.nii-0.500000', 'hist-0-203a-mld.nii-0.500000', 'hist-1-203a-mld.nii-0.500000', 'hist-2-203a-mld.nii-0.500000', 'hist-3-203a-mld.nii-0.500000', 'hist-4-203a-mld.nii-0.500000', 'hist-5-203a-mld.nii-0.500000', 'hist-6-203a-mld.nii-0.500000', 'hist-7-203a-mld.nii-0.500000', 'hist-8-203a-mld.nii-0.500000', 'hist-9-203a-mld.nii-0.500000', 'hist-10-203a-mld.nii-0.500000', 'hist-11-203a-mld.nii-0.500000', 'hist-12-203a-mld.nii-0.500000', 'hist-13-203a-mld.nii-0.500000', 'hist-14-203a-mld.nii-0.500000', 'hist-15-203a-mld.nii-0.500000', 'hist-16-203a-mld.nii-0.500000', 'hist-17-203a-mld.nii-0.500000', 'hist-18-203a-mld.nii-0.500000', 'hist-19-203a-mld.nii-0.500000'] \n",
      "Score: -0.7382063968843207\n"
     ]
    },
    {
     "name": "stderr",
     "output_type": "stream",
     "text": [
      "200it [00:00, 684.13it/s]\n"
     ]
    },
    {
     "name": "stdout",
     "output_type": "stream",
     "text": [
      "1\n",
      "1 0.7425188355129932\n",
      "Objective LassoRegression_Objective:\n"
     ]
    },
    {
     "name": "stderr",
     "output_type": "stream",
     "text": [
      "  6%|▋         | 502/8000 [00:02<00:38, 195.42it/s]\n"
     ]
    },
    {
     "name": "stdout",
     "output_type": "stream",
     "text": [
      "iterations: 502\n",
      "Number of used features: 26\n",
      "Used features: ['num-203a-mld.nii-0.500000', 'sum-203a-mld.nii-0.500000', 'mean-203a-mld.nii-0.500000', 'std-203a-mld.nii-0.500000', 'skew-203a-mld.nii-0.500000', 'kurt-203a-mld.nii-0.500000', 'hist-0-203a-mld.nii-0.500000', 'hist-1-203a-mld.nii-0.500000', 'hist-2-203a-mld.nii-0.500000', 'hist-3-203a-mld.nii-0.500000', 'hist-4-203a-mld.nii-0.500000', 'hist-5-203a-mld.nii-0.500000', 'hist-6-203a-mld.nii-0.500000', 'hist-7-203a-mld.nii-0.500000', 'hist-8-203a-mld.nii-0.500000', 'hist-9-203a-mld.nii-0.500000', 'hist-10-203a-mld.nii-0.500000', 'hist-11-203a-mld.nii-0.500000', 'hist-12-203a-mld.nii-0.500000', 'hist-13-203a-mld.nii-0.500000', 'hist-14-203a-mld.nii-0.500000', 'hist-15-203a-mld.nii-0.500000', 'hist-16-203a-mld.nii-0.500000', 'hist-17-203a-mld.nii-0.500000', 'hist-18-203a-mld.nii-0.500000', 'hist-19-203a-mld.nii-0.500000'] \n",
      "Score: -0.763125990944795\n"
     ]
    },
    {
     "name": "stderr",
     "output_type": "stream",
     "text": [
      "200it [00:00, 493.10it/s]\n"
     ]
    },
    {
     "name": "stdout",
     "output_type": "stream",
     "text": [
      "1\n",
      "1 0.7654553899324549\n",
      "Objective RidgeRegression_Objective:\n"
     ]
    },
    {
     "name": "stderr",
     "output_type": "stream",
     "text": [
      "  6%|▌         | 499/8000 [00:01<00:24, 306.92it/s]\n"
     ]
    },
    {
     "name": "stdout",
     "output_type": "stream",
     "text": [
      "iterations: 499\n",
      "Number of used features: 26\n",
      "Used features: ['num-203a-mld.nii-0.500000', 'sum-203a-mld.nii-0.500000', 'mean-203a-mld.nii-0.500000', 'std-203a-mld.nii-0.500000', 'skew-203a-mld.nii-0.500000', 'kurt-203a-mld.nii-0.500000', 'hist-0-203a-mld.nii-0.500000', 'hist-1-203a-mld.nii-0.500000', 'hist-2-203a-mld.nii-0.500000', 'hist-3-203a-mld.nii-0.500000', 'hist-4-203a-mld.nii-0.500000', 'hist-5-203a-mld.nii-0.500000', 'hist-6-203a-mld.nii-0.500000', 'hist-7-203a-mld.nii-0.500000', 'hist-8-203a-mld.nii-0.500000', 'hist-9-203a-mld.nii-0.500000', 'hist-10-203a-mld.nii-0.500000', 'hist-11-203a-mld.nii-0.500000', 'hist-12-203a-mld.nii-0.500000', 'hist-13-203a-mld.nii-0.500000', 'hist-14-203a-mld.nii-0.500000', 'hist-15-203a-mld.nii-0.500000', 'hist-16-203a-mld.nii-0.500000', 'hist-17-203a-mld.nii-0.500000', 'hist-18-203a-mld.nii-0.500000', 'hist-19-203a-mld.nii-0.500000'] \n",
      "Score: -0.7555425657072612\n"
     ]
    },
    {
     "name": "stderr",
     "output_type": "stream",
     "text": [
      "200it [00:00, 569.83it/s]\n"
     ]
    },
    {
     "name": "stdout",
     "output_type": "stream",
     "text": [
      "1\n",
      "1 0.7591243591468538\n",
      "Objective PLSRegression_Objective:\n"
     ]
    },
    {
     "name": "stderr",
     "output_type": "stream",
     "text": [
      "  6%|▋         | 507/8000 [00:00<00:08, 842.20it/s]\n"
     ]
    },
    {
     "name": "stdout",
     "output_type": "stream",
     "text": [
      "iterations: 507\n",
      "Number of used features: 26\n",
      "Used features: ['num-203a-mld.nii-0.500000', 'sum-203a-mld.nii-0.500000', 'mean-203a-mld.nii-0.500000', 'std-203a-mld.nii-0.500000', 'skew-203a-mld.nii-0.500000', 'kurt-203a-mld.nii-0.500000', 'hist-0-203a-mld.nii-0.500000', 'hist-1-203a-mld.nii-0.500000', 'hist-2-203a-mld.nii-0.500000', 'hist-3-203a-mld.nii-0.500000', 'hist-4-203a-mld.nii-0.500000', 'hist-5-203a-mld.nii-0.500000', 'hist-6-203a-mld.nii-0.500000', 'hist-7-203a-mld.nii-0.500000', 'hist-8-203a-mld.nii-0.500000', 'hist-9-203a-mld.nii-0.500000', 'hist-10-203a-mld.nii-0.500000', 'hist-11-203a-mld.nii-0.500000', 'hist-12-203a-mld.nii-0.500000', 'hist-13-203a-mld.nii-0.500000', 'hist-14-203a-mld.nii-0.500000', 'hist-15-203a-mld.nii-0.500000', 'hist-16-203a-mld.nii-0.500000', 'hist-17-203a-mld.nii-0.500000', 'hist-18-203a-mld.nii-0.500000', 'hist-19-203a-mld.nii-0.500000'] \n",
      "Score: -0.7538727737512294\n"
     ]
    },
    {
     "name": "stderr",
     "output_type": "stream",
     "text": [
      "200it [00:00, 511.77it/s]\n"
     ]
    },
    {
     "name": "stdout",
     "output_type": "stream",
     "text": [
      "1\n",
      "1 0.755874253993829\n",
      "Objective KNNR_Objective:\n"
     ]
    },
    {
     "name": "stderr",
     "output_type": "stream",
     "text": [
      "  6%|▋         | 517/8000 [00:33<07:59, 15.61it/s]\n"
     ]
    },
    {
     "name": "stdout",
     "output_type": "stream",
     "text": [
      "iterations: 517\n",
      "Number of used features: 26\n",
      "Used features: ['num-203k-mld.nii-0.500000', 'sum-203k-mld.nii-0.500000', 'mean-203k-mld.nii-0.500000', 'std-203k-mld.nii-0.500000', 'skew-203k-mld.nii-0.500000', 'kurt-203k-mld.nii-0.500000', 'hist-0-203k-mld.nii-0.500000', 'hist-1-203k-mld.nii-0.500000', 'hist-2-203k-mld.nii-0.500000', 'hist-3-203k-mld.nii-0.500000', 'hist-4-203k-mld.nii-0.500000', 'hist-5-203k-mld.nii-0.500000', 'hist-6-203k-mld.nii-0.500000', 'hist-7-203k-mld.nii-0.500000', 'hist-8-203k-mld.nii-0.500000', 'hist-9-203k-mld.nii-0.500000', 'hist-10-203k-mld.nii-0.500000', 'hist-11-203k-mld.nii-0.500000', 'hist-12-203k-mld.nii-0.500000', 'hist-13-203k-mld.nii-0.500000', 'hist-14-203k-mld.nii-0.500000', 'hist-15-203k-mld.nii-0.500000', 'hist-16-203k-mld.nii-0.500000', 'hist-17-203k-mld.nii-0.500000', 'hist-18-203k-mld.nii-0.500000', 'hist-19-203k-mld.nii-0.500000'] \n",
      "Score: -0.5410991625529646\n"
     ]
    },
    {
     "name": "stderr",
     "output_type": "stream",
     "text": [
      "200it [00:00, 793.35it/s]\n"
     ]
    },
    {
     "name": "stdout",
     "output_type": "stream",
     "text": [
      "1\n",
      "1 0.5418822879833187\n",
      "Objective LinearRegression_Objective:\n"
     ]
    },
    {
     "name": "stderr",
     "output_type": "stream",
     "text": [
      "  6%|▌         | 499/8000 [00:00<00:02, 2516.22it/s]\n"
     ]
    },
    {
     "name": "stdout",
     "output_type": "stream",
     "text": [
      "iterations: 499\n",
      "Number of used features: 26\n",
      "Used features: ['num-203k-mld.nii-0.500000', 'sum-203k-mld.nii-0.500000', 'mean-203k-mld.nii-0.500000', 'std-203k-mld.nii-0.500000', 'skew-203k-mld.nii-0.500000', 'kurt-203k-mld.nii-0.500000', 'hist-0-203k-mld.nii-0.500000', 'hist-1-203k-mld.nii-0.500000', 'hist-2-203k-mld.nii-0.500000', 'hist-3-203k-mld.nii-0.500000', 'hist-4-203k-mld.nii-0.500000', 'hist-5-203k-mld.nii-0.500000', 'hist-6-203k-mld.nii-0.500000', 'hist-7-203k-mld.nii-0.500000', 'hist-8-203k-mld.nii-0.500000', 'hist-9-203k-mld.nii-0.500000', 'hist-10-203k-mld.nii-0.500000', 'hist-11-203k-mld.nii-0.500000', 'hist-12-203k-mld.nii-0.500000', 'hist-13-203k-mld.nii-0.500000', 'hist-14-203k-mld.nii-0.500000', 'hist-15-203k-mld.nii-0.500000', 'hist-16-203k-mld.nii-0.500000', 'hist-17-203k-mld.nii-0.500000', 'hist-18-203k-mld.nii-0.500000', 'hist-19-203k-mld.nii-0.500000'] \n",
      "Score: -0.7295444524212569\n"
     ]
    },
    {
     "name": "stderr",
     "output_type": "stream",
     "text": [
      "200it [00:00, 650.77it/s]\n"
     ]
    },
    {
     "name": "stdout",
     "output_type": "stream",
     "text": [
      "1\n",
      "1 0.7304015147457846\n",
      "Objective LassoRegression_Objective:\n"
     ]
    },
    {
     "name": "stderr",
     "output_type": "stream",
     "text": [
      "  6%|▋         | 502/8000 [00:02<00:35, 209.26it/s]\n"
     ]
    },
    {
     "name": "stdout",
     "output_type": "stream",
     "text": [
      "iterations: 502\n",
      "Number of used features: 26\n",
      "Used features: ['num-203k-mld.nii-0.500000', 'sum-203k-mld.nii-0.500000', 'mean-203k-mld.nii-0.500000', 'std-203k-mld.nii-0.500000', 'skew-203k-mld.nii-0.500000', 'kurt-203k-mld.nii-0.500000', 'hist-0-203k-mld.nii-0.500000', 'hist-1-203k-mld.nii-0.500000', 'hist-2-203k-mld.nii-0.500000', 'hist-3-203k-mld.nii-0.500000', 'hist-4-203k-mld.nii-0.500000', 'hist-5-203k-mld.nii-0.500000', 'hist-6-203k-mld.nii-0.500000', 'hist-7-203k-mld.nii-0.500000', 'hist-8-203k-mld.nii-0.500000', 'hist-9-203k-mld.nii-0.500000', 'hist-10-203k-mld.nii-0.500000', 'hist-11-203k-mld.nii-0.500000', 'hist-12-203k-mld.nii-0.500000', 'hist-13-203k-mld.nii-0.500000', 'hist-14-203k-mld.nii-0.500000', 'hist-15-203k-mld.nii-0.500000', 'hist-16-203k-mld.nii-0.500000', 'hist-17-203k-mld.nii-0.500000', 'hist-18-203k-mld.nii-0.500000', 'hist-19-203k-mld.nii-0.500000'] \n",
      "Score: -0.7536643948740636\n"
     ]
    },
    {
     "name": "stderr",
     "output_type": "stream",
     "text": [
      "200it [00:00, 535.66it/s]\n"
     ]
    },
    {
     "name": "stdout",
     "output_type": "stream",
     "text": [
      "1\n",
      "1 0.75532592546259\n",
      "Objective RidgeRegression_Objective:\n"
     ]
    },
    {
     "name": "stderr",
     "output_type": "stream",
     "text": [
      "  6%|▌         | 499/8000 [00:01<00:25, 298.84it/s]\n"
     ]
    },
    {
     "name": "stdout",
     "output_type": "stream",
     "text": [
      "iterations: 499\n",
      "Number of used features: 26\n",
      "Used features: ['num-203k-mld.nii-0.500000', 'sum-203k-mld.nii-0.500000', 'mean-203k-mld.nii-0.500000', 'std-203k-mld.nii-0.500000', 'skew-203k-mld.nii-0.500000', 'kurt-203k-mld.nii-0.500000', 'hist-0-203k-mld.nii-0.500000', 'hist-1-203k-mld.nii-0.500000', 'hist-2-203k-mld.nii-0.500000', 'hist-3-203k-mld.nii-0.500000', 'hist-4-203k-mld.nii-0.500000', 'hist-5-203k-mld.nii-0.500000', 'hist-6-203k-mld.nii-0.500000', 'hist-7-203k-mld.nii-0.500000', 'hist-8-203k-mld.nii-0.500000', 'hist-9-203k-mld.nii-0.500000', 'hist-10-203k-mld.nii-0.500000', 'hist-11-203k-mld.nii-0.500000', 'hist-12-203k-mld.nii-0.500000', 'hist-13-203k-mld.nii-0.500000', 'hist-14-203k-mld.nii-0.500000', 'hist-15-203k-mld.nii-0.500000', 'hist-16-203k-mld.nii-0.500000', 'hist-17-203k-mld.nii-0.500000', 'hist-18-203k-mld.nii-0.500000', 'hist-19-203k-mld.nii-0.500000'] \n",
      "Score: -0.7529457516096775\n"
     ]
    },
    {
     "name": "stderr",
     "output_type": "stream",
     "text": [
      "200it [00:00, 548.43it/s]\n"
     ]
    },
    {
     "name": "stdout",
     "output_type": "stream",
     "text": [
      "1\n",
      "1 0.7546798785680013\n",
      "Objective PLSRegression_Objective:\n"
     ]
    },
    {
     "name": "stderr",
     "output_type": "stream",
     "text": [
      "  6%|▌         | 499/8000 [00:00<00:08, 835.26it/s]\n"
     ]
    },
    {
     "name": "stdout",
     "output_type": "stream",
     "text": [
      "iterations: 499\n",
      "Number of used features: 26\n",
      "Used features: ['num-203k-mld.nii-0.500000', 'sum-203k-mld.nii-0.500000', 'mean-203k-mld.nii-0.500000', 'std-203k-mld.nii-0.500000', 'skew-203k-mld.nii-0.500000', 'kurt-203k-mld.nii-0.500000', 'hist-0-203k-mld.nii-0.500000', 'hist-1-203k-mld.nii-0.500000', 'hist-2-203k-mld.nii-0.500000', 'hist-3-203k-mld.nii-0.500000', 'hist-4-203k-mld.nii-0.500000', 'hist-5-203k-mld.nii-0.500000', 'hist-6-203k-mld.nii-0.500000', 'hist-7-203k-mld.nii-0.500000', 'hist-8-203k-mld.nii-0.500000', 'hist-9-203k-mld.nii-0.500000', 'hist-10-203k-mld.nii-0.500000', 'hist-11-203k-mld.nii-0.500000', 'hist-12-203k-mld.nii-0.500000', 'hist-13-203k-mld.nii-0.500000', 'hist-14-203k-mld.nii-0.500000', 'hist-15-203k-mld.nii-0.500000', 'hist-16-203k-mld.nii-0.500000', 'hist-17-203k-mld.nii-0.500000', 'hist-18-203k-mld.nii-0.500000', 'hist-19-203k-mld.nii-0.500000'] \n",
      "Score: -0.7514954246735079\n"
     ]
    },
    {
     "name": "stderr",
     "output_type": "stream",
     "text": [
      "200it [00:00, 515.30it/s]\n"
     ]
    },
    {
     "name": "stdout",
     "output_type": "stream",
     "text": [
      "1\n",
      "1 0.7532178015867653\n",
      "Objective KNNR_Objective:\n"
     ]
    },
    {
     "name": "stderr",
     "output_type": "stream",
     "text": [
      "  7%|▋         | 563/8000 [00:33<07:25, 16.71it/s]\n"
     ]
    },
    {
     "name": "stdout",
     "output_type": "stream",
     "text": [
      "iterations: 563\n",
      "Number of used features: 26\n",
      "Used features: ['num-204f-mld.nii-0.500000', 'sum-204f-mld.nii-0.500000', 'mean-204f-mld.nii-0.500000', 'std-204f-mld.nii-0.500000', 'skew-204f-mld.nii-0.500000', 'kurt-204f-mld.nii-0.500000', 'hist-0-204f-mld.nii-0.500000', 'hist-1-204f-mld.nii-0.500000', 'hist-2-204f-mld.nii-0.500000', 'hist-3-204f-mld.nii-0.500000', 'hist-4-204f-mld.nii-0.500000', 'hist-5-204f-mld.nii-0.500000', 'hist-6-204f-mld.nii-0.500000', 'hist-7-204f-mld.nii-0.500000', 'hist-8-204f-mld.nii-0.500000', 'hist-9-204f-mld.nii-0.500000', 'hist-10-204f-mld.nii-0.500000', 'hist-11-204f-mld.nii-0.500000', 'hist-12-204f-mld.nii-0.500000', 'hist-13-204f-mld.nii-0.500000', 'hist-14-204f-mld.nii-0.500000', 'hist-15-204f-mld.nii-0.500000', 'hist-16-204f-mld.nii-0.500000', 'hist-17-204f-mld.nii-0.500000', 'hist-18-204f-mld.nii-0.500000', 'hist-19-204f-mld.nii-0.500000'] \n",
      "Score: -0.49376339642004097\n"
     ]
    },
    {
     "name": "stderr",
     "output_type": "stream",
     "text": [
      "200it [00:00, 806.16it/s]\n"
     ]
    },
    {
     "name": "stdout",
     "output_type": "stream",
     "text": [
      "1\n",
      "1 0.49651025033479823\n",
      "Objective LinearRegression_Objective:\n"
     ]
    },
    {
     "name": "stderr",
     "output_type": "stream",
     "text": [
      "  6%|▌         | 499/8000 [00:00<00:02, 3141.17it/s]\n"
     ]
    },
    {
     "name": "stdout",
     "output_type": "stream",
     "text": [
      "iterations: 499\n",
      "Number of used features: 26\n",
      "Used features: ['num-204f-mld.nii-0.500000', 'sum-204f-mld.nii-0.500000', 'mean-204f-mld.nii-0.500000', 'std-204f-mld.nii-0.500000', 'skew-204f-mld.nii-0.500000', 'kurt-204f-mld.nii-0.500000', 'hist-0-204f-mld.nii-0.500000', 'hist-1-204f-mld.nii-0.500000', 'hist-2-204f-mld.nii-0.500000', 'hist-3-204f-mld.nii-0.500000', 'hist-4-204f-mld.nii-0.500000', 'hist-5-204f-mld.nii-0.500000', 'hist-6-204f-mld.nii-0.500000', 'hist-7-204f-mld.nii-0.500000', 'hist-8-204f-mld.nii-0.500000', 'hist-9-204f-mld.nii-0.500000', 'hist-10-204f-mld.nii-0.500000', 'hist-11-204f-mld.nii-0.500000', 'hist-12-204f-mld.nii-0.500000', 'hist-13-204f-mld.nii-0.500000', 'hist-14-204f-mld.nii-0.500000', 'hist-15-204f-mld.nii-0.500000', 'hist-16-204f-mld.nii-0.500000', 'hist-17-204f-mld.nii-0.500000', 'hist-18-204f-mld.nii-0.500000', 'hist-19-204f-mld.nii-0.500000'] \n",
      "Score: -0.7129296323352029\n"
     ]
    },
    {
     "name": "stderr",
     "output_type": "stream",
     "text": [
      "200it [00:00, 670.15it/s]\n"
     ]
    },
    {
     "name": "stdout",
     "output_type": "stream",
     "text": [
      "1\n",
      "1 0.7140380744932809\n",
      "Objective LassoRegression_Objective:\n"
     ]
    },
    {
     "name": "stderr",
     "output_type": "stream",
     "text": [
      "  7%|▋         | 552/8000 [00:02<00:34, 215.94it/s]\n"
     ]
    },
    {
     "name": "stdout",
     "output_type": "stream",
     "text": [
      "iterations: 552\n",
      "Number of used features: 26\n",
      "Used features: ['num-204f-mld.nii-0.500000', 'sum-204f-mld.nii-0.500000', 'mean-204f-mld.nii-0.500000', 'std-204f-mld.nii-0.500000', 'skew-204f-mld.nii-0.500000', 'kurt-204f-mld.nii-0.500000', 'hist-0-204f-mld.nii-0.500000', 'hist-1-204f-mld.nii-0.500000', 'hist-2-204f-mld.nii-0.500000', 'hist-3-204f-mld.nii-0.500000', 'hist-4-204f-mld.nii-0.500000', 'hist-5-204f-mld.nii-0.500000', 'hist-6-204f-mld.nii-0.500000', 'hist-7-204f-mld.nii-0.500000', 'hist-8-204f-mld.nii-0.500000', 'hist-9-204f-mld.nii-0.500000', 'hist-10-204f-mld.nii-0.500000', 'hist-11-204f-mld.nii-0.500000', 'hist-12-204f-mld.nii-0.500000', 'hist-13-204f-mld.nii-0.500000', 'hist-14-204f-mld.nii-0.500000', 'hist-15-204f-mld.nii-0.500000', 'hist-16-204f-mld.nii-0.500000', 'hist-17-204f-mld.nii-0.500000', 'hist-18-204f-mld.nii-0.500000', 'hist-19-204f-mld.nii-0.500000'] \n",
      "Score: -0.7317394144254517\n"
     ]
    },
    {
     "name": "stderr",
     "output_type": "stream",
     "text": [
      "200it [00:00, 367.83it/s]\n"
     ]
    },
    {
     "name": "stdout",
     "output_type": "stream",
     "text": [
      "1\n",
      "1 0.7309930021488305\n",
      "Objective RidgeRegression_Objective:\n"
     ]
    },
    {
     "name": "stderr",
     "output_type": "stream",
     "text": [
      "  6%|▌         | 499/8000 [00:01<00:25, 290.94it/s]\n"
     ]
    },
    {
     "name": "stdout",
     "output_type": "stream",
     "text": [
      "iterations: 499\n",
      "Number of used features: 26\n",
      "Used features: ['num-204f-mld.nii-0.500000', 'sum-204f-mld.nii-0.500000', 'mean-204f-mld.nii-0.500000', 'std-204f-mld.nii-0.500000', 'skew-204f-mld.nii-0.500000', 'kurt-204f-mld.nii-0.500000', 'hist-0-204f-mld.nii-0.500000', 'hist-1-204f-mld.nii-0.500000', 'hist-2-204f-mld.nii-0.500000', 'hist-3-204f-mld.nii-0.500000', 'hist-4-204f-mld.nii-0.500000', 'hist-5-204f-mld.nii-0.500000', 'hist-6-204f-mld.nii-0.500000', 'hist-7-204f-mld.nii-0.500000', 'hist-8-204f-mld.nii-0.500000', 'hist-9-204f-mld.nii-0.500000', 'hist-10-204f-mld.nii-0.500000', 'hist-11-204f-mld.nii-0.500000', 'hist-12-204f-mld.nii-0.500000', 'hist-13-204f-mld.nii-0.500000', 'hist-14-204f-mld.nii-0.500000', 'hist-15-204f-mld.nii-0.500000', 'hist-16-204f-mld.nii-0.500000', 'hist-17-204f-mld.nii-0.500000', 'hist-18-204f-mld.nii-0.500000', 'hist-19-204f-mld.nii-0.500000'] \n",
      "Score: -0.7331826860378019\n"
     ]
    },
    {
     "name": "stderr",
     "output_type": "stream",
     "text": [
      "200it [00:00, 520.91it/s]\n"
     ]
    },
    {
     "name": "stdout",
     "output_type": "stream",
     "text": [
      "1\n",
      "1 0.7326345386701223\n",
      "Objective PLSRegression_Objective:\n"
     ]
    },
    {
     "name": "stderr",
     "output_type": "stream",
     "text": [
      "  6%|▌         | 499/8000 [00:00<00:09, 792.00it/s]\n"
     ]
    },
    {
     "name": "stdout",
     "output_type": "stream",
     "text": [
      "iterations: 499\n",
      "Number of used features: 26\n",
      "Used features: ['num-204f-mld.nii-0.500000', 'sum-204f-mld.nii-0.500000', 'mean-204f-mld.nii-0.500000', 'std-204f-mld.nii-0.500000', 'skew-204f-mld.nii-0.500000', 'kurt-204f-mld.nii-0.500000', 'hist-0-204f-mld.nii-0.500000', 'hist-1-204f-mld.nii-0.500000', 'hist-2-204f-mld.nii-0.500000', 'hist-3-204f-mld.nii-0.500000', 'hist-4-204f-mld.nii-0.500000', 'hist-5-204f-mld.nii-0.500000', 'hist-6-204f-mld.nii-0.500000', 'hist-7-204f-mld.nii-0.500000', 'hist-8-204f-mld.nii-0.500000', 'hist-9-204f-mld.nii-0.500000', 'hist-10-204f-mld.nii-0.500000', 'hist-11-204f-mld.nii-0.500000', 'hist-12-204f-mld.nii-0.500000', 'hist-13-204f-mld.nii-0.500000', 'hist-14-204f-mld.nii-0.500000', 'hist-15-204f-mld.nii-0.500000', 'hist-16-204f-mld.nii-0.500000', 'hist-17-204f-mld.nii-0.500000', 'hist-18-204f-mld.nii-0.500000', 'hist-19-204f-mld.nii-0.500000'] \n",
      "Score: -0.7294648530938048\n"
     ]
    },
    {
     "name": "stderr",
     "output_type": "stream",
     "text": [
      "200it [00:00, 410.73it/s]\n"
     ]
    },
    {
     "name": "stdout",
     "output_type": "stream",
     "text": [
      "1\n",
      "1 0.7298558167097489\n",
      "Objective KNNR_Objective:\n"
     ]
    },
    {
     "name": "stderr",
     "output_type": "stream",
     "text": [
      "  6%|▋         | 511/8000 [00:43<10:33, 11.83it/s]\n"
     ]
    },
    {
     "name": "stdout",
     "output_type": "stream",
     "text": [
      "iterations: 511\n",
      "Number of used features: 26\n",
      "Used features: ['num-206k-mld.nii-0.500000', 'sum-206k-mld.nii-0.500000', 'mean-206k-mld.nii-0.500000', 'std-206k-mld.nii-0.500000', 'skew-206k-mld.nii-0.500000', 'kurt-206k-mld.nii-0.500000', 'hist-0-206k-mld.nii-0.500000', 'hist-1-206k-mld.nii-0.500000', 'hist-2-206k-mld.nii-0.500000', 'hist-3-206k-mld.nii-0.500000', 'hist-4-206k-mld.nii-0.500000', 'hist-5-206k-mld.nii-0.500000', 'hist-6-206k-mld.nii-0.500000', 'hist-7-206k-mld.nii-0.500000', 'hist-8-206k-mld.nii-0.500000', 'hist-9-206k-mld.nii-0.500000', 'hist-10-206k-mld.nii-0.500000', 'hist-11-206k-mld.nii-0.500000', 'hist-12-206k-mld.nii-0.500000', 'hist-13-206k-mld.nii-0.500000', 'hist-14-206k-mld.nii-0.500000', 'hist-15-206k-mld.nii-0.500000', 'hist-16-206k-mld.nii-0.500000', 'hist-17-206k-mld.nii-0.500000', 'hist-18-206k-mld.nii-0.500000', 'hist-19-206k-mld.nii-0.500000'] \n",
      "Score: -0.5143783483348795\n"
     ]
    },
    {
     "name": "stderr",
     "output_type": "stream",
     "text": [
      "200it [00:00, 264.27it/s]\n"
     ]
    },
    {
     "name": "stdout",
     "output_type": "stream",
     "text": [
      "1\n",
      "1 0.5152671218281164\n",
      "Objective LinearRegression_Objective:\n"
     ]
    },
    {
     "name": "stderr",
     "output_type": "stream",
     "text": [
      "  6%|▌         | 499/8000 [00:00<00:03, 2301.66it/s]\n"
     ]
    },
    {
     "name": "stdout",
     "output_type": "stream",
     "text": [
      "iterations: 499\n",
      "Number of used features: 26\n",
      "Used features: ['num-206k-mld.nii-0.500000', 'sum-206k-mld.nii-0.500000', 'mean-206k-mld.nii-0.500000', 'std-206k-mld.nii-0.500000', 'skew-206k-mld.nii-0.500000', 'kurt-206k-mld.nii-0.500000', 'hist-0-206k-mld.nii-0.500000', 'hist-1-206k-mld.nii-0.500000', 'hist-2-206k-mld.nii-0.500000', 'hist-3-206k-mld.nii-0.500000', 'hist-4-206k-mld.nii-0.500000', 'hist-5-206k-mld.nii-0.500000', 'hist-6-206k-mld.nii-0.500000', 'hist-7-206k-mld.nii-0.500000', 'hist-8-206k-mld.nii-0.500000', 'hist-9-206k-mld.nii-0.500000', 'hist-10-206k-mld.nii-0.500000', 'hist-11-206k-mld.nii-0.500000', 'hist-12-206k-mld.nii-0.500000', 'hist-13-206k-mld.nii-0.500000', 'hist-14-206k-mld.nii-0.500000', 'hist-15-206k-mld.nii-0.500000', 'hist-16-206k-mld.nii-0.500000', 'hist-17-206k-mld.nii-0.500000', 'hist-18-206k-mld.nii-0.500000', 'hist-19-206k-mld.nii-0.500000'] \n",
      "Score: -0.6965562028713744\n"
     ]
    },
    {
     "name": "stderr",
     "output_type": "stream",
     "text": [
      "200it [00:00, 620.02it/s]\n"
     ]
    },
    {
     "name": "stdout",
     "output_type": "stream",
     "text": [
      "1\n",
      "1 0.7008123786765124\n",
      "Objective LassoRegression_Objective:\n"
     ]
    },
    {
     "name": "stderr",
     "output_type": "stream",
     "text": [
      "  7%|▋         | 525/8000 [00:02<00:37, 198.06it/s]\n"
     ]
    },
    {
     "name": "stdout",
     "output_type": "stream",
     "text": [
      "iterations: 525\n",
      "Number of used features: 26\n",
      "Used features: ['num-206k-mld.nii-0.500000', 'sum-206k-mld.nii-0.500000', 'mean-206k-mld.nii-0.500000', 'std-206k-mld.nii-0.500000', 'skew-206k-mld.nii-0.500000', 'kurt-206k-mld.nii-0.500000', 'hist-0-206k-mld.nii-0.500000', 'hist-1-206k-mld.nii-0.500000', 'hist-2-206k-mld.nii-0.500000', 'hist-3-206k-mld.nii-0.500000', 'hist-4-206k-mld.nii-0.500000', 'hist-5-206k-mld.nii-0.500000', 'hist-6-206k-mld.nii-0.500000', 'hist-7-206k-mld.nii-0.500000', 'hist-8-206k-mld.nii-0.500000', 'hist-9-206k-mld.nii-0.500000', 'hist-10-206k-mld.nii-0.500000', 'hist-11-206k-mld.nii-0.500000', 'hist-12-206k-mld.nii-0.500000', 'hist-13-206k-mld.nii-0.500000', 'hist-14-206k-mld.nii-0.500000', 'hist-15-206k-mld.nii-0.500000', 'hist-16-206k-mld.nii-0.500000', 'hist-17-206k-mld.nii-0.500000', 'hist-18-206k-mld.nii-0.500000', 'hist-19-206k-mld.nii-0.500000'] \n",
      "Score: -0.7328197981603666\n"
     ]
    },
    {
     "name": "stderr",
     "output_type": "stream",
     "text": [
      "200it [00:00, 399.25it/s]\n"
     ]
    },
    {
     "name": "stdout",
     "output_type": "stream",
     "text": [
      "1\n",
      "1 0.7379544957929716\n",
      "Objective RidgeRegression_Objective:\n"
     ]
    },
    {
     "name": "stderr",
     "output_type": "stream",
     "text": [
      "  6%|▌         | 499/8000 [00:01<00:26, 280.49it/s]\n"
     ]
    },
    {
     "name": "stdout",
     "output_type": "stream",
     "text": [
      "iterations: 499\n",
      "Number of used features: 26\n",
      "Used features: ['num-206k-mld.nii-0.500000', 'sum-206k-mld.nii-0.500000', 'mean-206k-mld.nii-0.500000', 'std-206k-mld.nii-0.500000', 'skew-206k-mld.nii-0.500000', 'kurt-206k-mld.nii-0.500000', 'hist-0-206k-mld.nii-0.500000', 'hist-1-206k-mld.nii-0.500000', 'hist-2-206k-mld.nii-0.500000', 'hist-3-206k-mld.nii-0.500000', 'hist-4-206k-mld.nii-0.500000', 'hist-5-206k-mld.nii-0.500000', 'hist-6-206k-mld.nii-0.500000', 'hist-7-206k-mld.nii-0.500000', 'hist-8-206k-mld.nii-0.500000', 'hist-9-206k-mld.nii-0.500000', 'hist-10-206k-mld.nii-0.500000', 'hist-11-206k-mld.nii-0.500000', 'hist-12-206k-mld.nii-0.500000', 'hist-13-206k-mld.nii-0.500000', 'hist-14-206k-mld.nii-0.500000', 'hist-15-206k-mld.nii-0.500000', 'hist-16-206k-mld.nii-0.500000', 'hist-17-206k-mld.nii-0.500000', 'hist-18-206k-mld.nii-0.500000', 'hist-19-206k-mld.nii-0.500000'] \n",
      "Score: -0.7259515829474544\n"
     ]
    },
    {
     "name": "stderr",
     "output_type": "stream",
     "text": [
      "200it [00:00, 572.38it/s]\n"
     ]
    },
    {
     "name": "stdout",
     "output_type": "stream",
     "text": [
      "1\n",
      "1 0.7291848885388221\n",
      "Objective PLSRegression_Objective:\n"
     ]
    },
    {
     "name": "stderr",
     "output_type": "stream",
     "text": [
      "  6%|▋         | 502/8000 [00:00<00:10, 693.79it/s]\n"
     ]
    },
    {
     "name": "stdout",
     "output_type": "stream",
     "text": [
      "iterations: 502\n",
      "Number of used features: 26\n",
      "Used features: ['num-206k-mld.nii-0.500000', 'sum-206k-mld.nii-0.500000', 'mean-206k-mld.nii-0.500000', 'std-206k-mld.nii-0.500000', 'skew-206k-mld.nii-0.500000', 'kurt-206k-mld.nii-0.500000', 'hist-0-206k-mld.nii-0.500000', 'hist-1-206k-mld.nii-0.500000', 'hist-2-206k-mld.nii-0.500000', 'hist-3-206k-mld.nii-0.500000', 'hist-4-206k-mld.nii-0.500000', 'hist-5-206k-mld.nii-0.500000', 'hist-6-206k-mld.nii-0.500000', 'hist-7-206k-mld.nii-0.500000', 'hist-8-206k-mld.nii-0.500000', 'hist-9-206k-mld.nii-0.500000', 'hist-10-206k-mld.nii-0.500000', 'hist-11-206k-mld.nii-0.500000', 'hist-12-206k-mld.nii-0.500000', 'hist-13-206k-mld.nii-0.500000', 'hist-14-206k-mld.nii-0.500000', 'hist-15-206k-mld.nii-0.500000', 'hist-16-206k-mld.nii-0.500000', 'hist-17-206k-mld.nii-0.500000', 'hist-18-206k-mld.nii-0.500000', 'hist-19-206k-mld.nii-0.500000'] \n",
      "Score: -0.7284882208572165\n"
     ]
    },
    {
     "name": "stderr",
     "output_type": "stream",
     "text": [
      "200it [00:00, 535.99it/s]\n"
     ]
    },
    {
     "name": "stdout",
     "output_type": "stream",
     "text": [
      "1\n",
      "1 0.731212651428318\n",
      "Objective KNNR_Objective:\n"
     ]
    },
    {
     "name": "stderr",
     "output_type": "stream",
     "text": [
      "  7%|▋         | 536/8000 [00:38<08:59, 13.83it/s]\n"
     ]
    },
    {
     "name": "stdout",
     "output_type": "stream",
     "text": [
      "iterations: 536\n",
      "Number of used features: 26\n",
      "Used features: ['num-208f-mld.nii-0.500000', 'sum-208f-mld.nii-0.500000', 'mean-208f-mld.nii-0.500000', 'std-208f-mld.nii-0.500000', 'skew-208f-mld.nii-0.500000', 'kurt-208f-mld.nii-0.500000', 'hist-0-208f-mld.nii-0.500000', 'hist-1-208f-mld.nii-0.500000', 'hist-2-208f-mld.nii-0.500000', 'hist-3-208f-mld.nii-0.500000', 'hist-4-208f-mld.nii-0.500000', 'hist-5-208f-mld.nii-0.500000', 'hist-6-208f-mld.nii-0.500000', 'hist-7-208f-mld.nii-0.500000', 'hist-8-208f-mld.nii-0.500000', 'hist-9-208f-mld.nii-0.500000', 'hist-10-208f-mld.nii-0.500000', 'hist-11-208f-mld.nii-0.500000', 'hist-12-208f-mld.nii-0.500000', 'hist-13-208f-mld.nii-0.500000', 'hist-14-208f-mld.nii-0.500000', 'hist-15-208f-mld.nii-0.500000', 'hist-16-208f-mld.nii-0.500000', 'hist-17-208f-mld.nii-0.500000', 'hist-18-208f-mld.nii-0.500000', 'hist-19-208f-mld.nii-0.500000'] \n",
      "Score: -0.4903412704271688\n"
     ]
    },
    {
     "name": "stderr",
     "output_type": "stream",
     "text": [
      "200it [00:00, 667.98it/s]\n"
     ]
    },
    {
     "name": "stdout",
     "output_type": "stream",
     "text": [
      "1\n",
      "1 0.4942275430755416\n",
      "Objective LinearRegression_Objective:\n"
     ]
    },
    {
     "name": "stderr",
     "output_type": "stream",
     "text": [
      "  6%|▌         | 499/8000 [00:00<00:06, 1162.15it/s]\n"
     ]
    },
    {
     "name": "stdout",
     "output_type": "stream",
     "text": [
      "iterations: 499\n",
      "Number of used features: 26\n",
      "Used features: ['num-208f-mld.nii-0.500000', 'sum-208f-mld.nii-0.500000', 'mean-208f-mld.nii-0.500000', 'std-208f-mld.nii-0.500000', 'skew-208f-mld.nii-0.500000', 'kurt-208f-mld.nii-0.500000', 'hist-0-208f-mld.nii-0.500000', 'hist-1-208f-mld.nii-0.500000', 'hist-2-208f-mld.nii-0.500000', 'hist-3-208f-mld.nii-0.500000', 'hist-4-208f-mld.nii-0.500000', 'hist-5-208f-mld.nii-0.500000', 'hist-6-208f-mld.nii-0.500000', 'hist-7-208f-mld.nii-0.500000', 'hist-8-208f-mld.nii-0.500000', 'hist-9-208f-mld.nii-0.500000', 'hist-10-208f-mld.nii-0.500000', 'hist-11-208f-mld.nii-0.500000', 'hist-12-208f-mld.nii-0.500000', 'hist-13-208f-mld.nii-0.500000', 'hist-14-208f-mld.nii-0.500000', 'hist-15-208f-mld.nii-0.500000', 'hist-16-208f-mld.nii-0.500000', 'hist-17-208f-mld.nii-0.500000', 'hist-18-208f-mld.nii-0.500000', 'hist-19-208f-mld.nii-0.500000'] \n",
      "Score: -0.676365689381559\n"
     ]
    },
    {
     "name": "stderr",
     "output_type": "stream",
     "text": [
      "200it [00:00, 393.48it/s]\n"
     ]
    },
    {
     "name": "stdout",
     "output_type": "stream",
     "text": [
      "1\n",
      "1 0.681471485715941\n",
      "Objective LassoRegression_Objective:\n"
     ]
    },
    {
     "name": "stderr",
     "output_type": "stream",
     "text": [
      "  6%|▋         | 502/8000 [00:03<00:49, 151.52it/s]\n"
     ]
    },
    {
     "name": "stdout",
     "output_type": "stream",
     "text": [
      "iterations: 502\n",
      "Number of used features: 26\n",
      "Used features: ['num-208f-mld.nii-0.500000', 'sum-208f-mld.nii-0.500000', 'mean-208f-mld.nii-0.500000', 'std-208f-mld.nii-0.500000', 'skew-208f-mld.nii-0.500000', 'kurt-208f-mld.nii-0.500000', 'hist-0-208f-mld.nii-0.500000', 'hist-1-208f-mld.nii-0.500000', 'hist-2-208f-mld.nii-0.500000', 'hist-3-208f-mld.nii-0.500000', 'hist-4-208f-mld.nii-0.500000', 'hist-5-208f-mld.nii-0.500000', 'hist-6-208f-mld.nii-0.500000', 'hist-7-208f-mld.nii-0.500000', 'hist-8-208f-mld.nii-0.500000', 'hist-9-208f-mld.nii-0.500000', 'hist-10-208f-mld.nii-0.500000', 'hist-11-208f-mld.nii-0.500000', 'hist-12-208f-mld.nii-0.500000', 'hist-13-208f-mld.nii-0.500000', 'hist-14-208f-mld.nii-0.500000', 'hist-15-208f-mld.nii-0.500000', 'hist-16-208f-mld.nii-0.500000', 'hist-17-208f-mld.nii-0.500000', 'hist-18-208f-mld.nii-0.500000', 'hist-19-208f-mld.nii-0.500000'] \n",
      "Score: -0.7372975674442519\n"
     ]
    },
    {
     "name": "stderr",
     "output_type": "stream",
     "text": [
      "200it [00:00, 291.64it/s]\n"
     ]
    },
    {
     "name": "stdout",
     "output_type": "stream",
     "text": [
      "1\n",
      "1 0.737267207035947\n",
      "Objective RidgeRegression_Objective:\n"
     ]
    },
    {
     "name": "stderr",
     "output_type": "stream",
     "text": [
      "  6%|▌         | 499/8000 [00:01<00:27, 273.29it/s]\n"
     ]
    },
    {
     "name": "stdout",
     "output_type": "stream",
     "text": [
      "iterations: 499\n",
      "Number of used features: 26\n",
      "Used features: ['num-208f-mld.nii-0.500000', 'sum-208f-mld.nii-0.500000', 'mean-208f-mld.nii-0.500000', 'std-208f-mld.nii-0.500000', 'skew-208f-mld.nii-0.500000', 'kurt-208f-mld.nii-0.500000', 'hist-0-208f-mld.nii-0.500000', 'hist-1-208f-mld.nii-0.500000', 'hist-2-208f-mld.nii-0.500000', 'hist-3-208f-mld.nii-0.500000', 'hist-4-208f-mld.nii-0.500000', 'hist-5-208f-mld.nii-0.500000', 'hist-6-208f-mld.nii-0.500000', 'hist-7-208f-mld.nii-0.500000', 'hist-8-208f-mld.nii-0.500000', 'hist-9-208f-mld.nii-0.500000', 'hist-10-208f-mld.nii-0.500000', 'hist-11-208f-mld.nii-0.500000', 'hist-12-208f-mld.nii-0.500000', 'hist-13-208f-mld.nii-0.500000', 'hist-14-208f-mld.nii-0.500000', 'hist-15-208f-mld.nii-0.500000', 'hist-16-208f-mld.nii-0.500000', 'hist-17-208f-mld.nii-0.500000', 'hist-18-208f-mld.nii-0.500000', 'hist-19-208f-mld.nii-0.500000'] \n",
      "Score: -0.7226609593307598\n"
     ]
    },
    {
     "name": "stderr",
     "output_type": "stream",
     "text": [
      "200it [00:00, 458.23it/s]\n"
     ]
    },
    {
     "name": "stdout",
     "output_type": "stream",
     "text": [
      "1\n",
      "1 0.7246058956576074\n",
      "Objective PLSRegression_Objective:\n"
     ]
    },
    {
     "name": "stderr",
     "output_type": "stream",
     "text": [
      "  6%|▋         | 502/8000 [00:00<00:11, 659.83it/s]\n"
     ]
    },
    {
     "name": "stdout",
     "output_type": "stream",
     "text": [
      "iterations: 502\n",
      "Number of used features: 26\n",
      "Used features: ['num-208f-mld.nii-0.500000', 'sum-208f-mld.nii-0.500000', 'mean-208f-mld.nii-0.500000', 'std-208f-mld.nii-0.500000', 'skew-208f-mld.nii-0.500000', 'kurt-208f-mld.nii-0.500000', 'hist-0-208f-mld.nii-0.500000', 'hist-1-208f-mld.nii-0.500000', 'hist-2-208f-mld.nii-0.500000', 'hist-3-208f-mld.nii-0.500000', 'hist-4-208f-mld.nii-0.500000', 'hist-5-208f-mld.nii-0.500000', 'hist-6-208f-mld.nii-0.500000', 'hist-7-208f-mld.nii-0.500000', 'hist-8-208f-mld.nii-0.500000', 'hist-9-208f-mld.nii-0.500000', 'hist-10-208f-mld.nii-0.500000', 'hist-11-208f-mld.nii-0.500000', 'hist-12-208f-mld.nii-0.500000', 'hist-13-208f-mld.nii-0.500000', 'hist-14-208f-mld.nii-0.500000', 'hist-15-208f-mld.nii-0.500000', 'hist-16-208f-mld.nii-0.500000', 'hist-17-208f-mld.nii-0.500000', 'hist-18-208f-mld.nii-0.500000', 'hist-19-208f-mld.nii-0.500000'] \n",
      "Score: -0.732597433431234\n"
     ]
    },
    {
     "name": "stderr",
     "output_type": "stream",
     "text": [
      "200it [00:00, 593.34it/s]"
     ]
    },
    {
     "name": "stdout",
     "output_type": "stream",
     "text": [
      "1\n",
      "1 0.7333953719119266\n"
     ]
    },
    {
     "name": "stderr",
     "output_type": "stream",
     "text": [
      "\n"
     ]
    }
   ],
   "source": [
    "for m in masks:\n",
    "    results_no_fs.append(model_selection(mld_features[[c for c in mld_features.columns if m in c or c == 'type']], mld_target, dataset='mld', type=m, disable_feature_selection=True))"
   ]
  },
  {
   "cell_type": "markdown",
   "metadata": {},
   "source": [
    "### Hinds all features"
   ]
  },
  {
   "cell_type": "code",
   "execution_count": 18,
   "metadata": {},
   "outputs": [
    {
     "name": "stdout",
     "output_type": "stream",
     "text": [
      "Objective KNNR_Objective:\n"
     ]
    },
    {
     "name": "stderr",
     "output_type": "stream",
     "text": [
      "  7%|▋         | 529/8000 [02:39<37:34,  3.31it/s]  \n"
     ]
    },
    {
     "name": "stdout",
     "output_type": "stream",
     "text": [
      "iterations: 529\n",
      "Number of used features: 157\n",
      "Used features: ['num-203a-hinds.nii-0.500000', 'sum-203a-hinds.nii-0.500000', 'mean-203a-hinds.nii-0.500000', 'std-203a-hinds.nii-0.500000', 'skew-203a-hinds.nii-0.500000', 'kurt-203a-hinds.nii-0.500000', 'hist-0-203a-hinds.nii-0.500000', 'hist-1-203a-hinds.nii-0.500000', 'hist-2-203a-hinds.nii-0.500000', 'hist-3-203a-hinds.nii-0.500000', 'hist-4-203a-hinds.nii-0.500000', 'hist-5-203a-hinds.nii-0.500000', 'hist-6-203a-hinds.nii-0.500000', 'hist-7-203a-hinds.nii-0.500000', 'hist-8-203a-hinds.nii-0.500000', 'hist-9-203a-hinds.nii-0.500000', 'hist-10-203a-hinds.nii-0.500000', 'hist-11-203a-hinds.nii-0.500000', 'hist-12-203a-hinds.nii-0.500000', 'hist-13-203a-hinds.nii-0.500000', 'hist-14-203a-hinds.nii-0.500000', 'hist-15-203a-hinds.nii-0.500000', 'hist-16-203a-hinds.nii-0.500000', 'hist-17-203a-hinds.nii-0.500000', 'hist-18-203a-hinds.nii-0.500000', 'hist-19-203a-hinds.nii-0.500000', 'num-203k-hinds.nii-0.500000', 'sum-203k-hinds.nii-0.500000', 'mean-203k-hinds.nii-0.500000', 'std-203k-hinds.nii-0.500000', 'skew-203k-hinds.nii-0.500000', 'kurt-203k-hinds.nii-0.500000', 'hist-0-203k-hinds.nii-0.500000', 'hist-1-203k-hinds.nii-0.500000', 'hist-2-203k-hinds.nii-0.500000', 'hist-3-203k-hinds.nii-0.500000', 'hist-4-203k-hinds.nii-0.500000', 'hist-5-203k-hinds.nii-0.500000', 'hist-6-203k-hinds.nii-0.500000', 'hist-7-203k-hinds.nii-0.500000', 'hist-8-203k-hinds.nii-0.500000', 'hist-9-203k-hinds.nii-0.500000', 'hist-10-203k-hinds.nii-0.500000', 'hist-11-203k-hinds.nii-0.500000', 'hist-12-203k-hinds.nii-0.500000', 'hist-13-203k-hinds.nii-0.500000', 'hist-14-203k-hinds.nii-0.500000', 'hist-15-203k-hinds.nii-0.500000', 'hist-16-203k-hinds.nii-0.500000', 'hist-17-203k-hinds.nii-0.500000', 'hist-18-203k-hinds.nii-0.500000', 'hist-19-203k-hinds.nii-0.500000', 'num-204f-hinds.nii-0.500000', 'sum-204f-hinds.nii-0.500000', 'mean-204f-hinds.nii-0.500000', 'std-204f-hinds.nii-0.500000', 'skew-204f-hinds.nii-0.500000', 'kurt-204f-hinds.nii-0.500000', 'hist-0-204f-hinds.nii-0.500000', 'hist-1-204f-hinds.nii-0.500000', 'hist-2-204f-hinds.nii-0.500000', 'hist-3-204f-hinds.nii-0.500000', 'hist-4-204f-hinds.nii-0.500000', 'hist-5-204f-hinds.nii-0.500000', 'hist-6-204f-hinds.nii-0.500000', 'hist-7-204f-hinds.nii-0.500000', 'hist-8-204f-hinds.nii-0.500000', 'hist-9-204f-hinds.nii-0.500000', 'hist-10-204f-hinds.nii-0.500000', 'hist-11-204f-hinds.nii-0.500000', 'hist-12-204f-hinds.nii-0.500000', 'hist-13-204f-hinds.nii-0.500000', 'hist-14-204f-hinds.nii-0.500000', 'hist-15-204f-hinds.nii-0.500000', 'hist-16-204f-hinds.nii-0.500000', 'hist-17-204f-hinds.nii-0.500000', 'hist-18-204f-hinds.nii-0.500000', 'hist-19-204f-hinds.nii-0.500000', 'num-206k-hinds.nii-0.500000', 'sum-206k-hinds.nii-0.500000', 'mean-206k-hinds.nii-0.500000', 'std-206k-hinds.nii-0.500000', 'skew-206k-hinds.nii-0.500000', 'kurt-206k-hinds.nii-0.500000', 'hist-0-206k-hinds.nii-0.500000', 'hist-1-206k-hinds.nii-0.500000', 'hist-2-206k-hinds.nii-0.500000', 'hist-3-206k-hinds.nii-0.500000', 'hist-4-206k-hinds.nii-0.500000', 'hist-5-206k-hinds.nii-0.500000', 'hist-6-206k-hinds.nii-0.500000', 'hist-7-206k-hinds.nii-0.500000', 'hist-8-206k-hinds.nii-0.500000', 'hist-9-206k-hinds.nii-0.500000', 'hist-10-206k-hinds.nii-0.500000', 'hist-11-206k-hinds.nii-0.500000', 'hist-12-206k-hinds.nii-0.500000', 'hist-13-206k-hinds.nii-0.500000', 'hist-14-206k-hinds.nii-0.500000', 'hist-15-206k-hinds.nii-0.500000', 'hist-16-206k-hinds.nii-0.500000', 'hist-17-206k-hinds.nii-0.500000', 'hist-18-206k-hinds.nii-0.500000', 'hist-19-206k-hinds.nii-0.500000', 'num-208f-hinds.nii-0.500000', 'sum-208f-hinds.nii-0.500000', 'mean-208f-hinds.nii-0.500000', 'std-208f-hinds.nii-0.500000', 'skew-208f-hinds.nii-0.500000', 'kurt-208f-hinds.nii-0.500000', 'hist-0-208f-hinds.nii-0.500000', 'hist-1-208f-hinds.nii-0.500000', 'hist-2-208f-hinds.nii-0.500000', 'hist-3-208f-hinds.nii-0.500000', 'hist-4-208f-hinds.nii-0.500000', 'hist-5-208f-hinds.nii-0.500000', 'hist-6-208f-hinds.nii-0.500000', 'hist-7-208f-hinds.nii-0.500000', 'hist-8-208f-hinds.nii-0.500000', 'hist-9-208f-hinds.nii-0.500000', 'hist-10-208f-hinds.nii-0.500000', 'hist-11-208f-hinds.nii-0.500000', 'hist-12-208f-hinds.nii-0.500000', 'hist-13-208f-hinds.nii-0.500000', 'hist-14-208f-hinds.nii-0.500000', 'hist-15-208f-hinds.nii-0.500000', 'hist-16-208f-hinds.nii-0.500000', 'hist-17-208f-hinds.nii-0.500000', 'hist-18-208f-hinds.nii-0.500000', 'hist-19-208f-hinds.nii-0.500000', 'num-0.500000-mean_mask', 'sum-0.500000-mean_mask', 'mean-0.500000-mean_mask', 'std-0.500000-mean_mask', 'skew-0.500000-mean_mask', 'kurt-0.500000-mean_mask', 'hist-0-0.500000-mean_mask', 'hist-1-0.500000-mean_mask', 'hist-2-0.500000-mean_mask', 'hist-3-0.500000-mean_mask', 'hist-4-0.500000-mean_mask', 'hist-5-0.500000-mean_mask', 'hist-6-0.500000-mean_mask', 'hist-7-0.500000-mean_mask', 'hist-8-0.500000-mean_mask', 'hist-9-0.500000-mean_mask', 'hist-10-0.500000-mean_mask', 'hist-11-0.500000-mean_mask', 'hist-12-0.500000-mean_mask', 'hist-13-0.500000-mean_mask', 'hist-14-0.500000-mean_mask', 'hist-15-0.500000-mean_mask', 'hist-16-0.500000-mean_mask', 'hist-17-0.500000-mean_mask', 'hist-18-0.500000-mean_mask', 'hist-19-0.500000-mean_mask', 'pos'] \n",
      "Score: -0.6581041903953944\n"
     ]
    },
    {
     "name": "stderr",
     "output_type": "stream",
     "text": [
      "200it [00:00, 503.82it/s]\n"
     ]
    },
    {
     "name": "stdout",
     "output_type": "stream",
     "text": [
      "1\n",
      "1 0.6774981456216042\n",
      "Objective LinearRegression_Objective:\n"
     ]
    },
    {
     "name": "stderr",
     "output_type": "stream",
     "text": [
      "  6%|▌         | 499/8000 [00:02<00:33, 222.05it/s]\n"
     ]
    },
    {
     "name": "stdout",
     "output_type": "stream",
     "text": [
      "iterations: 499\n",
      "Number of used features: 157\n",
      "Used features: ['num-203a-hinds.nii-0.500000', 'sum-203a-hinds.nii-0.500000', 'mean-203a-hinds.nii-0.500000', 'std-203a-hinds.nii-0.500000', 'skew-203a-hinds.nii-0.500000', 'kurt-203a-hinds.nii-0.500000', 'hist-0-203a-hinds.nii-0.500000', 'hist-1-203a-hinds.nii-0.500000', 'hist-2-203a-hinds.nii-0.500000', 'hist-3-203a-hinds.nii-0.500000', 'hist-4-203a-hinds.nii-0.500000', 'hist-5-203a-hinds.nii-0.500000', 'hist-6-203a-hinds.nii-0.500000', 'hist-7-203a-hinds.nii-0.500000', 'hist-8-203a-hinds.nii-0.500000', 'hist-9-203a-hinds.nii-0.500000', 'hist-10-203a-hinds.nii-0.500000', 'hist-11-203a-hinds.nii-0.500000', 'hist-12-203a-hinds.nii-0.500000', 'hist-13-203a-hinds.nii-0.500000', 'hist-14-203a-hinds.nii-0.500000', 'hist-15-203a-hinds.nii-0.500000', 'hist-16-203a-hinds.nii-0.500000', 'hist-17-203a-hinds.nii-0.500000', 'hist-18-203a-hinds.nii-0.500000', 'hist-19-203a-hinds.nii-0.500000', 'num-203k-hinds.nii-0.500000', 'sum-203k-hinds.nii-0.500000', 'mean-203k-hinds.nii-0.500000', 'std-203k-hinds.nii-0.500000', 'skew-203k-hinds.nii-0.500000', 'kurt-203k-hinds.nii-0.500000', 'hist-0-203k-hinds.nii-0.500000', 'hist-1-203k-hinds.nii-0.500000', 'hist-2-203k-hinds.nii-0.500000', 'hist-3-203k-hinds.nii-0.500000', 'hist-4-203k-hinds.nii-0.500000', 'hist-5-203k-hinds.nii-0.500000', 'hist-6-203k-hinds.nii-0.500000', 'hist-7-203k-hinds.nii-0.500000', 'hist-8-203k-hinds.nii-0.500000', 'hist-9-203k-hinds.nii-0.500000', 'hist-10-203k-hinds.nii-0.500000', 'hist-11-203k-hinds.nii-0.500000', 'hist-12-203k-hinds.nii-0.500000', 'hist-13-203k-hinds.nii-0.500000', 'hist-14-203k-hinds.nii-0.500000', 'hist-15-203k-hinds.nii-0.500000', 'hist-16-203k-hinds.nii-0.500000', 'hist-17-203k-hinds.nii-0.500000', 'hist-18-203k-hinds.nii-0.500000', 'hist-19-203k-hinds.nii-0.500000', 'num-204f-hinds.nii-0.500000', 'sum-204f-hinds.nii-0.500000', 'mean-204f-hinds.nii-0.500000', 'std-204f-hinds.nii-0.500000', 'skew-204f-hinds.nii-0.500000', 'kurt-204f-hinds.nii-0.500000', 'hist-0-204f-hinds.nii-0.500000', 'hist-1-204f-hinds.nii-0.500000', 'hist-2-204f-hinds.nii-0.500000', 'hist-3-204f-hinds.nii-0.500000', 'hist-4-204f-hinds.nii-0.500000', 'hist-5-204f-hinds.nii-0.500000', 'hist-6-204f-hinds.nii-0.500000', 'hist-7-204f-hinds.nii-0.500000', 'hist-8-204f-hinds.nii-0.500000', 'hist-9-204f-hinds.nii-0.500000', 'hist-10-204f-hinds.nii-0.500000', 'hist-11-204f-hinds.nii-0.500000', 'hist-12-204f-hinds.nii-0.500000', 'hist-13-204f-hinds.nii-0.500000', 'hist-14-204f-hinds.nii-0.500000', 'hist-15-204f-hinds.nii-0.500000', 'hist-16-204f-hinds.nii-0.500000', 'hist-17-204f-hinds.nii-0.500000', 'hist-18-204f-hinds.nii-0.500000', 'hist-19-204f-hinds.nii-0.500000', 'num-206k-hinds.nii-0.500000', 'sum-206k-hinds.nii-0.500000', 'mean-206k-hinds.nii-0.500000', 'std-206k-hinds.nii-0.500000', 'skew-206k-hinds.nii-0.500000', 'kurt-206k-hinds.nii-0.500000', 'hist-0-206k-hinds.nii-0.500000', 'hist-1-206k-hinds.nii-0.500000', 'hist-2-206k-hinds.nii-0.500000', 'hist-3-206k-hinds.nii-0.500000', 'hist-4-206k-hinds.nii-0.500000', 'hist-5-206k-hinds.nii-0.500000', 'hist-6-206k-hinds.nii-0.500000', 'hist-7-206k-hinds.nii-0.500000', 'hist-8-206k-hinds.nii-0.500000', 'hist-9-206k-hinds.nii-0.500000', 'hist-10-206k-hinds.nii-0.500000', 'hist-11-206k-hinds.nii-0.500000', 'hist-12-206k-hinds.nii-0.500000', 'hist-13-206k-hinds.nii-0.500000', 'hist-14-206k-hinds.nii-0.500000', 'hist-15-206k-hinds.nii-0.500000', 'hist-16-206k-hinds.nii-0.500000', 'hist-17-206k-hinds.nii-0.500000', 'hist-18-206k-hinds.nii-0.500000', 'hist-19-206k-hinds.nii-0.500000', 'num-208f-hinds.nii-0.500000', 'sum-208f-hinds.nii-0.500000', 'mean-208f-hinds.nii-0.500000', 'std-208f-hinds.nii-0.500000', 'skew-208f-hinds.nii-0.500000', 'kurt-208f-hinds.nii-0.500000', 'hist-0-208f-hinds.nii-0.500000', 'hist-1-208f-hinds.nii-0.500000', 'hist-2-208f-hinds.nii-0.500000', 'hist-3-208f-hinds.nii-0.500000', 'hist-4-208f-hinds.nii-0.500000', 'hist-5-208f-hinds.nii-0.500000', 'hist-6-208f-hinds.nii-0.500000', 'hist-7-208f-hinds.nii-0.500000', 'hist-8-208f-hinds.nii-0.500000', 'hist-9-208f-hinds.nii-0.500000', 'hist-10-208f-hinds.nii-0.500000', 'hist-11-208f-hinds.nii-0.500000', 'hist-12-208f-hinds.nii-0.500000', 'hist-13-208f-hinds.nii-0.500000', 'hist-14-208f-hinds.nii-0.500000', 'hist-15-208f-hinds.nii-0.500000', 'hist-16-208f-hinds.nii-0.500000', 'hist-17-208f-hinds.nii-0.500000', 'hist-18-208f-hinds.nii-0.500000', 'hist-19-208f-hinds.nii-0.500000', 'num-0.500000-mean_mask', 'sum-0.500000-mean_mask', 'mean-0.500000-mean_mask', 'std-0.500000-mean_mask', 'skew-0.500000-mean_mask', 'kurt-0.500000-mean_mask', 'hist-0-0.500000-mean_mask', 'hist-1-0.500000-mean_mask', 'hist-2-0.500000-mean_mask', 'hist-3-0.500000-mean_mask', 'hist-4-0.500000-mean_mask', 'hist-5-0.500000-mean_mask', 'hist-6-0.500000-mean_mask', 'hist-7-0.500000-mean_mask', 'hist-8-0.500000-mean_mask', 'hist-9-0.500000-mean_mask', 'hist-10-0.500000-mean_mask', 'hist-11-0.500000-mean_mask', 'hist-12-0.500000-mean_mask', 'hist-13-0.500000-mean_mask', 'hist-14-0.500000-mean_mask', 'hist-15-0.500000-mean_mask', 'hist-16-0.500000-mean_mask', 'hist-17-0.500000-mean_mask', 'hist-18-0.500000-mean_mask', 'hist-19-0.500000-mean_mask', 'pos'] \n",
      "Score: 0.07959224304628854\n"
     ]
    },
    {
     "name": "stderr",
     "output_type": "stream",
     "text": [
      "200it [00:07, 28.19it/s]\n"
     ]
    },
    {
     "name": "stdout",
     "output_type": "stream",
     "text": [
      "1\n",
      "1 -1.7192639543190054\n",
      "Objective LassoRegression_Objective:\n"
     ]
    },
    {
     "name": "stderr",
     "output_type": "stream",
     "text": [
      "  6%|▋         | 502/8000 [00:13<03:21, 37.21it/s] \n"
     ]
    },
    {
     "name": "stdout",
     "output_type": "stream",
     "text": [
      "iterations: 502\n",
      "Number of used features: 157\n",
      "Used features: ['num-203a-hinds.nii-0.500000', 'sum-203a-hinds.nii-0.500000', 'mean-203a-hinds.nii-0.500000', 'std-203a-hinds.nii-0.500000', 'skew-203a-hinds.nii-0.500000', 'kurt-203a-hinds.nii-0.500000', 'hist-0-203a-hinds.nii-0.500000', 'hist-1-203a-hinds.nii-0.500000', 'hist-2-203a-hinds.nii-0.500000', 'hist-3-203a-hinds.nii-0.500000', 'hist-4-203a-hinds.nii-0.500000', 'hist-5-203a-hinds.nii-0.500000', 'hist-6-203a-hinds.nii-0.500000', 'hist-7-203a-hinds.nii-0.500000', 'hist-8-203a-hinds.nii-0.500000', 'hist-9-203a-hinds.nii-0.500000', 'hist-10-203a-hinds.nii-0.500000', 'hist-11-203a-hinds.nii-0.500000', 'hist-12-203a-hinds.nii-0.500000', 'hist-13-203a-hinds.nii-0.500000', 'hist-14-203a-hinds.nii-0.500000', 'hist-15-203a-hinds.nii-0.500000', 'hist-16-203a-hinds.nii-0.500000', 'hist-17-203a-hinds.nii-0.500000', 'hist-18-203a-hinds.nii-0.500000', 'hist-19-203a-hinds.nii-0.500000', 'num-203k-hinds.nii-0.500000', 'sum-203k-hinds.nii-0.500000', 'mean-203k-hinds.nii-0.500000', 'std-203k-hinds.nii-0.500000', 'skew-203k-hinds.nii-0.500000', 'kurt-203k-hinds.nii-0.500000', 'hist-0-203k-hinds.nii-0.500000', 'hist-1-203k-hinds.nii-0.500000', 'hist-2-203k-hinds.nii-0.500000', 'hist-3-203k-hinds.nii-0.500000', 'hist-4-203k-hinds.nii-0.500000', 'hist-5-203k-hinds.nii-0.500000', 'hist-6-203k-hinds.nii-0.500000', 'hist-7-203k-hinds.nii-0.500000', 'hist-8-203k-hinds.nii-0.500000', 'hist-9-203k-hinds.nii-0.500000', 'hist-10-203k-hinds.nii-0.500000', 'hist-11-203k-hinds.nii-0.500000', 'hist-12-203k-hinds.nii-0.500000', 'hist-13-203k-hinds.nii-0.500000', 'hist-14-203k-hinds.nii-0.500000', 'hist-15-203k-hinds.nii-0.500000', 'hist-16-203k-hinds.nii-0.500000', 'hist-17-203k-hinds.nii-0.500000', 'hist-18-203k-hinds.nii-0.500000', 'hist-19-203k-hinds.nii-0.500000', 'num-204f-hinds.nii-0.500000', 'sum-204f-hinds.nii-0.500000', 'mean-204f-hinds.nii-0.500000', 'std-204f-hinds.nii-0.500000', 'skew-204f-hinds.nii-0.500000', 'kurt-204f-hinds.nii-0.500000', 'hist-0-204f-hinds.nii-0.500000', 'hist-1-204f-hinds.nii-0.500000', 'hist-2-204f-hinds.nii-0.500000', 'hist-3-204f-hinds.nii-0.500000', 'hist-4-204f-hinds.nii-0.500000', 'hist-5-204f-hinds.nii-0.500000', 'hist-6-204f-hinds.nii-0.500000', 'hist-7-204f-hinds.nii-0.500000', 'hist-8-204f-hinds.nii-0.500000', 'hist-9-204f-hinds.nii-0.500000', 'hist-10-204f-hinds.nii-0.500000', 'hist-11-204f-hinds.nii-0.500000', 'hist-12-204f-hinds.nii-0.500000', 'hist-13-204f-hinds.nii-0.500000', 'hist-14-204f-hinds.nii-0.500000', 'hist-15-204f-hinds.nii-0.500000', 'hist-16-204f-hinds.nii-0.500000', 'hist-17-204f-hinds.nii-0.500000', 'hist-18-204f-hinds.nii-0.500000', 'hist-19-204f-hinds.nii-0.500000', 'num-206k-hinds.nii-0.500000', 'sum-206k-hinds.nii-0.500000', 'mean-206k-hinds.nii-0.500000', 'std-206k-hinds.nii-0.500000', 'skew-206k-hinds.nii-0.500000', 'kurt-206k-hinds.nii-0.500000', 'hist-0-206k-hinds.nii-0.500000', 'hist-1-206k-hinds.nii-0.500000', 'hist-2-206k-hinds.nii-0.500000', 'hist-3-206k-hinds.nii-0.500000', 'hist-4-206k-hinds.nii-0.500000', 'hist-5-206k-hinds.nii-0.500000', 'hist-6-206k-hinds.nii-0.500000', 'hist-7-206k-hinds.nii-0.500000', 'hist-8-206k-hinds.nii-0.500000', 'hist-9-206k-hinds.nii-0.500000', 'hist-10-206k-hinds.nii-0.500000', 'hist-11-206k-hinds.nii-0.500000', 'hist-12-206k-hinds.nii-0.500000', 'hist-13-206k-hinds.nii-0.500000', 'hist-14-206k-hinds.nii-0.500000', 'hist-15-206k-hinds.nii-0.500000', 'hist-16-206k-hinds.nii-0.500000', 'hist-17-206k-hinds.nii-0.500000', 'hist-18-206k-hinds.nii-0.500000', 'hist-19-206k-hinds.nii-0.500000', 'num-208f-hinds.nii-0.500000', 'sum-208f-hinds.nii-0.500000', 'mean-208f-hinds.nii-0.500000', 'std-208f-hinds.nii-0.500000', 'skew-208f-hinds.nii-0.500000', 'kurt-208f-hinds.nii-0.500000', 'hist-0-208f-hinds.nii-0.500000', 'hist-1-208f-hinds.nii-0.500000', 'hist-2-208f-hinds.nii-0.500000', 'hist-3-208f-hinds.nii-0.500000', 'hist-4-208f-hinds.nii-0.500000', 'hist-5-208f-hinds.nii-0.500000', 'hist-6-208f-hinds.nii-0.500000', 'hist-7-208f-hinds.nii-0.500000', 'hist-8-208f-hinds.nii-0.500000', 'hist-9-208f-hinds.nii-0.500000', 'hist-10-208f-hinds.nii-0.500000', 'hist-11-208f-hinds.nii-0.500000', 'hist-12-208f-hinds.nii-0.500000', 'hist-13-208f-hinds.nii-0.500000', 'hist-14-208f-hinds.nii-0.500000', 'hist-15-208f-hinds.nii-0.500000', 'hist-16-208f-hinds.nii-0.500000', 'hist-17-208f-hinds.nii-0.500000', 'hist-18-208f-hinds.nii-0.500000', 'hist-19-208f-hinds.nii-0.500000', 'num-0.500000-mean_mask', 'sum-0.500000-mean_mask', 'mean-0.500000-mean_mask', 'std-0.500000-mean_mask', 'skew-0.500000-mean_mask', 'kurt-0.500000-mean_mask', 'hist-0-0.500000-mean_mask', 'hist-1-0.500000-mean_mask', 'hist-2-0.500000-mean_mask', 'hist-3-0.500000-mean_mask', 'hist-4-0.500000-mean_mask', 'hist-5-0.500000-mean_mask', 'hist-6-0.500000-mean_mask', 'hist-7-0.500000-mean_mask', 'hist-8-0.500000-mean_mask', 'hist-9-0.500000-mean_mask', 'hist-10-0.500000-mean_mask', 'hist-11-0.500000-mean_mask', 'hist-12-0.500000-mean_mask', 'hist-13-0.500000-mean_mask', 'hist-14-0.500000-mean_mask', 'hist-15-0.500000-mean_mask', 'hist-16-0.500000-mean_mask', 'hist-17-0.500000-mean_mask', 'hist-18-0.500000-mean_mask', 'hist-19-0.500000-mean_mask', 'pos'] \n",
      "Score: -0.8609179236430504\n"
     ]
    },
    {
     "name": "stderr",
     "output_type": "stream",
     "text": [
      "200it [00:02, 68.03it/s]\n"
     ]
    },
    {
     "name": "stdout",
     "output_type": "stream",
     "text": [
      "1\n",
      "1 0.8625208748542772\n",
      "Objective RidgeRegression_Objective:\n"
     ]
    },
    {
     "name": "stderr",
     "output_type": "stream",
     "text": [
      "  6%|▌         | 499/8000 [00:05<01:18, 95.54it/s] \n"
     ]
    },
    {
     "name": "stdout",
     "output_type": "stream",
     "text": [
      "iterations: 499\n",
      "Number of used features: 157\n",
      "Used features: ['num-203a-hinds.nii-0.500000', 'sum-203a-hinds.nii-0.500000', 'mean-203a-hinds.nii-0.500000', 'std-203a-hinds.nii-0.500000', 'skew-203a-hinds.nii-0.500000', 'kurt-203a-hinds.nii-0.500000', 'hist-0-203a-hinds.nii-0.500000', 'hist-1-203a-hinds.nii-0.500000', 'hist-2-203a-hinds.nii-0.500000', 'hist-3-203a-hinds.nii-0.500000', 'hist-4-203a-hinds.nii-0.500000', 'hist-5-203a-hinds.nii-0.500000', 'hist-6-203a-hinds.nii-0.500000', 'hist-7-203a-hinds.nii-0.500000', 'hist-8-203a-hinds.nii-0.500000', 'hist-9-203a-hinds.nii-0.500000', 'hist-10-203a-hinds.nii-0.500000', 'hist-11-203a-hinds.nii-0.500000', 'hist-12-203a-hinds.nii-0.500000', 'hist-13-203a-hinds.nii-0.500000', 'hist-14-203a-hinds.nii-0.500000', 'hist-15-203a-hinds.nii-0.500000', 'hist-16-203a-hinds.nii-0.500000', 'hist-17-203a-hinds.nii-0.500000', 'hist-18-203a-hinds.nii-0.500000', 'hist-19-203a-hinds.nii-0.500000', 'num-203k-hinds.nii-0.500000', 'sum-203k-hinds.nii-0.500000', 'mean-203k-hinds.nii-0.500000', 'std-203k-hinds.nii-0.500000', 'skew-203k-hinds.nii-0.500000', 'kurt-203k-hinds.nii-0.500000', 'hist-0-203k-hinds.nii-0.500000', 'hist-1-203k-hinds.nii-0.500000', 'hist-2-203k-hinds.nii-0.500000', 'hist-3-203k-hinds.nii-0.500000', 'hist-4-203k-hinds.nii-0.500000', 'hist-5-203k-hinds.nii-0.500000', 'hist-6-203k-hinds.nii-0.500000', 'hist-7-203k-hinds.nii-0.500000', 'hist-8-203k-hinds.nii-0.500000', 'hist-9-203k-hinds.nii-0.500000', 'hist-10-203k-hinds.nii-0.500000', 'hist-11-203k-hinds.nii-0.500000', 'hist-12-203k-hinds.nii-0.500000', 'hist-13-203k-hinds.nii-0.500000', 'hist-14-203k-hinds.nii-0.500000', 'hist-15-203k-hinds.nii-0.500000', 'hist-16-203k-hinds.nii-0.500000', 'hist-17-203k-hinds.nii-0.500000', 'hist-18-203k-hinds.nii-0.500000', 'hist-19-203k-hinds.nii-0.500000', 'num-204f-hinds.nii-0.500000', 'sum-204f-hinds.nii-0.500000', 'mean-204f-hinds.nii-0.500000', 'std-204f-hinds.nii-0.500000', 'skew-204f-hinds.nii-0.500000', 'kurt-204f-hinds.nii-0.500000', 'hist-0-204f-hinds.nii-0.500000', 'hist-1-204f-hinds.nii-0.500000', 'hist-2-204f-hinds.nii-0.500000', 'hist-3-204f-hinds.nii-0.500000', 'hist-4-204f-hinds.nii-0.500000', 'hist-5-204f-hinds.nii-0.500000', 'hist-6-204f-hinds.nii-0.500000', 'hist-7-204f-hinds.nii-0.500000', 'hist-8-204f-hinds.nii-0.500000', 'hist-9-204f-hinds.nii-0.500000', 'hist-10-204f-hinds.nii-0.500000', 'hist-11-204f-hinds.nii-0.500000', 'hist-12-204f-hinds.nii-0.500000', 'hist-13-204f-hinds.nii-0.500000', 'hist-14-204f-hinds.nii-0.500000', 'hist-15-204f-hinds.nii-0.500000', 'hist-16-204f-hinds.nii-0.500000', 'hist-17-204f-hinds.nii-0.500000', 'hist-18-204f-hinds.nii-0.500000', 'hist-19-204f-hinds.nii-0.500000', 'num-206k-hinds.nii-0.500000', 'sum-206k-hinds.nii-0.500000', 'mean-206k-hinds.nii-0.500000', 'std-206k-hinds.nii-0.500000', 'skew-206k-hinds.nii-0.500000', 'kurt-206k-hinds.nii-0.500000', 'hist-0-206k-hinds.nii-0.500000', 'hist-1-206k-hinds.nii-0.500000', 'hist-2-206k-hinds.nii-0.500000', 'hist-3-206k-hinds.nii-0.500000', 'hist-4-206k-hinds.nii-0.500000', 'hist-5-206k-hinds.nii-0.500000', 'hist-6-206k-hinds.nii-0.500000', 'hist-7-206k-hinds.nii-0.500000', 'hist-8-206k-hinds.nii-0.500000', 'hist-9-206k-hinds.nii-0.500000', 'hist-10-206k-hinds.nii-0.500000', 'hist-11-206k-hinds.nii-0.500000', 'hist-12-206k-hinds.nii-0.500000', 'hist-13-206k-hinds.nii-0.500000', 'hist-14-206k-hinds.nii-0.500000', 'hist-15-206k-hinds.nii-0.500000', 'hist-16-206k-hinds.nii-0.500000', 'hist-17-206k-hinds.nii-0.500000', 'hist-18-206k-hinds.nii-0.500000', 'hist-19-206k-hinds.nii-0.500000', 'num-208f-hinds.nii-0.500000', 'sum-208f-hinds.nii-0.500000', 'mean-208f-hinds.nii-0.500000', 'std-208f-hinds.nii-0.500000', 'skew-208f-hinds.nii-0.500000', 'kurt-208f-hinds.nii-0.500000', 'hist-0-208f-hinds.nii-0.500000', 'hist-1-208f-hinds.nii-0.500000', 'hist-2-208f-hinds.nii-0.500000', 'hist-3-208f-hinds.nii-0.500000', 'hist-4-208f-hinds.nii-0.500000', 'hist-5-208f-hinds.nii-0.500000', 'hist-6-208f-hinds.nii-0.500000', 'hist-7-208f-hinds.nii-0.500000', 'hist-8-208f-hinds.nii-0.500000', 'hist-9-208f-hinds.nii-0.500000', 'hist-10-208f-hinds.nii-0.500000', 'hist-11-208f-hinds.nii-0.500000', 'hist-12-208f-hinds.nii-0.500000', 'hist-13-208f-hinds.nii-0.500000', 'hist-14-208f-hinds.nii-0.500000', 'hist-15-208f-hinds.nii-0.500000', 'hist-16-208f-hinds.nii-0.500000', 'hist-17-208f-hinds.nii-0.500000', 'hist-18-208f-hinds.nii-0.500000', 'hist-19-208f-hinds.nii-0.500000', 'num-0.500000-mean_mask', 'sum-0.500000-mean_mask', 'mean-0.500000-mean_mask', 'std-0.500000-mean_mask', 'skew-0.500000-mean_mask', 'kurt-0.500000-mean_mask', 'hist-0-0.500000-mean_mask', 'hist-1-0.500000-mean_mask', 'hist-2-0.500000-mean_mask', 'hist-3-0.500000-mean_mask', 'hist-4-0.500000-mean_mask', 'hist-5-0.500000-mean_mask', 'hist-6-0.500000-mean_mask', 'hist-7-0.500000-mean_mask', 'hist-8-0.500000-mean_mask', 'hist-9-0.500000-mean_mask', 'hist-10-0.500000-mean_mask', 'hist-11-0.500000-mean_mask', 'hist-12-0.500000-mean_mask', 'hist-13-0.500000-mean_mask', 'hist-14-0.500000-mean_mask', 'hist-15-0.500000-mean_mask', 'hist-16-0.500000-mean_mask', 'hist-17-0.500000-mean_mask', 'hist-18-0.500000-mean_mask', 'hist-19-0.500000-mean_mask', 'pos'] \n",
      "Score: -0.8392599326089867\n"
     ]
    },
    {
     "name": "stderr",
     "output_type": "stream",
     "text": [
      "200it [00:01, 153.51it/s]\n"
     ]
    },
    {
     "name": "stdout",
     "output_type": "stream",
     "text": [
      "1\n",
      "1 0.8402670812525705\n",
      "Objective PLSRegression_Objective:\n"
     ]
    },
    {
     "name": "stderr",
     "output_type": "stream",
     "text": [
      "  6%|▌         | 499/8000 [00:07<01:53, 66.35it/s] \n"
     ]
    },
    {
     "name": "stdout",
     "output_type": "stream",
     "text": [
      "iterations: 499\n",
      "Number of used features: 157\n",
      "Used features: ['num-203a-hinds.nii-0.500000', 'sum-203a-hinds.nii-0.500000', 'mean-203a-hinds.nii-0.500000', 'std-203a-hinds.nii-0.500000', 'skew-203a-hinds.nii-0.500000', 'kurt-203a-hinds.nii-0.500000', 'hist-0-203a-hinds.nii-0.500000', 'hist-1-203a-hinds.nii-0.500000', 'hist-2-203a-hinds.nii-0.500000', 'hist-3-203a-hinds.nii-0.500000', 'hist-4-203a-hinds.nii-0.500000', 'hist-5-203a-hinds.nii-0.500000', 'hist-6-203a-hinds.nii-0.500000', 'hist-7-203a-hinds.nii-0.500000', 'hist-8-203a-hinds.nii-0.500000', 'hist-9-203a-hinds.nii-0.500000', 'hist-10-203a-hinds.nii-0.500000', 'hist-11-203a-hinds.nii-0.500000', 'hist-12-203a-hinds.nii-0.500000', 'hist-13-203a-hinds.nii-0.500000', 'hist-14-203a-hinds.nii-0.500000', 'hist-15-203a-hinds.nii-0.500000', 'hist-16-203a-hinds.nii-0.500000', 'hist-17-203a-hinds.nii-0.500000', 'hist-18-203a-hinds.nii-0.500000', 'hist-19-203a-hinds.nii-0.500000', 'num-203k-hinds.nii-0.500000', 'sum-203k-hinds.nii-0.500000', 'mean-203k-hinds.nii-0.500000', 'std-203k-hinds.nii-0.500000', 'skew-203k-hinds.nii-0.500000', 'kurt-203k-hinds.nii-0.500000', 'hist-0-203k-hinds.nii-0.500000', 'hist-1-203k-hinds.nii-0.500000', 'hist-2-203k-hinds.nii-0.500000', 'hist-3-203k-hinds.nii-0.500000', 'hist-4-203k-hinds.nii-0.500000', 'hist-5-203k-hinds.nii-0.500000', 'hist-6-203k-hinds.nii-0.500000', 'hist-7-203k-hinds.nii-0.500000', 'hist-8-203k-hinds.nii-0.500000', 'hist-9-203k-hinds.nii-0.500000', 'hist-10-203k-hinds.nii-0.500000', 'hist-11-203k-hinds.nii-0.500000', 'hist-12-203k-hinds.nii-0.500000', 'hist-13-203k-hinds.nii-0.500000', 'hist-14-203k-hinds.nii-0.500000', 'hist-15-203k-hinds.nii-0.500000', 'hist-16-203k-hinds.nii-0.500000', 'hist-17-203k-hinds.nii-0.500000', 'hist-18-203k-hinds.nii-0.500000', 'hist-19-203k-hinds.nii-0.500000', 'num-204f-hinds.nii-0.500000', 'sum-204f-hinds.nii-0.500000', 'mean-204f-hinds.nii-0.500000', 'std-204f-hinds.nii-0.500000', 'skew-204f-hinds.nii-0.500000', 'kurt-204f-hinds.nii-0.500000', 'hist-0-204f-hinds.nii-0.500000', 'hist-1-204f-hinds.nii-0.500000', 'hist-2-204f-hinds.nii-0.500000', 'hist-3-204f-hinds.nii-0.500000', 'hist-4-204f-hinds.nii-0.500000', 'hist-5-204f-hinds.nii-0.500000', 'hist-6-204f-hinds.nii-0.500000', 'hist-7-204f-hinds.nii-0.500000', 'hist-8-204f-hinds.nii-0.500000', 'hist-9-204f-hinds.nii-0.500000', 'hist-10-204f-hinds.nii-0.500000', 'hist-11-204f-hinds.nii-0.500000', 'hist-12-204f-hinds.nii-0.500000', 'hist-13-204f-hinds.nii-0.500000', 'hist-14-204f-hinds.nii-0.500000', 'hist-15-204f-hinds.nii-0.500000', 'hist-16-204f-hinds.nii-0.500000', 'hist-17-204f-hinds.nii-0.500000', 'hist-18-204f-hinds.nii-0.500000', 'hist-19-204f-hinds.nii-0.500000', 'num-206k-hinds.nii-0.500000', 'sum-206k-hinds.nii-0.500000', 'mean-206k-hinds.nii-0.500000', 'std-206k-hinds.nii-0.500000', 'skew-206k-hinds.nii-0.500000', 'kurt-206k-hinds.nii-0.500000', 'hist-0-206k-hinds.nii-0.500000', 'hist-1-206k-hinds.nii-0.500000', 'hist-2-206k-hinds.nii-0.500000', 'hist-3-206k-hinds.nii-0.500000', 'hist-4-206k-hinds.nii-0.500000', 'hist-5-206k-hinds.nii-0.500000', 'hist-6-206k-hinds.nii-0.500000', 'hist-7-206k-hinds.nii-0.500000', 'hist-8-206k-hinds.nii-0.500000', 'hist-9-206k-hinds.nii-0.500000', 'hist-10-206k-hinds.nii-0.500000', 'hist-11-206k-hinds.nii-0.500000', 'hist-12-206k-hinds.nii-0.500000', 'hist-13-206k-hinds.nii-0.500000', 'hist-14-206k-hinds.nii-0.500000', 'hist-15-206k-hinds.nii-0.500000', 'hist-16-206k-hinds.nii-0.500000', 'hist-17-206k-hinds.nii-0.500000', 'hist-18-206k-hinds.nii-0.500000', 'hist-19-206k-hinds.nii-0.500000', 'num-208f-hinds.nii-0.500000', 'sum-208f-hinds.nii-0.500000', 'mean-208f-hinds.nii-0.500000', 'std-208f-hinds.nii-0.500000', 'skew-208f-hinds.nii-0.500000', 'kurt-208f-hinds.nii-0.500000', 'hist-0-208f-hinds.nii-0.500000', 'hist-1-208f-hinds.nii-0.500000', 'hist-2-208f-hinds.nii-0.500000', 'hist-3-208f-hinds.nii-0.500000', 'hist-4-208f-hinds.nii-0.500000', 'hist-5-208f-hinds.nii-0.500000', 'hist-6-208f-hinds.nii-0.500000', 'hist-7-208f-hinds.nii-0.500000', 'hist-8-208f-hinds.nii-0.500000', 'hist-9-208f-hinds.nii-0.500000', 'hist-10-208f-hinds.nii-0.500000', 'hist-11-208f-hinds.nii-0.500000', 'hist-12-208f-hinds.nii-0.500000', 'hist-13-208f-hinds.nii-0.500000', 'hist-14-208f-hinds.nii-0.500000', 'hist-15-208f-hinds.nii-0.500000', 'hist-16-208f-hinds.nii-0.500000', 'hist-17-208f-hinds.nii-0.500000', 'hist-18-208f-hinds.nii-0.500000', 'hist-19-208f-hinds.nii-0.500000', 'num-0.500000-mean_mask', 'sum-0.500000-mean_mask', 'mean-0.500000-mean_mask', 'std-0.500000-mean_mask', 'skew-0.500000-mean_mask', 'kurt-0.500000-mean_mask', 'hist-0-0.500000-mean_mask', 'hist-1-0.500000-mean_mask', 'hist-2-0.500000-mean_mask', 'hist-3-0.500000-mean_mask', 'hist-4-0.500000-mean_mask', 'hist-5-0.500000-mean_mask', 'hist-6-0.500000-mean_mask', 'hist-7-0.500000-mean_mask', 'hist-8-0.500000-mean_mask', 'hist-9-0.500000-mean_mask', 'hist-10-0.500000-mean_mask', 'hist-11-0.500000-mean_mask', 'hist-12-0.500000-mean_mask', 'hist-13-0.500000-mean_mask', 'hist-14-0.500000-mean_mask', 'hist-15-0.500000-mean_mask', 'hist-16-0.500000-mean_mask', 'hist-17-0.500000-mean_mask', 'hist-18-0.500000-mean_mask', 'hist-19-0.500000-mean_mask', 'pos'] \n",
      "Score: -0.867564249617296\n"
     ]
    },
    {
     "name": "stderr",
     "output_type": "stream",
     "text": [
      "200it [00:01, 182.54it/s]"
     ]
    },
    {
     "name": "stdout",
     "output_type": "stream",
     "text": [
      "1\n",
      "1 0.8693202335641418\n"
     ]
    },
    {
     "name": "stderr",
     "output_type": "stream",
     "text": [
      "\n"
     ]
    }
   ],
   "source": [
    "results_no_fs.append(model_selection(hinds_features, hinds_target, dataset='hinds', type='all', disable_feature_selection=True))"
   ]
  },
  {
   "cell_type": "markdown",
   "metadata": {},
   "source": [
    "### Hinds mean mask"
   ]
  },
  {
   "cell_type": "code",
   "execution_count": 19,
   "metadata": {},
   "outputs": [
    {
     "name": "stdout",
     "output_type": "stream",
     "text": [
      "Objective KNNR_Objective:\n"
     ]
    },
    {
     "name": "stderr",
     "output_type": "stream",
     "text": [
      "  7%|▋         | 529/8000 [00:41<09:49, 12.67it/s]\n"
     ]
    },
    {
     "name": "stdout",
     "output_type": "stream",
     "text": [
      "iterations: 529\n",
      "Number of used features: 26\n",
      "Used features: ['num-0.500000-mean_mask', 'sum-0.500000-mean_mask', 'mean-0.500000-mean_mask', 'std-0.500000-mean_mask', 'skew-0.500000-mean_mask', 'kurt-0.500000-mean_mask', 'hist-0-0.500000-mean_mask', 'hist-1-0.500000-mean_mask', 'hist-2-0.500000-mean_mask', 'hist-3-0.500000-mean_mask', 'hist-4-0.500000-mean_mask', 'hist-5-0.500000-mean_mask', 'hist-6-0.500000-mean_mask', 'hist-7-0.500000-mean_mask', 'hist-8-0.500000-mean_mask', 'hist-9-0.500000-mean_mask', 'hist-10-0.500000-mean_mask', 'hist-11-0.500000-mean_mask', 'hist-12-0.500000-mean_mask', 'hist-13-0.500000-mean_mask', 'hist-14-0.500000-mean_mask', 'hist-15-0.500000-mean_mask', 'hist-16-0.500000-mean_mask', 'hist-17-0.500000-mean_mask', 'hist-18-0.500000-mean_mask', 'hist-19-0.500000-mean_mask'] \n",
      "Score: -0.6187405842279863\n"
     ]
    },
    {
     "name": "stderr",
     "output_type": "stream",
     "text": [
      "200it [00:00, 819.85it/s]\n"
     ]
    },
    {
     "name": "stdout",
     "output_type": "stream",
     "text": [
      "1\n",
      "1 0.6353998071804055\n",
      "Objective LinearRegression_Objective:\n"
     ]
    },
    {
     "name": "stderr",
     "output_type": "stream",
     "text": [
      "  6%|▌         | 499/8000 [00:00<00:03, 2410.40it/s]\n"
     ]
    },
    {
     "name": "stdout",
     "output_type": "stream",
     "text": [
      "iterations: 499\n",
      "Number of used features: 26\n",
      "Used features: ['num-0.500000-mean_mask', 'sum-0.500000-mean_mask', 'mean-0.500000-mean_mask', 'std-0.500000-mean_mask', 'skew-0.500000-mean_mask', 'kurt-0.500000-mean_mask', 'hist-0-0.500000-mean_mask', 'hist-1-0.500000-mean_mask', 'hist-2-0.500000-mean_mask', 'hist-3-0.500000-mean_mask', 'hist-4-0.500000-mean_mask', 'hist-5-0.500000-mean_mask', 'hist-6-0.500000-mean_mask', 'hist-7-0.500000-mean_mask', 'hist-8-0.500000-mean_mask', 'hist-9-0.500000-mean_mask', 'hist-10-0.500000-mean_mask', 'hist-11-0.500000-mean_mask', 'hist-12-0.500000-mean_mask', 'hist-13-0.500000-mean_mask', 'hist-14-0.500000-mean_mask', 'hist-15-0.500000-mean_mask', 'hist-16-0.500000-mean_mask', 'hist-17-0.500000-mean_mask', 'hist-18-0.500000-mean_mask', 'hist-19-0.500000-mean_mask'] \n",
      "Score: -0.8444044502378938\n"
     ]
    },
    {
     "name": "stderr",
     "output_type": "stream",
     "text": [
      "200it [00:00, 669.14it/s]\n"
     ]
    },
    {
     "name": "stdout",
     "output_type": "stream",
     "text": [
      "1\n",
      "1 0.8520687301581172\n",
      "Objective LassoRegression_Objective:\n"
     ]
    },
    {
     "name": "stderr",
     "output_type": "stream",
     "text": [
      "  7%|▋         | 525/8000 [00:02<00:35, 209.31it/s]\n"
     ]
    },
    {
     "name": "stdout",
     "output_type": "stream",
     "text": [
      "iterations: 525\n",
      "Number of used features: 26\n",
      "Used features: ['num-0.500000-mean_mask', 'sum-0.500000-mean_mask', 'mean-0.500000-mean_mask', 'std-0.500000-mean_mask', 'skew-0.500000-mean_mask', 'kurt-0.500000-mean_mask', 'hist-0-0.500000-mean_mask', 'hist-1-0.500000-mean_mask', 'hist-2-0.500000-mean_mask', 'hist-3-0.500000-mean_mask', 'hist-4-0.500000-mean_mask', 'hist-5-0.500000-mean_mask', 'hist-6-0.500000-mean_mask', 'hist-7-0.500000-mean_mask', 'hist-8-0.500000-mean_mask', 'hist-9-0.500000-mean_mask', 'hist-10-0.500000-mean_mask', 'hist-11-0.500000-mean_mask', 'hist-12-0.500000-mean_mask', 'hist-13-0.500000-mean_mask', 'hist-14-0.500000-mean_mask', 'hist-15-0.500000-mean_mask', 'hist-16-0.500000-mean_mask', 'hist-17-0.500000-mean_mask', 'hist-18-0.500000-mean_mask', 'hist-19-0.500000-mean_mask'] \n",
      "Score: -0.8702460745234107\n"
     ]
    },
    {
     "name": "stderr",
     "output_type": "stream",
     "text": [
      "200it [00:00, 500.66it/s]\n"
     ]
    },
    {
     "name": "stdout",
     "output_type": "stream",
     "text": [
      "1\n",
      "1 0.8744670816104863\n",
      "Objective RidgeRegression_Objective:\n"
     ]
    },
    {
     "name": "stderr",
     "output_type": "stream",
     "text": [
      "  6%|▌         | 499/8000 [00:01<00:29, 253.53it/s]\n"
     ]
    },
    {
     "name": "stdout",
     "output_type": "stream",
     "text": [
      "iterations: 499\n",
      "Number of used features: 26\n",
      "Used features: ['num-0.500000-mean_mask', 'sum-0.500000-mean_mask', 'mean-0.500000-mean_mask', 'std-0.500000-mean_mask', 'skew-0.500000-mean_mask', 'kurt-0.500000-mean_mask', 'hist-0-0.500000-mean_mask', 'hist-1-0.500000-mean_mask', 'hist-2-0.500000-mean_mask', 'hist-3-0.500000-mean_mask', 'hist-4-0.500000-mean_mask', 'hist-5-0.500000-mean_mask', 'hist-6-0.500000-mean_mask', 'hist-7-0.500000-mean_mask', 'hist-8-0.500000-mean_mask', 'hist-9-0.500000-mean_mask', 'hist-10-0.500000-mean_mask', 'hist-11-0.500000-mean_mask', 'hist-12-0.500000-mean_mask', 'hist-13-0.500000-mean_mask', 'hist-14-0.500000-mean_mask', 'hist-15-0.500000-mean_mask', 'hist-16-0.500000-mean_mask', 'hist-17-0.500000-mean_mask', 'hist-18-0.500000-mean_mask', 'hist-19-0.500000-mean_mask'] \n",
      "Score: -0.8660016437331304\n"
     ]
    },
    {
     "name": "stderr",
     "output_type": "stream",
     "text": [
      "200it [00:00, 546.46it/s]\n"
     ]
    },
    {
     "name": "stdout",
     "output_type": "stream",
     "text": [
      "1\n",
      "1 0.8700894874482376\n",
      "Objective PLSRegression_Objective:\n"
     ]
    },
    {
     "name": "stderr",
     "output_type": "stream",
     "text": [
      "  6%|▌         | 499/8000 [00:00<00:10, 737.92it/s]\n"
     ]
    },
    {
     "name": "stdout",
     "output_type": "stream",
     "text": [
      "iterations: 499\n",
      "Number of used features: 26\n",
      "Used features: ['num-0.500000-mean_mask', 'sum-0.500000-mean_mask', 'mean-0.500000-mean_mask', 'std-0.500000-mean_mask', 'skew-0.500000-mean_mask', 'kurt-0.500000-mean_mask', 'hist-0-0.500000-mean_mask', 'hist-1-0.500000-mean_mask', 'hist-2-0.500000-mean_mask', 'hist-3-0.500000-mean_mask', 'hist-4-0.500000-mean_mask', 'hist-5-0.500000-mean_mask', 'hist-6-0.500000-mean_mask', 'hist-7-0.500000-mean_mask', 'hist-8-0.500000-mean_mask', 'hist-9-0.500000-mean_mask', 'hist-10-0.500000-mean_mask', 'hist-11-0.500000-mean_mask', 'hist-12-0.500000-mean_mask', 'hist-13-0.500000-mean_mask', 'hist-14-0.500000-mean_mask', 'hist-15-0.500000-mean_mask', 'hist-16-0.500000-mean_mask', 'hist-17-0.500000-mean_mask', 'hist-18-0.500000-mean_mask', 'hist-19-0.500000-mean_mask'] \n",
      "Score: -0.8677637808656533\n"
     ]
    },
    {
     "name": "stderr",
     "output_type": "stream",
     "text": [
      "200it [00:00, 467.67it/s]"
     ]
    },
    {
     "name": "stdout",
     "output_type": "stream",
     "text": [
      "1\n",
      "1 0.8711841754640582\n"
     ]
    },
    {
     "name": "stderr",
     "output_type": "stream",
     "text": [
      "\n"
     ]
    }
   ],
   "source": [
    "results_no_fs.append(model_selection(hinds_features[[c for c in hinds_features.columns if 'mean_mask' in c or c == 'type']], hinds_target, dataset='hinds', type='mean_mask', disable_feature_selection=True))"
   ]
  },
  {
   "cell_type": "markdown",
   "metadata": {},
   "source": [
    "### Hinds individual masks"
   ]
  },
  {
   "cell_type": "code",
   "execution_count": 20,
   "metadata": {},
   "outputs": [
    {
     "name": "stdout",
     "output_type": "stream",
     "text": [
      "Objective KNNR_Objective:\n"
     ]
    },
    {
     "name": "stderr",
     "output_type": "stream",
     "text": [
      "  7%|▋         | 529/8000 [00:37<08:42, 14.29it/s]\n"
     ]
    },
    {
     "name": "stdout",
     "output_type": "stream",
     "text": [
      "iterations: 529\n",
      "Number of used features: 26\n",
      "Used features: ['num-203a-hinds.nii-0.500000', 'sum-203a-hinds.nii-0.500000', 'mean-203a-hinds.nii-0.500000', 'std-203a-hinds.nii-0.500000', 'skew-203a-hinds.nii-0.500000', 'kurt-203a-hinds.nii-0.500000', 'hist-0-203a-hinds.nii-0.500000', 'hist-1-203a-hinds.nii-0.500000', 'hist-2-203a-hinds.nii-0.500000', 'hist-3-203a-hinds.nii-0.500000', 'hist-4-203a-hinds.nii-0.500000', 'hist-5-203a-hinds.nii-0.500000', 'hist-6-203a-hinds.nii-0.500000', 'hist-7-203a-hinds.nii-0.500000', 'hist-8-203a-hinds.nii-0.500000', 'hist-9-203a-hinds.nii-0.500000', 'hist-10-203a-hinds.nii-0.500000', 'hist-11-203a-hinds.nii-0.500000', 'hist-12-203a-hinds.nii-0.500000', 'hist-13-203a-hinds.nii-0.500000', 'hist-14-203a-hinds.nii-0.500000', 'hist-15-203a-hinds.nii-0.500000', 'hist-16-203a-hinds.nii-0.500000', 'hist-17-203a-hinds.nii-0.500000', 'hist-18-203a-hinds.nii-0.500000', 'hist-19-203a-hinds.nii-0.500000'] \n",
      "Score: -0.6229985636175914\n"
     ]
    },
    {
     "name": "stderr",
     "output_type": "stream",
     "text": [
      "200it [00:00, 721.35it/s]\n"
     ]
    },
    {
     "name": "stdout",
     "output_type": "stream",
     "text": [
      "1\n",
      "1 0.6404604846373894\n",
      "Objective LinearRegression_Objective:\n"
     ]
    },
    {
     "name": "stderr",
     "output_type": "stream",
     "text": [
      "  6%|▌         | 499/8000 [00:00<00:03, 2350.40it/s]\n"
     ]
    },
    {
     "name": "stdout",
     "output_type": "stream",
     "text": [
      "iterations: 499\n",
      "Number of used features: 26\n",
      "Used features: ['num-203a-hinds.nii-0.500000', 'sum-203a-hinds.nii-0.500000', 'mean-203a-hinds.nii-0.500000', 'std-203a-hinds.nii-0.500000', 'skew-203a-hinds.nii-0.500000', 'kurt-203a-hinds.nii-0.500000', 'hist-0-203a-hinds.nii-0.500000', 'hist-1-203a-hinds.nii-0.500000', 'hist-2-203a-hinds.nii-0.500000', 'hist-3-203a-hinds.nii-0.500000', 'hist-4-203a-hinds.nii-0.500000', 'hist-5-203a-hinds.nii-0.500000', 'hist-6-203a-hinds.nii-0.500000', 'hist-7-203a-hinds.nii-0.500000', 'hist-8-203a-hinds.nii-0.500000', 'hist-9-203a-hinds.nii-0.500000', 'hist-10-203a-hinds.nii-0.500000', 'hist-11-203a-hinds.nii-0.500000', 'hist-12-203a-hinds.nii-0.500000', 'hist-13-203a-hinds.nii-0.500000', 'hist-14-203a-hinds.nii-0.500000', 'hist-15-203a-hinds.nii-0.500000', 'hist-16-203a-hinds.nii-0.500000', 'hist-17-203a-hinds.nii-0.500000', 'hist-18-203a-hinds.nii-0.500000', 'hist-19-203a-hinds.nii-0.500000'] \n",
      "Score: -0.8607558204642549\n"
     ]
    },
    {
     "name": "stderr",
     "output_type": "stream",
     "text": [
      "200it [00:00, 589.14it/s]\n"
     ]
    },
    {
     "name": "stdout",
     "output_type": "stream",
     "text": [
      "1\n",
      "1 0.8646747991019023\n",
      "Objective LassoRegression_Objective:\n"
     ]
    },
    {
     "name": "stderr",
     "output_type": "stream",
     "text": [
      "  7%|▋         | 552/8000 [00:02<00:35, 208.67it/s]\n"
     ]
    },
    {
     "name": "stdout",
     "output_type": "stream",
     "text": [
      "iterations: 552\n",
      "Number of used features: 26\n",
      "Used features: ['num-203a-hinds.nii-0.500000', 'sum-203a-hinds.nii-0.500000', 'mean-203a-hinds.nii-0.500000', 'std-203a-hinds.nii-0.500000', 'skew-203a-hinds.nii-0.500000', 'kurt-203a-hinds.nii-0.500000', 'hist-0-203a-hinds.nii-0.500000', 'hist-1-203a-hinds.nii-0.500000', 'hist-2-203a-hinds.nii-0.500000', 'hist-3-203a-hinds.nii-0.500000', 'hist-4-203a-hinds.nii-0.500000', 'hist-5-203a-hinds.nii-0.500000', 'hist-6-203a-hinds.nii-0.500000', 'hist-7-203a-hinds.nii-0.500000', 'hist-8-203a-hinds.nii-0.500000', 'hist-9-203a-hinds.nii-0.500000', 'hist-10-203a-hinds.nii-0.500000', 'hist-11-203a-hinds.nii-0.500000', 'hist-12-203a-hinds.nii-0.500000', 'hist-13-203a-hinds.nii-0.500000', 'hist-14-203a-hinds.nii-0.500000', 'hist-15-203a-hinds.nii-0.500000', 'hist-16-203a-hinds.nii-0.500000', 'hist-17-203a-hinds.nii-0.500000', 'hist-18-203a-hinds.nii-0.500000', 'hist-19-203a-hinds.nii-0.500000'] \n",
      "Score: -0.8735854431761814\n"
     ]
    },
    {
     "name": "stderr",
     "output_type": "stream",
     "text": [
      "200it [00:00, 458.15it/s]\n"
     ]
    },
    {
     "name": "stdout",
     "output_type": "stream",
     "text": [
      "1\n",
      "1 0.8758738536750752\n",
      "Objective RidgeRegression_Objective:\n"
     ]
    },
    {
     "name": "stderr",
     "output_type": "stream",
     "text": [
      "  6%|▌         | 499/8000 [00:01<00:25, 292.67it/s]\n"
     ]
    },
    {
     "name": "stdout",
     "output_type": "stream",
     "text": [
      "iterations: 499\n",
      "Number of used features: 26\n",
      "Used features: ['num-203a-hinds.nii-0.500000', 'sum-203a-hinds.nii-0.500000', 'mean-203a-hinds.nii-0.500000', 'std-203a-hinds.nii-0.500000', 'skew-203a-hinds.nii-0.500000', 'kurt-203a-hinds.nii-0.500000', 'hist-0-203a-hinds.nii-0.500000', 'hist-1-203a-hinds.nii-0.500000', 'hist-2-203a-hinds.nii-0.500000', 'hist-3-203a-hinds.nii-0.500000', 'hist-4-203a-hinds.nii-0.500000', 'hist-5-203a-hinds.nii-0.500000', 'hist-6-203a-hinds.nii-0.500000', 'hist-7-203a-hinds.nii-0.500000', 'hist-8-203a-hinds.nii-0.500000', 'hist-9-203a-hinds.nii-0.500000', 'hist-10-203a-hinds.nii-0.500000', 'hist-11-203a-hinds.nii-0.500000', 'hist-12-203a-hinds.nii-0.500000', 'hist-13-203a-hinds.nii-0.500000', 'hist-14-203a-hinds.nii-0.500000', 'hist-15-203a-hinds.nii-0.500000', 'hist-16-203a-hinds.nii-0.500000', 'hist-17-203a-hinds.nii-0.500000', 'hist-18-203a-hinds.nii-0.500000', 'hist-19-203a-hinds.nii-0.500000'] \n",
      "Score: -0.872153254846729\n"
     ]
    },
    {
     "name": "stderr",
     "output_type": "stream",
     "text": [
      "200it [00:00, 571.41it/s]\n"
     ]
    },
    {
     "name": "stdout",
     "output_type": "stream",
     "text": [
      "1\n",
      "1 0.8749579147604203\n",
      "Objective PLSRegression_Objective:\n"
     ]
    },
    {
     "name": "stderr",
     "output_type": "stream",
     "text": [
      "  6%|▌         | 499/8000 [00:00<00:08, 871.32it/s]\n"
     ]
    },
    {
     "name": "stdout",
     "output_type": "stream",
     "text": [
      "iterations: 499\n",
      "Number of used features: 26\n",
      "Used features: ['num-203a-hinds.nii-0.500000', 'sum-203a-hinds.nii-0.500000', 'mean-203a-hinds.nii-0.500000', 'std-203a-hinds.nii-0.500000', 'skew-203a-hinds.nii-0.500000', 'kurt-203a-hinds.nii-0.500000', 'hist-0-203a-hinds.nii-0.500000', 'hist-1-203a-hinds.nii-0.500000', 'hist-2-203a-hinds.nii-0.500000', 'hist-3-203a-hinds.nii-0.500000', 'hist-4-203a-hinds.nii-0.500000', 'hist-5-203a-hinds.nii-0.500000', 'hist-6-203a-hinds.nii-0.500000', 'hist-7-203a-hinds.nii-0.500000', 'hist-8-203a-hinds.nii-0.500000', 'hist-9-203a-hinds.nii-0.500000', 'hist-10-203a-hinds.nii-0.500000', 'hist-11-203a-hinds.nii-0.500000', 'hist-12-203a-hinds.nii-0.500000', 'hist-13-203a-hinds.nii-0.500000', 'hist-14-203a-hinds.nii-0.500000', 'hist-15-203a-hinds.nii-0.500000', 'hist-16-203a-hinds.nii-0.500000', 'hist-17-203a-hinds.nii-0.500000', 'hist-18-203a-hinds.nii-0.500000', 'hist-19-203a-hinds.nii-0.500000'] \n",
      "Score: -0.8700216942300664\n"
     ]
    },
    {
     "name": "stderr",
     "output_type": "stream",
     "text": [
      "200it [00:00, 522.26it/s]\n"
     ]
    },
    {
     "name": "stdout",
     "output_type": "stream",
     "text": [
      "1\n",
      "1 0.8731894481593816\n",
      "Objective KNNR_Objective:\n"
     ]
    },
    {
     "name": "stderr",
     "output_type": "stream",
     "text": [
      "  7%|▋         | 529/8000 [00:39<09:15, 13.45it/s] \n"
     ]
    },
    {
     "name": "stdout",
     "output_type": "stream",
     "text": [
      "iterations: 529\n",
      "Number of used features: 26\n",
      "Used features: ['num-203k-hinds.nii-0.500000', 'sum-203k-hinds.nii-0.500000', 'mean-203k-hinds.nii-0.500000', 'std-203k-hinds.nii-0.500000', 'skew-203k-hinds.nii-0.500000', 'kurt-203k-hinds.nii-0.500000', 'hist-0-203k-hinds.nii-0.500000', 'hist-1-203k-hinds.nii-0.500000', 'hist-2-203k-hinds.nii-0.500000', 'hist-3-203k-hinds.nii-0.500000', 'hist-4-203k-hinds.nii-0.500000', 'hist-5-203k-hinds.nii-0.500000', 'hist-6-203k-hinds.nii-0.500000', 'hist-7-203k-hinds.nii-0.500000', 'hist-8-203k-hinds.nii-0.500000', 'hist-9-203k-hinds.nii-0.500000', 'hist-10-203k-hinds.nii-0.500000', 'hist-11-203k-hinds.nii-0.500000', 'hist-12-203k-hinds.nii-0.500000', 'hist-13-203k-hinds.nii-0.500000', 'hist-14-203k-hinds.nii-0.500000', 'hist-15-203k-hinds.nii-0.500000', 'hist-16-203k-hinds.nii-0.500000', 'hist-17-203k-hinds.nii-0.500000', 'hist-18-203k-hinds.nii-0.500000', 'hist-19-203k-hinds.nii-0.500000'] \n",
      "Score: -0.6581617660659369\n"
     ]
    },
    {
     "name": "stderr",
     "output_type": "stream",
     "text": [
      "200it [00:00, 805.92it/s]\n"
     ]
    },
    {
     "name": "stdout",
     "output_type": "stream",
     "text": [
      "1\n",
      "1 0.6779203907571864\n",
      "Objective LinearRegression_Objective:\n"
     ]
    },
    {
     "name": "stderr",
     "output_type": "stream",
     "text": [
      "  6%|▌         | 499/8000 [00:00<00:02, 2947.69it/s]\n"
     ]
    },
    {
     "name": "stdout",
     "output_type": "stream",
     "text": [
      "iterations: 499\n",
      "Number of used features: 26\n",
      "Used features: ['num-203k-hinds.nii-0.500000', 'sum-203k-hinds.nii-0.500000', 'mean-203k-hinds.nii-0.500000', 'std-203k-hinds.nii-0.500000', 'skew-203k-hinds.nii-0.500000', 'kurt-203k-hinds.nii-0.500000', 'hist-0-203k-hinds.nii-0.500000', 'hist-1-203k-hinds.nii-0.500000', 'hist-2-203k-hinds.nii-0.500000', 'hist-3-203k-hinds.nii-0.500000', 'hist-4-203k-hinds.nii-0.500000', 'hist-5-203k-hinds.nii-0.500000', 'hist-6-203k-hinds.nii-0.500000', 'hist-7-203k-hinds.nii-0.500000', 'hist-8-203k-hinds.nii-0.500000', 'hist-9-203k-hinds.nii-0.500000', 'hist-10-203k-hinds.nii-0.500000', 'hist-11-203k-hinds.nii-0.500000', 'hist-12-203k-hinds.nii-0.500000', 'hist-13-203k-hinds.nii-0.500000', 'hist-14-203k-hinds.nii-0.500000', 'hist-15-203k-hinds.nii-0.500000', 'hist-16-203k-hinds.nii-0.500000', 'hist-17-203k-hinds.nii-0.500000', 'hist-18-203k-hinds.nii-0.500000', 'hist-19-203k-hinds.nii-0.500000'] \n",
      "Score: -0.8434393305970045\n"
     ]
    },
    {
     "name": "stderr",
     "output_type": "stream",
     "text": [
      "200it [00:00, 675.37it/s]\n"
     ]
    },
    {
     "name": "stdout",
     "output_type": "stream",
     "text": [
      "1\n",
      "1 0.8488664552560832\n",
      "Objective LassoRegression_Objective:\n"
     ]
    },
    {
     "name": "stderr",
     "output_type": "stream",
     "text": [
      "  7%|▋         | 525/8000 [00:02<00:32, 228.17it/s]\n"
     ]
    },
    {
     "name": "stdout",
     "output_type": "stream",
     "text": [
      "iterations: 525\n",
      "Number of used features: 26\n",
      "Used features: ['num-203k-hinds.nii-0.500000', 'sum-203k-hinds.nii-0.500000', 'mean-203k-hinds.nii-0.500000', 'std-203k-hinds.nii-0.500000', 'skew-203k-hinds.nii-0.500000', 'kurt-203k-hinds.nii-0.500000', 'hist-0-203k-hinds.nii-0.500000', 'hist-1-203k-hinds.nii-0.500000', 'hist-2-203k-hinds.nii-0.500000', 'hist-3-203k-hinds.nii-0.500000', 'hist-4-203k-hinds.nii-0.500000', 'hist-5-203k-hinds.nii-0.500000', 'hist-6-203k-hinds.nii-0.500000', 'hist-7-203k-hinds.nii-0.500000', 'hist-8-203k-hinds.nii-0.500000', 'hist-9-203k-hinds.nii-0.500000', 'hist-10-203k-hinds.nii-0.500000', 'hist-11-203k-hinds.nii-0.500000', 'hist-12-203k-hinds.nii-0.500000', 'hist-13-203k-hinds.nii-0.500000', 'hist-14-203k-hinds.nii-0.500000', 'hist-15-203k-hinds.nii-0.500000', 'hist-16-203k-hinds.nii-0.500000', 'hist-17-203k-hinds.nii-0.500000', 'hist-18-203k-hinds.nii-0.500000', 'hist-19-203k-hinds.nii-0.500000'] \n",
      "Score: -0.867342270403439\n"
     ]
    },
    {
     "name": "stderr",
     "output_type": "stream",
     "text": [
      "200it [00:00, 487.82it/s]\n"
     ]
    },
    {
     "name": "stdout",
     "output_type": "stream",
     "text": [
      "1\n",
      "1 0.8703813972279263\n",
      "Objective RidgeRegression_Objective:\n"
     ]
    },
    {
     "name": "stderr",
     "output_type": "stream",
     "text": [
      "  6%|▌         | 499/8000 [00:02<00:30, 248.99it/s]\n"
     ]
    },
    {
     "name": "stdout",
     "output_type": "stream",
     "text": [
      "iterations: 499\n",
      "Number of used features: 26\n",
      "Used features: ['num-203k-hinds.nii-0.500000', 'sum-203k-hinds.nii-0.500000', 'mean-203k-hinds.nii-0.500000', 'std-203k-hinds.nii-0.500000', 'skew-203k-hinds.nii-0.500000', 'kurt-203k-hinds.nii-0.500000', 'hist-0-203k-hinds.nii-0.500000', 'hist-1-203k-hinds.nii-0.500000', 'hist-2-203k-hinds.nii-0.500000', 'hist-3-203k-hinds.nii-0.500000', 'hist-4-203k-hinds.nii-0.500000', 'hist-5-203k-hinds.nii-0.500000', 'hist-6-203k-hinds.nii-0.500000', 'hist-7-203k-hinds.nii-0.500000', 'hist-8-203k-hinds.nii-0.500000', 'hist-9-203k-hinds.nii-0.500000', 'hist-10-203k-hinds.nii-0.500000', 'hist-11-203k-hinds.nii-0.500000', 'hist-12-203k-hinds.nii-0.500000', 'hist-13-203k-hinds.nii-0.500000', 'hist-14-203k-hinds.nii-0.500000', 'hist-15-203k-hinds.nii-0.500000', 'hist-16-203k-hinds.nii-0.500000', 'hist-17-203k-hinds.nii-0.500000', 'hist-18-203k-hinds.nii-0.500000', 'hist-19-203k-hinds.nii-0.500000'] \n",
      "Score: -0.8622069044621306\n"
     ]
    },
    {
     "name": "stderr",
     "output_type": "stream",
     "text": [
      "200it [00:00, 460.43it/s]\n"
     ]
    },
    {
     "name": "stdout",
     "output_type": "stream",
     "text": [
      "1\n",
      "1 0.8653485025870229\n",
      "Objective PLSRegression_Objective:\n"
     ]
    },
    {
     "name": "stderr",
     "output_type": "stream",
     "text": [
      "  6%|▌         | 499/8000 [00:00<00:13, 571.11it/s]\n"
     ]
    },
    {
     "name": "stdout",
     "output_type": "stream",
     "text": [
      "iterations: 499\n",
      "Number of used features: 26\n",
      "Used features: ['num-203k-hinds.nii-0.500000', 'sum-203k-hinds.nii-0.500000', 'mean-203k-hinds.nii-0.500000', 'std-203k-hinds.nii-0.500000', 'skew-203k-hinds.nii-0.500000', 'kurt-203k-hinds.nii-0.500000', 'hist-0-203k-hinds.nii-0.500000', 'hist-1-203k-hinds.nii-0.500000', 'hist-2-203k-hinds.nii-0.500000', 'hist-3-203k-hinds.nii-0.500000', 'hist-4-203k-hinds.nii-0.500000', 'hist-5-203k-hinds.nii-0.500000', 'hist-6-203k-hinds.nii-0.500000', 'hist-7-203k-hinds.nii-0.500000', 'hist-8-203k-hinds.nii-0.500000', 'hist-9-203k-hinds.nii-0.500000', 'hist-10-203k-hinds.nii-0.500000', 'hist-11-203k-hinds.nii-0.500000', 'hist-12-203k-hinds.nii-0.500000', 'hist-13-203k-hinds.nii-0.500000', 'hist-14-203k-hinds.nii-0.500000', 'hist-15-203k-hinds.nii-0.500000', 'hist-16-203k-hinds.nii-0.500000', 'hist-17-203k-hinds.nii-0.500000', 'hist-18-203k-hinds.nii-0.500000', 'hist-19-203k-hinds.nii-0.500000'] \n",
      "Score: -0.8648259389862871\n"
     ]
    },
    {
     "name": "stderr",
     "output_type": "stream",
     "text": [
      "200it [00:00, 213.68it/s]\n"
     ]
    },
    {
     "name": "stdout",
     "output_type": "stream",
     "text": [
      "1\n",
      "1 0.8682588591125071\n",
      "Objective KNNR_Objective:\n"
     ]
    },
    {
     "name": "stderr",
     "output_type": "stream",
     "text": [
      "  7%|▋         | 536/8000 [00:49<11:23, 10.92it/s]\n"
     ]
    },
    {
     "name": "stdout",
     "output_type": "stream",
     "text": [
      "iterations: 536\n",
      "Number of used features: 26\n",
      "Used features: ['num-204f-hinds.nii-0.500000', 'sum-204f-hinds.nii-0.500000', 'mean-204f-hinds.nii-0.500000', 'std-204f-hinds.nii-0.500000', 'skew-204f-hinds.nii-0.500000', 'kurt-204f-hinds.nii-0.500000', 'hist-0-204f-hinds.nii-0.500000', 'hist-1-204f-hinds.nii-0.500000', 'hist-2-204f-hinds.nii-0.500000', 'hist-3-204f-hinds.nii-0.500000', 'hist-4-204f-hinds.nii-0.500000', 'hist-5-204f-hinds.nii-0.500000', 'hist-6-204f-hinds.nii-0.500000', 'hist-7-204f-hinds.nii-0.500000', 'hist-8-204f-hinds.nii-0.500000', 'hist-9-204f-hinds.nii-0.500000', 'hist-10-204f-hinds.nii-0.500000', 'hist-11-204f-hinds.nii-0.500000', 'hist-12-204f-hinds.nii-0.500000', 'hist-13-204f-hinds.nii-0.500000', 'hist-14-204f-hinds.nii-0.500000', 'hist-15-204f-hinds.nii-0.500000', 'hist-16-204f-hinds.nii-0.500000', 'hist-17-204f-hinds.nii-0.500000', 'hist-18-204f-hinds.nii-0.500000', 'hist-19-204f-hinds.nii-0.500000'] \n",
      "Score: -0.5973628202578116\n"
     ]
    },
    {
     "name": "stderr",
     "output_type": "stream",
     "text": [
      "200it [00:00, 580.18it/s]\n"
     ]
    },
    {
     "name": "stdout",
     "output_type": "stream",
     "text": [
      "1\n",
      "1 0.609201770685019\n",
      "Objective LinearRegression_Objective:\n"
     ]
    },
    {
     "name": "stderr",
     "output_type": "stream",
     "text": [
      "  6%|▌         | 499/8000 [00:00<00:04, 1788.55it/s]\n"
     ]
    },
    {
     "name": "stdout",
     "output_type": "stream",
     "text": [
      "iterations: 499\n",
      "Number of used features: 26\n",
      "Used features: ['num-204f-hinds.nii-0.500000', 'sum-204f-hinds.nii-0.500000', 'mean-204f-hinds.nii-0.500000', 'std-204f-hinds.nii-0.500000', 'skew-204f-hinds.nii-0.500000', 'kurt-204f-hinds.nii-0.500000', 'hist-0-204f-hinds.nii-0.500000', 'hist-1-204f-hinds.nii-0.500000', 'hist-2-204f-hinds.nii-0.500000', 'hist-3-204f-hinds.nii-0.500000', 'hist-4-204f-hinds.nii-0.500000', 'hist-5-204f-hinds.nii-0.500000', 'hist-6-204f-hinds.nii-0.500000', 'hist-7-204f-hinds.nii-0.500000', 'hist-8-204f-hinds.nii-0.500000', 'hist-9-204f-hinds.nii-0.500000', 'hist-10-204f-hinds.nii-0.500000', 'hist-11-204f-hinds.nii-0.500000', 'hist-12-204f-hinds.nii-0.500000', 'hist-13-204f-hinds.nii-0.500000', 'hist-14-204f-hinds.nii-0.500000', 'hist-15-204f-hinds.nii-0.500000', 'hist-16-204f-hinds.nii-0.500000', 'hist-17-204f-hinds.nii-0.500000', 'hist-18-204f-hinds.nii-0.500000', 'hist-19-204f-hinds.nii-0.500000'] \n",
      "Score: -0.8461703146766366\n"
     ]
    },
    {
     "name": "stderr",
     "output_type": "stream",
     "text": [
      "200it [00:00, 494.51it/s]\n"
     ]
    },
    {
     "name": "stdout",
     "output_type": "stream",
     "text": [
      "1\n",
      "1 0.8523800910217195\n",
      "Objective LassoRegression_Objective:\n"
     ]
    },
    {
     "name": "stderr",
     "output_type": "stream",
     "text": [
      "  7%|▋         | 525/8000 [00:02<00:37, 197.65it/s]\n"
     ]
    },
    {
     "name": "stdout",
     "output_type": "stream",
     "text": [
      "iterations: 525\n",
      "Number of used features: 26\n",
      "Used features: ['num-204f-hinds.nii-0.500000', 'sum-204f-hinds.nii-0.500000', 'mean-204f-hinds.nii-0.500000', 'std-204f-hinds.nii-0.500000', 'skew-204f-hinds.nii-0.500000', 'kurt-204f-hinds.nii-0.500000', 'hist-0-204f-hinds.nii-0.500000', 'hist-1-204f-hinds.nii-0.500000', 'hist-2-204f-hinds.nii-0.500000', 'hist-3-204f-hinds.nii-0.500000', 'hist-4-204f-hinds.nii-0.500000', 'hist-5-204f-hinds.nii-0.500000', 'hist-6-204f-hinds.nii-0.500000', 'hist-7-204f-hinds.nii-0.500000', 'hist-8-204f-hinds.nii-0.500000', 'hist-9-204f-hinds.nii-0.500000', 'hist-10-204f-hinds.nii-0.500000', 'hist-11-204f-hinds.nii-0.500000', 'hist-12-204f-hinds.nii-0.500000', 'hist-13-204f-hinds.nii-0.500000', 'hist-14-204f-hinds.nii-0.500000', 'hist-15-204f-hinds.nii-0.500000', 'hist-16-204f-hinds.nii-0.500000', 'hist-17-204f-hinds.nii-0.500000', 'hist-18-204f-hinds.nii-0.500000', 'hist-19-204f-hinds.nii-0.500000'] \n",
      "Score: -0.8690108481629499\n"
     ]
    },
    {
     "name": "stderr",
     "output_type": "stream",
     "text": [
      "200it [00:00, 332.61it/s]\n"
     ]
    },
    {
     "name": "stdout",
     "output_type": "stream",
     "text": [
      "1\n",
      "1 0.871664814934077\n",
      "Objective RidgeRegression_Objective:\n"
     ]
    },
    {
     "name": "stderr",
     "output_type": "stream",
     "text": [
      "  6%|▌         | 499/8000 [00:02<00:32, 231.42it/s]\n"
     ]
    },
    {
     "name": "stdout",
     "output_type": "stream",
     "text": [
      "iterations: 499\n",
      "Number of used features: 26\n",
      "Used features: ['num-204f-hinds.nii-0.500000', 'sum-204f-hinds.nii-0.500000', 'mean-204f-hinds.nii-0.500000', 'std-204f-hinds.nii-0.500000', 'skew-204f-hinds.nii-0.500000', 'kurt-204f-hinds.nii-0.500000', 'hist-0-204f-hinds.nii-0.500000', 'hist-1-204f-hinds.nii-0.500000', 'hist-2-204f-hinds.nii-0.500000', 'hist-3-204f-hinds.nii-0.500000', 'hist-4-204f-hinds.nii-0.500000', 'hist-5-204f-hinds.nii-0.500000', 'hist-6-204f-hinds.nii-0.500000', 'hist-7-204f-hinds.nii-0.500000', 'hist-8-204f-hinds.nii-0.500000', 'hist-9-204f-hinds.nii-0.500000', 'hist-10-204f-hinds.nii-0.500000', 'hist-11-204f-hinds.nii-0.500000', 'hist-12-204f-hinds.nii-0.500000', 'hist-13-204f-hinds.nii-0.500000', 'hist-14-204f-hinds.nii-0.500000', 'hist-15-204f-hinds.nii-0.500000', 'hist-16-204f-hinds.nii-0.500000', 'hist-17-204f-hinds.nii-0.500000', 'hist-18-204f-hinds.nii-0.500000', 'hist-19-204f-hinds.nii-0.500000'] \n",
      "Score: -0.8627606752885238\n"
     ]
    },
    {
     "name": "stderr",
     "output_type": "stream",
     "text": [
      "200it [00:00, 375.50it/s]\n"
     ]
    },
    {
     "name": "stdout",
     "output_type": "stream",
     "text": [
      "1\n",
      "1 0.8655246380448942\n",
      "Objective PLSRegression_Objective:\n"
     ]
    },
    {
     "name": "stderr",
     "output_type": "stream",
     "text": [
      "  6%|▋         | 507/8000 [00:00<00:12, 584.71it/s]\n"
     ]
    },
    {
     "name": "stdout",
     "output_type": "stream",
     "text": [
      "iterations: 507\n",
      "Number of used features: 26\n",
      "Used features: ['num-204f-hinds.nii-0.500000', 'sum-204f-hinds.nii-0.500000', 'mean-204f-hinds.nii-0.500000', 'std-204f-hinds.nii-0.500000', 'skew-204f-hinds.nii-0.500000', 'kurt-204f-hinds.nii-0.500000', 'hist-0-204f-hinds.nii-0.500000', 'hist-1-204f-hinds.nii-0.500000', 'hist-2-204f-hinds.nii-0.500000', 'hist-3-204f-hinds.nii-0.500000', 'hist-4-204f-hinds.nii-0.500000', 'hist-5-204f-hinds.nii-0.500000', 'hist-6-204f-hinds.nii-0.500000', 'hist-7-204f-hinds.nii-0.500000', 'hist-8-204f-hinds.nii-0.500000', 'hist-9-204f-hinds.nii-0.500000', 'hist-10-204f-hinds.nii-0.500000', 'hist-11-204f-hinds.nii-0.500000', 'hist-12-204f-hinds.nii-0.500000', 'hist-13-204f-hinds.nii-0.500000', 'hist-14-204f-hinds.nii-0.500000', 'hist-15-204f-hinds.nii-0.500000', 'hist-16-204f-hinds.nii-0.500000', 'hist-17-204f-hinds.nii-0.500000', 'hist-18-204f-hinds.nii-0.500000', 'hist-19-204f-hinds.nii-0.500000'] \n",
      "Score: -0.8660368847337485\n"
     ]
    },
    {
     "name": "stderr",
     "output_type": "stream",
     "text": [
      "200it [00:00, 320.46it/s]\n"
     ]
    },
    {
     "name": "stdout",
     "output_type": "stream",
     "text": [
      "1\n",
      "1 0.867982070561701\n",
      "Objective KNNR_Objective:\n"
     ]
    },
    {
     "name": "stderr",
     "output_type": "stream",
     "text": [
      "  7%|▋         | 529/8000 [00:40<09:30, 13.10it/s]\n"
     ]
    },
    {
     "name": "stdout",
     "output_type": "stream",
     "text": [
      "iterations: 529\n",
      "Number of used features: 26\n",
      "Used features: ['num-206k-hinds.nii-0.500000', 'sum-206k-hinds.nii-0.500000', 'mean-206k-hinds.nii-0.500000', 'std-206k-hinds.nii-0.500000', 'skew-206k-hinds.nii-0.500000', 'kurt-206k-hinds.nii-0.500000', 'hist-0-206k-hinds.nii-0.500000', 'hist-1-206k-hinds.nii-0.500000', 'hist-2-206k-hinds.nii-0.500000', 'hist-3-206k-hinds.nii-0.500000', 'hist-4-206k-hinds.nii-0.500000', 'hist-5-206k-hinds.nii-0.500000', 'hist-6-206k-hinds.nii-0.500000', 'hist-7-206k-hinds.nii-0.500000', 'hist-8-206k-hinds.nii-0.500000', 'hist-9-206k-hinds.nii-0.500000', 'hist-10-206k-hinds.nii-0.500000', 'hist-11-206k-hinds.nii-0.500000', 'hist-12-206k-hinds.nii-0.500000', 'hist-13-206k-hinds.nii-0.500000', 'hist-14-206k-hinds.nii-0.500000', 'hist-15-206k-hinds.nii-0.500000', 'hist-16-206k-hinds.nii-0.500000', 'hist-17-206k-hinds.nii-0.500000', 'hist-18-206k-hinds.nii-0.500000', 'hist-19-206k-hinds.nii-0.500000'] \n",
      "Score: -0.6358490543066053\n"
     ]
    },
    {
     "name": "stderr",
     "output_type": "stream",
     "text": [
      "200it [00:00, 718.20it/s]\n"
     ]
    },
    {
     "name": "stdout",
     "output_type": "stream",
     "text": [
      "1\n",
      "1 0.6571834962391634\n",
      "Objective LinearRegression_Objective:\n"
     ]
    },
    {
     "name": "stderr",
     "output_type": "stream",
     "text": [
      "  6%|▌         | 499/8000 [00:00<00:03, 2297.35it/s]\n"
     ]
    },
    {
     "name": "stdout",
     "output_type": "stream",
     "text": [
      "iterations: 499\n",
      "Number of used features: 26\n",
      "Used features: ['num-206k-hinds.nii-0.500000', 'sum-206k-hinds.nii-0.500000', 'mean-206k-hinds.nii-0.500000', 'std-206k-hinds.nii-0.500000', 'skew-206k-hinds.nii-0.500000', 'kurt-206k-hinds.nii-0.500000', 'hist-0-206k-hinds.nii-0.500000', 'hist-1-206k-hinds.nii-0.500000', 'hist-2-206k-hinds.nii-0.500000', 'hist-3-206k-hinds.nii-0.500000', 'hist-4-206k-hinds.nii-0.500000', 'hist-5-206k-hinds.nii-0.500000', 'hist-6-206k-hinds.nii-0.500000', 'hist-7-206k-hinds.nii-0.500000', 'hist-8-206k-hinds.nii-0.500000', 'hist-9-206k-hinds.nii-0.500000', 'hist-10-206k-hinds.nii-0.500000', 'hist-11-206k-hinds.nii-0.500000', 'hist-12-206k-hinds.nii-0.500000', 'hist-13-206k-hinds.nii-0.500000', 'hist-14-206k-hinds.nii-0.500000', 'hist-15-206k-hinds.nii-0.500000', 'hist-16-206k-hinds.nii-0.500000', 'hist-17-206k-hinds.nii-0.500000', 'hist-18-206k-hinds.nii-0.500000', 'hist-19-206k-hinds.nii-0.500000'] \n",
      "Score: -0.8482506485177833\n"
     ]
    },
    {
     "name": "stderr",
     "output_type": "stream",
     "text": [
      "200it [00:00, 557.11it/s]\n"
     ]
    },
    {
     "name": "stdout",
     "output_type": "stream",
     "text": [
      "1\n",
      "1 0.8544728076492567\n",
      "Objective LassoRegression_Objective:\n"
     ]
    },
    {
     "name": "stderr",
     "output_type": "stream",
     "text": [
      "  7%|▋         | 525/8000 [00:02<00:37, 201.07it/s]\n"
     ]
    },
    {
     "name": "stdout",
     "output_type": "stream",
     "text": [
      "iterations: 525\n",
      "Number of used features: 26\n",
      "Used features: ['num-206k-hinds.nii-0.500000', 'sum-206k-hinds.nii-0.500000', 'mean-206k-hinds.nii-0.500000', 'std-206k-hinds.nii-0.500000', 'skew-206k-hinds.nii-0.500000', 'kurt-206k-hinds.nii-0.500000', 'hist-0-206k-hinds.nii-0.500000', 'hist-1-206k-hinds.nii-0.500000', 'hist-2-206k-hinds.nii-0.500000', 'hist-3-206k-hinds.nii-0.500000', 'hist-4-206k-hinds.nii-0.500000', 'hist-5-206k-hinds.nii-0.500000', 'hist-6-206k-hinds.nii-0.500000', 'hist-7-206k-hinds.nii-0.500000', 'hist-8-206k-hinds.nii-0.500000', 'hist-9-206k-hinds.nii-0.500000', 'hist-10-206k-hinds.nii-0.500000', 'hist-11-206k-hinds.nii-0.500000', 'hist-12-206k-hinds.nii-0.500000', 'hist-13-206k-hinds.nii-0.500000', 'hist-14-206k-hinds.nii-0.500000', 'hist-15-206k-hinds.nii-0.500000', 'hist-16-206k-hinds.nii-0.500000', 'hist-17-206k-hinds.nii-0.500000', 'hist-18-206k-hinds.nii-0.500000', 'hist-19-206k-hinds.nii-0.500000'] \n",
      "Score: -0.8692558141854101\n"
     ]
    },
    {
     "name": "stderr",
     "output_type": "stream",
     "text": [
      "200it [00:00, 424.06it/s]\n"
     ]
    },
    {
     "name": "stdout",
     "output_type": "stream",
     "text": [
      "1\n",
      "1 0.8728903472885995\n",
      "Objective RidgeRegression_Objective:\n"
     ]
    },
    {
     "name": "stderr",
     "output_type": "stream",
     "text": [
      "  6%|▌         | 499/8000 [00:01<00:29, 250.78it/s]\n"
     ]
    },
    {
     "name": "stdout",
     "output_type": "stream",
     "text": [
      "iterations: 499\n",
      "Number of used features: 26\n",
      "Used features: ['num-206k-hinds.nii-0.500000', 'sum-206k-hinds.nii-0.500000', 'mean-206k-hinds.nii-0.500000', 'std-206k-hinds.nii-0.500000', 'skew-206k-hinds.nii-0.500000', 'kurt-206k-hinds.nii-0.500000', 'hist-0-206k-hinds.nii-0.500000', 'hist-1-206k-hinds.nii-0.500000', 'hist-2-206k-hinds.nii-0.500000', 'hist-3-206k-hinds.nii-0.500000', 'hist-4-206k-hinds.nii-0.500000', 'hist-5-206k-hinds.nii-0.500000', 'hist-6-206k-hinds.nii-0.500000', 'hist-7-206k-hinds.nii-0.500000', 'hist-8-206k-hinds.nii-0.500000', 'hist-9-206k-hinds.nii-0.500000', 'hist-10-206k-hinds.nii-0.500000', 'hist-11-206k-hinds.nii-0.500000', 'hist-12-206k-hinds.nii-0.500000', 'hist-13-206k-hinds.nii-0.500000', 'hist-14-206k-hinds.nii-0.500000', 'hist-15-206k-hinds.nii-0.500000', 'hist-16-206k-hinds.nii-0.500000', 'hist-17-206k-hinds.nii-0.500000', 'hist-18-206k-hinds.nii-0.500000', 'hist-19-206k-hinds.nii-0.500000'] \n",
      "Score: -0.8652666107399325\n"
     ]
    },
    {
     "name": "stderr",
     "output_type": "stream",
     "text": [
      "200it [00:00, 523.34it/s]\n"
     ]
    },
    {
     "name": "stdout",
     "output_type": "stream",
     "text": [
      "1\n",
      "1 0.8688057541534141\n",
      "Objective PLSRegression_Objective:\n"
     ]
    },
    {
     "name": "stderr",
     "output_type": "stream",
     "text": [
      "  6%|▋         | 507/8000 [00:00<00:09, 779.40it/s]\n"
     ]
    },
    {
     "name": "stdout",
     "output_type": "stream",
     "text": [
      "iterations: 507\n",
      "Number of used features: 26\n",
      "Used features: ['num-206k-hinds.nii-0.500000', 'sum-206k-hinds.nii-0.500000', 'mean-206k-hinds.nii-0.500000', 'std-206k-hinds.nii-0.500000', 'skew-206k-hinds.nii-0.500000', 'kurt-206k-hinds.nii-0.500000', 'hist-0-206k-hinds.nii-0.500000', 'hist-1-206k-hinds.nii-0.500000', 'hist-2-206k-hinds.nii-0.500000', 'hist-3-206k-hinds.nii-0.500000', 'hist-4-206k-hinds.nii-0.500000', 'hist-5-206k-hinds.nii-0.500000', 'hist-6-206k-hinds.nii-0.500000', 'hist-7-206k-hinds.nii-0.500000', 'hist-8-206k-hinds.nii-0.500000', 'hist-9-206k-hinds.nii-0.500000', 'hist-10-206k-hinds.nii-0.500000', 'hist-11-206k-hinds.nii-0.500000', 'hist-12-206k-hinds.nii-0.500000', 'hist-13-206k-hinds.nii-0.500000', 'hist-14-206k-hinds.nii-0.500000', 'hist-15-206k-hinds.nii-0.500000', 'hist-16-206k-hinds.nii-0.500000', 'hist-17-206k-hinds.nii-0.500000', 'hist-18-206k-hinds.nii-0.500000', 'hist-19-206k-hinds.nii-0.500000'] \n",
      "Score: -0.8678844935989389\n"
     ]
    },
    {
     "name": "stderr",
     "output_type": "stream",
     "text": [
      "200it [00:00, 515.16it/s]\n"
     ]
    },
    {
     "name": "stdout",
     "output_type": "stream",
     "text": [
      "1\n",
      "1 0.8712234299053891\n",
      "Objective KNNR_Objective:\n"
     ]
    },
    {
     "name": "stderr",
     "output_type": "stream",
     "text": [
      "  7%|▋         | 529/8000 [00:38<09:02, 13.77it/s]\n"
     ]
    },
    {
     "name": "stdout",
     "output_type": "stream",
     "text": [
      "iterations: 529\n",
      "Number of used features: 26\n",
      "Used features: ['num-208f-hinds.nii-0.500000', 'sum-208f-hinds.nii-0.500000', 'mean-208f-hinds.nii-0.500000', 'std-208f-hinds.nii-0.500000', 'skew-208f-hinds.nii-0.500000', 'kurt-208f-hinds.nii-0.500000', 'hist-0-208f-hinds.nii-0.500000', 'hist-1-208f-hinds.nii-0.500000', 'hist-2-208f-hinds.nii-0.500000', 'hist-3-208f-hinds.nii-0.500000', 'hist-4-208f-hinds.nii-0.500000', 'hist-5-208f-hinds.nii-0.500000', 'hist-6-208f-hinds.nii-0.500000', 'hist-7-208f-hinds.nii-0.500000', 'hist-8-208f-hinds.nii-0.500000', 'hist-9-208f-hinds.nii-0.500000', 'hist-10-208f-hinds.nii-0.500000', 'hist-11-208f-hinds.nii-0.500000', 'hist-12-208f-hinds.nii-0.500000', 'hist-13-208f-hinds.nii-0.500000', 'hist-14-208f-hinds.nii-0.500000', 'hist-15-208f-hinds.nii-0.500000', 'hist-16-208f-hinds.nii-0.500000', 'hist-17-208f-hinds.nii-0.500000', 'hist-18-208f-hinds.nii-0.500000', 'hist-19-208f-hinds.nii-0.500000'] \n",
      "Score: -0.6858409566846497\n"
     ]
    },
    {
     "name": "stderr",
     "output_type": "stream",
     "text": [
      "200it [00:00, 605.61it/s]\n"
     ]
    },
    {
     "name": "stdout",
     "output_type": "stream",
     "text": [
      "1\n",
      "1 0.7094594321472516\n",
      "Objective LinearRegression_Objective:\n"
     ]
    },
    {
     "name": "stderr",
     "output_type": "stream",
     "text": [
      "  6%|▌         | 499/8000 [00:00<00:03, 2181.43it/s]\n"
     ]
    },
    {
     "name": "stdout",
     "output_type": "stream",
     "text": [
      "iterations: 499\n",
      "Number of used features: 26\n",
      "Used features: ['num-208f-hinds.nii-0.500000', 'sum-208f-hinds.nii-0.500000', 'mean-208f-hinds.nii-0.500000', 'std-208f-hinds.nii-0.500000', 'skew-208f-hinds.nii-0.500000', 'kurt-208f-hinds.nii-0.500000', 'hist-0-208f-hinds.nii-0.500000', 'hist-1-208f-hinds.nii-0.500000', 'hist-2-208f-hinds.nii-0.500000', 'hist-3-208f-hinds.nii-0.500000', 'hist-4-208f-hinds.nii-0.500000', 'hist-5-208f-hinds.nii-0.500000', 'hist-6-208f-hinds.nii-0.500000', 'hist-7-208f-hinds.nii-0.500000', 'hist-8-208f-hinds.nii-0.500000', 'hist-9-208f-hinds.nii-0.500000', 'hist-10-208f-hinds.nii-0.500000', 'hist-11-208f-hinds.nii-0.500000', 'hist-12-208f-hinds.nii-0.500000', 'hist-13-208f-hinds.nii-0.500000', 'hist-14-208f-hinds.nii-0.500000', 'hist-15-208f-hinds.nii-0.500000', 'hist-16-208f-hinds.nii-0.500000', 'hist-17-208f-hinds.nii-0.500000', 'hist-18-208f-hinds.nii-0.500000', 'hist-19-208f-hinds.nii-0.500000'] \n",
      "Score: -0.8458762422459565\n"
     ]
    },
    {
     "name": "stderr",
     "output_type": "stream",
     "text": [
      "200it [00:00, 614.80it/s]\n"
     ]
    },
    {
     "name": "stdout",
     "output_type": "stream",
     "text": [
      "1\n",
      "1 0.8479908681288886\n",
      "Objective LassoRegression_Objective:\n"
     ]
    },
    {
     "name": "stderr",
     "output_type": "stream",
     "text": [
      "  7%|▋         | 525/8000 [00:02<00:42, 175.65it/s]\n"
     ]
    },
    {
     "name": "stdout",
     "output_type": "stream",
     "text": [
      "iterations: 525\n",
      "Number of used features: 26\n",
      "Used features: ['num-208f-hinds.nii-0.500000', 'sum-208f-hinds.nii-0.500000', 'mean-208f-hinds.nii-0.500000', 'std-208f-hinds.nii-0.500000', 'skew-208f-hinds.nii-0.500000', 'kurt-208f-hinds.nii-0.500000', 'hist-0-208f-hinds.nii-0.500000', 'hist-1-208f-hinds.nii-0.500000', 'hist-2-208f-hinds.nii-0.500000', 'hist-3-208f-hinds.nii-0.500000', 'hist-4-208f-hinds.nii-0.500000', 'hist-5-208f-hinds.nii-0.500000', 'hist-6-208f-hinds.nii-0.500000', 'hist-7-208f-hinds.nii-0.500000', 'hist-8-208f-hinds.nii-0.500000', 'hist-9-208f-hinds.nii-0.500000', 'hist-10-208f-hinds.nii-0.500000', 'hist-11-208f-hinds.nii-0.500000', 'hist-12-208f-hinds.nii-0.500000', 'hist-13-208f-hinds.nii-0.500000', 'hist-14-208f-hinds.nii-0.500000', 'hist-15-208f-hinds.nii-0.500000', 'hist-16-208f-hinds.nii-0.500000', 'hist-17-208f-hinds.nii-0.500000', 'hist-18-208f-hinds.nii-0.500000', 'hist-19-208f-hinds.nii-0.500000'] \n",
      "Score: -0.8686378966091215\n"
     ]
    },
    {
     "name": "stderr",
     "output_type": "stream",
     "text": [
      "200it [00:00, 391.71it/s]\n"
     ]
    },
    {
     "name": "stdout",
     "output_type": "stream",
     "text": [
      "1\n",
      "1 0.8718694620377171\n",
      "Objective RidgeRegression_Objective:\n"
     ]
    },
    {
     "name": "stderr",
     "output_type": "stream",
     "text": [
      "  6%|▌         | 499/8000 [00:02<00:32, 227.53it/s]\n"
     ]
    },
    {
     "name": "stdout",
     "output_type": "stream",
     "text": [
      "iterations: 499\n",
      "Number of used features: 26\n",
      "Used features: ['num-208f-hinds.nii-0.500000', 'sum-208f-hinds.nii-0.500000', 'mean-208f-hinds.nii-0.500000', 'std-208f-hinds.nii-0.500000', 'skew-208f-hinds.nii-0.500000', 'kurt-208f-hinds.nii-0.500000', 'hist-0-208f-hinds.nii-0.500000', 'hist-1-208f-hinds.nii-0.500000', 'hist-2-208f-hinds.nii-0.500000', 'hist-3-208f-hinds.nii-0.500000', 'hist-4-208f-hinds.nii-0.500000', 'hist-5-208f-hinds.nii-0.500000', 'hist-6-208f-hinds.nii-0.500000', 'hist-7-208f-hinds.nii-0.500000', 'hist-8-208f-hinds.nii-0.500000', 'hist-9-208f-hinds.nii-0.500000', 'hist-10-208f-hinds.nii-0.500000', 'hist-11-208f-hinds.nii-0.500000', 'hist-12-208f-hinds.nii-0.500000', 'hist-13-208f-hinds.nii-0.500000', 'hist-14-208f-hinds.nii-0.500000', 'hist-15-208f-hinds.nii-0.500000', 'hist-16-208f-hinds.nii-0.500000', 'hist-17-208f-hinds.nii-0.500000', 'hist-18-208f-hinds.nii-0.500000', 'hist-19-208f-hinds.nii-0.500000'] \n",
      "Score: -0.8605534039900726\n"
     ]
    },
    {
     "name": "stderr",
     "output_type": "stream",
     "text": [
      "200it [00:00, 399.27it/s]\n"
     ]
    },
    {
     "name": "stdout",
     "output_type": "stream",
     "text": [
      "1\n",
      "1 0.8623124255101955\n",
      "Objective PLSRegression_Objective:\n"
     ]
    },
    {
     "name": "stderr",
     "output_type": "stream",
     "text": [
      "  6%|▋         | 507/8000 [00:01<00:16, 466.23it/s]\n"
     ]
    },
    {
     "name": "stdout",
     "output_type": "stream",
     "text": [
      "iterations: 507\n",
      "Number of used features: 26\n",
      "Used features: ['num-208f-hinds.nii-0.500000', 'sum-208f-hinds.nii-0.500000', 'mean-208f-hinds.nii-0.500000', 'std-208f-hinds.nii-0.500000', 'skew-208f-hinds.nii-0.500000', 'kurt-208f-hinds.nii-0.500000', 'hist-0-208f-hinds.nii-0.500000', 'hist-1-208f-hinds.nii-0.500000', 'hist-2-208f-hinds.nii-0.500000', 'hist-3-208f-hinds.nii-0.500000', 'hist-4-208f-hinds.nii-0.500000', 'hist-5-208f-hinds.nii-0.500000', 'hist-6-208f-hinds.nii-0.500000', 'hist-7-208f-hinds.nii-0.500000', 'hist-8-208f-hinds.nii-0.500000', 'hist-9-208f-hinds.nii-0.500000', 'hist-10-208f-hinds.nii-0.500000', 'hist-11-208f-hinds.nii-0.500000', 'hist-12-208f-hinds.nii-0.500000', 'hist-13-208f-hinds.nii-0.500000', 'hist-14-208f-hinds.nii-0.500000', 'hist-15-208f-hinds.nii-0.500000', 'hist-16-208f-hinds.nii-0.500000', 'hist-17-208f-hinds.nii-0.500000', 'hist-18-208f-hinds.nii-0.500000', 'hist-19-208f-hinds.nii-0.500000'] \n",
      "Score: -0.8638725270254631\n"
     ]
    },
    {
     "name": "stderr",
     "output_type": "stream",
     "text": [
      "200it [00:00, 340.16it/s]"
     ]
    },
    {
     "name": "stdout",
     "output_type": "stream",
     "text": [
      "1\n",
      "1 0.8661107802505013\n"
     ]
    },
    {
     "name": "stderr",
     "output_type": "stream",
     "text": [
      "\n"
     ]
    }
   ],
   "source": [
    "for m in masks:\n",
    "    results_no_fs.append(model_selection(hinds_features[[c for c in hinds_features.columns if m in c or c == 'type']], hinds_target, dataset='hinds', type=m, disable_feature_selection=True))"
   ]
  },
  {
   "cell_type": "markdown",
   "metadata": {},
   "source": [
    "### Saving the results"
   ]
  },
  {
   "cell_type": "code",
   "execution_count": 21,
   "metadata": {},
   "outputs": [],
   "source": [
    "results_no_fs= pd.concat(results_no_fs)\n",
    "results_no_fs.to_csv('results_no_fs.csv', index=False)\n",
    "pickle.dump(results_no_fs, open('results_no_fs.pickle', 'wb'))"
   ]
  }
 ],
 "metadata": {
  "interpreter": {
   "hash": "e0d982660e3379295975ae6f72ba4b0e5330ea6a01eda9d7cdd8a9b18c708191"
  },
  "kernelspec": {
   "display_name": "Python 3.7.10 64-bit ('maweight': conda)",
   "language": "python",
   "name": "python3"
  },
  "language_info": {
   "codemirror_mode": {
    "name": "ipython",
    "version": 3
   },
   "file_extension": ".py",
   "mimetype": "text/x-python",
   "name": "python",
   "nbconvert_exporter": "python",
   "pygments_lexer": "ipython3",
   "version": "3.7.0"
  }
 },
 "nbformat": 4,
 "nbformat_minor": 4
}
