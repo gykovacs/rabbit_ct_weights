{
 "metadata": {
  "language_info": {
   "codemirror_mode": {
    "name": "ipython",
    "version": 3
   },
   "file_extension": ".py",
   "mimetype": "text/x-python",
   "name": "python",
   "nbconvert_exporter": "python",
   "pygments_lexer": "ipython3",
   "version": "3.7.0"
  },
  "orig_nbformat": 2,
  "kernelspec": {
   "name": "python3",
   "display_name": "Python 3.7.0 64-bit ('rabbit': conda)",
   "metadata": {
    "interpreter": {
     "hash": "3f0bd8ecd95b85d6269a882a2dc1dbc4d7ed5f1db70a8505f59a2ad1e6c4eb45"
    }
   }
  }
 },
 "nbformat": 4,
 "nbformat_minor": 2,
 "cells": [
  {
   "cell_type": "code",
   "execution_count": 112,
   "metadata": {},
   "outputs": [],
   "source": [
    "import numpy as np\n",
    "import pandas as pd\n",
    "import pickle\n",
    "import xgboost\n",
    "from scipy.stats import ttest_1samp, ttest_ind, ttest_rel"
   ]
  },
  {
   "cell_type": "code",
   "execution_count": 113,
   "metadata": {},
   "outputs": [],
   "source": [
    "def test_diff_cross(df):\n",
    "    tmp= pd.DataFrame(index=df.index, columns=df.index)\n",
    "    for i in df.index:\n",
    "        for j in df.index:\n",
    "            tmp.loc[i,j]= ttest_rel(np.abs(np.hstack(df.loc[i].values)), np.abs(np.hstack(df.loc[j].values)))[1]\n",
    "    return tmp\n",
    "\n",
    "def test_diff(df, col='multi-atlas'):\n",
    "    tmp= pd.DataFrame(index=df.index, columns=df.columns)\n",
    "    for i in df.index:\n",
    "        for j in df.columns:\n",
    "            tmp.loc[i,j]= ttest_rel(np.abs(np.hstack(df.loc[i, j])), np.abs(np.hstack(df.loc[col, j])))[1]\n",
    "    tmp= tmp.drop(col, axis='rows')\n",
    "    return tmp\n",
    "\n",
    "def test_compare(df0, df1):\n",
    "    tmp= pd.DataFrame(index=df0.index, columns=df0.columns)\n",
    "    for i in df0.index:\n",
    "        for j in df0.columns:\n",
    "            tmp.loc[i,j]= ttest_rel(np.abs(np.hstack(df0.loc[i, j])), np.abs(np.hstack(df1.loc[i, j])))[1]\n",
    "    return tmp"
   ]
  },
  {
   "cell_type": "code",
   "execution_count": 114,
   "metadata": {},
   "outputs": [
    {
     "output_type": "stream",
     "name": "stderr",
     "text": [
      "/home/gykovacs/anaconda3/envs/rabbit/lib/python3.7/site-packages/sklearn/base.py:315: UserWarning: Trying to unpickle estimator StandardScaler from version 0.24.2 when using version 0.24.1. This might lead to breaking code or invalid results. Use at your own risk.\n  UserWarning)\n/home/gykovacs/anaconda3/envs/rabbit/lib/python3.7/site-packages/sklearn/base.py:315: UserWarning: Trying to unpickle estimator KNeighborsRegressor from version 0.24.2 when using version 0.24.1. This might lead to breaking code or invalid results. Use at your own risk.\n  UserWarning)\n/home/gykovacs/anaconda3/envs/rabbit/lib/python3.7/site-packages/sklearn/base.py:315: UserWarning: Trying to unpickle estimator LinearRegression from version 0.24.2 when using version 0.24.1. This might lead to breaking code or invalid results. Use at your own risk.\n  UserWarning)\n/home/gykovacs/anaconda3/envs/rabbit/lib/python3.7/site-packages/sklearn/base.py:315: UserWarning: Trying to unpickle estimator Lasso from version 0.24.2 when using version 0.24.1. This might lead to breaking code or invalid results. Use at your own risk.\n  UserWarning)\n/home/gykovacs/anaconda3/envs/rabbit/lib/python3.7/site-packages/sklearn/base.py:315: UserWarning: Trying to unpickle estimator Ridge from version 0.24.2 when using version 0.24.1. This might lead to breaking code or invalid results. Use at your own risk.\n  UserWarning)\n/home/gykovacs/anaconda3/envs/rabbit/lib/python3.7/site-packages/sklearn/base.py:315: UserWarning: Trying to unpickle estimator PLSRegression from version 0.24.2 when using version 0.24.1. This might lead to breaking code or invalid results. Use at your own risk.\n  UserWarning)\n"
     ]
    }
   ],
   "source": [
    "data_fs= pickle.load(open('results.pickle', 'rb'))\n",
    "data_no_fs= pickle.load(open('results_no_fs.pickle', 'rb'))"
   ]
  },
  {
   "cell_type": "code",
   "execution_count": 115,
   "metadata": {},
   "outputs": [],
   "source": [
    "mld_fs= data_fs[data_fs['dataset'] == 'mld']\n",
    "hinds_fs= data_fs[data_fs['dataset'] == 'hinds']\n",
    "\n",
    "mld_no_fs= data_no_fs[data_no_fs['dataset'] == 'mld']\n",
    "hinds_no_fs= data_no_fs[data_no_fs['dataset'] == 'hinds']"
   ]
  },
  {
   "cell_type": "code",
   "execution_count": 116,
   "metadata": {},
   "outputs": [
    {
     "output_type": "execute_result",
     "data": {
      "text/plain": [
       "Index(['model_selection_score', 'features', 'parameters', 'model', 'r2_1',\n",
       "       'rmse_1', 'y_test_1', 'y_pred_1', 'y_indices_1', 'dataset', 'type'],\n",
       "      dtype='object')"
      ]
     },
     "metadata": {},
     "execution_count": 116
    }
   ],
   "source": [
    "mld.columns"
   ]
  },
  {
   "cell_type": "code",
   "execution_count": 117,
   "metadata": {},
   "outputs": [
    {
     "output_type": "stream",
     "name": "stdout",
     "text": [
      "\\begin{tabular}{lrrrrrrrrrr}\n\\toprule\n{} & \\multicolumn{5}{l}{feature selection} & \\multicolumn{5}{l}{no feature selection} \\\\\n{} &            linear &     PLS &   lasso &   ridge &     kNN &               linear &     PLS &   lasso &   ridge &     kNN \\\\\ntype        &                   &         &         &         &         &                      &         &         &         &         \\\\\n\\midrule\natlas 1     &            0.7876 &  0.7905 &  0.7871 &  0.7873 &  0.7343 &               0.7434 &  0.7625 &  0.7694 &  0.7674 &  0.5867 \\\\\natlas 2     &            0.7735 &  0.7755 &  0.7753 &  0.7733 &  0.7119 &               0.7202 &  0.7504 &  0.7659 &  0.7512 &  0.5647 \\\\\natlas 3     &            0.7658 &  0.7650 &  0.7612 &  0.7645 &  0.7242 &               0.7233 &  0.7457 &  0.7582 &  0.7485 &  0.5197 \\\\\natlas 4     &            0.7499 &  0.7582 &  0.7493 &  0.7736 &  0.6388 &               0.7096 &  0.7326 &  0.7433 &  0.7364 &  0.5223 \\\\\natlas 5     &            0.7529 &  0.7618 &  0.7524 &  0.7526 &  0.6896 &               0.7013 &  0.7383 &  0.7365 &  0.7393 &  0.5143 \\\\\nmean        &            0.7837 &  0.7877 &  0.7836 &  0.7836 &  0.7255 &               0.7460 &  0.7626 &  0.7629 &  0.7650 &  0.5989 \\\\\nmulti-atlas &            0.8113 &  0.8127 &  0.8012 &  0.8104 &  0.7317 &             -15.0054 &  0.7638 &  0.7580 &  0.7617 &  0.5994 \\\\\n\\bottomrule\n\\end{tabular}\n\n"
     ]
    }
   ],
   "source": [
    "rename_dict_regr= {'KNNR_Objective': 'kNN', 'LinearRegression_Objective': 'linear', 'PLSRegression_Objective': 'PLS', 'RidgeRegression_Objective': 'ridge', 'LassoRegression_Objective': 'lasso'}\n",
    "rename_dict_type= {'203a': 'atlas 1', '203k': 'atlas 2', '204f': 'atlas 3', '206k': 'atlas 4', '208f': 'atlas 5', 'all': 'multi-atlas', 'mean_mask': 'mean'}\n",
    "row_order= ['atlas 1', 'atlas 2', 'atlas 3', 'atlas 4', 'atlas 5', 'mean', 'multi-atlas']\n",
    "col_order= ['linear', 'PLS', 'lasso', 'ridge', 'kNN']\n",
    "\n",
    "mld_fs_results= mld_fs.pivot(index='type', columns='model', values='r2_1')\n",
    "mld_fs_results= mld_fs_results.rename(rename_dict_regr, axis='columns')\n",
    "mld_fs_results= mld_fs_results.rename(rename_dict_type)\n",
    "mld_fs_results= mld_fs_results.apply(lambda x: np.round(x, 4))\n",
    "mld_fs_results= mld_fs_results.loc[row_order, col_order]\n",
    "\n",
    "mld_no_fs_results= mld_no_fs.pivot(index='type', columns='model', values='r2_1')\n",
    "mld_no_fs_results= mld_no_fs_results.rename(rename_dict_regr, axis='columns')\n",
    "mld_no_fs_results= mld_no_fs_results.rename(rename_dict_type)\n",
    "mld_no_fs_results= mld_no_fs_results.apply(lambda x: np.round(x, 4))\n",
    "mld_no_fs_results= mld_no_fs_results.loc[row_order, col_order]\n",
    "\n",
    "mld_all= pd.concat([mld_fs_results, mld_no_fs_results], axis='columns')\n",
    "columns= pd.MultiIndex.from_product([['feature selection', 'no feature selection'], col_order])\n",
    "mld_all.columns= columns\n",
    "\n",
    "print(mld_all.to_latex())"
   ]
  },
  {
   "cell_type": "code",
   "execution_count": 118,
   "metadata": {},
   "outputs": [
    {
     "output_type": "stream",
     "name": "stderr",
     "text": [
      "/home/gykovacs/anaconda3/envs/rabbit/lib/python3.7/site-packages/ipykernel_launcher.py:1: SettingWithCopyWarning: \nA value is trying to be set on a copy of a slice from a DataFrame.\nTry using .loc[row_indexer,col_indexer] = value instead\n\nSee the caveats in the documentation: https://pandas.pydata.org/pandas-docs/stable/user_guide/indexing.html#returning-a-view-versus-a-copy\n  \"\"\"Entry point for launching an IPython kernel.\n/home/gykovacs/anaconda3/envs/rabbit/lib/python3.7/site-packages/ipykernel_launcher.py:7: SettingWithCopyWarning: \nA value is trying to be set on a copy of a slice from a DataFrame.\nTry using .loc[row_indexer,col_indexer] = value instead\n\nSee the caveats in the documentation: https://pandas.pydata.org/pandas-docs/stable/user_guide/indexing.html#returning-a-view-versus-a-copy\n  import sys\n"
     ]
    }
   ],
   "source": [
    "mld_fs['diff']= (mld_fs['y_pred_1'] - mld_fs['y_test_1'])**2\n",
    "mld_fs_test= mld_fs.pivot(index='type', columns='model', values='diff')\n",
    "mld_fs_test= mld_fs_test.rename(rename_dict_regr, axis='columns')\n",
    "mld_fs_test= mld_fs_test.rename(rename_dict_type)\n",
    "mld_fs_test= mld_fs_test.loc[row_order, col_order]\n",
    "\n",
    "mld_no_fs['diff']= (mld_no_fs['y_pred_1'] - mld_no_fs['y_test_1'])**2\n",
    "mld_no_fs_test= mld_no_fs.pivot(index='type', columns='model', values='diff')\n",
    "mld_no_fs_test= mld_no_fs_test.rename(rename_dict_regr, axis='columns')\n",
    "mld_no_fs_test= mld_no_fs_test.rename(rename_dict_type)\n",
    "mld_no_fs_test= mld_no_fs_test.loc[row_order, col_order]"
   ]
  },
  {
   "cell_type": "code",
   "execution_count": 130,
   "metadata": {},
   "outputs": [
    {
     "output_type": "stream",
     "name": "stdout",
     "text": [
      "\\begin{tabular}{llllll}\n\\toprule\nmodel & linear &    PLS &  lasso &  ridge &     kNN \\\\\ntype        &        &        &        &        &         \\\\\n\\midrule\natlas 1     &  6e-32 &  9e-35 &  1e-51 &  3e-41 &   1e-59 \\\\\natlas 2     &  3e-45 &  4e-29 &  7e-12 &  7e-35 &   4e-57 \\\\\natlas 3     &  2e-25 &  5e-11 &  2e-01 &  7e-12 &  3e-111 \\\\\natlas 4     &  4e-13 &  3e-27 &  1e-02 &  7e-53 &   8e-69 \\\\\natlas 5     &  7e-16 &  2e-24 &  5e-24 &  9e-09 &   1e-62 \\\\\nmean        &  3e-22 &  1e-26 &  8e-49 &  7e-31 &   9e-47 \\\\\nmulti-atlas &  1e-81 &  7e-54 &  2e-53 &  4e-79 &   8e-95 \\\\\n\\bottomrule\n\\end{tabular}\n\n"
     ]
    }
   ],
   "source": [
    "print(test_compare(mld_fs_test, mld_no_fs_test).applymap(lambda x: '%.0e' % x).to_latex())"
   ]
  },
  {
   "cell_type": "code",
   "execution_count": 131,
   "metadata": {},
   "outputs": [
    {
     "output_type": "stream",
     "name": "stdout",
     "text": [
      "\\begin{tabular}{llllll}\n\\toprule\nmodel & linear &    PLS &  lasso &  ridge &    kNN \\\\\ntype    &        &        &        &        &        \\\\\n\\midrule\natlas 1 &  4e-12 &  5e-13 &  7e-12 &  2e-19 &  7e-01 \\\\\natlas 2 &  7e-19 &  6e-29 &  5e-15 &  1e-34 &  1e-03 \\\\\natlas 3 &  1e-20 &  1e-31 &  7e-29 &  1e-36 &  2e-01 \\\\\natlas 4 &  1e-42 &  1e-41 &  3e-47 &  2e-23 &  1e-25 \\\\\natlas 5 &  5e-30 &  2e-38 &  1e-33 &  1e-49 &  1e-15 \\\\\nmean    &  1e-13 &  1e-15 &  4e-10 &  1e-25 &  3e-01 \\\\\n\\bottomrule\n\\end{tabular}\n\n"
     ]
    }
   ],
   "source": [
    "print(test_diff(mld_fs_test).applymap(lambda x: '%.0e' % x).to_latex())"
   ]
  },
  {
   "cell_type": "code",
   "execution_count": 121,
   "metadata": {},
   "outputs": [
    {
     "output_type": "stream",
     "name": "stdout",
     "text": [
      "\\begin{tabular}{lrrrrrrrrrr}\n\\toprule\n{} & \\multicolumn{5}{l}{feature selection} & \\multicolumn{5}{l}{no feature selection} \\\\\n{} &            linear &     PLS &   lasso &   ridge &     kNN &               linear &     PLS &   lasso &   ridge &     kNN \\\\\ntype        &                   &         &         &         &         &                      &         &         &         &         \\\\\n\\midrule\natlas 1     &            0.8768 &  0.8825 &  0.8772 &  0.8843 &  0.8238 &               0.8545 &  0.8688 &  0.8735 &  0.8690 &  0.6573 \\\\\natlas 2     &            0.8822 &  0.8799 &  0.8827 &  0.8824 &  0.8355 &               0.8545 &  0.8701 &  0.8763 &  0.8684 &  0.6517 \\\\\natlas 3     &            0.8677 &  0.8782 &  0.8770 &  0.8791 &  0.8212 &               0.8502 &  0.8671 &  0.8703 &  0.8651 &  0.6906 \\\\\natlas 4     &            0.8825 &  0.8828 &  0.8826 &  0.8862 &  0.8164 &               0.8639 &  0.8740 &  0.8763 &  0.8765 &  0.6557 \\\\\natlas 5     &            0.8704 &  0.8690 &  0.8749 &  0.8774 &  0.8164 &               0.8482 &  0.8648 &  0.8683 &  0.8610 &  0.6596 \\\\\nmean        &            0.8773 &  0.8816 &  0.8810 &  0.8830 &  0.8284 &               0.8544 &  0.8729 &  0.8738 &  0.8714 &  0.6601 \\\\\nmulti-atlas &            0.8891 &  0.8890 &  0.8870 &  0.8976 &  0.8527 &              -5.2593 &  0.8700 &  0.8686 &  0.8661 &  0.6963 \\\\\n\\bottomrule\n\\end{tabular}\n\n"
     ]
    }
   ],
   "source": [
    "hinds_fs_results= hinds_fs.pivot(index='type', columns='model', values='r2_1')\n",
    "hinds_fs_results= hinds_fs_results.rename(rename_dict_regr, axis='columns')\n",
    "hinds_fs_results= hinds_fs_results.rename(rename_dict_type)\n",
    "hinds_fs_results= hinds_fs_results.apply(lambda x: np.round(x, 4))\n",
    "hinds_fs_results= hinds_fs_results.loc[row_order, col_order]\n",
    "\n",
    "hinds_no_fs_results= hinds_no_fs.pivot(index='type', columns='model', values='r2_1')\n",
    "hinds_no_fs_results= hinds_no_fs_results.rename(rename_dict_regr, axis='columns')\n",
    "hinds_no_fs_results= hinds_no_fs_results.rename(rename_dict_type)\n",
    "hinds_no_fs_results= hinds_no_fs_results.apply(lambda x: np.round(x, 4))\n",
    "hinds_no_fs_results= hinds_no_fs_results.loc[row_order, col_order]\n",
    "\n",
    "hinds_all= pd.concat([hinds_fs_results, hinds_no_fs_results], axis='columns')\n",
    "columns= pd.MultiIndex.from_product([['feature selection', 'no feature selection'], col_order])\n",
    "hinds_all.columns= columns\n",
    "\n",
    "print(hinds_all.to_latex())"
   ]
  },
  {
   "cell_type": "code",
   "execution_count": 122,
   "metadata": {},
   "outputs": [
    {
     "output_type": "stream",
     "name": "stderr",
     "text": [
      "/home/gykovacs/anaconda3/envs/rabbit/lib/python3.7/site-packages/ipykernel_launcher.py:1: SettingWithCopyWarning: \nA value is trying to be set on a copy of a slice from a DataFrame.\nTry using .loc[row_indexer,col_indexer] = value instead\n\nSee the caveats in the documentation: https://pandas.pydata.org/pandas-docs/stable/user_guide/indexing.html#returning-a-view-versus-a-copy\n  \"\"\"Entry point for launching an IPython kernel.\n/home/gykovacs/anaconda3/envs/rabbit/lib/python3.7/site-packages/ipykernel_launcher.py:7: SettingWithCopyWarning: \nA value is trying to be set on a copy of a slice from a DataFrame.\nTry using .loc[row_indexer,col_indexer] = value instead\n\nSee the caveats in the documentation: https://pandas.pydata.org/pandas-docs/stable/user_guide/indexing.html#returning-a-view-versus-a-copy\n  import sys\n"
     ]
    }
   ],
   "source": [
    "hinds_fs['diff']= (hinds_fs['y_pred_1'] - hinds_fs['y_test_1'])**2\n",
    "hinds_fs_test= hinds_fs.pivot(index='type', columns='model', values='diff')\n",
    "hinds_fs_test= hinds_fs_test.rename(rename_dict_regr, axis='columns')\n",
    "hinds_fs_test= hinds_fs_test.rename(rename_dict_type)\n",
    "hinds_fs_test= hinds_fs_test.loc[row_order, col_order]\n",
    "\n",
    "hinds_no_fs['diff']= (hinds_no_fs['y_pred_1'] - hinds_no_fs['y_test_1'])**2\n",
    "hinds_no_fs_test= hinds_no_fs.pivot(index='type', columns='model', values='diff')\n",
    "hinds_no_fs_test= hinds_no_fs_test.rename(rename_dict_regr, axis='columns')\n",
    "hinds_no_fs_test= hinds_no_fs_test.rename(rename_dict_type)\n",
    "hinds_no_fs_test= hinds_no_fs_test.loc[row_order, col_order]"
   ]
  },
  {
   "cell_type": "code",
   "execution_count": 132,
   "metadata": {},
   "outputs": [
    {
     "output_type": "stream",
     "name": "stdout",
     "text": [
      "\\begin{tabular}{llllll}\n\\toprule\nmodel &  linear &    PLS &  lasso &  ridge &     kNN \\\\\ntype        &         &        &        &        &         \\\\\n\\midrule\natlas 1     &   5e-33 &  8e-26 &  5e-06 &  5e-34 &  9e-105 \\\\\natlas 2     &   2e-74 &  1e-24 &  5e-42 &  7e-46 &  6e-101 \\\\\natlas 3     &   1e-17 &  2e-14 &  2e-31 &  5e-38 &   4e-74 \\\\\natlas 4     &   8e-21 &  3e-15 &  2e-17 &  5e-33 &   4e-81 \\\\\natlas 5     &   6e-31 &  8e-04 &  3e-27 &  1e-49 &  2e-105 \\\\\nmean        &   8e-30 &  4e-22 &  5e-43 &  1e-24 &   3e-76 \\\\\nmulti-atlas &  1e-124 &  1e-21 &  3e-40 &  1e-60 &  8e-135 \\\\\n\\bottomrule\n\\end{tabular}\n\n"
     ]
    }
   ],
   "source": [
    "print(test_compare(hinds_fs_test, hinds_no_fs_test).applymap(lambda x: '%.0e' % x).to_latex())"
   ]
  },
  {
   "cell_type": "code",
   "execution_count": 133,
   "metadata": {},
   "outputs": [
    {
     "output_type": "stream",
     "name": "stdout",
     "text": [
      "\\begin{tabular}{llllll}\n\\toprule\nmodel & linear &    PLS &  lasso &  ridge &    kNN \\\\\ntype    &        &        &        &        &        \\\\\n\\midrule\natlas 1 &  1e-11 &  4e-04 &  7e-16 &  7e-12 &  3e-15 \\\\\natlas 2 &  1e-04 &  2e-06 &  4e-04 &  3e-13 &  3e-07 \\\\\natlas 3 &  2e-19 &  6e-07 &  9e-14 &  1e-20 &  2e-14 \\\\\natlas 4 &  5e-04 &  2e-03 &  2e-05 &  4e-10 &  9e-15 \\\\\natlas 5 &  6e-20 &  9e-22 &  9e-26 &  3e-24 &  9e-22 \\\\\nmean    &  1e-09 &  7e-05 &  9e-07 &  5e-14 &  2e-09 \\\\\n\\bottomrule\n\\end{tabular}\n\n"
     ]
    }
   ],
   "source": [
    "print(test_diff(hinds_fs_test).applymap(lambda x: '%.0e' % x).to_latex())"
   ]
  },
  {
   "cell_type": "code",
   "execution_count": null,
   "metadata": {},
   "outputs": [],
   "source": []
  }
 ]
}