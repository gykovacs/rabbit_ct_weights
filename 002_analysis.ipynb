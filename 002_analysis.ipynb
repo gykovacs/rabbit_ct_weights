{
 "metadata": {
  "language_info": {
   "codemirror_mode": {
    "name": "ipython",
    "version": 3
   },
   "file_extension": ".py",
   "mimetype": "text/x-python",
   "name": "python",
   "nbconvert_exporter": "python",
   "pygments_lexer": "ipython3",
   "version": "3.7.0"
  },
  "orig_nbformat": 2,
  "kernelspec": {
   "name": "python3",
   "display_name": "Python 3.7.0 64-bit ('rabbit': conda)",
   "metadata": {
    "interpreter": {
     "hash": "3f0bd8ecd95b85d6269a882a2dc1dbc4d7ed5f1db70a8505f59a2ad1e6c4eb45"
    }
   }
  }
 },
 "nbformat": 4,
 "nbformat_minor": 2,
 "cells": [
  {
   "cell_type": "code",
   "execution_count": 57,
   "metadata": {},
   "outputs": [],
   "source": [
    "import numpy as np\n",
    "import pandas as pd\n",
    "import pickle\n",
    "import xgboost\n",
    "from scipy.stats import ttest_1samp, ttest_ind, ttest_rel"
   ]
  },
  {
   "cell_type": "code",
   "execution_count": 58,
   "metadata": {},
   "outputs": [],
   "source": [
    "#data= pd.read_csv('results.csv')\n",
    "data= pickle.load(open('results.pickle', 'rb'))"
   ]
  },
  {
   "cell_type": "code",
   "execution_count": 59,
   "metadata": {},
   "outputs": [],
   "source": [
    "mld= data[data['dataset'] == 'mld']\n",
    "hinds= data[data['dataset'] == 'hinds']"
   ]
  },
  {
   "cell_type": "code",
   "execution_count": 60,
   "metadata": {},
   "outputs": [
    {
     "output_type": "execute_result",
     "data": {
      "text/plain": [
       "Index(['model_selection_score', 'features', 'parameters', 'model', 'r2_1',\n",
       "       'rmse_1', 'y_test_1', 'y_pred_1', 'y_indices_1', 'dataset', 'type'],\n",
       "      dtype='object')"
      ]
     },
     "metadata": {},
     "execution_count": 60
    }
   ],
   "source": [
    "mld.columns"
   ]
  },
  {
   "cell_type": "code",
   "execution_count": 61,
   "metadata": {},
   "outputs": [
    {
     "output_type": "stream",
     "name": "stdout",
     "text": [
      "\\begin{tabular}{lrrrrr}\n\\toprule\nmodel &     kNN &   lasso &  linear &     PLS &   ridge \\\\\ntype        &         &         &         &         &         \\\\\n\\midrule\natlas 1     &  0.7423 &  0.7871 &  0.7876 &  0.7905 &  0.7876 \\\\\natlas 2     &  0.7119 &  0.7753 &  0.7735 &  0.7755 &  0.7757 \\\\\natlas 3     &  0.7242 &  0.7612 &  0.7658 &  0.7650 &  0.7731 \\\\\natlas 4     &  0.6388 &  0.7483 &  0.7499 &  0.7582 &  0.7526 \\\\\natlas 5     &  0.6896 &  0.7524 &  0.7529 &  0.7618 &  0.7526 \\\\\nmulti-atlas &  0.7339 &  0.8090 &  0.8113 &  0.8130 &  0.8143 \\\\\nmean        &  0.7255 &  0.7836 &  0.7837 &  0.7877 &  0.7836 \\\\\n\\bottomrule\n\\end{tabular}\n\n"
     ]
    }
   ],
   "source": [
    "mld_results= mld.pivot(index='type', columns='model', values='r2_1')\n",
    "mld_results= mld_results.rename({'KNNR_Objective': 'kNN', 'LinearRegression_Objective': 'linear', 'PLSRegression_Objective': 'PLS', 'SVR_RBF_Objective': 'SVR', 'XGBR_Objective': 'XGBR', 'RidgeRegression_Objective': 'ridge', 'LassoRegression_Objective': 'lasso'}, axis='columns')\n",
    "mld_results= mld_results.rename({'203a': 'atlas 1', '203k': 'atlas 2', '204f': 'atlas 3', '206k': 'atlas 4', '208f': 'atlas 5', 'all': 'multi-atlas', 'mean_mask': 'mean'})\n",
    "mld_results= mld_results.apply(lambda x: np.round(x, 4))\n",
    "print(mld_results.to_latex())"
   ]
  },
  {
   "cell_type": "code",
   "execution_count": 62,
   "metadata": {},
   "outputs": [
    {
     "output_type": "stream",
     "name": "stdout",
     "text": [
      "\\begin{tabular}{lrrrrr}\n\\toprule\nmodel &     kNN &   lasso &  linear &     PLS &   ridge \\\\\ntype        &         &         &         &         &         \\\\\n\\midrule\natlas 1     &  0.8238 &  0.8763 &  0.8768 &  0.8825 &  0.8843 \\\\\natlas 2     &  0.8355 &  0.8827 &  0.8822 &  0.8799 &  0.8824 \\\\\natlas 3     &  0.8212 &  0.8770 &  0.8677 &  0.8782 &  0.8791 \\\\\natlas 4     &  0.8164 &  0.8818 &  0.8825 &  0.8828 &  0.8839 \\\\\natlas 5     &  0.8164 &  0.8749 &  0.8704 &  0.8690 &  0.8770 \\\\\nmulti-atlas &  0.8527 &  0.8873 &  0.8891 &  0.8890 &  0.8962 \\\\\nmean        &  0.8284 &  0.8810 &  0.8773 &  0.8816 &  0.8824 \\\\\n\\bottomrule\n\\end{tabular}\n\n"
     ]
    }
   ],
   "source": [
    "hinds_results= hinds.pivot(index='type', columns='model', values='r2_1')\n",
    "hinds_results= hinds_results.rename({'KNNR_Objective': 'kNN', 'LinearRegression_Objective': 'linear', 'PLSRegression_Objective': 'PLS', 'SVR_RBF_Objective': 'SVR', 'XGBR_Objective': 'XGBR', 'RidgeRegression_Objective': 'ridge', 'LassoRegression_Objective': 'lasso'}, axis='columns')\n",
    "hinds_results= hinds_results.rename({'203a': 'atlas 1', '203k': 'atlas 2', '204f': 'atlas 3', '206k': 'atlas 4', '208f': 'atlas 5', 'all': 'multi-atlas', 'mean_mask': 'mean'})\n",
    "hinds_results= hinds_results.apply(lambda x: np.round(x, 4))\n",
    "print(hinds_results.to_latex())"
   ]
  },
  {
   "cell_type": "code",
   "execution_count": 63,
   "metadata": {},
   "outputs": [
    {
     "output_type": "stream",
     "name": "stderr",
     "text": [
      "/home/gykovacs/anaconda3/envs/rabbit/lib/python3.7/site-packages/ipykernel_launcher.py:1: SettingWithCopyWarning: \nA value is trying to be set on a copy of a slice from a DataFrame.\nTry using .loc[row_indexer,col_indexer] = value instead\n\nSee the caveats in the documentation: https://pandas.pydata.org/pandas-docs/stable/user_guide/indexing.html#returning-a-view-versus-a-copy\n  \"\"\"Entry point for launching an IPython kernel.\n/home/gykovacs/anaconda3/envs/rabbit/lib/python3.7/site-packages/ipykernel_launcher.py:6: SettingWithCopyWarning: \nA value is trying to be set on a copy of a slice from a DataFrame.\nTry using .loc[row_indexer,col_indexer] = value instead\n\nSee the caveats in the documentation: https://pandas.pydata.org/pandas-docs/stable/user_guide/indexing.html#returning-a-view-versus-a-copy\n  \n"
     ]
    }
   ],
   "source": [
    "mld['diff']= mld['y_test_1'].apply(np.array) - mld['y_pred_1'].apply(np.array)\n",
    "mld_test= mld.pivot(index='type', columns='model', values='diff')\n",
    "mld_test= mld_test.rename({'KNNR_Objective': 'kNN', 'LinearRegression_Objective': 'linear', 'PLSRegression_Objective': 'PLS', 'SVR_RBF_Objective': 'SVR', 'XGBR_Objective': 'XGBR', 'RidgeRegression_Objective': 'ridge', 'LassoRegression_Objective': 'lasso'}, axis='columns')\n",
    "mld_test= mld_test.rename({'203a': 'atlas 1', '203k': 'atlas 2', '204f': 'atlas 3', '206k': 'atlas 4', '208f': 'atlas 5', 'all': 'multi-atlas', 'mean_mask': 'mean'})\n",
    "\n",
    "hinds['diff']= hinds['y_test_1'].apply(np.array) - hinds['y_pred_1'].apply(np.array)\n",
    "hinds_test= hinds.pivot(index='type', columns='model', values='diff')\n",
    "hinds_test= hinds_test.rename({'KNNR_Objective': 'kNN', 'LinearRegression_Objective': 'linear', 'PLSRegression_Objective': 'PLS', 'SVR_RBF_Objective': 'SVR', 'XGBR_Objective': 'XGBR', 'RidgeRegression_Objective': 'ridge', 'LassoRegression_Objective': 'lasso'}, axis='columns')\n",
    "hinds_test= hinds_test.rename({'203a': 'atlas 1', '203k': 'atlas 2', '204f': 'atlas 3', '206k': 'atlas 4', '208f': 'atlas 5', 'all': 'multi-atlas', 'mean_mask': 'mean'})"
   ]
  },
  {
   "cell_type": "code",
   "execution_count": 64,
   "metadata": {},
   "outputs": [],
   "source": [
    "to_drop= []\n",
    "mld_test_reduced= mld_test.drop(to_drop, axis='columns')\n",
    "hinds_test_reduced= hinds_test.drop(to_drop, axis='columns')"
   ]
  },
  {
   "cell_type": "code",
   "execution_count": 65,
   "metadata": {},
   "outputs": [
    {
     "output_type": "execute_result",
     "data": {
      "text/plain": [
       "Index(['kNN', 'lasso', 'linear', 'PLS', 'ridge'], dtype='object', name='model')"
      ]
     },
     "metadata": {},
     "execution_count": 65
    }
   ],
   "source": [
    "mld_test_reduced.columns"
   ]
  },
  {
   "cell_type": "code",
   "execution_count": 66,
   "metadata": {},
   "outputs": [],
   "source": [
    "def test_diff_cross(df):\n",
    "    tmp= pd.DataFrame(index=df.index, columns=df.index)\n",
    "    for i in df.index:\n",
    "        for j in df.index:\n",
    "            tmp.loc[i,j]= ttest_rel(np.abs(np.hstack(df.loc[i].values)), np.abs(np.hstack(df.loc[j].values)))[1]\n",
    "    return tmp\n",
    "\n",
    "def test_diff(df):\n",
    "    tmp= pd.DataFrame(index=df.index, columns=df.columns)\n",
    "    for i in df.index:\n",
    "        for j in df.columns:\n",
    "            tmp.loc[i,j]= ttest_rel(np.abs(np.hstack(df.loc[i, j])), np.abs(np.hstack(df.loc['multi-atlas', j])))[1]\n",
    "    return tmp"
   ]
  },
  {
   "cell_type": "code",
   "execution_count": 67,
   "metadata": {},
   "outputs": [],
   "source": [
    "mld_test_pivot= test_diff(mld_test_reduced)\n",
    "hinds_test_pivot= test_diff(hinds_test_reduced)"
   ]
  },
  {
   "cell_type": "code",
   "execution_count": 68,
   "metadata": {},
   "outputs": [
    {
     "output_type": "stream",
     "name": "stdout",
     "text": [
      "\\begin{tabular}{llllll}\n\\toprule\nmodel &      kNN &    lasso &   linear &      PLS &    ridge \\\\\ntype    &          &          &          &          &          \\\\\n\\midrule\natlas 1 &  3.2e-01 &  1.1e-21 &  7.0e-18 &  1.7e-16 &  5.1e-22 \\\\\natlas 2 &  1.1e-06 &  6.0e-17 &  4.8e-13 &  1.5e-17 &  9.2e-23 \\\\\natlas 3 &  5.2e-04 &  7.5e-17 &  3.4e-06 &  1.0e-11 &  5.8e-12 \\\\\natlas 4 &  4.9e-38 &  4.3e-64 &  2.2e-45 &  1.1e-42 &  5.4e-58 \\\\\natlas 5 &  1.8e-22 &  3.2e-23 &  9.6e-19 &  1.8e-18 &  6.4e-27 \\\\\nmean    &  1.4e-01 &  3.8e-07 &  1.7e-09 &  1.0e-06 &  3.7e-10 \\\\\n\\bottomrule\n\\end{tabular}\n\n\\begin{tabular}{llllll}\n\\toprule\nmodel &      kNN &    lasso &   linear &      PLS &    ridge \\\\\ntype    &          &          &          &          &          \\\\\n\\midrule\natlas 1 &  6.8e-11 &  1.5e-22 &  9.7e-15 &  2.9e-09 &  7.6e-07 \\\\\natlas 2 &  4.2e-10 &  4.7e-02 &  5.6e-02 &  2.8e-10 &  8.7e-08 \\\\\natlas 3 &  1.1e-07 &  2.0e-08 &  1.2e-19 &  9.5e-11 &  2.9e-07 \\\\\natlas 4 &  5.0e-13 &  6.2e-02 &  1.6e-03 &  2.2e-05 &  2.9e-13 \\\\\natlas 5 &  2.7e-18 &  1.3e-14 &  4.0e-23 &  8.3e-28 &  4.5e-17 \\\\\nmean    &  1.0e-09 &  2.5e-05 &  8.1e-11 &  5.2e-05 &  2.1e-09 \\\\\n\\bottomrule\n\\end{tabular}\n\n"
     ]
    }
   ],
   "source": [
    "print(mld_test_pivot.drop('multi-atlas', axis='rows').astype(float).applymap(lambda x: '%.1e' % x).to_latex())\n",
    "print(hinds_test_pivot.drop('multi-atlas', axis='rows').astype(float).applymap(lambda x: '%.1e' % x).to_latex())"
   ]
  },
  {
   "cell_type": "code",
   "execution_count": 69,
   "metadata": {},
   "outputs": [
    {
     "output_type": "stream",
     "name": "stderr",
     "text": [
      "/home/gykovacs/anaconda3/envs/rabbit/lib/python3.7/site-packages/numpy/core/fromnumeric.py:3703: RuntimeWarning: Degrees of freedom <= 0 for slice\n  **kwargs)\n/home/gykovacs/anaconda3/envs/rabbit/lib/python3.7/site-packages/numpy/core/_methods.py:253: RuntimeWarning: invalid value encountered in double_scalars\n  ret = ret.dtype.type(ret / rcount)\n"
     ]
    },
    {
     "output_type": "execute_result",
     "data": {
      "text/plain": [
       "model               kNN       lasso      linear         PLS       ridge\n",
       "type                                                                   \n",
       "atlas 1      (nan, nan)  (nan, nan)  (nan, nan)  (nan, nan)  (nan, nan)\n",
       "atlas 2      (nan, nan)  (nan, nan)  (nan, nan)  (nan, nan)  (nan, nan)\n",
       "atlas 3      (nan, nan)  (nan, nan)  (nan, nan)  (nan, nan)  (nan, nan)\n",
       "atlas 4      (nan, nan)  (nan, nan)  (nan, nan)  (nan, nan)  (nan, nan)\n",
       "atlas 5      (nan, nan)  (nan, nan)  (nan, nan)  (nan, nan)  (nan, nan)\n",
       "multi-atlas  (nan, nan)  (nan, nan)  (nan, nan)  (nan, nan)  (nan, nan)\n",
       "mean         (nan, nan)  (nan, nan)  (nan, nan)  (nan, nan)  (nan, nan)"
      ],
      "text/html": "<div>\n<style scoped>\n    .dataframe tbody tr th:only-of-type {\n        vertical-align: middle;\n    }\n\n    .dataframe tbody tr th {\n        vertical-align: top;\n    }\n\n    .dataframe thead th {\n        text-align: right;\n    }\n</style>\n<table border=\"1\" class=\"dataframe\">\n  <thead>\n    <tr style=\"text-align: right;\">\n      <th>model</th>\n      <th>kNN</th>\n      <th>lasso</th>\n      <th>linear</th>\n      <th>PLS</th>\n      <th>ridge</th>\n    </tr>\n    <tr>\n      <th>type</th>\n      <th></th>\n      <th></th>\n      <th></th>\n      <th></th>\n      <th></th>\n    </tr>\n  </thead>\n  <tbody>\n    <tr>\n      <th>atlas 1</th>\n      <td>(nan, nan)</td>\n      <td>(nan, nan)</td>\n      <td>(nan, nan)</td>\n      <td>(nan, nan)</td>\n      <td>(nan, nan)</td>\n    </tr>\n    <tr>\n      <th>atlas 2</th>\n      <td>(nan, nan)</td>\n      <td>(nan, nan)</td>\n      <td>(nan, nan)</td>\n      <td>(nan, nan)</td>\n      <td>(nan, nan)</td>\n    </tr>\n    <tr>\n      <th>atlas 3</th>\n      <td>(nan, nan)</td>\n      <td>(nan, nan)</td>\n      <td>(nan, nan)</td>\n      <td>(nan, nan)</td>\n      <td>(nan, nan)</td>\n    </tr>\n    <tr>\n      <th>atlas 4</th>\n      <td>(nan, nan)</td>\n      <td>(nan, nan)</td>\n      <td>(nan, nan)</td>\n      <td>(nan, nan)</td>\n      <td>(nan, nan)</td>\n    </tr>\n    <tr>\n      <th>atlas 5</th>\n      <td>(nan, nan)</td>\n      <td>(nan, nan)</td>\n      <td>(nan, nan)</td>\n      <td>(nan, nan)</td>\n      <td>(nan, nan)</td>\n    </tr>\n    <tr>\n      <th>multi-atlas</th>\n      <td>(nan, nan)</td>\n      <td>(nan, nan)</td>\n      <td>(nan, nan)</td>\n      <td>(nan, nan)</td>\n      <td>(nan, nan)</td>\n    </tr>\n    <tr>\n      <th>mean</th>\n      <td>(nan, nan)</td>\n      <td>(nan, nan)</td>\n      <td>(nan, nan)</td>\n      <td>(nan, nan)</td>\n      <td>(nan, nan)</td>\n    </tr>\n  </tbody>\n</table>\n</div>"
     },
     "metadata": {},
     "execution_count": 69
    }
   ],
   "source": [
    "\n",
    "hinds_results.applymap(lambda x: ttest_1samp(x, 0.0))"
   ]
  },
  {
   "cell_type": "code",
   "execution_count": 70,
   "metadata": {},
   "outputs": [
    {
     "output_type": "error",
     "ename": "TypeError",
     "evalue": "dispatcher for __array_function__ did not return an iterable",
     "traceback": [
      "\u001b[0;31m---------------------------------------------------------------------------\u001b[0m",
      "\u001b[0;31mTypeError\u001b[0m                                 Traceback (most recent call last)",
      "\u001b[0;32m<ipython-input-70-3485151e69ff>\u001b[0m in \u001b[0;36m<module>\u001b[0;34m\u001b[0m\n\u001b[0;32m----> 1\u001b[0;31m \u001b[0mttest_ind\u001b[0m\u001b[0;34m(\u001b[0m\u001b[0mnp\u001b[0m\u001b[0;34m.\u001b[0m\u001b[0mhstack\u001b[0m\u001b[0;34m(\u001b[0m\u001b[0mhinds_results\u001b[0m\u001b[0;34m.\u001b[0m\u001b[0mloc\u001b[0m\u001b[0;34m[\u001b[0m\u001b[0;34m'multi-atlas'\u001b[0m\u001b[0;34m]\u001b[0m\u001b[0;34m.\u001b[0m\u001b[0mvalues\u001b[0m\u001b[0;34m[\u001b[0m\u001b[0;36m0\u001b[0m\u001b[0;34m]\u001b[0m\u001b[0;34m)\u001b[0m\u001b[0;34m**\u001b[0m\u001b[0;36m2\u001b[0m\u001b[0;34m,\u001b[0m \u001b[0mnp\u001b[0m\u001b[0;34m.\u001b[0m\u001b[0mhstack\u001b[0m\u001b[0;34m(\u001b[0m\u001b[0mhinds_results\u001b[0m\u001b[0;34m.\u001b[0m\u001b[0mloc\u001b[0m\u001b[0;34m[\u001b[0m\u001b[0;34m'atlas 5'\u001b[0m\u001b[0;34m]\u001b[0m\u001b[0;34m.\u001b[0m\u001b[0mvalues\u001b[0m\u001b[0;34m[\u001b[0m\u001b[0;36m0\u001b[0m\u001b[0;34m]\u001b[0m\u001b[0;34m)\u001b[0m\u001b[0;34m**\u001b[0m\u001b[0;36m2\u001b[0m\u001b[0;34m)\u001b[0m\u001b[0;34m\u001b[0m\u001b[0m\n\u001b[0m",
      "\u001b[0;32m<__array_function__ internals>\u001b[0m in \u001b[0;36mhstack\u001b[0;34m(*args, **kwargs)\u001b[0m\n",
      "\u001b[0;31mTypeError\u001b[0m: dispatcher for __array_function__ did not return an iterable"
     ]
    }
   ],
   "source": [
    "ttest_ind(np.hstack(hinds_results.loc['multi-atlas'].values[0])**2, np.hstack(hinds_results.loc['atlas 5'].values[0])**2)"
   ]
  },
  {
   "cell_type": "code",
   "execution_count": 27,
   "metadata": {},
   "outputs": [],
   "source": []
  },
  {
   "cell_type": "code",
   "execution_count": 30,
   "metadata": {},
   "outputs": [],
   "source": []
  },
  {
   "cell_type": "code",
   "execution_count": 31,
   "metadata": {},
   "outputs": [
    {
     "output_type": "execute_result",
     "data": {
      "text/plain": [
       "type             atlas 1      atlas 2     atlas 3     atlas 4      atlas 5  \\\n",
       "type                                                                         \n",
       "atlas 1                1  9.81087e-05  0.00504041  0.00886265   2.9291e-06   \n",
       "atlas 2      9.81087e-05            1    0.211484    0.182906     0.396567   \n",
       "atlas 3       0.00504041     0.211484           1    0.908227    0.0353795   \n",
       "atlas 4       0.00886265     0.182906    0.908227           1    0.0301756   \n",
       "atlas 5       2.9291e-06     0.396567   0.0353795   0.0301756            1   \n",
       "multi-atlas     0.438448   0.00127357   0.0380065   0.0569263  5.56381e-05   \n",
       "mean            0.133248    0.0145622    0.202854    0.259228   0.00111875   \n",
       "\n",
       "type         multi-atlas        mean  \n",
       "type                                  \n",
       "atlas 1         0.438448    0.133248  \n",
       "atlas 2       0.00127357   0.0145622  \n",
       "atlas 3        0.0380065    0.202854  \n",
       "atlas 4        0.0569263    0.259228  \n",
       "atlas 5      5.56381e-05  0.00111875  \n",
       "multi-atlas            1    0.447448  \n",
       "mean            0.447448           1  "
      ],
      "text/html": "<div>\n<style scoped>\n    .dataframe tbody tr th:only-of-type {\n        vertical-align: middle;\n    }\n\n    .dataframe tbody tr th {\n        vertical-align: top;\n    }\n\n    .dataframe thead th {\n        text-align: right;\n    }\n</style>\n<table border=\"1\" class=\"dataframe\">\n  <thead>\n    <tr style=\"text-align: right;\">\n      <th>type</th>\n      <th>atlas 1</th>\n      <th>atlas 2</th>\n      <th>atlas 3</th>\n      <th>atlas 4</th>\n      <th>atlas 5</th>\n      <th>multi-atlas</th>\n      <th>mean</th>\n    </tr>\n    <tr>\n      <th>type</th>\n      <th></th>\n      <th></th>\n      <th></th>\n      <th></th>\n      <th></th>\n      <th></th>\n      <th></th>\n    </tr>\n  </thead>\n  <tbody>\n    <tr>\n      <th>atlas 1</th>\n      <td>1</td>\n      <td>9.81087e-05</td>\n      <td>0.00504041</td>\n      <td>0.00886265</td>\n      <td>2.9291e-06</td>\n      <td>0.438448</td>\n      <td>0.133248</td>\n    </tr>\n    <tr>\n      <th>atlas 2</th>\n      <td>9.81087e-05</td>\n      <td>1</td>\n      <td>0.211484</td>\n      <td>0.182906</td>\n      <td>0.396567</td>\n      <td>0.00127357</td>\n      <td>0.0145622</td>\n    </tr>\n    <tr>\n      <th>atlas 3</th>\n      <td>0.00504041</td>\n      <td>0.211484</td>\n      <td>1</td>\n      <td>0.908227</td>\n      <td>0.0353795</td>\n      <td>0.0380065</td>\n      <td>0.202854</td>\n    </tr>\n    <tr>\n      <th>atlas 4</th>\n      <td>0.00886265</td>\n      <td>0.182906</td>\n      <td>0.908227</td>\n      <td>1</td>\n      <td>0.0301756</td>\n      <td>0.0569263</td>\n      <td>0.259228</td>\n    </tr>\n    <tr>\n      <th>atlas 5</th>\n      <td>2.9291e-06</td>\n      <td>0.396567</td>\n      <td>0.0353795</td>\n      <td>0.0301756</td>\n      <td>1</td>\n      <td>5.56381e-05</td>\n      <td>0.00111875</td>\n    </tr>\n    <tr>\n      <th>multi-atlas</th>\n      <td>0.438448</td>\n      <td>0.00127357</td>\n      <td>0.0380065</td>\n      <td>0.0569263</td>\n      <td>5.56381e-05</td>\n      <td>1</td>\n      <td>0.447448</td>\n    </tr>\n    <tr>\n      <th>mean</th>\n      <td>0.133248</td>\n      <td>0.0145622</td>\n      <td>0.202854</td>\n      <td>0.259228</td>\n      <td>0.00111875</td>\n      <td>0.447448</td>\n      <td>1</td>\n    </tr>\n  </tbody>\n</table>\n</div>"
     },
     "metadata": {},
     "execution_count": 31
    }
   ],
   "source": [
    "tmp"
   ]
  },
  {
   "cell_type": "code",
   "execution_count": 24,
   "metadata": {},
   "outputs": [
    {
     "output_type": "execute_result",
     "data": {
      "text/plain": [
       "4.22539461649508"
      ]
     },
     "metadata": {},
     "execution_count": 24
    }
   ],
   "source": [
    "np.mean(np.abs(np.hstack(hinds_results.loc['multi-atlas'].values[0])))"
   ]
  },
  {
   "cell_type": "code",
   "execution_count": 25,
   "metadata": {},
   "outputs": [
    {
     "output_type": "execute_result",
     "data": {
      "text/plain": [
       "5.243137254901961"
      ]
     },
     "metadata": {},
     "execution_count": 25
    }
   ],
   "source": [
    "np.mean(np.abs(np.hstack(hinds_results.loc['atlas 5'].values[0])))"
   ]
  },
  {
   "cell_type": "code",
   "execution_count": null,
   "metadata": {},
   "outputs": [],
   "source": [
    "for "
   ]
  },
  {
   "cell_type": "code",
   "execution_count": 10,
   "metadata": {},
   "outputs": [],
   "source": [
    "from scipy.stats import ttest_ind"
   ]
  },
  {
   "cell_type": "code",
   "execution_count": null,
   "metadata": {},
   "outputs": [],
   "source": []
  },
  {
   "cell_type": "code",
   "execution_count": 11,
   "metadata": {},
   "outputs": [
    {
     "output_type": "execute_result",
     "data": {
      "text/plain": [
       "Ttest_indResult(statistic=0.2438534443779241, pvalue=0.8134814939711938)"
      ]
     },
     "metadata": {},
     "execution_count": 11
    }
   ],
   "source": [
    "ttest_ind(hinds_results.loc['multi-atlas'].values, hinds_results.loc['mean'].values)"
   ]
  },
  {
   "cell_type": "code",
   "execution_count": null,
   "metadata": {},
   "outputs": [],
   "source": []
  }
 ]
}