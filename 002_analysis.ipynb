{
 "cells": [
  {
   "cell_type": "code",
   "execution_count": 1,
   "metadata": {},
   "outputs": [],
   "source": [
    "import numpy as np\n",
    "import pandas as pd\n",
    "import pickle\n",
    "import xgboost\n",
    "from scipy.stats import ttest_1samp, ttest_ind, ttest_rel, wilcoxon"
   ]
  },
  {
   "cell_type": "code",
   "execution_count": 2,
   "metadata": {},
   "outputs": [],
   "source": [
    "def test_diff_cross(df, row='multi-atlas'):\n",
    "    tmp= pd.DataFrame(index=df.columns, columns=df.columns)\n",
    "    for i in df.columns:\n",
    "        for j in df.columns:\n",
    "            tmp.loc[i,j]= ttest_rel(np.abs(df.loc[row, i]), np.abs(df.loc[row, j]))[1]\n",
    "    return tmp\n",
    "\n",
    "def test_diff_cross_wilcoxon(df, row='multi-atlas'):\n",
    "    tmp= pd.DataFrame(index=df.columns, columns=df.columns)\n",
    "    for i in df.columns:\n",
    "        for j in df.columns:\n",
    "            try:\n",
    "                tmp.loc[i,j]= wilcoxon(np.abs(df.loc[row, i]), np.abs(df.loc[row, j]), alternative='less')[1]\n",
    "            except:\n",
    "                print('wilcoxon error')\n",
    "                tmp.loc[i,j]= np.nan\n",
    "    return tmp\n",
    "\n",
    "def test_diff(df, col='multi-atlas'):\n",
    "    tmp= pd.DataFrame(index=df.index, columns=df.columns)\n",
    "    for i in df.index:\n",
    "        for j in df.columns:\n",
    "            tmp.loc[i,j]= ttest_rel(np.abs(df.loc[i, j]), np.abs(df.loc[col, j]))[1]\n",
    "    tmp= tmp.drop(col, axis='rows')\n",
    "    return tmp\n",
    "\n",
    "def test_diff_wilcoxon(df, col='multi-atlas'):\n",
    "    tmp= pd.DataFrame(index=df.index, columns=df.columns)\n",
    "    for i in df.index:\n",
    "        for j in df.columns:\n",
    "            try:\n",
    "                tmp.loc[i,j]= wilcoxon(np.abs(df.loc[col, j]), np.abs(df.loc[i, j]), alternative='less')[1]\n",
    "            except:\n",
    "                print('wilcoxon error')\n",
    "                tmp.loc[i,j]= np.nan\n",
    "    tmp= tmp.drop(col, axis='rows')\n",
    "    return tmp\n",
    "\n",
    "def test_compare(df0, df1):\n",
    "    tmp= pd.DataFrame(index=df0.index, columns=df0.columns)\n",
    "    for i in df0.index:\n",
    "        for j in df0.columns:\n",
    "            tmp.loc[i,j]= ttest_rel(np.abs(df0.loc[i, j]), np.abs(df1.loc[i, j]))[1]\n",
    "    return tmp\n",
    "\n",
    "def test_compare_wilcoxon(df0, df1):\n",
    "    tmp= pd.DataFrame(index=df0.index, columns=df0.columns)\n",
    "    for i in df0.index:\n",
    "        for j in df0.columns:\n",
    "            tmp.loc[i,j]= wilcoxon(np.abs(df0.loc[i, j]), np.abs(df1.loc[i, j]), alternative='less')[1]\n",
    "    return tmp"
   ]
  },
  {
   "cell_type": "code",
   "execution_count": 3,
   "metadata": {},
   "outputs": [],
   "source": [
    "data_fs= pickle.load(open('results.pickle', 'rb'))\n",
    "data_no_fs= pickle.load(open('results_no_fs.pickle', 'rb'))"
   ]
  },
  {
   "cell_type": "code",
   "execution_count": 4,
   "metadata": {},
   "outputs": [],
   "source": [
    "mld_fs= data_fs[data_fs['dataset'] == 'mld']\n",
    "hinds_fs= data_fs[data_fs['dataset'] == 'hinds']\n",
    "\n",
    "mld_no_fs= data_no_fs[data_no_fs['dataset'] == 'mld']\n",
    "hinds_no_fs= data_no_fs[data_no_fs['dataset'] == 'hinds']"
   ]
  },
  {
   "cell_type": "code",
   "execution_count": 5,
   "metadata": {},
   "outputs": [
    {
     "data": {
      "text/plain": [
       "Index(['model_selection_score', 'features', 'parameters', 'model', 'r2_1',\n",
       "       'rmse_1', 'y_test_1', 'y_pred_1', 'y_indices_1', 'r2_per_fold_1',\n",
       "       'rmse_per_fold_1', 'r2_std_1', 'rmse_std_1', 'dataset', 'type'],\n",
       "      dtype='object')"
      ]
     },
     "execution_count": 5,
     "metadata": {},
     "output_type": "execute_result"
    }
   ],
   "source": [
    "mld_fs.columns"
   ]
  },
  {
   "cell_type": "code",
   "execution_count": 6,
   "metadata": {},
   "outputs": [
    {
     "data": {
      "text/plain": [
       "Index(['model_selection_score', 'features', 'parameters', 'model', 'r2_1',\n",
       "       'rmse_1', 'y_test_1', 'y_pred_1', 'y_indices_1', 'r2_per_fold_1',\n",
       "       'rmse_per_fold_1', 'r2_std_1', 'rmse_std_1', 'dataset', 'type'],\n",
       "      dtype='object')"
      ]
     },
     "execution_count": 6,
     "metadata": {},
     "output_type": "execute_result"
    }
   ],
   "source": [
    "mld_no_fs.columns"
   ]
  },
  {
   "cell_type": "code",
   "execution_count": 7,
   "metadata": {},
   "outputs": [
    {
     "name": "stdout",
     "output_type": "stream",
     "text": [
      "143.16470588235293\n",
      "6.556116878368265\n",
      "['mean-203a-mld.nii-0.500000', 'skew-203a-mld.nii-0.500000', 'kurt-203a-mld.nii-0.500000', 'hist-0-203a-mld.nii-0.500000', 'hist-8-203a-mld.nii-0.500000', 'sum-203k-mld.nii-0.500000', 'kurt-203k-mld.nii-0.500000', 'hist-1-203k-mld.nii-0.500000', 'hist-2-203k-mld.nii-0.500000', 'hist-12-204f-mld.nii-0.500000', 'hist-16-204f-mld.nii-0.500000', 'hist-1-206k-mld.nii-0.500000', 'hist-2-206k-mld.nii-0.500000', 'hist-12-206k-mld.nii-0.500000', 'hist-16-206k-mld.nii-0.500000', 'hist-19-206k-mld.nii-0.500000', 'hist-15-208f-mld.nii-0.500000', 'num-0.500000-mean_mask', 'hist-0-0.500000-mean_mask', 'hist-19-0.500000-mean_mask']\n"
     ]
    }
   ],
   "source": [
    "a= mld_fs[mld_fs['type'] == 'all']\n",
    "b= a[a['model'] == 'LassoRegression_Objective']\n",
    "y_test, y_pred= b.iloc[0][['y_test_1', 'y_pred_1']]\n",
    "\n",
    "print(np.mean(y_test))\n",
    "print(np.sqrt(np.mean((y_test - y_pred)**2)))\n",
    "print(b['features'].iloc[0])"
   ]
  },
  {
   "cell_type": "code",
   "execution_count": 8,
   "metadata": {},
   "outputs": [
    {
     "data": {
      "text/plain": [
       "['mean-203a-mld.nii-0.500000',\n",
       " 'skew-203a-mld.nii-0.500000',\n",
       " 'kurt-203a-mld.nii-0.500000',\n",
       " 'hist-0-203a-mld.nii-0.500000',\n",
       " 'hist-8-203a-mld.nii-0.500000',\n",
       " 'sum-203k-mld.nii-0.500000',\n",
       " 'kurt-203k-mld.nii-0.500000',\n",
       " 'hist-1-203k-mld.nii-0.500000',\n",
       " 'hist-2-203k-mld.nii-0.500000',\n",
       " 'hist-12-204f-mld.nii-0.500000',\n",
       " 'hist-16-204f-mld.nii-0.500000',\n",
       " 'hist-1-206k-mld.nii-0.500000',\n",
       " 'hist-2-206k-mld.nii-0.500000',\n",
       " 'hist-12-206k-mld.nii-0.500000',\n",
       " 'hist-16-206k-mld.nii-0.500000',\n",
       " 'hist-19-206k-mld.nii-0.500000',\n",
       " 'hist-15-208f-mld.nii-0.500000',\n",
       " 'num-0.500000-mean_mask',\n",
       " 'hist-0-0.500000-mean_mask',\n",
       " 'hist-19-0.500000-mean_mask']"
      ]
     },
     "execution_count": 8,
     "metadata": {},
     "output_type": "execute_result"
    }
   ],
   "source": [
    "b['features'].iloc[0]"
   ]
  },
  {
   "cell_type": "code",
   "execution_count": 9,
   "metadata": {},
   "outputs": [
    {
     "name": "stdout",
     "output_type": "stream",
     "text": [
      "\\begin{tabular}{lllllllllll}\n",
      "\\toprule\n",
      "{} & \\multicolumn{5}{l}{feature selection} & \\multicolumn{5}{l}{no feature selection} \\\\\n",
      "{} &            linear &              PLS &            lasso &            ridge &              kNN &               linear &              PLS &            lasso &            ridge &              kNN \\\\\n",
      "type        &                   &                  &                  &                  &                  &                      &                  &                  &                  &                  \\\\\n",
      "\\midrule\n",
      "atlas 1     &   0.7786$\\pm$0.1265 &  0.7775$\\pm$0.1296 &   0.7785$\\pm$0.126 &   0.7786$\\pm$0.126 &   0.733$\\pm$0.1178 &      0.7425$\\pm$0.1383 &   0.7559$\\pm$0.143 &  0.7655$\\pm$0.1325 &  0.7591$\\pm$0.1359 &  0.5881$\\pm$0.1351 \\\\\n",
      "atlas 2     &    0.7728$\\pm$0.136 &   0.7728$\\pm$0.136 &  0.7706$\\pm$0.1358 &  0.7716$\\pm$0.1375 &   0.708$\\pm$0.1467 &      0.7304$\\pm$0.1617 &  0.7532$\\pm$0.1504 &  0.7553$\\pm$0.1434 &  0.7547$\\pm$0.1427 &    0.5419$\\pm$0.14 \\\\\n",
      "atlas 3     &   0.7529$\\pm$0.1452 &  0.7454$\\pm$0.1541 &  0.7528$\\pm$0.1451 &  0.7541$\\pm$0.1443 &  0.6974$\\pm$0.1279 &       0.714$\\pm$0.1691 &  0.7299$\\pm$0.1591 &    0.731$\\pm$0.163 &  0.7326$\\pm$0.1577 &  0.4965$\\pm$0.1244 \\\\\n",
      "atlas 4     &   0.7459$\\pm$0.1505 &  0.7456$\\pm$0.1459 &  0.7445$\\pm$0.1466 &  0.7469$\\pm$0.1437 &  0.6553$\\pm$0.1352 &      0.7008$\\pm$0.1564 &  0.7312$\\pm$0.1563 &   0.738$\\pm$0.1495 &  0.7292$\\pm$0.1525 &  0.5153$\\pm$0.1365 \\\\\n",
      "atlas 5     &   0.7455$\\pm$0.1655 &   0.7577$\\pm$0.162 &  0.7477$\\pm$0.1621 &  0.7448$\\pm$0.1652 &  0.6937$\\pm$0.1314 &      0.6815$\\pm$0.1944 &    0.7334$\\pm$0.18 &  0.7373$\\pm$0.1642 &  0.7246$\\pm$0.1765 &  0.4942$\\pm$0.1727 \\\\\n",
      "mean        &   0.7797$\\pm$0.1373 &  0.7788$\\pm$0.1431 &  0.7795$\\pm$0.1364 &  0.7798$\\pm$0.1368 &  0.7316$\\pm$0.1394 &      0.7394$\\pm$0.1564 &  0.7582$\\pm$0.1527 &  0.7635$\\pm$0.1443 &   0.758$\\pm$0.1485 &  0.5683$\\pm$0.1174 \\\\\n",
      "multi-atlas &    0.825$\\pm$0.1011 &   0.808$\\pm$0.1127 &   0.8273$\\pm$0.105 &  0.8194$\\pm$0.1108 &  0.7413$\\pm$0.1014 &     -6.0739$\\pm$8.5356 &  0.7547$\\pm$0.1553 &  0.7635$\\pm$0.1299 &  0.7079$\\pm$0.1683 &  0.5698$\\pm$0.1208 \\\\\n",
      "\\bottomrule\n",
      "\\end{tabular}\n",
      "\n"
     ]
    }
   ],
   "source": [
    "rename_dict_regr= {'KNNR_Objective': 'kNN', 'LinearRegression_Objective': 'linear', 'PLSRegression_Objective': 'PLS', 'RidgeRegression_Objective': 'ridge', 'LassoRegression_Objective': 'lasso'}\n",
    "rename_dict_type= {'203a': 'atlas 1', '203k': 'atlas 2', '204f': 'atlas 3', '206k': 'atlas 4', '208f': 'atlas 5', 'all': 'multi-atlas', 'mean_mask': 'mean'}\n",
    "row_order= ['atlas 1', 'atlas 2', 'atlas 3', 'atlas 4', 'atlas 5', 'mean', 'multi-atlas']\n",
    "col_order= ['linear', 'PLS', 'lasso', 'ridge', 'kNN']\n",
    "\n",
    "mld_fs_results= mld_fs.pivot(index='type', columns='model', values='r2_1')\n",
    "mld_fs_results= mld_fs_results.rename(rename_dict_regr, axis='columns')\n",
    "mld_fs_results= mld_fs_results.rename(rename_dict_type)\n",
    "mld_fs_results= mld_fs_results.apply(lambda x: np.round(x, 4))\n",
    "mld_fs_results= mld_fs_results.loc[row_order, col_order]\n",
    "\n",
    "mld_fs_results_std= mld_fs.pivot(index='type', columns='model', values='r2_std_1')\n",
    "mld_fs_results_std= mld_fs_results_std.rename(rename_dict_regr, axis='columns')\n",
    "mld_fs_results_std= mld_fs_results_std.rename(rename_dict_type)\n",
    "mld_fs_results_std= mld_fs_results_std.apply(lambda x: np.round(x, 4))\n",
    "mld_fs_results_std= mld_fs_results_std.loc[row_order, col_order]\n",
    "\n",
    "mld_fs_results_perc= (mld_fs_results_std/mld_fs_results*100).apply(lambda x: np.round(np.abs(x), 1))\n",
    "\n",
    "mld_no_fs_results= mld_no_fs.pivot(index='type', columns='model', values='r2_1')\n",
    "mld_no_fs_results= mld_no_fs_results.rename(rename_dict_regr, axis='columns')\n",
    "mld_no_fs_results= mld_no_fs_results.rename(rename_dict_type)\n",
    "mld_no_fs_results= mld_no_fs_results.apply(lambda x: np.round(x, 4))\n",
    "mld_no_fs_results= mld_no_fs_results.loc[row_order, col_order]\n",
    "\n",
    "mld_no_fs_results_std= mld_no_fs.pivot(index='type', columns='model', values='r2_std_1')\n",
    "mld_no_fs_results_std= mld_no_fs_results_std.rename(rename_dict_regr, axis='columns')\n",
    "mld_no_fs_results_std= mld_no_fs_results_std.rename(rename_dict_type)\n",
    "mld_no_fs_results_std= mld_no_fs_results_std.apply(lambda x: np.round(x, 4))\n",
    "mld_no_fs_results_std= mld_no_fs_results_std.loc[row_order, col_order]\n",
    "\n",
    "mld_no_fs_results_perc= (mld_no_fs_results_std/mld_no_fs_results*100).apply(lambda x: np.round(np.abs(x), 1))\n",
    "\n",
    "mld_all= pd.concat([mld_fs_results.astype(str) + '\\pm' + mld_fs_results_std.astype(str), mld_no_fs_results.astype(str) + '\\pm' + mld_no_fs_results_std.astype(str)], axis='columns')\n",
    "columns= pd.MultiIndex.from_product([['feature selection', 'no feature selection'], col_order])\n",
    "mld_all.columns= columns\n",
    "\n",
    "print(mld_all.to_latex().replace('\\\\textbackslash pm', '$\\pm$'))"
   ]
  },
  {
   "cell_type": "code",
   "execution_count": 10,
   "metadata": {},
   "outputs": [
    {
     "name": "stdout",
     "output_type": "stream",
     "text": [
      "\\begin{tabular}{llllll}\n",
      "\\toprule\n",
      "{} & \\multicolumn{5}{l}{feature selection} \\\\\n",
      "{} &            linear &              PLS &            lasso &            ridge &              kNN \\\\\n",
      "type        &                   &                  &                  &                  &                  \\\\\n",
      "\\midrule\n",
      "atlas 1     &   0.7786 $\\pm$ 0.1265 &  0.7775 $\\pm$ 0.1296 &   0.7785 $\\pm$ 0.126 &   0.7786 $\\pm$ 0.126 &   0.733 $\\pm$ 0.1178 \\\\\n",
      "atlas 2     &    0.7728 $\\pm$ 0.136 &   0.7728 $\\pm$ 0.136 &  0.7706 $\\pm$ 0.1358 &  0.7716 $\\pm$ 0.1375 &   0.708 $\\pm$ 0.1467 \\\\\n",
      "atlas 3     &   0.7529 $\\pm$ 0.1452 &  0.7454 $\\pm$ 0.1541 &  0.7528 $\\pm$ 0.1451 &  0.7541 $\\pm$ 0.1443 &  0.6974 $\\pm$ 0.1279 \\\\\n",
      "atlas 4     &   0.7459 $\\pm$ 0.1505 &  0.7456 $\\pm$ 0.1459 &  0.7445 $\\pm$ 0.1466 &  0.7469 $\\pm$ 0.1437 &  0.6553 $\\pm$ 0.1352 \\\\\n",
      "atlas 5     &   0.7455 $\\pm$ 0.1655 &   0.7577 $\\pm$ 0.162 &  0.7477 $\\pm$ 0.1621 &  0.7448 $\\pm$ 0.1652 &  0.6937 $\\pm$ 0.1314 \\\\\n",
      "mean        &   0.7797 $\\pm$ 0.1373 &  0.7788 $\\pm$ 0.1431 &  0.7795 $\\pm$ 0.1364 &  0.7798 $\\pm$ 0.1368 &  0.7316 $\\pm$ 0.1394 \\\\\n",
      "multi-atlas &    0.825 $\\pm$ 0.1011 &   0.808 $\\pm$ 0.1127 &   0.8273 $\\pm$ 0.105 &  0.8194 $\\pm$ 0.1108 &  0.7413 $\\pm$ 0.1014 \\\\\n",
      "\\bottomrule\n",
      "\\end{tabular}\n",
      "\n",
      "\\begin{tabular}{llllll}\n",
      "\\toprule\n",
      "{} & \\multicolumn{5}{l}{no feature selection} \\\\\n",
      "{} &               linear &              PLS &            lasso &            ridge &              kNN \\\\\n",
      "type        &                      &                  &                  &                  &                  \\\\\n",
      "\\midrule\n",
      "atlas 1     &      0.7425 $\\pm$ 0.1383 &   0.7559 $\\pm$ 0.143 &  0.7655 $\\pm$ 0.1325 &  0.7591 $\\pm$ 0.1359 &  0.5881 $\\pm$ 0.1351 \\\\\n",
      "atlas 2     &      0.7304 $\\pm$ 0.1617 &  0.7532 $\\pm$ 0.1504 &  0.7553 $\\pm$ 0.1434 &  0.7547 $\\pm$ 0.1427 &    0.5419 $\\pm$ 0.14 \\\\\n",
      "atlas 3     &       0.714 $\\pm$ 0.1691 &  0.7299 $\\pm$ 0.1591 &    0.731 $\\pm$ 0.163 &  0.7326 $\\pm$ 0.1577 &  0.4965 $\\pm$ 0.1244 \\\\\n",
      "atlas 4     &      0.7008 $\\pm$ 0.1564 &  0.7312 $\\pm$ 0.1563 &   0.738 $\\pm$ 0.1495 &  0.7292 $\\pm$ 0.1525 &  0.5153 $\\pm$ 0.1365 \\\\\n",
      "atlas 5     &      0.6815 $\\pm$ 0.1944 &    0.7334 $\\pm$ 0.18 &  0.7373 $\\pm$ 0.1642 &  0.7246 $\\pm$ 0.1765 &  0.4942 $\\pm$ 0.1727 \\\\\n",
      "mean        &      0.7394 $\\pm$ 0.1564 &  0.7582 $\\pm$ 0.1527 &  0.7635 $\\pm$ 0.1443 &   0.758 $\\pm$ 0.1485 &  0.5683 $\\pm$ 0.1174 \\\\\n",
      "multi-atlas &     -6.0739 $\\pm$ 8.5356 &  0.7547 $\\pm$ 0.1553 &  0.7635 $\\pm$ 0.1299 &  0.7079 $\\pm$ 0.1683 &  0.5698 $\\pm$ 0.1208 \\\\\n",
      "\\bottomrule\n",
      "\\end{tabular}\n",
      "\n"
     ]
    }
   ],
   "source": [
    "print(mld_all[['feature selection']].to_latex().replace('\\\\textbackslash pm', ' $\\pm$ '))\n",
    "print(mld_all[['no feature selection']].to_latex().replace('\\\\textbackslash pm', ' $\\pm$ '))"
   ]
  },
  {
   "cell_type": "code",
   "execution_count": 11,
   "metadata": {},
   "outputs": [],
   "source": [
    "a= mld_fs[mld_fs['type'] == 'all']\n",
    "b= a[a['model'] == 'LassoRegression_Objective']\n",
    "y_test= b['y_test_1']\n",
    "y_pred= b['y_pred_1']"
   ]
  },
  {
   "cell_type": "code",
   "execution_count": 12,
   "metadata": {},
   "outputs": [],
   "source": [
    "import matplotlib.pyplot as plt"
   ]
  },
  {
   "cell_type": "code",
   "execution_count": 13,
   "metadata": {},
   "outputs": [
    {
     "data": {
      "image/png": "[encoded data removed]",
      "text/plain": [
       "<Figure size 360x360 with 1 Axes>"
      ]
     },
     "metadata": {
      "needs_background": "light"
     },
     "output_type": "display_data"
    }
   ],
   "source": [
    "fig= plt.figure(figsize=(5, 5))\n",
    "ax= fig.add_subplot(111)\n",
    "tmp= pd.DataFrame({'y_test': np.hstack(y_test), 'y_pred': np.hstack(y_pred)}).groupby('y_test').agg({'y_pred': ['mean', 'std']})['y_pred'].reset_index(drop=False)\n",
    "\n",
    "ax.scatter(tmp['y_test'], tmp['mean'])\n",
    "ax.errorbar(tmp['y_test'], tmp['mean'], yerr=tmp['std'], ls='none')\n",
    "ax.set_xlabel('dissected MLD weight (grams)')\n",
    "ax.set_ylabel('predicted MLD weight (grams)')\n",
    "ax.set_xlim(np.min([np.min(y_pred), np.min(y_test)])-5, np.max([np.max(y_pred), np.max(y_test)])+5)\n",
    "ax.set_ylim(np.min([np.min(y_pred), np.min(y_test)])-5, np.max([np.max(y_pred), np.max(y_test)])+5)\n",
    "fig.savefig('mld_plot.pdf')"
   ]
  },
  {
   "cell_type": "code",
   "execution_count": 14,
   "metadata": {},
   "outputs": [
    {
     "data": {
      "text/html": [
       "<div>\n",
       "<style scoped>\n",
       "    .dataframe tbody tr th:only-of-type {\n",
       "        vertical-align: middle;\n",
       "    }\n",
       "\n",
       "    .dataframe tbody tr th {\n",
       "        vertical-align: top;\n",
       "    }\n",
       "\n",
       "    .dataframe thead th {\n",
       "        text-align: right;\n",
       "    }\n",
       "</style>\n",
       "<table border=\"1\" class=\"dataframe\">\n",
       "  <thead>\n",
       "    <tr style=\"text-align: right;\">\n",
       "      <th></th>\n",
       "      <th>y_test</th>\n",
       "      <th>mean</th>\n",
       "      <th>std</th>\n",
       "    </tr>\n",
       "  </thead>\n",
       "  <tbody>\n",
       "    <tr>\n",
       "      <th>0</th>\n",
       "      <td>84.0</td>\n",
       "      <td>82.315173</td>\n",
       "      <td>1.581195</td>\n",
       "    </tr>\n",
       "    <tr>\n",
       "      <th>1</th>\n",
       "      <td>97.0</td>\n",
       "      <td>96.296959</td>\n",
       "      <td>0.466765</td>\n",
       "    </tr>\n",
       "    <tr>\n",
       "      <th>2</th>\n",
       "      <td>108.0</td>\n",
       "      <td>113.229384</td>\n",
       "      <td>1.151120</td>\n",
       "    </tr>\n",
       "    <tr>\n",
       "      <th>3</th>\n",
       "      <td>112.0</td>\n",
       "      <td>113.475242</td>\n",
       "      <td>0.922435</td>\n",
       "    </tr>\n",
       "    <tr>\n",
       "      <th>4</th>\n",
       "      <td>113.0</td>\n",
       "      <td>107.880652</td>\n",
       "      <td>0.818717</td>\n",
       "    </tr>\n",
       "    <tr>\n",
       "      <th>...</th>\n",
       "      <td>...</td>\n",
       "      <td>...</td>\n",
       "      <td>...</td>\n",
       "    </tr>\n",
       "    <tr>\n",
       "      <th>56</th>\n",
       "      <td>171.0</td>\n",
       "      <td>173.670545</td>\n",
       "      <td>4.728546</td>\n",
       "    </tr>\n",
       "    <tr>\n",
       "      <th>57</th>\n",
       "      <td>176.0</td>\n",
       "      <td>171.688378</td>\n",
       "      <td>1.292255</td>\n",
       "    </tr>\n",
       "    <tr>\n",
       "      <th>58</th>\n",
       "      <td>177.0</td>\n",
       "      <td>171.057700</td>\n",
       "      <td>1.089984</td>\n",
       "    </tr>\n",
       "    <tr>\n",
       "      <th>59</th>\n",
       "      <td>178.0</td>\n",
       "      <td>175.537988</td>\n",
       "      <td>1.092432</td>\n",
       "    </tr>\n",
       "    <tr>\n",
       "      <th>60</th>\n",
       "      <td>181.0</td>\n",
       "      <td>177.618594</td>\n",
       "      <td>0.778508</td>\n",
       "    </tr>\n",
       "  </tbody>\n",
       "</table>\n",
       "<p>61 rows × 3 columns</p>\n",
       "</div>"
      ],
      "text/plain": [
       "    y_test        mean       std\n",
       "0     84.0   82.315173  1.581195\n",
       "1     97.0   96.296959  0.466765\n",
       "2    108.0  113.229384  1.151120\n",
       "3    112.0  113.475242  0.922435\n",
       "4    113.0  107.880652  0.818717\n",
       "..     ...         ...       ...\n",
       "56   171.0  173.670545  4.728546\n",
       "57   176.0  171.688378  1.292255\n",
       "58   177.0  171.057700  1.089984\n",
       "59   178.0  175.537988  1.092432\n",
       "60   181.0  177.618594  0.778508\n",
       "\n",
       "[61 rows x 3 columns]"
      ]
     },
     "execution_count": 14,
     "metadata": {},
     "output_type": "execute_result"
    }
   ],
   "source": [
    "tmp"
   ]
  },
  {
   "cell_type": "code",
   "execution_count": 15,
   "metadata": {},
   "outputs": [],
   "source": [
    "mld_fs_results= mld_fs.pivot(index='type', columns='model', values='r2_1')"
   ]
  },
  {
   "cell_type": "code",
   "execution_count": 16,
   "metadata": {},
   "outputs": [
    {
     "name": "stdout",
     "output_type": "stream",
     "text": [
      "{'memory': None, 'steps': [('prep', StandardScaler()), ('model', Pipeline(steps=[('standardscaler', StandardScaler(with_mean=False)),\n",
      "                ('lasso', Lasso(alpha=0.05, random_state=5))]))], 'verbose': False, 'prep': StandardScaler(), 'model': Pipeline(steps=[('standardscaler', StandardScaler(with_mean=False)),\n",
      "                ('lasso', Lasso(alpha=0.05, random_state=5))]), 'prep__copy': True, 'prep__with_mean': True, 'prep__with_std': True, 'model__memory': None, 'model__steps': [('standardscaler', StandardScaler(with_mean=False)), ('lasso', Lasso(alpha=0.05, random_state=5))], 'model__verbose': False, 'model__standardscaler': StandardScaler(with_mean=False), 'model__lasso': Lasso(alpha=0.05, random_state=5), 'model__standardscaler__copy': True, 'model__standardscaler__with_mean': False, 'model__standardscaler__with_std': True, 'model__lasso__alpha': 0.05, 'model__lasso__copy_X': True, 'model__lasso__fit_intercept': True, 'model__lasso__max_iter': 1000, 'model__lasso__normalize': 'deprecated', 'model__lasso__positive': False, 'model__lasso__precompute': False, 'model__lasso__random_state': 5, 'model__lasso__selection': 'cyclic', 'model__lasso__tol': 0.0001, 'model__lasso__warm_start': False}\n",
      "{'memory': None, 'steps': [('prep', StandardScaler()), ('model', Pipeline(steps=[('standardscaler', StandardScaler(with_mean=False)),\n",
      "                ('ridge', Ridge(alpha=0.5, random_state=5))]))], 'verbose': False, 'prep': StandardScaler(), 'model': Pipeline(steps=[('standardscaler', StandardScaler(with_mean=False)),\n",
      "                ('ridge', Ridge(alpha=0.5, random_state=5))]), 'prep__copy': True, 'prep__with_mean': True, 'prep__with_std': True, 'model__memory': None, 'model__steps': [('standardscaler', StandardScaler(with_mean=False)), ('ridge', Ridge(alpha=0.5, random_state=5))], 'model__verbose': False, 'model__standardscaler': StandardScaler(with_mean=False), 'model__ridge': Ridge(alpha=0.5, random_state=5), 'model__standardscaler__copy': True, 'model__standardscaler__with_mean': False, 'model__standardscaler__with_std': True, 'model__ridge__alpha': 0.5, 'model__ridge__copy_X': True, 'model__ridge__fit_intercept': True, 'model__ridge__max_iter': None, 'model__ridge__normalize': 'deprecated', 'model__ridge__positive': False, 'model__ridge__random_state': 5, 'model__ridge__solver': 'auto', 'model__ridge__tol': 0.001}\n"
     ]
    }
   ],
   "source": [
    "print(mld_fs[mld_fs['type'] == '203a'].iloc[2]['parameters'])\n",
    "print(mld_fs[mld_fs['type'] == '203a'].iloc[3]['parameters'])"
   ]
  },
  {
   "cell_type": "code",
   "execution_count": 17,
   "metadata": {},
   "outputs": [
    {
     "name": "stderr",
     "output_type": "stream",
     "text": [
      "C:\\Users\\gyuri\\anaconda3\\envs\\rabbit\\lib\\site-packages\\ipykernel_launcher.py:1: SettingWithCopyWarning: \n",
      "A value is trying to be set on a copy of a slice from a DataFrame.\n",
      "Try using .loc[row_indexer,col_indexer] = value instead\n",
      "\n",
      "See the caveats in the documentation: https://pandas.pydata.org/pandas-docs/stable/user_guide/indexing.html#returning-a-view-versus-a-copy\n",
      "  \"\"\"Entry point for launching an IPython kernel.\n",
      "C:\\Users\\gyuri\\anaconda3\\envs\\rabbit\\lib\\site-packages\\ipykernel_launcher.py:7: SettingWithCopyWarning: \n",
      "A value is trying to be set on a copy of a slice from a DataFrame.\n",
      "Try using .loc[row_indexer,col_indexer] = value instead\n",
      "\n",
      "See the caveats in the documentation: https://pandas.pydata.org/pandas-docs/stable/user_guide/indexing.html#returning-a-view-versus-a-copy\n",
      "  import sys\n"
     ]
    }
   ],
   "source": [
    "mld_fs['diff']= (mld_fs['y_pred_1'] - mld_fs['y_test_1'])**2\n",
    "mld_fs_test= mld_fs.pivot(index='type', columns='model', values='diff')\n",
    "mld_fs_test= mld_fs_test.rename(rename_dict_regr, axis='columns')\n",
    "mld_fs_test= mld_fs_test.rename(rename_dict_type)\n",
    "mld_fs_test= mld_fs_test.loc[row_order, col_order]\n",
    "\n",
    "mld_no_fs['diff']= (mld_no_fs['y_pred_1'] - mld_no_fs['y_test_1'])**2\n",
    "mld_no_fs_test= mld_no_fs.pivot(index='type', columns='model', values='diff')\n",
    "mld_no_fs_test= mld_no_fs_test.rename(rename_dict_regr, axis='columns')\n",
    "mld_no_fs_test= mld_no_fs_test.rename(rename_dict_type)\n",
    "mld_no_fs_test= mld_no_fs_test.loc[row_order, col_order]"
   ]
  },
  {
   "cell_type": "code",
   "execution_count": 18,
   "metadata": {},
   "outputs": [
    {
     "name": "stdout",
     "output_type": "stream",
     "text": [
      "\\begin{tabular}{llllll}\n",
      "\\toprule\n",
      "model & linear &    PLS &  lasso &   ridge &     kNN \\\\\n",
      "type        &        &        &        &         &         \\\\\n",
      "\\midrule\n",
      "atlas 1     &  4e-12 &  3e-38 &  2e-12 &   7e-24 &   2e-72 \\\\\n",
      "atlas 2     &  3e-23 &  6e-17 &  3e-29 &   1e-20 &   8e-71 \\\\\n",
      "atlas 3     &  2e-11 &  1e-17 &  3e-12 &   4e-20 &   1e-91 \\\\\n",
      "atlas 4     &  2e-09 &  1e-04 &  2e-05 &   1e-21 &   2e-62 \\\\\n",
      "atlas 5     &  1e-27 &  1e-26 &  2e-10 &   4e-17 &  3e-122 \\\\\n",
      "mean        &  5e-26 &  3e-28 &  2e-37 &   5e-37 &   3e-60 \\\\\n",
      "multi-atlas &  0e+00 &  2e-39 &  6e-42 &  1e-122 &  1e-113 \\\\\n",
      "\\bottomrule\n",
      "\\end{tabular}\n",
      "\n"
     ]
    }
   ],
   "source": [
    "print(test_compare_wilcoxon(mld_fs_test, mld_no_fs_test).applymap(lambda x: '%.0e' % x).to_latex())"
   ]
  },
  {
   "cell_type": "code",
   "execution_count": 19,
   "metadata": {},
   "outputs": [
    {
     "name": "stdout",
     "output_type": "stream",
     "text": [
      "wilcoxon error\n",
      "wilcoxon error\n",
      "wilcoxon error\n",
      "wilcoxon error\n",
      "wilcoxon error\n",
      "\\begin{tabular}{llllll}\n",
      "\\toprule\n",
      "model & linear &    PLS &  lasso &  ridge &    kNN \\\\\n",
      "type    &        &        &        &        &        \\\\\n",
      "\\midrule\n",
      "atlas 1 &  4e-36 &  2e-29 &  2e-30 &  3e-32 &  8e-02 \\\\\n",
      "atlas 2 &  3e-16 &  2e-13 &  2e-21 &  2e-11 &  2e-08 \\\\\n",
      "atlas 3 &  4e-41 &  3e-22 &  4e-48 &  1e-48 &  4e-14 \\\\\n",
      "atlas 4 &  5e-66 &  1e-59 &  2e-63 &  1e-68 &  2e-49 \\\\\n",
      "atlas 5 &  6e-29 &  3e-18 &  6e-35 &  3e-37 &  2e-17 \\\\\n",
      "mean    &  4e-24 &  4e-11 &  3e-20 &  3e-20 &  2e-04 \\\\\n",
      "\\bottomrule\n",
      "\\end{tabular}\n",
      "\n"
     ]
    }
   ],
   "source": [
    "print(test_diff_wilcoxon(mld_fs_test).applymap(lambda x: '%.0e' % x).to_latex())"
   ]
  },
  {
   "cell_type": "code",
   "execution_count": 20,
   "metadata": {},
   "outputs": [
    {
     "name": "stdout",
     "output_type": "stream",
     "text": [
      "wilcoxon error\n",
      "wilcoxon error\n",
      "wilcoxon error\n",
      "wilcoxon error\n",
      "wilcoxon error\n",
      "\\begin{tabular}{llllll}\n",
      "\\toprule\n",
      "model &   linear &      PLS &    lasso &    ridge &      kNN \\\\\n",
      "model  &          &          &          &          &          \\\\\n",
      "\\midrule\n",
      "linear &      nan &  2.9e-17 &  2.5e-01 &  4.3e-02 &  6.0e-27 \\\\\n",
      "PLS    &  1.0e+00 &      nan &  1.0e+00 &  1.0e+00 &  1.7e-12 \\\\\n",
      "lasso  &  7.5e-01 &  1.7e-21 &      nan &  7.4e-01 &  2.2e-24 \\\\\n",
      "ridge  &  9.6e-01 &  1.9e-09 &  2.6e-01 &      nan &  8.6e-26 \\\\\n",
      "kNN    &  1.0e+00 &  1.0e+00 &  1.0e+00 &  1.0e+00 &      nan \\\\\n",
      "\\bottomrule\n",
      "\\end{tabular}\n",
      "\n"
     ]
    }
   ],
   "source": [
    "print(test_diff_cross_wilcoxon(mld_fs_test.loc[['multi-atlas']]).applymap(lambda x: '%.1e' % x).to_latex())"
   ]
  },
  {
   "cell_type": "code",
   "execution_count": 21,
   "metadata": {},
   "outputs": [
    {
     "name": "stdout",
     "output_type": "stream",
     "text": [
      "\\begin{tabular}{lllllllllll}\n",
      "\\toprule\n",
      "{} & \\multicolumn{5}{l}{feature selection} & \\multicolumn{5}{l}{no feature selection} \\\\\n",
      "{} &            linear &              PLS &            lasso &            ridge &              kNN &               linear &              PLS &            lasso &            ridge &              kNN \\\\\n",
      "type        &                   &                  &                  &                  &                  &                      &                  &                  &                  &                  \\\\\n",
      "\\midrule\n",
      "atlas 1     &   0.8807$\\pm$0.0783 &  0.8808$\\pm$0.0809 &  0.8857$\\pm$0.0743 &   0.8845$\\pm$0.076 &  0.8361$\\pm$0.1108 &       0.8647$\\pm$0.089 &  0.8732$\\pm$0.0843 &  0.8759$\\pm$0.0815 &   0.875$\\pm$0.0805 &  0.6405$\\pm$0.1374 \\\\\n",
      "atlas 2     &   0.8755$\\pm$0.0815 &  0.8783$\\pm$0.0772 &   0.879$\\pm$0.0788 &  0.8792$\\pm$0.0779 &   0.827$\\pm$0.1005 &      0.8489$\\pm$0.0953 &  0.8683$\\pm$0.0873 &  0.8704$\\pm$0.0832 &  0.8653$\\pm$0.0864 &  0.6779$\\pm$0.1404 \\\\\n",
      "atlas 3     &      0.87$\\pm$0.081 &  0.8812$\\pm$0.0778 &    0.8785$\\pm$0.08 &  0.8808$\\pm$0.0769 &  0.8197$\\pm$0.0999 &      0.8524$\\pm$0.1004 &   0.868$\\pm$0.0867 &  0.8717$\\pm$0.0829 &  0.8655$\\pm$0.0885 &  0.6092$\\pm$0.1159 \\\\\n",
      "atlas 4     &   0.8721$\\pm$0.0853 &   0.8815$\\pm$0.078 &  0.8786$\\pm$0.0823 &  0.8719$\\pm$0.0858 &  0.8136$\\pm$0.0976 &      0.8545$\\pm$0.0924 &  0.8712$\\pm$0.0891 &  0.8729$\\pm$0.0839 &   0.8688$\\pm$0.084 &  0.6572$\\pm$0.1332 \\\\\n",
      "atlas 5     &     0.8773$\\pm$0.08 &  0.8764$\\pm$0.0868 &    0.88$\\pm$0.0769 &   0.878$\\pm$0.0777 &   0.8274$\\pm$0.116 &       0.848$\\pm$0.1038 &  0.8661$\\pm$0.0887 &  0.8719$\\pm$0.0822 &  0.8623$\\pm$0.0898 &  0.7095$\\pm$0.1277 \\\\\n",
      "mean        &   0.8789$\\pm$0.0818 &   0.883$\\pm$0.0788 &  0.8809$\\pm$0.0792 &  0.8816$\\pm$0.0807 &  0.8246$\\pm$0.0887 &      0.8521$\\pm$0.1035 &  0.8712$\\pm$0.0892 &  0.8745$\\pm$0.0828 &  0.8701$\\pm$0.0881 &  0.6354$\\pm$0.1348 \\\\\n",
      "multi-atlas &    0.897$\\pm$0.0769 &   0.8872$\\pm$0.074 &  0.8902$\\pm$0.0752 &  0.8988$\\pm$0.0658 &  0.8275$\\pm$0.0949 &     -1.7193$\\pm$3.7919 &  0.8693$\\pm$0.0897 &  0.8625$\\pm$0.0845 &  0.8403$\\pm$0.1009 &  0.6775$\\pm$0.1389 \\\\\n",
      "\\bottomrule\n",
      "\\end{tabular}\n",
      "\n"
     ]
    }
   ],
   "source": [
    "rename_dict_regr= {'KNNR_Objective': 'kNN', 'LinearRegression_Objective': 'linear', 'PLSRegression_Objective': 'PLS', 'RidgeRegression_Objective': 'ridge', 'LassoRegression_Objective': 'lasso'}\n",
    "rename_dict_type= {'203a': 'atlas 1', '203k': 'atlas 2', '204f': 'atlas 3', '206k': 'atlas 4', '208f': 'atlas 5', 'all': 'multi-atlas', 'mean_mask': 'mean'}\n",
    "row_order= ['atlas 1', 'atlas 2', 'atlas 3', 'atlas 4', 'atlas 5', 'mean', 'multi-atlas']\n",
    "col_order= ['linear', 'PLS', 'lasso', 'ridge', 'kNN']\n",
    "\n",
    "hinds_fs_results= hinds_fs.pivot(index='type', columns='model', values='r2_1')\n",
    "hinds_fs_results= hinds_fs_results.rename(rename_dict_regr, axis='columns')\n",
    "hinds_fs_results= hinds_fs_results.rename(rename_dict_type)\n",
    "hinds_fs_results= hinds_fs_results.apply(lambda x: np.round(x, 4))\n",
    "hinds_fs_results= hinds_fs_results.loc[row_order, col_order]\n",
    "\n",
    "hinds_fs_results_std= hinds_fs.pivot(index='type', columns='model', values='r2_std_1')\n",
    "hinds_fs_results_std= hinds_fs_results_std.rename(rename_dict_regr, axis='columns')\n",
    "hinds_fs_results_std= hinds_fs_results_std.rename(rename_dict_type)\n",
    "hinds_fs_results_std= hinds_fs_results_std.apply(lambda x: np.round(x, 4))\n",
    "hinds_fs_results_std= hinds_fs_results_std.loc[row_order, col_order]\n",
    "\n",
    "hinds_fs_results_perc= (hinds_fs_results_std/hinds_fs_results*100).apply(lambda x: np.round(np.abs(x), 1))\n",
    "\n",
    "hinds_no_fs_results= hinds_no_fs.pivot(index='type', columns='model', values='r2_1')\n",
    "hinds_no_fs_results= hinds_no_fs_results.rename(rename_dict_regr, axis='columns')\n",
    "hinds_no_fs_results= hinds_no_fs_results.rename(rename_dict_type)\n",
    "hinds_no_fs_results= hinds_no_fs_results.apply(lambda x: np.round(x, 4))\n",
    "hinds_no_fs_results= hinds_no_fs_results.loc[row_order, col_order]\n",
    "\n",
    "hinds_no_fs_results_std= hinds_no_fs.pivot(index='type', columns='model', values='r2_std_1')\n",
    "hinds_no_fs_results_std= hinds_no_fs_results_std.rename(rename_dict_regr, axis='columns')\n",
    "hinds_no_fs_results_std= hinds_no_fs_results_std.rename(rename_dict_type)\n",
    "hinds_no_fs_results_std= hinds_no_fs_results_std.apply(lambda x: np.round(x, 4))\n",
    "hinds_no_fs_results_std= hinds_no_fs_results_std.loc[row_order, col_order]\n",
    "\n",
    "hinds_no_fs_results_perc= (hinds_no_fs_results_std/hinds_no_fs_results*100).apply(lambda x: np.round(np.abs(x), 1))\n",
    "\n",
    "hinds_all= pd.concat([hinds_fs_results.astype(str) + '\\pm' + hinds_fs_results_std.astype(str), hinds_no_fs_results.astype(str) + '\\pm' + hinds_no_fs_results_std.astype(str)], axis='columns')\n",
    "columns= pd.MultiIndex.from_product([['feature selection', 'no feature selection'], col_order])\n",
    "hinds_all.columns= columns\n",
    "\n",
    "print(hinds_all.to_latex().replace('\\\\textbackslash pm', '$\\pm$'))"
   ]
  },
  {
   "cell_type": "code",
   "execution_count": 22,
   "metadata": {},
   "outputs": [
    {
     "name": "stdout",
     "output_type": "stream",
     "text": [
      "\\begin{tabular}{llllll}\n",
      "\\toprule\n",
      "{} & \\multicolumn{5}{l}{feature selection} \\\\\n",
      "{} &            linear &              PLS &            lasso &            ridge &              kNN \\\\\n",
      "type        &                   &                  &                  &                  &                  \\\\\n",
      "\\midrule\n",
      "atlas 1     &   0.8807 $\\pm$ 0.0783 &  0.8808 $\\pm$ 0.0809 &  0.8857 $\\pm$ 0.0743 &   0.8845 $\\pm$ 0.076 &  0.8361 $\\pm$ 0.1108 \\\\\n",
      "atlas 2     &   0.8755 $\\pm$ 0.0815 &  0.8783 $\\pm$ 0.0772 &   0.879 $\\pm$ 0.0788 &  0.8792 $\\pm$ 0.0779 &   0.827 $\\pm$ 0.1005 \\\\\n",
      "atlas 3     &      0.87 $\\pm$ 0.081 &  0.8812 $\\pm$ 0.0778 &    0.8785 $\\pm$ 0.08 &  0.8808 $\\pm$ 0.0769 &  0.8197 $\\pm$ 0.0999 \\\\\n",
      "atlas 4     &   0.8721 $\\pm$ 0.0853 &   0.8815 $\\pm$ 0.078 &  0.8786 $\\pm$ 0.0823 &  0.8719 $\\pm$ 0.0858 &  0.8136 $\\pm$ 0.0976 \\\\\n",
      "atlas 5     &     0.8773 $\\pm$ 0.08 &  0.8764 $\\pm$ 0.0868 &    0.88 $\\pm$ 0.0769 &   0.878 $\\pm$ 0.0777 &   0.8274 $\\pm$ 0.116 \\\\\n",
      "mean        &   0.8789 $\\pm$ 0.0818 &   0.883 $\\pm$ 0.0788 &  0.8809 $\\pm$ 0.0792 &  0.8816 $\\pm$ 0.0807 &  0.8246 $\\pm$ 0.0887 \\\\\n",
      "multi-atlas &    0.897 $\\pm$ 0.0769 &   0.8872 $\\pm$ 0.074 &  0.8902 $\\pm$ 0.0752 &  0.8988 $\\pm$ 0.0658 &  0.8275 $\\pm$ 0.0949 \\\\\n",
      "\\bottomrule\n",
      "\\end{tabular}\n",
      "\n",
      "\\begin{tabular}{llllll}\n",
      "\\toprule\n",
      "{} & \\multicolumn{5}{l}{no feature selection} \\\\\n",
      "{} &               linear &              PLS &            lasso &            ridge &              kNN \\\\\n",
      "type        &                      &                  &                  &                  &                  \\\\\n",
      "\\midrule\n",
      "atlas 1     &       0.8647 $\\pm$ 0.089 &  0.8732 $\\pm$ 0.0843 &  0.8759 $\\pm$ 0.0815 &   0.875 $\\pm$ 0.0805 &  0.6405 $\\pm$ 0.1374 \\\\\n",
      "atlas 2     &      0.8489 $\\pm$ 0.0953 &  0.8683 $\\pm$ 0.0873 &  0.8704 $\\pm$ 0.0832 &  0.8653 $\\pm$ 0.0864 &  0.6779 $\\pm$ 0.1404 \\\\\n",
      "atlas 3     &      0.8524 $\\pm$ 0.1004 &   0.868 $\\pm$ 0.0867 &  0.8717 $\\pm$ 0.0829 &  0.8655 $\\pm$ 0.0885 &  0.6092 $\\pm$ 0.1159 \\\\\n",
      "atlas 4     &      0.8545 $\\pm$ 0.0924 &  0.8712 $\\pm$ 0.0891 &  0.8729 $\\pm$ 0.0839 &   0.8688 $\\pm$ 0.084 &  0.6572 $\\pm$ 0.1332 \\\\\n",
      "atlas 5     &       0.848 $\\pm$ 0.1038 &  0.8661 $\\pm$ 0.0887 &  0.8719 $\\pm$ 0.0822 &  0.8623 $\\pm$ 0.0898 &  0.7095 $\\pm$ 0.1277 \\\\\n",
      "mean        &      0.8521 $\\pm$ 0.1035 &  0.8712 $\\pm$ 0.0892 &  0.8745 $\\pm$ 0.0828 &  0.8701 $\\pm$ 0.0881 &  0.6354 $\\pm$ 0.1348 \\\\\n",
      "multi-atlas &     -1.7193 $\\pm$ 3.7919 &  0.8693 $\\pm$ 0.0897 &  0.8625 $\\pm$ 0.0845 &  0.8403 $\\pm$ 0.1009 &  0.6775 $\\pm$ 0.1389 \\\\\n",
      "\\bottomrule\n",
      "\\end{tabular}\n",
      "\n"
     ]
    }
   ],
   "source": [
    "print(hinds_all[['feature selection']].to_latex().replace('\\\\textbackslash pm', ' $\\pm$ '))\n",
    "print(hinds_all[['no feature selection']].to_latex().replace('\\\\textbackslash pm', ' $\\pm$ '))"
   ]
  },
  {
   "cell_type": "code",
   "execution_count": 23,
   "metadata": {},
   "outputs": [
    {
     "name": "stderr",
     "output_type": "stream",
     "text": [
      "C:\\Users\\gyuri\\anaconda3\\envs\\rabbit\\lib\\site-packages\\ipykernel_launcher.py:1: SettingWithCopyWarning: \n",
      "A value is trying to be set on a copy of a slice from a DataFrame.\n",
      "Try using .loc[row_indexer,col_indexer] = value instead\n",
      "\n",
      "See the caveats in the documentation: https://pandas.pydata.org/pandas-docs/stable/user_guide/indexing.html#returning-a-view-versus-a-copy\n",
      "  \"\"\"Entry point for launching an IPython kernel.\n",
      "C:\\Users\\gyuri\\anaconda3\\envs\\rabbit\\lib\\site-packages\\ipykernel_launcher.py:7: SettingWithCopyWarning: \n",
      "A value is trying to be set on a copy of a slice from a DataFrame.\n",
      "Try using .loc[row_indexer,col_indexer] = value instead\n",
      "\n",
      "See the caveats in the documentation: https://pandas.pydata.org/pandas-docs/stable/user_guide/indexing.html#returning-a-view-versus-a-copy\n",
      "  import sys\n"
     ]
    }
   ],
   "source": [
    "hinds_fs['diff']= (hinds_fs['y_pred_1'] - hinds_fs['y_test_1'])**2\n",
    "hinds_fs_test= hinds_fs.pivot(index='type', columns='model', values='diff')\n",
    "hinds_fs_test= hinds_fs_test.rename(rename_dict_regr, axis='columns')\n",
    "hinds_fs_test= hinds_fs_test.rename(rename_dict_type)\n",
    "hinds_fs_test= hinds_fs_test.loc[row_order, col_order]\n",
    "\n",
    "hinds_no_fs['diff']= (hinds_no_fs['y_pred_1'] - hinds_no_fs['y_test_1'])**2\n",
    "hinds_no_fs_test= hinds_no_fs.pivot(index='type', columns='model', values='diff')\n",
    "hinds_no_fs_test= hinds_no_fs_test.rename(rename_dict_regr, axis='columns')\n",
    "hinds_no_fs_test= hinds_no_fs_test.rename(rename_dict_type)\n",
    "hinds_no_fs_test= hinds_no_fs_test.loc[row_order, col_order]"
   ]
  },
  {
   "cell_type": "code",
   "execution_count": 24,
   "metadata": {},
   "outputs": [
    {
     "name": "stdout",
     "output_type": "stream",
     "text": [
      "\\begin{tabular}{llllll}\n",
      "\\toprule\n",
      "model & linear &    PLS &  lasso &   ridge &     kNN \\\\\n",
      "type        &        &        &        &         &         \\\\\n",
      "\\midrule\n",
      "atlas 1     &  2e-06 &  7e-12 &  3e-21 &   2e-34 &  3e-106 \\\\\n",
      "atlas 2     &  6e-37 &  8e-14 &  7e-30 &   3e-27 &   7e-84 \\\\\n",
      "atlas 3     &  3e-07 &  8e-31 &  8e-32 &   1e-40 &  6e-111 \\\\\n",
      "atlas 4     &  2e-09 &  1e-10 &  4e-21 &   9e-02 &   2e-61 \\\\\n",
      "atlas 5     &  8e-39 &  5e-21 &  5e-32 &   5e-26 &   9e-37 \\\\\n",
      "mean        &  4e-24 &  2e-32 &  1e-26 &   2e-41 &   3e-85 \\\\\n",
      "multi-atlas &  0e+00 &  1e-38 &  4e-27 &  4e-146 &  1e-142 \\\\\n",
      "\\bottomrule\n",
      "\\end{tabular}\n",
      "\n"
     ]
    }
   ],
   "source": [
    "print(test_compare_wilcoxon(hinds_fs_test, hinds_no_fs_test).applymap(lambda x: '%.0e' % x).to_latex())"
   ]
  },
  {
   "cell_type": "code",
   "execution_count": 25,
   "metadata": {},
   "outputs": [
    {
     "name": "stdout",
     "output_type": "stream",
     "text": [
      "wilcoxon error\n",
      "wilcoxon error\n",
      "wilcoxon error\n",
      "wilcoxon error\n",
      "wilcoxon error\n",
      "\\begin{tabular}{llllll}\n",
      "\\toprule\n",
      "model & linear &    PLS &  lasso &  ridge &    kNN \\\\\n",
      "type    &        &        &        &        &        \\\\\n",
      "\\midrule\n",
      "atlas 1 &  7e-24 &  5e-07 &  3e-02 &  1e-21 &  1e-03 \\\\\n",
      "atlas 2 &  1e-25 &  3e-18 &  2e-04 &  3e-26 &  3e-01 \\\\\n",
      "atlas 3 &  1e-24 &  1e-03 &  7e-05 &  2e-20 &  3e-01 \\\\\n",
      "atlas 4 &  3e-30 &  6e-15 &  2e-10 &  2e-21 &  5e-09 \\\\\n",
      "atlas 5 &  6e-23 &  1e-15 &  2e-07 &  8e-27 &  2e-02 \\\\\n",
      "mean    &  2e-15 &  3e-02 &  4e-05 &  5e-12 &  2e-02 \\\\\n",
      "\\bottomrule\n",
      "\\end{tabular}\n",
      "\n"
     ]
    }
   ],
   "source": [
    "print(test_diff_wilcoxon(hinds_fs_test).applymap(lambda x: '%.0e' % x).to_latex())"
   ]
  },
  {
   "cell_type": "code",
   "execution_count": 26,
   "metadata": {},
   "outputs": [
    {
     "name": "stdout",
     "output_type": "stream",
     "text": [
      "wilcoxon error\n",
      "wilcoxon error\n",
      "wilcoxon error\n",
      "wilcoxon error\n",
      "wilcoxon error\n",
      "\\begin{tabular}{llllll}\n",
      "\\toprule\n",
      "model & linear &    PLS &  lasso &  ridge &    kNN \\\\\n",
      "model  &        &        &        &        &        \\\\\n",
      "\\midrule\n",
      "linear &    nan &  2e-12 &  1e-09 &  1e-01 &  2e-27 \\\\\n",
      "PLS    &  1e+00 &    nan &  9e-01 &  1e+00 &  4e-12 \\\\\n",
      "lasso  &  1e+00 &  1e-01 &    nan &  1e+00 &  7e-22 \\\\\n",
      "ridge  &  9e-01 &  5e-08 &  4e-10 &    nan &  2e-24 \\\\\n",
      "kNN    &  1e+00 &  1e+00 &  1e+00 &  1e+00 &    nan \\\\\n",
      "\\bottomrule\n",
      "\\end{tabular}\n",
      "\n"
     ]
    }
   ],
   "source": [
    "print(test_diff_cross_wilcoxon(hinds_fs_test.loc[['multi-atlas']]).applymap(lambda x: '%.0e' % x).to_latex())"
   ]
  },
  {
   "cell_type": "code",
   "execution_count": 27,
   "metadata": {},
   "outputs": [
    {
     "name": "stdout",
     "output_type": "stream",
     "text": [
      "167.31764705882352\n",
      "4.451683585164867\n",
      "['num-203a-hinds.nii-0.500000', 'std-203a-hinds.nii-0.500000', 'hist-1-203a-hinds.nii-0.500000', 'hist-10-203a-hinds.nii-0.500000', 'hist-14-203a-hinds.nii-0.500000', 'hist-18-203a-hinds.nii-0.500000', 'hist-8-203k-hinds.nii-0.500000', 'hist-11-203k-hinds.nii-0.500000', 'hist-3-204f-hinds.nii-0.500000', 'hist-8-204f-hinds.nii-0.500000', 'hist-12-204f-hinds.nii-0.500000', 'hist-11-206k-hinds.nii-0.500000', 'hist-12-206k-hinds.nii-0.500000', 'hist-15-206k-hinds.nii-0.500000', 'hist-16-206k-hinds.nii-0.500000', 'std-208f-hinds.nii-0.500000', 'hist-6-208f-hinds.nii-0.500000', 'hist-7-208f-hinds.nii-0.500000', 'hist-10-208f-hinds.nii-0.500000', 'hist-13-208f-hinds.nii-0.500000', 'hist-10-0.500000-mean_mask', 'hist-13-0.500000-mean_mask', 'hist-15-0.500000-mean_mask']\n"
     ]
    }
   ],
   "source": [
    "a= hinds_fs[mld_fs['type'] == 'all']\n",
    "b= a[a['model'] == 'LinearRegression_Objective']\n",
    "y_test, y_pred= b.iloc[0][['y_test_1', 'y_pred_1']]\n",
    "\n",
    "print(np.mean(y_test))\n",
    "print(np.sqrt(np.mean((y_test - y_pred)**2)))\n",
    "print(b['features'].iloc[0])"
   ]
  },
  {
   "cell_type": "code",
   "execution_count": 28,
   "metadata": {},
   "outputs": [],
   "source": [
    "a= hinds_fs[hinds_fs['type'] == 'all']\n",
    "b= a[a['model'] == 'RidgeRegression_Objective']\n",
    "y_test= b['y_test_1']\n",
    "y_pred= b['y_pred_1']"
   ]
  },
  {
   "cell_type": "code",
   "execution_count": 29,
   "metadata": {},
   "outputs": [
    {
     "data": {
      "image/png": "[encoded data removed]",
      "text/plain": [
       "<Figure size 360x360 with 1 Axes>"
      ]
     },
     "metadata": {
      "needs_background": "light"
     },
     "output_type": "display_data"
    }
   ],
   "source": [
    "fig= plt.figure(figsize=(5, 5))\n",
    "ax= fig.add_subplot(111)\n",
    "tmp= pd.DataFrame({'y_test': np.hstack(y_test), 'y_pred': np.hstack(y_pred)}).groupby('y_test').agg({'y_pred': ['mean', 'std']})['y_pred'].reset_index(drop=False)\n",
    "\n",
    "ax.scatter(tmp['y_test'], tmp['mean'])\n",
    "ax.errorbar(tmp['y_test'], tmp['mean'], yerr=tmp['std'], ls='none')\n",
    "ax.set_xlabel('dissected hinds weight (grams)')\n",
    "ax.set_ylabel('predicted hinds weight (grams)')\n",
    "ax.set_xlim(np.min([np.min(y_pred), np.min(y_test)])-5, np.max([np.max(y_pred), np.max(y_test)])+5)\n",
    "ax.set_ylim(np.min([np.min(y_pred), np.min(y_test)])-5, np.max([np.max(y_pred), np.max(y_test)])+5)\n",
    "fig.savefig('hinds_plot.pdf')"
   ]
  },
  {
   "cell_type": "code",
   "execution_count": null,
   "metadata": {},
   "outputs": [],
   "source": []
  }
 ],
 "metadata": {
  "kernelspec": {
   "display_name": "Python 3.7.0 64-bit ('rabbit': conda)",
   "metadata": {
    "interpreter": {
     "hash": "3f0bd8ecd95b85d6269a882a2dc1dbc4d7ed5f1db70a8505f59a2ad1e6c4eb45"
    }
   },
   "name": "python3"
  },
  "language_info": {
   "codemirror_mode": {
    "name": "ipython",
    "version": 3
   },
   "file_extension": ".py",
   "mimetype": "text/x-python",
   "name": "python",
   "nbconvert_exporter": "python",
   "pygments_lexer": "ipython3",
   "version": "3.7.0"
  },
  "orig_nbformat": 2
 },
 "nbformat": 4,
 "nbformat_minor": 2
}
